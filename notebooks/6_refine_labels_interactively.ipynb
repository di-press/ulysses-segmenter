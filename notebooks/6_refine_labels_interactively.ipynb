{
 "cells": [
  {
   "cell_type": "markdown",
   "id": "22c5fcc4",
   "metadata": {},
   "source": [
    "## Iteractively refine dataset labels"
   ]
  },
  {
   "cell_type": "code",
   "execution_count": 45,
   "id": "a37d4994",
   "metadata": {
    "ExecuteTime": {
     "end_time": "2022-03-24T20:54:08.228003Z",
     "start_time": "2022-03-24T20:54:07.969672Z"
    }
   },
   "outputs": [
    {
     "name": "stdout",
     "output_type": "stream",
     "text": [
      "The autoreload extension is already loaded. To reload it, use:\n",
      "  %reload_ext autoreload\n"
     ]
    },
    {
     "data": {
      "application/vnd.jupyter.widget-view+json": {
       "model_id": "056c05dc7c07401fbe6b82f8a5dc71be",
       "version_major": 2,
       "version_minor": 0
      },
      "text/plain": [
       "Instances until next dump::   0%|          | 0/20 [00:00<?, ?it/s]"
      ]
     },
     "metadata": {},
     "output_type": "display_data"
    },
    {
     "name": "stderr",
     "output_type": "stream",
     "text": [
      "Instances until next dump::  65%|█████████████████████████████████████████████████████████████████████████████████▎                                           | 13/20 [07:32<04:03, 34.81s/it]\n"
     ]
    }
   ],
   "source": [
    "import os\n",
    "import pathlib\n",
    "import typing as t\n",
    "import random\n",
    "import requests\n",
    "import json as json_package\n",
    "import collections\n",
    "import glob\n",
    "\n",
    "import datasets\n",
    "import tokenizers\n",
    "import ipywidgets\n",
    "import colorama\n",
    "import tqdm\n",
    "\n",
    "import segmentador\n",
    "from config import *\n",
    "import interactive_labeling\n",
    "\n",
    "\n",
    "%load_ext autoreload\n",
    "%autoreload 2\n",
    "\n",
    "\n",
    "CN = colorama.Fore.RED\n",
    "CT = colorama.Fore.YELLOW\n",
    "CLN = colorama.Fore.CYAN\n",
    "CSR = colorama.Style.RESET_ALL\n",
    "\n",
    "\n",
    "VOCAB_SIZE = 6000\n",
    "AUTOSAVE_IN_N_INSTANCES = 20\n",
    "\n",
    "\n",
    "DATASET_SPLIT = \"test\"\n",
    "CACHED_INDEX_FILENAME = \"refined_indices.csv\"\n",
    "BRUTE_DATASET_DIR = \"../data\"\n",
    "\n",
    "TARGET_DATASET_NAME = f\"df_tokenized_split_0_120000_{VOCAB_SIZE}\"\n",
    "\n",
    "REFINED_DATASET_DIR = os.path.join(BRUTE_DATASET_DIR, \"refined_datasets\", TARGET_DATASET_NAME)\n",
    "\n",
    "BRUTE_DATASET_URI = os.path.join(BRUTE_DATASET_DIR, TARGET_DATASET_NAME)\n",
    "CACHED_INDEX_URI = os.path.join(REFINED_DATASET_DIR, CACHED_INDEX_FILENAME)\n",
    "\n",
    "\n",
    "assert BRUTE_DATASET_URI != REFINED_DATASET_DIR\n",
    "\n",
    "\n",
    "logit_model = segmentador.BERTSegmenter(\n",
    "    uri_model=f\"../pretrained_segmenter_model/4_{VOCAB_SIZE}_layer_model\",\n",
    "    device=\"cpu\",\n",
    ")\n",
    "\n",
    "pbar_dump = tqdm.auto.tqdm(desc=\"Instances until next dump:\", total=AUTOSAVE_IN_N_INSTANCES)\n",
    "it_counter = 0\n",
    "\n",
    "random.seed(17)"
   ]
  },
  {
   "cell_type": "code",
   "execution_count": 2,
   "id": "ce45e6a4",
   "metadata": {
    "ExecuteTime": {
     "end_time": "2022-03-24T20:44:07.122452Z",
     "start_time": "2022-03-24T20:44:07.102563Z"
    }
   },
   "outputs": [
    {
     "data": {
      "text/plain": [
       "6000"
      ]
     },
     "execution_count": 2,
     "metadata": {},
     "output_type": "execute_result"
    }
   ],
   "source": [
    "tokenizer = tokenizers.Tokenizer.from_file(f\"../tokenizers/{VOCAB_SIZE}_subwords/tokenizer.json\")\n",
    "tokenizer.get_vocab_size()"
   ]
  },
  {
   "cell_type": "markdown",
   "id": "a6686a2d",
   "metadata": {},
   "source": [
    "## Load dataset"
   ]
  },
  {
   "cell_type": "code",
   "execution_count": 3,
   "id": "cd40bb67",
   "metadata": {
    "ExecuteTime": {
     "end_time": "2022-03-24T20:44:08.744316Z",
     "start_time": "2022-03-24T20:44:08.717180Z"
    }
   },
   "outputs": [
    {
     "name": "stdout",
     "output_type": "stream",
     "text": [
      "Loaded 111 indices from disk.\n"
     ]
    },
    {
     "data": {
      "text/plain": [
       "DatasetDict({\n",
       "    train: Dataset({\n",
       "        features: ['labels', 'input_ids', 'token_type_ids', 'attention_mask'],\n",
       "        num_rows: 114884\n",
       "    })\n",
       "    eval: Dataset({\n",
       "        features: ['labels', 'input_ids', 'token_type_ids', 'attention_mask'],\n",
       "        num_rows: 14361\n",
       "    })\n",
       "    test: Dataset({\n",
       "        features: ['labels', 'input_ids', 'token_type_ids', 'attention_mask'],\n",
       "        num_rows: 14361\n",
       "    })\n",
       "})"
      ]
     },
     "execution_count": 3,
     "metadata": {},
     "output_type": "execute_result"
    }
   ],
   "source": [
    "try:    \n",
    "    with open(CACHED_INDEX_URI, \"r\") as f_index:\n",
    "        cached_indices = set(map(int, f_index.read().split(\",\")))\n",
    "        \n",
    "    print(f\"Loaded {len(cached_indices)} indices from disk.\")\n",
    "\n",
    "except FileNotFoundError:\n",
    "    cached_indices = set()\n",
    "    \n",
    "    \n",
    "new_refined_instances = collections.defaultdict(list)\n",
    "df_brute = datasets.load_from_disk(BRUTE_DATASET_URI)\n",
    "df_brute"
   ]
  },
  {
   "cell_type": "markdown",
   "id": "b82efc8c",
   "metadata": {},
   "source": [
    "## Iteractive refinement"
   ]
  },
  {
   "cell_type": "code",
   "execution_count": 11,
   "id": "7012a8e2",
   "metadata": {
    "ExecuteTime": {
     "end_time": "2022-03-24T20:45:45.572484Z",
     "start_time": "2022-03-24T20:45:40.959082Z"
    }
   },
   "outputs": [],
   "source": [
    "df_split = df_brute[DATASET_SPLIT]\n",
    "\n",
    "fn_rand = lambda: random.randint(0, df_split.num_rows)\n",
    "\n",
    "df_view_labels = df_split[\"labels\"]\n",
    "df_view_input_ids = df_split[\"input_ids\"]\n",
    "\n",
    "cls2id = {\n",
    "    \"no-op\": 0,\n",
    "    \"seg\": 1,\n",
    "    \"n-start\": 2,\n",
    "    \"n-end\": 3,\n",
    "}\n",
    "\n",
    "def print_labels(input_ids, labels, input_is_tokens: bool = False):\n",
    "    seg_counter = 1\n",
    "    \n",
    "    print(end=CSR)\n",
    "    print(end=f\"{CLN}{seg_counter}.{CSR} \")\n",
    "    \n",
    "    if not input_is_tokens:\n",
    "        tokens = list(map(tokenizer.id_to_token, input_ids))\n",
    "    \n",
    "    else:\n",
    "        tokens = input_ids\n",
    "    \n",
    "    for i, (tok, lab) in enumerate(zip(tokens, labels)):\n",
    "        if lab == cls2id[\"seg\"]:\n",
    "            seg_counter += 1\n",
    "            print(\"\\n\\n\", end=f\"{CLN}{seg_counter}.{CSR} \")\n",
    "        \n",
    "        if lab == cls2id[\"n-start\"]:\n",
    "            print(end=CN)\n",
    "            \n",
    "        if lab == cls2id[\"n-end\"]:\n",
    "            print(end=CSR)\n",
    "            \n",
    "        print(tok, end=\" \")\n",
    "        \n",
    "    return tokens\n",
    "\n",
    "\n",
    "def dump_refined_dataset():\n",
    "    new_subset = datasets.Dataset.from_dict(new_refined_instances, split=DATASET_SPLIT)\n",
    "    shard_id = len(glob.glob(os.path.join(REFINED_DATASET_DIR, f\"{DATASET_SPLIT}_*\")))\n",
    "    REFINED_DATASET_SHARD_URI = os.path.join(REFINED_DATASET_DIR, f\"{DATASET_SPLIT}_{shard_id}\")\n",
    "    new_subset.save_to_disk(REFINED_DATASET_SHARD_URI)\n",
    "    new_refined_instances.clear()\n",
    "    \n",
    "    with open(CACHED_INDEX_URI, \"w\") as f_index:\n",
    "        f_index.write(\",\".join(map(str, sorted(cached_indices))))\n",
    "    \n",
    "    it_counter = 0\n",
    "    \n",
    "    print(f\"Saved progress in '{REFINED_DATASET_SHARD_URI}'.\")"
   ]
  },
  {
   "cell_type": "code",
   "execution_count": 329,
   "id": "c3059c5e",
   "metadata": {
    "ExecuteTime": {
     "end_time": "2022-03-24T23:20:08.378710Z",
     "start_time": "2022-03-24T23:20:08.322089Z"
    },
    "scrolled": false
   },
   "outputs": [
    {
     "name": "stdout",
     "output_type": "stream",
     "text": [
      "\u001b[0m\u001b[36m1.\u001b[0m [CLS] \u001b[31mCÂMARA DOS DEPUTADOS \n",
      "\n",
      "\u001b[36m2.\u001b[0m PROJETO DE LEI Nº , DE 2013 ( Do Sr . M ##Á ##R ##CIO F ##RAN ##ÇA ) \n",
      "\n",
      "\u001b[36m3.\u001b[0m Acrescenta dispositivos à Lei nº 10 . 74 ##1 , de 1º de outubro de 2003 , que dispõe sobre o Estatuto do I ##dos ##o e dá outras providências , para criar a Cu ##rado ##ria dos I ##dos ##os . \n",
      "\n",
      "\u001b[36m4.\u001b[0m O Congresso Nacional decreta : \n",
      "\n",
      "\u001b[36m5.\u001b[0m Art . 1º Esta Lei acrescenta dispositivos à Lei nº 10 . 74 ##1 , de 1º de outubro de 2003 , que dispõe sobre o Estatuto do I ##dos ##o e dá outras providências , para criar a Cu ##rado ##ria dos I ##dos ##os . \n",
      "\n",
      "\u001b[36m6.\u001b[0m Art . 2º A Lei nº 10 . 74 ##1 , de 1º de outubro de 2003 , passa a vigorar acrescida dos seguintes artigos : \n",
      "\n",
      "\u001b[36m7.\u001b[0m Capítulo VII Da Cu ##rado ##ria dos I ##dos ##os \n",
      "\n",
      "\u001b[36m8.\u001b[0m Art . 68 - A . A Cu ##rado ##ria dos I ##dos ##os é órgão permanente e aut ##ônom ##o , não juris ##dic ##ion ##al , encar ##reg ##ado pela sociedade de z ##ela ##r pelo cumprimento dos direitos idosos , definidos nesta Lei . \n",
      "\n",
      "\u001b[36m9.\u001b[0m Art . 68 - B . Em cada Município e em cada Região Administra ##tiva do Distrito Federal haver ##á , no mínimo , 1 ( uma ) Cu ##rado ##ria dos I ##dos ##os como órgão integra ##nte da administração pública local , compos ##to de 5 ( cinco ) membros , escol ##h ##idos pela população local para mandato de 4 ( quatro ) anos , permit ##ida 1 ( uma ) recon ##dução , mediante novo processo de escolha . \n",
      "\n",
      "\u001b[36m10.\u001b[0m Art . 68 - C . Para a candida ##tura a membro da Cu ##rado ##ria dos I ##dos ##os , serão exig ##idos os seguintes requisitos : \n",
      "\n",
      "\u001b[36m11.\u001b[0m I - reconh ##ecida id ##one ##idade mora ##l ; \u001b[31mCÂMARA DOS DEPUTADOS \n",
      "\n",
      "\u001b[36m12.\u001b[0m II - idade superior a sessenta anos ; \n",
      "\n",
      "\u001b[36m13.\u001b[0m III - resid ##ir no município . \n",
      "\n",
      "\u001b[36m14.\u001b[0m § 1º O processo de escolha dos membros da Cu ##rado ##ria dos I ##dos ##os ocorrer ##á em data uni ##fica ##da em todo o território nacional a cada 4 ( quatro ) anos , no primeiro dom ##ing ##o do mês de outubro do ano subsequente ao da eleição presid ##encial , ocorre ##ndo em conjunto com a eleição dos Conselhos T ##utel ##ares . \n",
      "\n",
      "\u001b[36m15.\u001b[0m § 2º A posse dos cur ##adores ocorrer ##á no dia 10 de janeiro do ano subsequente ao processo de escolha . \n",
      "\n",
      "\u001b[36m16.\u001b[0m § 3º No processo de escolha dos membros da Cu ##rado ##ria dos I ##dos ##os , é vedado ao candidato do ##ar , oferecer , prom ##eter ou entrega ##r ao eleito ##r bem ou vant ##agem pessoal de qualquer natureza , inclusive br ##in ##des de pequeno valor . \n",
      "\n",
      "\u001b[36m17.\u001b[0m Art . 68 - D . Lei municipal ou dist ##ri ##tal dispor ##á sobre o local , dia e horário de funcionamento da Cu ##rado ##ria dos I ##dos ##os , inclusive quanto à remuneração dos respectivos membros , aos quais são assegurado ##s todos os direitos trabalh ##istas previstos em lei . \n",
      "\n",
      "\u001b[36m18.\u001b[0m Art . 68 - E . A Lei Orça ##ment ##ária Municipal ou Dist ##ri ##tal deverá estabelecer do ##tação específica para implantação , manutenção e funcionamento das Cu ##rado ##rias dos I ##dos ##os e custeio de suas atividades . \n",
      "\n",
      "\u001b[36m19.\u001b[0m Art . 68 - F . Cab ##e ao Poder Executivo do ##tar a Cu ##rado ##ria dos I ##dos ##os de equipe administrativa de apoio . \n",
      "\n",
      "\u001b[36m20.\u001b[0m Art . 68 - G . O não atendimento às determina ##ções deste artigo caracter ##izar ##á impr ##ob ##idade administrativa por parte do responsável pelo ato o ##mis ##si ##vo , cujos fatos serão apura ##dos nos mo ##l ##des previstos na Lei nº 8 . 42 ##9 , de 2 de junho de 199 ##2 . \n",
      "\n",
      "\u001b[36m21.\u001b[0m Art . 3º Esta lei entra em vigor 180 ( cento e oitenta ) dias após a sua publicação . \u001b[31mCÂMARA DOS DEPUTADOS [SEP] "
     ]
    }
   ],
   "source": [
    "id_ = fn_rand()\n",
    "while id_ in cached_indices:\n",
    "    id_ = fn_rand()\n",
    "\n",
    "\n",
    "input_ids = df_view_input_ids[id_]\n",
    "labels = df_view_labels[id_]\n",
    "tokens = print_labels(input_ids, labels)"
   ]
  },
  {
   "cell_type": "code",
   "execution_count": 316,
   "id": "215cb81c",
   "metadata": {
    "ExecuteTime": {
     "end_time": "2022-03-24T23:16:33.194040Z",
     "start_time": "2022-03-24T23:16:32.877756Z"
    }
   },
   "outputs": [],
   "source": [
    "logits = logit_model(df_split[id_], return_logits=True).logits\n",
    "interactive_labeling.open_example(tokens, labels, logits=logits)\n",
    "lock_save = True"
   ]
  },
  {
   "cell_type": "code",
   "execution_count": 317,
   "id": "a3e40621",
   "metadata": {
    "ExecuteTime": {
     "end_time": "2022-03-24T23:16:53.738494Z",
     "start_time": "2022-03-24T23:16:53.699466Z"
    }
   },
   "outputs": [
    {
     "name": "stdout",
     "output_type": "stream",
     "text": [
      "\u001b[0m\u001b[36m1.\u001b[0m [CLS] Of ##ício nº 83 ##7 ( SF ) \n",
      "\n",
      "\u001b[36m2.\u001b[0m Brasília , em 5 de junho de 2014 . \n",
      "\n",
      "\u001b[36m3.\u001b[0m A Sua Excelência o Senhor Deputado Mar ##cio B ##it ##tar Primeiro - Secretário da Câmara dos Deputados \n",
      "\n",
      "\u001b[36m4.\u001b[0m Ass ##unto : Emenda do Senado a Projeto de Lei da Câmara . \n",
      "\n",
      "\u001b[36m5.\u001b[0m Senhor Primeiro - Secretário , Comun ##ico a Vossa Excelência que o Senado Federal aprov ##ou , em revisão e com emenda , o Projeto de Lei da Câmara nº 6 , de 2014 ( PL nº 2 . 201 , de 2011 , nessa Casa ) , que “ Institui a grat ##ificação por exercício cum ##ula ##tivo de ofício ##s dos membros do Ministério Público da União e dá outras providências ” . Em anexo , encaminh ##o a Vossa Excelência o aut ##óg ##ra ##f ##o referente à emenda em apre ##ço . \n",
      "\n",
      "\u001b[36m6.\u001b[0m At ##enci ##osamente , m ##m / pl ##c ##1 ##4 - 04 ##1 \n",
      "\n",
      "\u001b[36m7.\u001b[0m Emenda ##s do Senado ao Projeto de Lei da Câmara nº 6 , de 2014 ( PL nº 2 . 201 , de 2011 , na Casa de origem ) , que \n",
      "\n",
      "\u001b[36m8.\u001b[0m “ Institui a grat ##ificação por exercício cum ##ula ##tivo de ofício ##s dos membros do Ministério Público da União e dá outras providências ” . \n",
      "\n",
      "\u001b[36m9.\u001b[0m Emenda única ( Cor ##resp ##ond ##e a Des ##ta ##que de Plenário ) Su ##p ##rim ##am - se do Projeto o art . 17 e seu parágrafo único . \n",
      "\n",
      "\u001b[36m10.\u001b[0m Senado Federal , em 5 de junho de 2014 . Senador Re ##na ##n Ca ##l ##h ##eiros Presidente do Senado Federal m ##m / pl ##c ##1 ##4 - 00 ##6 em ##e [SEP] "
     ]
    }
   ],
   "source": [
    "ret = interactive_labeling.retrieve_refined_example()\n",
    "labels = ret[\"labels\"]\n",
    "print_labels(tokens, labels, input_is_tokens=True)\n",
    "lock_save = False"
   ]
  },
  {
   "cell_type": "code",
   "execution_count": 330,
   "id": "e3f5edf5",
   "metadata": {
    "ExecuteTime": {
     "end_time": "2022-03-24T23:20:53.523347Z",
     "start_time": "2022-03-24T23:20:53.494421Z"
    }
   },
   "outputs": [
    {
     "name": "stdout",
     "output_type": "stream",
     "text": [
      "Saved progress in '../data/refined_datasets/df_tokenized_split_0_120000_6000/test_7'.\n",
      "Instances until next dump::   0%|          | 0/20 [00:00<?, ?it/s]\n"
     ]
    }
   ],
   "source": [
    "if not lock_save and id_ not in cached_indices:\n",
    "    it_counter += 1\n",
    "    cached_indices.add(id_)\n",
    "\n",
    "    for key, val in df_split[id_].items():\n",
    "        if key != \"labels\":\n",
    "            new_refined_instances[key].append(val.copy())\n",
    "\n",
    "        else:\n",
    "            new_refined_instances[key].append(labels)\n",
    "     \n",
    "    pbar_dump.update()\n",
    "\n",
    "\n",
    "if it_counter % AUTOSAVE_IN_N_INSTANCES == 0:\n",
    "    dump_refined_dataset()\n",
    "    pbar_dump.reset()\n",
    "    \n",
    "    \n",
    "print(pbar_dump)"
   ]
  }
 ],
 "metadata": {
  "kernelspec": {
   "display_name": "Python 3",
   "language": "python",
   "name": "python3"
  },
  "language_info": {
   "codemirror_mode": {
    "name": "ipython",
    "version": 3
   },
   "file_extension": ".py",
   "mimetype": "text/x-python",
   "name": "python",
   "nbconvert_exporter": "python",
   "pygments_lexer": "ipython3",
   "version": "3.9.10"
  },
  "latex_envs": {
   "LaTeX_envs_menu_present": true,
   "autoclose": false,
   "autocomplete": true,
   "bibliofile": "biblio.bib",
   "cite_by": "apalike",
   "current_citInitial": 1,
   "eqLabelWithNumbers": true,
   "eqNumInitial": 1,
   "hotkeys": {
    "equation": "Ctrl-E",
    "itemize": "Ctrl-I"
   },
   "labels_anchors": false,
   "latex_user_defs": false,
   "report_style_numbering": false,
   "user_envs_cfg": false
  },
  "toc": {
   "base_numbering": 1,
   "nav_menu": {},
   "number_sections": true,
   "sideBar": true,
   "skip_h1_title": false,
   "title_cell": "Table of Contents",
   "title_sidebar": "Contents",
   "toc_cell": false,
   "toc_position": {},
   "toc_section_display": true,
   "toc_window_display": false
  }
 },
 "nbformat": 4,
 "nbformat_minor": 5
}
