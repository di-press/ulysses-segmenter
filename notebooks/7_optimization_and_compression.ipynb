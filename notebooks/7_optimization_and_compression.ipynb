{
 "cells": [
  {
   "cell_type": "code",
   "execution_count": 1,
   "id": "c8f75bd2",
   "metadata": {
    "ExecuteTime": {
     "end_time": "2022-04-05T23:34:53.388534Z",
     "start_time": "2022-04-05T23:34:51.842144Z"
    }
   },
   "outputs": [],
   "source": [
    "import pathlib\n",
    "import os\n",
    "import pickle\n",
    "\n",
    "import optimum\n",
    "import optimum.onnxruntime\n",
    "import datasets\n",
    "import torch\n",
    "import torch.nn as nn\n",
    "\n",
    "import segmentador\n",
    "\n",
    "%load_ext autoreload\n",
    "%autoreload 2\n",
    "\n",
    "\n",
    "QUANTIZED_MODELS_DIR = \"quantized_models\"\n",
    "pathlib.Path(QUANTIZED_MODELS_DIR).mkdir(exist_ok=True, parents=True)"
   ]
  },
  {
   "cell_type": "markdown",
   "id": "fbe90708",
   "metadata": {
    "ExecuteTime": {
     "end_time": "2022-04-05T17:10:42.928492Z",
     "start_time": "2022-04-05T17:10:42.922482Z"
    }
   },
   "source": [
    "## LSTM Quantization"
   ]
  },
  {
   "cell_type": "code",
   "execution_count": null,
   "id": "b1c511d3",
   "metadata": {
    "ExecuteTime": {
     "end_time": "2022-04-05T18:44:06.994439Z",
     "start_time": "2022-04-05T18:44:06.925449Z"
    }
   },
   "outputs": [],
   "source": [
    "segmenter_lstm = segmentador.LSTMSegmenter(\n",
    "    uri_model=\"../pretrained_segmenter_model/512_6000_1_lstm/checkpoints/epoch=3-step=3591.ckpt\",\n",
    "    uri_tokenizer=\"../tokenizers/6000_subwords\",\n",
    "    device=\"cpu\",\n",
    ")"
   ]
  },
  {
   "cell_type": "code",
   "execution_count": null,
   "id": "bdbffe93",
   "metadata": {
    "ExecuteTime": {
     "end_time": "2022-04-05T18:44:09.415054Z",
     "start_time": "2022-04-05T18:44:09.321793Z"
    }
   },
   "outputs": [],
   "source": [
    "model_lstm = segmenter_lstm.model\n",
    "# model_lstm.qconfig = torch.quantization.float_qparams_weight_only_qconfig\n",
    "\n",
    "quantized_model_lstm = torch.quantization.quantize_dynamic(\n",
    "    model_lstm,\n",
    "    {nn.LSTM, nn.Linear},\n",
    "    dtype=torch.qint8,\n",
    ")\n",
    "\n",
    "print(quantized_model_lstm)"
   ]
  },
  {
   "cell_type": "code",
   "execution_count": null,
   "id": "1f70f566",
   "metadata": {
    "ExecuteTime": {
     "end_time": "2022-04-05T18:44:11.317530Z",
     "start_time": "2022-04-05T18:44:11.216193Z"
    }
   },
   "outputs": [],
   "source": [
    "# torch.save(model_lstm.state_dict(), os.path.join(QUANTIZED_MODELS_DIR, \"512_6000_1_lstm.pt\"))\n",
    "torch.save(\n",
    "    quantized_model_lstm.state_dict(),\n",
    "    os.path.join(QUANTIZED_MODELS_DIR, \"q_512_6000_1_lstm.pt\"),\n",
    "    pickle_protocol=pickle.HIGHEST_PROTOCOL,\n",
    ")"
   ]
  },
  {
   "cell_type": "markdown",
   "id": "66f03a30",
   "metadata": {},
   "source": [
    "## BERT Quantization"
   ]
  },
  {
   "cell_type": "code",
   "execution_count": 3,
   "id": "c54b4f9b",
   "metadata": {
    "ExecuteTime": {
     "end_time": "2022-04-05T23:35:11.659224Z",
     "start_time": "2022-04-05T23:35:11.636876Z"
    }
   },
   "outputs": [],
   "source": [
    "onnx_model_path = os.path.join(QUANTIZED_MODELS_DIR, \"4_6000_layer_model.onnx\")\n",
    "onnx_quantized_model_output_path = os.path.join(QUANTIZED_MODELS_DIR, \"q_4_6000_layer_model_per_channel.onnx\")\n",
    "onnx_config_path = os.path.join(QUANTIZED_MODELS_DIR, \"q_4_6000_layer_model_per_channel_config.pickle\")"
   ]
  },
  {
   "cell_type": "code",
   "execution_count": 2,
   "id": "670034a2",
   "metadata": {
    "ExecuteTime": {
     "end_time": "2022-04-05T23:12:24.110601Z",
     "start_time": "2022-04-05T23:12:23.843890Z"
    }
   },
   "outputs": [],
   "source": [
    "segmenter_bert = segmentador.BERTSegmenter(\n",
    "    uri_model=\"../pretrained_segmenter_model/4_6000_layer_model/\",\n",
    "    uri_tokenizer=\"../tokenizers/6000_subwords\",\n",
    "    device=\"cpu\",\n",
    ")"
   ]
  },
  {
   "cell_type": "code",
   "execution_count": 7,
   "id": "16fdfefb",
   "metadata": {
    "ExecuteTime": {
     "end_time": "2022-04-05T23:16:21.520803Z",
     "start_time": "2022-04-05T23:16:16.461661Z"
    }
   },
   "outputs": [],
   "source": [
    "# The type of quantization to apply\n",
    "qconfig = optimum.onnxruntime.configuration.AutoQuantizationConfig.arm64(\n",
    "    is_static=False,\n",
    "    per_channel=True,\n",
    ")\n",
    "\n",
    "quantizer = optimum.onnxruntime.ORTQuantizer(\n",
    "    model=segmenter_bert.model,\n",
    "    tokenizer=segmenter_bert.tokenizer,\n",
    ")\n",
    "\n",
    "quantizer.export(\n",
    "    onnx_model_path=onnx_model_path,\n",
    "    onnx_quantized_model_output_path=onnx_quantized_model_output_path,\n",
    "    quantization_config=qconfig,\n",
    ")\n",
    "\n",
    "with open(onnx_config_path, \"wb\") as f_out:\n",
    "    pickle.dump(quantizer._onnx_config, f_out)"
   ]
  },
  {
   "cell_type": "code",
   "execution_count": 7,
   "id": "93c43bc7",
   "metadata": {
    "ExecuteTime": {
     "end_time": "2022-04-05T23:35:51.803788Z",
     "start_time": "2022-04-05T23:35:51.625342Z"
    }
   },
   "outputs": [],
   "source": [
    "segmenter_bert_quantized = segmentador.QONNXBERTSegmenter(\n",
    "    uri_model=onnx_quantized_model_output_path,\n",
    "    uri_tokenizer=\"../tokenizers/6000_subwords/\",\n",
    "    uri_onnx_config=onnx_config_path,\n",
    ")"
   ]
  },
  {
   "cell_type": "code",
   "execution_count": 8,
   "id": "84d696fd",
   "metadata": {
    "ExecuteTime": {
     "end_time": "2022-04-05T23:35:53.524298Z",
     "start_time": "2022-04-05T23:35:53.486045Z"
    }
   },
   "outputs": [],
   "source": [
    "df = datasets.Dataset.from_file(\n",
    "    \"../data/refined_datasets/df_tokenized_split_0_120000_6000/\"\n",
    "    \"combined_test_48_parts_1036_instances/dataset.arrow\"\n",
    ")[:10]"
   ]
  },
  {
   "cell_type": "code",
   "execution_count": 10,
   "id": "696a3a2b",
   "metadata": {
    "ExecuteTime": {
     "end_time": "2022-04-05T23:36:07.072959Z",
     "start_time": "2022-04-05T23:36:06.742898Z"
    }
   },
   "outputs": [
    {
     "data": {
      "text/plain": [
       "['Artigo 7 : hello', 'Artigo 8 Hello again!']"
      ]
     },
     "execution_count": 10,
     "metadata": {},
     "output_type": "execute_result"
    }
   ],
   "source": [
    "segmenter_bert_quantized(\"Artigo 7: hello Artigo 8 Hello again!\")"
   ]
  }
 ],
 "metadata": {
  "kernelspec": {
   "display_name": "Python 3",
   "language": "python",
   "name": "python3"
  },
  "language_info": {
   "codemirror_mode": {
    "name": "ipython",
    "version": 3
   },
   "file_extension": ".py",
   "mimetype": "text/x-python",
   "name": "python",
   "nbconvert_exporter": "python",
   "pygments_lexer": "ipython3",
   "version": "3.9.10"
  },
  "latex_envs": {
   "LaTeX_envs_menu_present": true,
   "autoclose": false,
   "autocomplete": true,
   "bibliofile": "biblio.bib",
   "cite_by": "apalike",
   "current_citInitial": 1,
   "eqLabelWithNumbers": true,
   "eqNumInitial": 1,
   "hotkeys": {
    "equation": "Ctrl-E",
    "itemize": "Ctrl-I"
   },
   "labels_anchors": false,
   "latex_user_defs": false,
   "report_style_numbering": false,
   "user_envs_cfg": false
  },
  "toc": {
   "base_numbering": 1,
   "nav_menu": {},
   "number_sections": true,
   "sideBar": true,
   "skip_h1_title": false,
   "title_cell": "Table of Contents",
   "title_sidebar": "Contents",
   "toc_cell": false,
   "toc_position": {},
   "toc_section_display": true,
   "toc_window_display": false
  }
 },
 "nbformat": 4,
 "nbformat_minor": 5
}
