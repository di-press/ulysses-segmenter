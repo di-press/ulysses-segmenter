{
 "cells": [
  {
   "cell_type": "code",
   "execution_count": 58,
   "id": "c8f75bd2",
   "metadata": {
    "ExecuteTime": {
     "end_time": "2022-04-07T01:21:43.329143Z",
     "start_time": "2022-04-07T01:21:43.304325Z"
    }
   },
   "outputs": [
    {
     "name": "stdout",
     "output_type": "stream",
     "text": [
      "The autoreload extension is already loaded. To reload it, use:\n",
      "  %reload_ext autoreload\n"
     ]
    }
   ],
   "source": [
    "import pathlib\n",
    "import os\n",
    "import pickle\n",
    "import collections\n",
    "import timeit\n",
    "\n",
    "import optimum\n",
    "import optimum.onnxruntime\n",
    "import onnxruntime\n",
    "import datasets\n",
    "import torch\n",
    "import torch.nn as nn\n",
    "import numpy as np\n",
    "\n",
    "import segmentador\n",
    "import eval_model\n",
    "\n",
    "%load_ext autoreload\n",
    "%autoreload 2\n",
    "\n",
    "DEV_RUN = False\n",
    "\n",
    "QUANTIZED_MODELS_DIR = \"quantized_models\"\n",
    "pathlib.Path(QUANTIZED_MODELS_DIR).mkdir(exist_ok=True, parents=True)"
   ]
  },
  {
   "cell_type": "code",
   "execution_count": 2,
   "id": "9689fd8f",
   "metadata": {
    "ExecuteTime": {
     "end_time": "2022-04-06T23:02:08.367924Z",
     "start_time": "2022-04-06T23:02:07.751366Z"
    }
   },
   "outputs": [
    {
     "data": {
      "text/plain": [
       "(dict_keys(['labels', 'input_ids', 'token_type_ids', 'attention_mask']),\n",
       " (509827, 509827, 509827, 509827))"
      ]
     },
     "execution_count": 2,
     "metadata": {},
     "output_type": "execute_result"
    }
   ],
   "source": [
    "curated_df = datasets.Dataset.from_file(\n",
    "    \"../data/refined_datasets/df_tokenized_split_0_120000_6000/\"\n",
    "    \"combined_test_48_parts_1036_instances/dataset.arrow\"\n",
    ")\n",
    "\n",
    "concat_curated_df = collections.defaultdict(list)\n",
    "\n",
    "for key in curated_df.features.keys():\n",
    "    for val in curated_df[key]:\n",
    "        concat_curated_df[key] += val\n",
    "        if DEV_RUN and len(concat_curated_df[key]) >= 100000:\n",
    "            break\n",
    "        \n",
    "concat_curated_df.keys(), tuple(len(val) for key, val in concat_curated_df.items())"
   ]
  },
  {
   "cell_type": "markdown",
   "id": "2e2e8e9e",
   "metadata": {
    "ExecuteTime": {
     "end_time": "2022-04-05T17:10:42.928492Z",
     "start_time": "2022-04-05T17:10:42.922482Z"
    }
   },
   "source": [
    "## Creating LSTM Quantization"
   ]
  },
  {
   "cell_type": "code",
   "execution_count": 32,
   "id": "3580ae67",
   "metadata": {
    "ExecuteTime": {
     "end_time": "2022-04-06T23:49:00.971279Z",
     "start_time": "2022-04-06T23:49:00.877514Z"
    }
   },
   "outputs": [],
   "source": [
    "segmenter_lstm = segmentador.LSTMSegmenter(\n",
    "    uri_model=\"../pretrained_segmenter_model/512_6000_1_lstm/checkpoints/epoch=3-step=3591.ckpt\",\n",
    "    uri_tokenizer=\"../tokenizers/6000_subwords\",\n",
    "    device=\"cpu\",\n",
    "    inference_pooling_operation=\"max\",\n",
    ")"
   ]
  },
  {
   "cell_type": "code",
   "execution_count": 47,
   "id": "1edeb9d8",
   "metadata": {
    "ExecuteTime": {
     "end_time": "2022-04-07T00:23:21.796377Z",
     "start_time": "2022-04-07T00:23:21.636486Z"
    }
   },
   "outputs": [
    {
     "name": "stdout",
     "output_type": "stream",
     "text": [
      "_LSTMSegmenterTorchModule(\n",
      "  (embeddings): QuantizedEmbedding(num_embeddings=6000, embedding_dim=768, dtype=torch.quint8, qscheme=torch.per_channel_affine_float_qparams)\n",
      "  (lstm): DynamicQuantizedLSTM(768, 512, batch_first=True, bidirectional=True)\n",
      "  (lin_out): DynamicQuantizedLinear(in_features=1024, out_features=4, dtype=torch.qint8, qscheme=torch.per_tensor_affine)\n",
      ")\n"
     ]
    }
   ],
   "source": [
    "model_lstm = segmenter_lstm.model\n",
    "model_lstm.embeddings.qconfig = torch.quantization.float_qparams_weight_only_qconfig\n",
    "\n",
    "quantized_model_lstm = torch.quantization.quantize_dynamic(\n",
    "    model_lstm,\n",
    "    {nn.Embedding, nn.LSTM, nn.Linear},\n",
    "    dtype=torch.qint8,\n",
    ")\n",
    "\n",
    "print(quantized_model_lstm)"
   ]
  },
  {
   "cell_type": "code",
   "execution_count": 48,
   "id": "f20b4839",
   "metadata": {
    "ExecuteTime": {
     "end_time": "2022-04-07T00:24:06.434170Z",
     "start_time": "2022-04-07T00:24:06.323845Z"
    }
   },
   "outputs": [],
   "source": [
    "torch.save(\n",
    "    quantized_model_lstm.state_dict(),\n",
    "    os.path.join(QUANTIZED_MODELS_DIR, \"q_512_6000_1_lstm.pt\"),\n",
    "    pickle_protocol=pickle.HIGHEST_PROTOCOL,\n",
    ")"
   ]
  },
  {
   "cell_type": "code",
   "execution_count": 55,
   "id": "c08963f2",
   "metadata": {
    "ExecuteTime": {
     "end_time": "2022-04-07T00:26:38.860277Z",
     "start_time": "2022-04-07T00:26:38.384565Z"
    }
   },
   "outputs": [],
   "source": [
    "segmenter_lstm_quantized = segmentador.LSTMSegmenter(\n",
    "    uri_model=\"quantized_models/q_512_6000_1_lstm.pt\",\n",
    "    uri_tokenizer=\"../tokenizers/6000_subwords\",\n",
    "    device=\"cpu\",\n",
    "    quantize_weights=True,\n",
    "    lstm_hidden_layer_size=512,\n",
    "    lstm_num_layers=1,\n",
    "    inference_pooling_operation=\"max\",\n",
    ")"
   ]
  },
  {
   "cell_type": "markdown",
   "id": "2924b9fe",
   "metadata": {},
   "source": [
    "## Creating BERT Quantization"
   ]
  },
  {
   "cell_type": "code",
   "execution_count": 7,
   "id": "bdb1f141",
   "metadata": {
    "ExecuteTime": {
     "end_time": "2022-04-06T23:02:08.825389Z",
     "start_time": "2022-04-06T23:02:08.803299Z"
    }
   },
   "outputs": [],
   "source": [
    "onnx_model_path = os.path.join(QUANTIZED_MODELS_DIR, \"4_6000_layer_model.onnx\")\n",
    "\n",
    "onnx_quantized_model_output_path_dynamic = os.path.join(\n",
    "    QUANTIZED_MODELS_DIR,\n",
    "    \"q_dynamic_4_6000_layer_model.onnx\",\n",
    ")\n",
    "onnx_optimized_model_output_path = os.path.join(\n",
    "    QUANTIZED_MODELS_DIR,\n",
    "    \"4_6000_layer_model_optimized.onnx\",\n",
    ")\n",
    "\n",
    "onnx_config_quant_path = os.path.join(\n",
    "    QUANTIZED_MODELS_DIR,\n",
    "    \"q_4_6000_layer_model_config.pickle\",\n",
    ")\n",
    "onnx_config_opt_path = os.path.join(\n",
    "    QUANTIZED_MODELS_DIR,\n",
    "    \"4_6000_layer_model_optimization_config.pickle\",\n",
    ")"
   ]
  },
  {
   "cell_type": "code",
   "execution_count": 8,
   "id": "1234f421",
   "metadata": {
    "ExecuteTime": {
     "end_time": "2022-04-06T23:02:09.087898Z",
     "start_time": "2022-04-06T23:02:08.827180Z"
    }
   },
   "outputs": [],
   "source": [
    "segmenter_bert = segmentador.BERTSegmenter(\n",
    "    uri_model=\"../pretrained_segmenter_model/4_6000_layer_model/\",\n",
    "    device=\"cpu\",\n",
    ")"
   ]
  },
  {
   "cell_type": "code",
   "execution_count": 9,
   "id": "3d569562",
   "metadata": {
    "ExecuteTime": {
     "end_time": "2022-04-06T23:02:14.861008Z",
     "start_time": "2022-04-06T23:02:09.089055Z"
    }
   },
   "outputs": [],
   "source": [
    "# The type of quantization to apply\n",
    "qconfig = optimum.onnxruntime.configuration.AutoQuantizationConfig.avx2(\n",
    "    is_static=False,\n",
    "    per_channel=True,\n",
    ")\n",
    "\n",
    "quantizer = optimum.onnxruntime.ORTQuantizer(\n",
    "    model=segmenter_bert.model,\n",
    "    tokenizer=segmenter_bert.tokenizer,\n",
    ")\n",
    "\n",
    "quantizer.export(\n",
    "    onnx_model_path=onnx_model_path,\n",
    "    onnx_quantized_model_output_path=onnx_quantized_model_output_path_dynamic,\n",
    "    quantization_config=qconfig,\n",
    ")\n",
    "\n",
    "with open(onnx_config_quant_path, \"wb\") as f_out:\n",
    "    pickle.dump(quantizer._onnx_config, f_out)"
   ]
  },
  {
   "cell_type": "code",
   "execution_count": 10,
   "id": "646ec0b1",
   "metadata": {
    "ExecuteTime": {
     "end_time": "2022-04-06T23:02:14.884512Z",
     "start_time": "2022-04-06T23:02:14.862334Z"
    },
    "scrolled": false
   },
   "outputs": [],
   "source": [
    "segmenter_bert_quantized = segmentador.QONNXBERTSegmenter(\n",
    "    uri_model=onnx_quantized_model_output_path_dynamic,\n",
    "    uri_tokenizer=\"../tokenizers/6000_subwords/\",\n",
    "    uri_onnx_config=onnx_config_quant_path,\n",
    ")"
   ]
  },
  {
   "cell_type": "code",
   "execution_count": 63,
   "id": "aa316259",
   "metadata": {
    "ExecuteTime": {
     "end_time": "2022-04-07T01:25:55.257252Z",
     "start_time": "2022-04-07T01:25:49.501838Z"
    }
   },
   "outputs": [
    {
     "name": "stderr",
     "output_type": "stream",
     "text": [
      "2022-04-06 22:25:49.659594166 [W:onnxruntime:, inference_session.cc:1546 Initialize] Serializing optimized model with Graph Optimization level greater than ORT_ENABLE_EXTENDED and the NchwcTransformer enabled. The generated model may contain hardware specific optimizations, and should only be used in the same environment the model was optimized in.\n",
      "WARNING:fusion_skiplayernorm:symbolic shape infer failed. it's safe to ignore this message if there is no issue with optimized model\n",
      "WARNING:fusion_skiplayernorm:symbolic shape infer failed. it's safe to ignore this message if there is no issue with optimized model\n",
      "WARNING:fusion_skiplayernorm:symbolic shape infer failed. it's safe to ignore this message if there is no issue with optimized model\n",
      "WARNING:fusion_skiplayernorm:symbolic shape infer failed. it's safe to ignore this message if there is no issue with optimized model\n",
      "WARNING:fusion_skiplayernorm:symbolic shape infer failed. it's safe to ignore this message if there is no issue with optimized model\n",
      "WARNING:fusion_skiplayernorm:symbolic shape infer failed. it's safe to ignore this message if there is no issue with optimized model\n",
      "WARNING:fusion_skiplayernorm:symbolic shape infer failed. it's safe to ignore this message if there is no issue with optimized model\n",
      "WARNING:fusion_skiplayernorm:symbolic shape infer failed. it's safe to ignore this message if there is no issue with optimized model\n",
      "WARNING:fusion_skiplayernorm:symbolic shape infer failed. it's safe to ignore this message if there is no issue with optimized model\n"
     ]
    },
    {
     "name": "stdout",
     "output_type": "stream",
     "text": [
      "failed in shape inference <class 'AssertionError'>\n",
      "failed in shape inference <class 'AssertionError'>\n"
     ]
    }
   ],
   "source": [
    "from optimum.onnxruntime.configuration import OptimizationConfig\n",
    "from optimum.onnxruntime import ORTOptimizer\n",
    "\n",
    "# optimization_config=99 enables all available graph optimisations\n",
    "optimization_config = OptimizationConfig(optimization_level=99)\n",
    "\n",
    "optimizer = ORTOptimizer(\n",
    "    model=segmenter_bert.model,\n",
    "    tokenizer=segmenter_bert.tokenizer,\n",
    ")\n",
    "\n",
    "optimizer.export(\n",
    "    onnx_model_path=onnx_model_path,\n",
    "    onnx_optimized_model_output_path=onnx_optimized_model_output_path,\n",
    "    optimization_config=optimization_config,\n",
    ")\n",
    "\n",
    "segmenter_bert_opt_quantized = onnxruntime.quantization.quantize_dynamic(\n",
    "    onnx_optimized_model_output_path,\n",
    "    os.path.join(QUANTIZED_MODELS_DIR, \"q_4_6000_layer_model_optimized.onnx\"),\n",
    "    weight_type=onnxruntime.quantization.QuantType.QUInt8,\n",
    ")\n",
    "\n",
    "with open(onnx_config_opt_path, \"wb\") as f_out:\n",
    "    pickle.dump(optimizer._onnx_config, f_out)"
   ]
  },
  {
   "cell_type": "code",
   "execution_count": 65,
   "id": "a7678bed",
   "metadata": {
    "ExecuteTime": {
     "end_time": "2022-04-07T01:27:30.282645Z",
     "start_time": "2022-04-07T01:27:30.257897Z"
    }
   },
   "outputs": [],
   "source": [
    "segmenter_bert_optimized = segmentador.QONNXBERTSegmenter(\n",
    "    uri_model=onnx_optimized_model_output_path,\n",
    "    uri_tokenizer=\"../tokenizers/6000_subwords/\",\n",
    "    uri_onnx_config=onnx_config_opt_path,\n",
    ")\n",
    "\n",
    "segmenter_bert_optimized_quantized = segmentador.QONNXBERTSegmenter(\n",
    "    uri_model=os.path.join(QUANTIZED_MODELS_DIR, \"q_4_6000_layer_model_optimized.onnx\"),\n",
    "    uri_tokenizer=\"../tokenizers/6000_subwords/\",\n",
    "    uri_onnx_config=onnx_config_opt_path,\n",
    ")"
   ]
  },
  {
   "cell_type": "markdown",
   "id": "f064eec3",
   "metadata": {},
   "source": [
    "## Validating performance"
   ]
  },
  {
   "cell_type": "code",
   "execution_count": 30,
   "id": "4e10e199",
   "metadata": {
    "ExecuteTime": {
     "end_time": "2022-04-06T23:48:24.567920Z",
     "start_time": "2022-04-06T23:48:24.543116Z"
    }
   },
   "outputs": [],
   "source": [
    "def validate(\n",
    "    model,\n",
    "    moving_window_size: int = 1024,\n",
    "    window_shift_size: float = 0.5,\n",
    "    batch_size: int = 64,\n",
    ") -> dict[str, float]:\n",
    "    t_start = timeit.time.perf_counter()\n",
    "    \n",
    "    logits = model(\n",
    "        concat_curated_df,\n",
    "        batch_size=batch_size,\n",
    "        return_logits=True,\n",
    "        show_progress_bar=True,\n",
    "        window_shift_size=window_shift_size,\n",
    "        moving_window_size=moving_window_size,\n",
    "        \n",
    "    ).logits\n",
    "    \n",
    "    t_delta = timeit.time.perf_counter() - t_start\n",
    "    \n",
    "    metrics = eval_model.compute_metrics(\n",
    "        ([logits], [concat_curated_df[\"labels\"]]),\n",
    "    )\n",
    "    metrics[\"approx_inference_time\"] = t_delta\n",
    "    \n",
    "    return metrics"
   ]
  },
  {
   "cell_type": "code",
   "execution_count": 15,
   "id": "282b97bf",
   "metadata": {
    "ExecuteTime": {
     "end_time": "2022-04-06T23:17:20.080570Z",
     "start_time": "2022-04-06T23:02:46.172022Z"
    }
   },
   "outputs": [
    {
     "data": {
      "application/vnd.jupyter.widget-view+json": {
       "model_id": "7e8ec051c91543828f88936917dfd140",
       "version_major": 2,
       "version_minor": 0
      },
      "text/plain": [
       "  0%|          | 0/16 [00:00<?, ?it/s]"
      ]
     },
     "metadata": {},
     "output_type": "display_data"
    },
    {
     "data": {
      "application/vnd.jupyter.widget-view+json": {
       "model_id": "04646f28ab4b405490258d2db6a36458",
       "version_major": 2,
       "version_minor": 0
      },
      "text/plain": [
       "  0%|          | 0/16 [00:00<?, ?it/s]"
      ]
     },
     "metadata": {},
     "output_type": "display_data"
    },
    {
     "data": {
      "application/vnd.jupyter.widget-view+json": {
       "model_id": "b6b10dd7c6c94d7e9c4b38d08d74c5d9",
       "version_major": 2,
       "version_minor": 0
      },
      "text/plain": [
       "  0%|          | 0/16 [00:00<?, ?it/s]"
      ]
     },
     "metadata": {},
     "output_type": "display_data"
    },
    {
     "data": {
      "application/vnd.jupyter.widget-view+json": {
       "model_id": "6fb048e3b9ac49d5953c83ed831c716a",
       "version_major": 2,
       "version_minor": 0
      },
      "text/plain": [
       "  0%|          | 0/16 [00:00<?, ?it/s]"
      ]
     },
     "metadata": {},
     "output_type": "display_data"
    },
    {
     "data": {
      "application/vnd.jupyter.widget-view+json": {
       "model_id": "383d6679c1d64ff4866ccf953aac9489",
       "version_major": 2,
       "version_minor": 0
      },
      "text/plain": [
       "  0%|          | 0/16 [00:00<?, ?it/s]"
      ]
     },
     "metadata": {},
     "output_type": "display_data"
    }
   ],
   "source": [
    "metrics_bert = validate(segmenter_bert)\n",
    "metrics_bert_quantized = validate(segmenter_bert_quantized)\n",
    "metrics_bert_optimized = validate(segmenter_bert_optimized)\n",
    "metrics_lstm = validate(segmenter_lstm)\n",
    "metrics_lstm_quantized = validate(segmenter_lstm_quantized)"
   ]
  },
  {
   "cell_type": "code",
   "execution_count": 66,
   "id": "f8bcb1b0",
   "metadata": {
    "ExecuteTime": {
     "end_time": "2022-04-07T01:31:55.346190Z",
     "start_time": "2022-04-07T01:28:27.482689Z"
    }
   },
   "outputs": [
    {
     "data": {
      "application/vnd.jupyter.widget-view+json": {
       "model_id": "ee52d5ee65d84601907614de9899c5d3",
       "version_major": 2,
       "version_minor": 0
      },
      "text/plain": [
       "  0%|          | 0/16 [00:00<?, ?it/s]"
      ]
     },
     "metadata": {},
     "output_type": "display_data"
    }
   ],
   "source": [
    "metrics_bert_optimized_quantized = validate(segmenter_bert_optimized_quantized)"
   ]
  },
  {
   "cell_type": "code",
   "execution_count": 69,
   "id": "b084e059",
   "metadata": {
    "ExecuteTime": {
     "end_time": "2022-04-07T01:32:37.069930Z",
     "start_time": "2022-04-07T01:32:37.037039Z"
    }
   },
   "outputs": [
    {
     "data": {
      "text/plain": [
       "{'per_cls_precision_0': 0.997789569280125,\n",
       " 'per_cls_precision_1': 0.9220820863607074,\n",
       " 'per_cls_precision_2': 0.8533333333219556,\n",
       " 'per_cls_precision_3': 0.5202702702351168,\n",
       " 'per_cls_recall_0': 0.9975274803711349,\n",
       " 'per_cls_recall_1': 0.9386356218029173,\n",
       " 'per_cls_recall_2': 0.7683073229199483,\n",
       " 'per_cls_recall_3': 0.5579710144523209,\n",
       " 'macro_precision': 0.8233688147994762,\n",
       " 'macro_recall': 0.8156103598865804,\n",
       " 'macro_f1': 0.8194712191987011,\n",
       " 'overall_accuracy': 0.9953275695592821,\n",
       " 'approx_inference_time': 241.41552834300091}"
      ]
     },
     "execution_count": 69,
     "metadata": {},
     "output_type": "execute_result"
    }
   ],
   "source": [
    "metrics_bert_quantized"
   ]
  },
  {
   "cell_type": "code",
   "execution_count": 68,
   "id": "8052f02b",
   "metadata": {
    "ExecuteTime": {
     "end_time": "2022-04-07T01:32:26.767700Z",
     "start_time": "2022-04-07T01:32:26.740409Z"
    }
   },
   "outputs": [
    {
     "data": {
      "text/plain": [
       "{'per_cls_precision_0': 0.9978579078900107,\n",
       " 'per_cls_precision_1': 0.9207109408249033,\n",
       " 'per_cls_precision_2': 0.861185983815887,\n",
       " 'per_cls_precision_3': 0.5234899328507725,\n",
       " 'per_cls_recall_0': 0.9975017844396574,\n",
       " 'per_cls_recall_1': 0.9412468719389171,\n",
       " 'per_cls_recall_2': 0.7671068427278859,\n",
       " 'per_cls_recall_3': 0.56521739126339,\n",
       " 'macro_precision': 0.8258111913453934,\n",
       " 'macro_recall': 0.8177682225924625,\n",
       " 'macro_f1': 0.821770022559032,\n",
       " 'overall_accuracy': 0.9953691885952743,\n",
       " 'approx_inference_time': 207.6828866969954}"
      ]
     },
     "execution_count": 68,
     "metadata": {},
     "output_type": "execute_result"
    }
   ],
   "source": [
    "metrics_bert_optimized_quantized"
   ]
  },
  {
   "cell_type": "code",
   "execution_count": 56,
   "id": "4144e319",
   "metadata": {
    "ExecuteTime": {
     "end_time": "2022-04-07T00:28:09.693350Z",
     "start_time": "2022-04-07T00:26:50.466379Z"
    }
   },
   "outputs": [
    {
     "data": {
      "application/vnd.jupyter.widget-view+json": {
       "model_id": "34a419e855b84eed95a66d2feca1998a",
       "version_major": 2,
       "version_minor": 0
      },
      "text/plain": [
       "  0%|          | 0/8 [00:00<?, ?it/s]"
      ]
     },
     "metadata": {},
     "output_type": "display_data"
    },
    {
     "data": {
      "application/vnd.jupyter.widget-view+json": {
       "model_id": "4f600e1dbad2449bbecffd4b388c8eb5",
       "version_major": 2,
       "version_minor": 0
      },
      "text/plain": [
       "  0%|          | 0/8 [00:00<?, ?it/s]"
      ]
     },
     "metadata": {},
     "output_type": "display_data"
    }
   ],
   "source": [
    "metrics_lstm_max = validate(segmenter_lstm, moving_window_size=2048)\n",
    "metrics_lstm_max_quantized = validate(segmenter_lstm_quantized, moving_window_size=2048)"
   ]
  },
  {
   "cell_type": "code",
   "execution_count": 35,
   "id": "aeceeed5",
   "metadata": {
    "ExecuteTime": {
     "end_time": "2022-04-06T23:50:37.206272Z",
     "start_time": "2022-04-06T23:50:37.184435Z"
    }
   },
   "outputs": [
    {
     "data": {
      "text/plain": [
       "{'per_cls_precision_0': 0.9983203198521369,\n",
       " 'per_cls_precision_1': 0.9875860512346375,\n",
       " 'per_cls_precision_2': 0.9202702702578341,\n",
       " 'per_cls_precision_3': 0.6442953019701815,\n",
       " 'per_cls_recall_0': 0.9994946466809136,\n",
       " 'per_cls_recall_1': 0.9521270808389161,\n",
       " 'per_cls_recall_2': 0.8175270107945075,\n",
       " 'per_cls_recall_3': 0.6956521738626339,\n",
       " 'macro_precision': 0.8876179858286974,\n",
       " 'macro_recall': 0.8662002280442428,\n",
       " 'macro_f1': 0.876778324315885,\n",
       " 'overall_accuracy': 0.9977497974540248,\n",
       " 'approx_inference_time': 45.545376046000456}"
      ]
     },
     "execution_count": 35,
     "metadata": {},
     "output_type": "execute_result"
    }
   ],
   "source": [
    "metrics_lstm_max"
   ]
  },
  {
   "cell_type": "code",
   "execution_count": 36,
   "id": "d3751e02",
   "metadata": {
    "ExecuteTime": {
     "end_time": "2022-04-06T23:50:37.229050Z",
     "start_time": "2022-04-06T23:50:37.207321Z"
    }
   },
   "outputs": [
    {
     "data": {
      "text/plain": [
       "{'per_cls_precision_0': 0.9983174729013041,\n",
       " 'per_cls_precision_1': 0.9875832486725503,\n",
       " 'per_cls_precision_2': 0.920377867733868,\n",
       " 'per_cls_precision_3': 0.6442953019701815,\n",
       " 'per_cls_recall_0': 0.9994946466809136,\n",
       " 'per_cls_recall_1': 0.9519094766609161,\n",
       " 'per_cls_recall_2': 0.8187274909865699,\n",
       " 'per_cls_recall_3': 0.6956521738626339,\n",
       " 'macro_precision': 0.887643472819476,\n",
       " 'macro_recall': 0.8664459470477585,\n",
       " 'macro_f1': 0.8769166227813644,\n",
       " 'overall_accuracy': 0.9977470228516253,\n",
       " 'approx_inference_time': 34.70538644899716}"
      ]
     },
     "execution_count": 36,
     "metadata": {},
     "output_type": "execute_result"
    }
   ],
   "source": [
    "metrics_lstm_max_quantized"
   ]
  },
  {
   "cell_type": "code",
   "execution_count": 57,
   "id": "461d2f56",
   "metadata": {
    "ExecuteTime": {
     "end_time": "2022-04-07T00:28:09.716861Z",
     "start_time": "2022-04-07T00:28:09.694945Z"
    }
   },
   "outputs": [
    {
     "data": {
      "text/plain": [
       "{'per_cls_precision_0': 0.9983203198521369,\n",
       " 'per_cls_precision_1': 0.9875846501117521,\n",
       " 'per_cls_precision_2': 0.920377867733868,\n",
       " 'per_cls_precision_3': 0.6442953019701815,\n",
       " 'per_cls_recall_0': 0.9994946466809136,\n",
       " 'per_cls_recall_1': 0.9520182787499161,\n",
       " 'per_cls_recall_2': 0.8187274909865699,\n",
       " 'per_cls_recall_3': 0.6956521738626339,\n",
       " 'macro_precision': 0.8876445349169846,\n",
       " 'macro_recall': 0.8664731475700084,\n",
       " 'macro_f1': 0.8769310718283391,\n",
       " 'overall_accuracy': 0.9977497974540248,\n",
       " 'approx_inference_time': 33.45247530399865}"
      ]
     },
     "execution_count": 57,
     "metadata": {},
     "output_type": "execute_result"
    }
   ],
   "source": [
    "metrics_lstm_max_quantized"
   ]
  }
 ],
 "metadata": {
  "kernelspec": {
   "display_name": "Python 3",
   "language": "python",
   "name": "python3"
  },
  "language_info": {
   "codemirror_mode": {
    "name": "ipython",
    "version": 3
   },
   "file_extension": ".py",
   "mimetype": "text/x-python",
   "name": "python",
   "nbconvert_exporter": "python",
   "pygments_lexer": "ipython3",
   "version": "3.9.10"
  },
  "latex_envs": {
   "LaTeX_envs_menu_present": true,
   "autoclose": false,
   "autocomplete": true,
   "bibliofile": "biblio.bib",
   "cite_by": "apalike",
   "current_citInitial": 1,
   "eqLabelWithNumbers": true,
   "eqNumInitial": 1,
   "hotkeys": {
    "equation": "Ctrl-E",
    "itemize": "Ctrl-I"
   },
   "labels_anchors": false,
   "latex_user_defs": false,
   "report_style_numbering": false,
   "user_envs_cfg": false
  },
  "toc": {
   "base_numbering": 1,
   "nav_menu": {},
   "number_sections": true,
   "sideBar": true,
   "skip_h1_title": false,
   "title_cell": "Table of Contents",
   "title_sidebar": "Contents",
   "toc_cell": false,
   "toc_position": {},
   "toc_section_display": true,
   "toc_window_display": false
  }
 },
 "nbformat": 4,
 "nbformat_minor": 5
}
