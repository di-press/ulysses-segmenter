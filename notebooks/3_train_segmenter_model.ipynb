{
 "cells": [
  {
   "cell_type": "markdown",
   "id": "fed1bdd7",
   "metadata": {},
   "source": [
    "# Notebook to train segmenter model\n",
    "\n",
    "This notebook uses the previously created tokenizer and labeled data to effectively train Transformer Encoder models to segment Brazilian legal text data."
   ]
  },
  {
   "cell_type": "code",
   "execution_count": null,
   "id": "458ccb35",
   "metadata": {
    "ExecuteTime": {
     "end_time": "2022-03-28T14:23:45.186273Z",
     "start_time": "2022-03-28T14:23:45.173977Z"
    }
   },
   "outputs": [],
   "source": [
    "import os\n",
    "\n",
    "import transformers\n",
    "import torch\n",
    "import torch.nn\n",
    "import datasets\n",
    "\n",
    "try:\n",
    "    from segmentador import *\n",
    "\n",
    "except ImportError:\n",
    "    from src import *\n",
    "\n",
    "\n",
    "import eval_model\n",
    "\n",
    "\n",
    "TRAIN_MODEL = True\n",
    "PREDICT_TEST_SET_AT_END = True\n",
    "DEBUG_RUN = True\n",
    "RESOURCE_DIR = \"..\"\n",
    "\n",
    "\n",
    "USE_FP16 = False\n",
    "DEVICE = \"cuda\"\n",
    "LOCAL_FILES_ONLY = True\n",
    "LOAD_PRETRAINED_WEIGHTS = True\n",
    "NUM_TRAIN_EPOCHS = 4\n",
    "NUM_HIDDEN_LAYERS = 6\n",
    "GRAD_ACCUMULATION_STEPS = 16\n",
    "VOCAB_SIZE = 6000\n",
    "\n",
    "\n",
    "TRAINED_MODEL_SAVE_PATH = os.path.join(\n",
    "    RESOURCE_DIR,\n",
    "    \"pretrained_segmenter_model\",\n",
    "    f\"{NUM_HIDDEN_LAYERS}_{VOCAB_SIZE}_layer_model\",\n",
    ")\n",
    "\n",
    "TRAINER_STATE_SAVE_PATH = os.path.join(\n",
    "    RESOURCE_DIR,\n",
    "    \"saved_trainer_states\",\n",
    "    f\"{NUM_HIDDEN_LAYERS}_{VOCAB_SIZE}_layer_model\",\n",
    ")"
   ]
  },
  {
   "cell_type": "markdown",
   "id": "607cdb21",
   "metadata": {},
   "source": [
    "# Setup model weights and labeled data"
   ]
  },
  {
   "cell_type": "code",
   "execution_count": null,
   "id": "60d11642",
   "metadata": {
    "ExecuteTime": {
     "end_time": "2022-03-28T14:23:50.201960Z",
     "start_time": "2022-03-28T14:23:46.857644Z"
    }
   },
   "outputs": [],
   "source": [
    "MODEL_URIS = {\n",
    "    \"trained_model\": (TRAINED_MODEL_SAVE_PATH, True),\n",
    "    \"pretrained_bertimbau_hugginface_hub\": (\"neuralmind/bert-base-portuguese-cased\", False),\n",
    "    \"pretrained_bertimbau_local\": (\"../base_models/bert-base-portuguese-cased\", False),\n",
    "}\n",
    "\n",
    "\n",
    "if LOCAL_FILES_ONLY:\n",
    "    MODEL_URIS.pop(\"pretrained_bertimbau_hugginface_hub\")\n",
    "\n",
    "\n",
    "for uri_tag, (uri_model, init_from_pretrained) in MODEL_URIS.items():\n",
    "    try:\n",
    "        seg_model = Segmenter(\n",
    "            local_files_only=LOCAL_FILES_ONLY,\n",
    "            device=DEVICE,\n",
    "            uri_model=uri_model,\n",
    "            init_from_pretrained_weights=init_from_pretrained,\n",
    "            uri_tokenizer=os.path.join(RESOURCE_DIR, \"tokenizers\", f\"{VOCAB_SIZE}_subwords\"),\n",
    "            num_hidden_layers=NUM_HIDDEN_LAYERS,\n",
    "        )\n",
    "        print(f\"Loaded model from ({uri_tag}, {uri_model}).\")\n",
    "        break\n",
    "\n",
    "    except OSError as e:\n",
    "        print(e)\n",
    "        continue\n",
    "\n",
    "\n",
    "seg_model.model"
   ]
  },
  {
   "cell_type": "code",
   "execution_count": null,
   "id": "ffc0eb41",
   "metadata": {
    "ExecuteTime": {
     "end_time": "2022-03-09T17:10:46.105870Z",
     "start_time": "2022-03-09T17:10:46.101891Z"
    }
   },
   "outputs": [],
   "source": [
    "seg_model.model.config"
   ]
  },
  {
   "cell_type": "code",
   "execution_count": null,
   "id": "fe7b79e3",
   "metadata": {
    "ExecuteTime": {
     "end_time": "2022-03-28T14:23:54.293807Z",
     "start_time": "2022-03-28T14:23:54.147191Z"
    }
   },
   "outputs": [],
   "source": [
    "df_tokenized_split = datasets.load_from_disk(\n",
    "    os.path.join(RESOURCE_DIR, f\"data/df_tokenized_split_0_120000_{VOCAB_SIZE}\"),\n",
    ")\n",
    "df_tokenized_split"
   ]
  },
  {
   "cell_type": "code",
   "execution_count": null,
   "id": "8bc43035",
   "metadata": {
    "ExecuteTime": {
     "end_time": "2022-03-28T14:23:56.161464Z",
     "start_time": "2022-03-28T14:23:56.022841Z"
    }
   },
   "outputs": [],
   "source": [
    "save_steps = int(df_tokenized_split[\"train\"].num_rows / GRAD_ACCUMULATION_STEPS * 0.10)\n",
    "\n",
    "\n",
    "training_args = transformers.TrainingArguments(\n",
    "    output_dir=os.path.join(\n",
    "        RESOURCE_DIR, \"segmenter_checkpoint\", f\"{NUM_HIDDEN_LAYERS}_{VOCAB_SIZE}_layer_model\"\n",
    "    ),\n",
    "    logging_dir=os.path.join(\n",
    "        RESOURCE_DIR, \"loggings\", f\"{NUM_HIDDEN_LAYERS}_{VOCAB_SIZE}_layer_model\"\n",
    "    ),\n",
    "    fp16=USE_FP16 and torch.cuda.is_available(),\n",
    "    load_best_model_at_end=True,\n",
    "    metric_for_best_model=\"eval_loss\",\n",
    "    greater_is_better=False,\n",
    "    evaluation_strategy=\"steps\",\n",
    "    logging_strategy=\"steps\",\n",
    "    save_strategy=\"steps\",\n",
    "    save_steps=save_steps,\n",
    "    eval_steps=save_steps,\n",
    "    logging_steps=save_steps,\n",
    "    save_total_limit=5,\n",
    "    per_device_train_batch_size=8,\n",
    "    per_device_eval_batch_size=8,\n",
    "    gradient_accumulation_steps=GRAD_ACCUMULATION_STEPS,\n",
    "    learning_rate=5e-4,\n",
    "    max_grad_norm=1.0,\n",
    "    num_train_epochs=NUM_TRAIN_EPOCHS,\n",
    "    lr_scheduler_type=\"linear\",\n",
    "    warmup_ratio=0.1,\n",
    "    weight_decay=0.0,\n",
    "    report_to=\"all\",\n",
    ")\n",
    "\n",
    "data_collator = transformers.DataCollatorForTokenClassification(\n",
    "    seg_model.tokenizer,\n",
    "    pad_to_multiple_of=8 if USE_FP16 else 1,\n",
    ")\n",
    "\n",
    "if DEBUG_RUN:\n",
    "    df_tokenized_split[\"train\"] = df_tokenized_split[\"train\"].shard(num_shards=500, index=0)\n",
    "    df_tokenized_split[\"eval\"] = df_tokenized_split[\"eval\"].shard(num_shards=500, index=0)\n",
    "    df_tokenized_split[\"test\"] = df_tokenized_split[\"test\"].shard(num_shards=500, index=0)\n",
    "    print(df_tokenized_split)\n",
    "\n",
    "\n",
    "trainer = transformers.Trainer(\n",
    "    model=seg_model.model,\n",
    "    tokenizer=seg_model.tokenizer,\n",
    "    args=training_args,\n",
    "    data_collator=data_collator,\n",
    "    train_dataset=df_tokenized_split[\"train\"],\n",
    "    eval_dataset=df_tokenized_split[\"eval\"],\n",
    "    compute_metrics=eval_model.compute_metrics,\n",
    ")"
   ]
  },
  {
   "cell_type": "markdown",
   "id": "69deb538",
   "metadata": {},
   "source": [
    "# Train model"
   ]
  },
  {
   "cell_type": "code",
   "execution_count": null,
   "id": "d1b4a78d",
   "metadata": {
    "ExecuteTime": {
     "end_time": "2022-03-09T17:10:46.151826Z",
     "start_time": "2022-03-09T17:10:46.148531Z"
    },
    "scrolled": false
   },
   "outputs": [],
   "source": [
    "if TRAIN_MODEL:\n",
    "    try:\n",
    "        train_results = trainer.train(resume_from_checkpoint=TRAINER_STATE_SAVE_PATH)\n",
    "\n",
    "    except ValueError:\n",
    "        train_results = trainer.train()\n",
    "\n",
    "    train_metrics = train_results.metrics\n",
    "    trainer.log_metrics(split=\"all\", metrics=train_metrics)\n",
    "    trainer.save_metrics(split=\"all\", metrics=train_metrics)\n",
    "\n",
    "    trainer.save_model(TRAINED_MODEL_SAVE_PATH)\n",
    "    trainer.save_state()"
   ]
  },
  {
   "cell_type": "markdown",
   "id": "b94792db",
   "metadata": {},
   "source": [
    "# Evaluate trained model"
   ]
  },
  {
   "cell_type": "code",
   "execution_count": null,
   "id": "d1dc7645",
   "metadata": {
    "ExecuteTime": {
     "end_time": "2022-03-09T17:10:49.980556Z",
     "start_time": "2022-03-09T17:10:46.153181Z"
    }
   },
   "outputs": [],
   "source": [
    "if PREDICT_TEST_SET_AT_END:\n",
    "    y_preds_test = trainer.predict(df_tokenized_split[\"test\"])\n",
    "\n",
    "    test_metrics = y_preds_test.metrics\n",
    "    trainer.log_metrics(split=\"test\", metrics=test_metrics)\n",
    "    trainer.save_metrics(split=\"test\", metrics=test_metrics)"
   ]
  }
 ],
 "metadata": {
  "kernelspec": {
   "display_name": "Python 3",
   "language": "python",
   "name": "python3"
  },
  "language_info": {
   "codemirror_mode": {
    "name": "ipython",
    "version": 3
   },
   "file_extension": ".py",
   "mimetype": "text/x-python",
   "name": "python",
   "nbconvert_exporter": "python",
   "pygments_lexer": "ipython3",
   "version": "3.9.10"
  },
  "latex_envs": {
   "LaTeX_envs_menu_present": true,
   "autoclose": false,
   "autocomplete": true,
   "bibliofile": "biblio.bib",
   "cite_by": "apalike",
   "current_citInitial": 1,
   "eqLabelWithNumbers": true,
   "eqNumInitial": 1,
   "hotkeys": {
    "equation": "Ctrl-E",
    "itemize": "Ctrl-I"
   },
   "labels_anchors": false,
   "latex_user_defs": false,
   "report_style_numbering": false,
   "user_envs_cfg": false
  },
  "toc": {
   "base_numbering": 1,
   "nav_menu": {},
   "number_sections": true,
   "sideBar": true,
   "skip_h1_title": false,
   "title_cell": "Table of Contents",
   "title_sidebar": "Contents",
   "toc_cell": false,
   "toc_position": {},
   "toc_section_display": true,
   "toc_window_display": false
  }
 },
 "nbformat": 4,
 "nbformat_minor": 5
}
