{
 "cells": [
  {
   "cell_type": "code",
   "execution_count": 2,
   "id": "458ccb35",
   "metadata": {
    "ExecuteTime": {
     "end_time": "2022-02-13T17:14:14.840454Z",
     "start_time": "2022-02-13T17:14:13.678244Z"
    }
   },
   "outputs": [],
   "source": [
    "import transformers\n",
    "import torch\n",
    "import datasets\n",
    "import numpy as np\n",
    "import onnxruntime\n",
    "\n",
    "import segmentador"
   ]
  },
  {
   "cell_type": "code",
   "execution_count": 32,
   "id": "e5296309",
   "metadata": {
    "ExecuteTime": {
     "end_time": "2022-02-13T15:34:39.061664Z",
     "start_time": "2022-02-13T15:34:37.332771Z"
    }
   },
   "outputs": [
    {
     "name": "stdout",
     "output_type": "stream",
     "text": [
      "accuracy, bertscore, bleu, bleurt, cer, chrf, code_eval, comet, competition_math, coval, cuad, f1, gleu, glue, google_bleu, indic_glue, matthews_correlation, mauve, meteor, pearsonr, precision, recall, rouge, sacrebleu, sari, seqeval, spearmanr, squad, squad_v2, super_glue, ter, wer, wiki_split, xnli\n"
     ]
    }
   ],
   "source": [
    "print(\", \".join(datasets.list_metrics()))"
   ]
  },
  {
   "cell_type": "code",
   "execution_count": 3,
   "id": "60d11642",
   "metadata": {
    "ExecuteTime": {
     "end_time": "2022-02-13T17:14:22.027576Z",
     "start_time": "2022-02-13T17:14:16.874871Z"
    }
   },
   "outputs": [
    {
     "name": "stderr",
     "output_type": "stream",
     "text": [
      "Some weights of the model checkpoint at neuralmind/bert-base-portuguese-cased were not used when initializing BertForTokenClassification: ['cls.seq_relationship.bias', 'cls.predictions.decoder.weight', 'cls.predictions.transform.dense.weight', 'cls.predictions.transform.LayerNorm.weight', 'cls.predictions.transform.LayerNorm.bias', 'cls.predictions.transform.dense.bias', 'cls.predictions.bias', 'cls.seq_relationship.weight']\n",
      "- This IS expected if you are initializing BertForTokenClassification from the checkpoint of a model trained on another task or with another architecture (e.g. initializing a BertForSequenceClassification model from a BertForPreTraining model).\n",
      "- This IS NOT expected if you are initializing BertForTokenClassification from the checkpoint of a model that you expect to be exactly identical (initializing a BertForSequenceClassification model from a BertForSequenceClassification model).\n",
      "Some weights of BertForTokenClassification were not initialized from the model checkpoint at neuralmind/bert-base-portuguese-cased and are newly initialized: ['classifier.weight', 'classifier.bias']\n",
      "You should probably TRAIN this model on a down-stream task to be able to use it for predictions and inference.\n"
     ]
    }
   ],
   "source": [
    "seg_model = segmentador.Segmenter(local_files_only=True)"
   ]
  },
  {
   "cell_type": "code",
   "execution_count": 5,
   "id": "fe7b79e3",
   "metadata": {
    "ExecuteTime": {
     "end_time": "2022-02-13T17:14:41.965665Z",
     "start_time": "2022-02-13T17:14:41.916275Z"
    }
   },
   "outputs": [
    {
     "data": {
      "text/plain": [
       "DatasetDict({\n",
       "    train: Dataset({\n",
       "        features: ['id', 'labels', 'tokens', 'input_ids', 'token_type_ids', 'attention_mask'],\n",
       "        num_rows: 15993\n",
       "    })\n",
       "    eval: Dataset({\n",
       "        features: ['id', 'labels', 'tokens', 'input_ids', 'token_type_ids', 'attention_mask'],\n",
       "        num_rows: 1999\n",
       "    })\n",
       "    test: Dataset({\n",
       "        features: ['id', 'labels', 'tokens', 'input_ids', 'token_type_ids', 'attention_mask'],\n",
       "        num_rows: 2000\n",
       "    })\n",
       "})"
      ]
     },
     "execution_count": 5,
     "metadata": {},
     "output_type": "execute_result"
    }
   ],
   "source": [
    "df_tokenized_split = datasets.load_from_disk(\"../data/df_tokenized_split\")\n",
    "df_tokenized_split"
   ]
  },
  {
   "cell_type": "code",
   "execution_count": 6,
   "id": "8bc43035",
   "metadata": {
    "ExecuteTime": {
     "end_time": "2022-02-14T12:46:28.412273Z",
     "start_time": "2022-02-14T12:46:23.479845Z"
    }
   },
   "outputs": [
    {
     "name": "stderr",
     "output_type": "stream",
     "text": [
      "Using amp half precision backend\n"
     ]
    }
   ],
   "source": [
    "metric_seqeval = datasets.load_metric(\"seqeval\", cache_dir=\"../cache/metrics\")\n",
    "\n",
    "def compute_metrics(eval_pred):\n",
    "    logits, labels = eval_pred\n",
    "    predictions = np.argmax(logits, axis=-1)\n",
    "    return metric.compute(predictions=predictions, references=labels)\n",
    "\n",
    "save_steps = int(df_tokenized_split[\"train\"].num_rows * 0.10)\n",
    "\n",
    "training_args = transformers.TrainingArguments(\n",
    "    output_dir=\"../segmenter_checkpoint\",\n",
    "    fp16=torch.cuda.is_available(),\n",
    "    load_best_model_at_end=True,\n",
    "    metric_for_best_model=\"eval_loss\",\n",
    "    greater_is_better=False,\n",
    "    evaluation_strategy=\"steps\",\n",
    "    logging_strategy=\"steps\",\n",
    "    save_strategy=\"steps\",\n",
    "    save_steps=save_steps,\n",
    "    eval_steps=save_steps,\n",
    "    logging_steps=save_steps,\n",
    "    save_total_limit=5,\n",
    "    per_device_train_batch_size=8,\n",
    "    per_device_eval_batch_size=16,\n",
    "    gradient_accumulation_steps=4,\n",
    "    learning_rate=5e-5,\n",
    "    max_grad_norm=1.0,\n",
    "    num_train_epochs=5,\n",
    "    lr_scheduler_type=\"linear\",\n",
    "    warmup_ratio=0.1,\n",
    "    weight_decay=5e-3,\n",
    ")\n",
    "\n",
    "data_collator = transformers.DataCollatorForTokenClassification(\n",
    "    seg_model.tokenizer,\n",
    "    pad_to_multiple_of=8,\n",
    ")\n",
    "\n",
    "trainer = transformers.Trainer(\n",
    "    model=seg_model.model,\n",
    "    tokenizer=seg_model.tokenizer,\n",
    "    args=training_args,\n",
    "    data_collator=data_collator,\n",
    "    train_dataset=df_tokenized_split[\"train\"],\n",
    "    eval_dataset=df_tokenized_split[\"eval\"],\n",
    "    compute_metrics=compute_metrics,\n",
    ")"
   ]
  },
  {
   "cell_type": "code",
   "execution_count": 8,
   "id": "d1b4a78d",
   "metadata": {
    "ExecuteTime": {
     "end_time": "2022-02-12T05:05:02.430144Z",
     "start_time": "2022-02-12T05:05:02.427177Z"
    }
   },
   "outputs": [],
   "source": [
    "# trainer.train()"
   ]
  },
  {
   "cell_type": "code",
   "execution_count": 9,
   "id": "1c07c025",
   "metadata": {
    "ExecuteTime": {
     "end_time": "2022-02-12T05:05:02.975594Z",
     "start_time": "2022-02-12T05:05:02.432596Z"
    }
   },
   "outputs": [
    {
     "name": "stderr",
     "output_type": "stream",
     "text": [
      "Configuration saved in ../pretrained_segmenter_model/config.json\n",
      "Model weights saved in ../pretrained_segmenter_model/pytorch_model.bin\n",
      "tokenizer config file saved in ../pretrained_segmenter_model/tokenizer_config.json\n",
      "Special tokens file saved in ../pretrained_segmenter_model/special_tokens_map.json\n"
     ]
    }
   ],
   "source": [
    "pt_save_directory = \"../pretrained_segmenter_model\"\n",
    "seg_model.save_pretrained(pt_save_directory)"
   ]
  }
 ],
 "metadata": {
  "kernelspec": {
   "display_name": "Python 3",
   "language": "python",
   "name": "python3"
  },
  "language_info": {
   "codemirror_mode": {
    "name": "ipython",
    "version": 3
   },
   "file_extension": ".py",
   "mimetype": "text/x-python",
   "name": "python",
   "nbconvert_exporter": "python",
   "pygments_lexer": "ipython3",
   "version": "3.9.10"
  },
  "latex_envs": {
   "LaTeX_envs_menu_present": true,
   "autoclose": false,
   "autocomplete": true,
   "bibliofile": "biblio.bib",
   "cite_by": "apalike",
   "current_citInitial": 1,
   "eqLabelWithNumbers": true,
   "eqNumInitial": 1,
   "hotkeys": {
    "equation": "Ctrl-E",
    "itemize": "Ctrl-I"
   },
   "labels_anchors": false,
   "latex_user_defs": false,
   "report_style_numbering": false,
   "user_envs_cfg": false
  },
  "toc": {
   "base_numbering": 1,
   "nav_menu": {},
   "number_sections": true,
   "sideBar": true,
   "skip_h1_title": false,
   "title_cell": "Table of Contents",
   "title_sidebar": "Contents",
   "toc_cell": false,
   "toc_position": {},
   "toc_section_display": true,
   "toc_window_display": false
  }
 },
 "nbformat": 4,
 "nbformat_minor": 5
}
