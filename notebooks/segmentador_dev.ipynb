{
 "cells": [
  {
   "cell_type": "code",
   "execution_count": 1,
   "id": "458ccb35",
   "metadata": {
    "ExecuteTime": {
     "end_time": "2022-03-08T03:41:43.375808Z",
     "start_time": "2022-03-08T03:41:42.425095Z"
    }
   },
   "outputs": [],
   "source": [
    "import transformers\n",
    "import torch\n",
    "import torch.nn\n",
    "import datasets\n",
    "import numpy as np\n",
    "import onnxruntime\n",
    "\n",
    "import segmentador\n",
    "\n",
    "USE_FP16 = False\n",
    "NUM_LAYERS = 2\n",
    "DEVICE = \"cuda\"\n",
    "LOCAL_FILES_ONLY = True\n",
    "NUM_TRAIN_EPOCHS = 2\n",
    "GRAD_ACCUMULATION_STEPS = 16\n",
    "TRAINED_MODEL_SAVE_PATH = \"../pretrained_segmenter_model\""
   ]
  },
  {
   "cell_type": "code",
   "execution_count": null,
   "id": "e5296309",
   "metadata": {
    "ExecuteTime": {
     "end_time": "2022-03-07T16:35:12.457355Z",
     "start_time": "2022-03-07T16:35:11.045345Z"
    }
   },
   "outputs": [],
   "source": [
    "print(\", \".join(datasets.list_metrics()))"
   ]
  },
  {
   "cell_type": "code",
   "execution_count": 2,
   "id": "60d11642",
   "metadata": {
    "ExecuteTime": {
     "end_time": "2022-03-08T03:41:49.786490Z",
     "start_time": "2022-03-08T03:41:45.147550Z"
    }
   },
   "outputs": [
    {
     "name": "stdout",
     "output_type": "stream",
     "text": [
      "Loaded model from ../pretrained_segmenter_model.\n"
     ]
    },
    {
     "data": {
      "text/plain": [
       "BertForTokenClassification(\n",
       "  (bert): BertModel(\n",
       "    (embeddings): BertEmbeddings(\n",
       "      (word_embeddings): Embedding(6000, 768)\n",
       "      (position_embeddings): Embedding(1024, 768)\n",
       "      (token_type_embeddings): Embedding(2, 768)\n",
       "      (LayerNorm): LayerNorm((768,), eps=1e-12, elementwise_affine=True)\n",
       "      (dropout): Dropout(p=0.1, inplace=False)\n",
       "    )\n",
       "    (encoder): BertEncoder(\n",
       "      (layer): ModuleList(\n",
       "        (0): BertLayer(\n",
       "          (attention): BertAttention(\n",
       "            (self): BertSelfAttention(\n",
       "              (query): Linear(in_features=768, out_features=768, bias=True)\n",
       "              (key): Linear(in_features=768, out_features=768, bias=True)\n",
       "              (value): Linear(in_features=768, out_features=768, bias=True)\n",
       "              (dropout): Dropout(p=0.1, inplace=False)\n",
       "            )\n",
       "            (output): BertSelfOutput(\n",
       "              (dense): Linear(in_features=768, out_features=768, bias=True)\n",
       "              (LayerNorm): LayerNorm((768,), eps=1e-12, elementwise_affine=True)\n",
       "              (dropout): Dropout(p=0.1, inplace=False)\n",
       "            )\n",
       "          )\n",
       "          (intermediate): BertIntermediate(\n",
       "            (dense): Linear(in_features=768, out_features=3072, bias=True)\n",
       "          )\n",
       "          (output): BertOutput(\n",
       "            (dense): Linear(in_features=3072, out_features=768, bias=True)\n",
       "            (LayerNorm): LayerNorm((768,), eps=1e-12, elementwise_affine=True)\n",
       "            (dropout): Dropout(p=0.1, inplace=False)\n",
       "          )\n",
       "        )\n",
       "        (1): BertLayer(\n",
       "          (attention): BertAttention(\n",
       "            (self): BertSelfAttention(\n",
       "              (query): Linear(in_features=768, out_features=768, bias=True)\n",
       "              (key): Linear(in_features=768, out_features=768, bias=True)\n",
       "              (value): Linear(in_features=768, out_features=768, bias=True)\n",
       "              (dropout): Dropout(p=0.1, inplace=False)\n",
       "            )\n",
       "            (output): BertSelfOutput(\n",
       "              (dense): Linear(in_features=768, out_features=768, bias=True)\n",
       "              (LayerNorm): LayerNorm((768,), eps=1e-12, elementwise_affine=True)\n",
       "              (dropout): Dropout(p=0.1, inplace=False)\n",
       "            )\n",
       "          )\n",
       "          (intermediate): BertIntermediate(\n",
       "            (dense): Linear(in_features=768, out_features=3072, bias=True)\n",
       "          )\n",
       "          (output): BertOutput(\n",
       "            (dense): Linear(in_features=3072, out_features=768, bias=True)\n",
       "            (LayerNorm): LayerNorm((768,), eps=1e-12, elementwise_affine=True)\n",
       "            (dropout): Dropout(p=0.1, inplace=False)\n",
       "          )\n",
       "        )\n",
       "      )\n",
       "    )\n",
       "  )\n",
       "  (dropout): Dropout(p=0.1, inplace=False)\n",
       "  (classifier): Linear(in_features=768, out_features=4, bias=True)\n",
       ")"
      ]
     },
     "execution_count": 2,
     "metadata": {},
     "output_type": "execute_result"
    }
   ],
   "source": [
    "for uri in [TRAINED_MODEL_SAVE_PATH, \"neuralmind/bert-base-portuguese-cased\"]:\n",
    "    try:\n",
    "        seg_model = segmentador.Segmenter(\n",
    "            local_files_only=LOCAL_FILES_ONLY,\n",
    "            device=DEVICE,\n",
    "            uri_model=uri,\n",
    "            uri_tokenizer=\"../tokenizers\",\n",
    "        )\n",
    "        print(f\"Loaded model from {uri}.\")\n",
    "        break\n",
    "        \n",
    "    except TypeError as e:\n",
    "        print(e)\n",
    "        continue\n",
    "\n",
    "seg_model.model"
   ]
  },
  {
   "cell_type": "code",
   "execution_count": 3,
   "id": "ffc0eb41",
   "metadata": {
    "ExecuteTime": {
     "end_time": "2022-03-08T03:43:17.492607Z",
     "start_time": "2022-03-08T03:43:17.487877Z"
    }
   },
   "outputs": [
    {
     "data": {
      "text/plain": [
       "BertConfig {\n",
       "  \"architectures\": [\n",
       "    \"BertForMaskedLM\"\n",
       "  ],\n",
       "  \"attention_probs_dropout_prob\": 0.1,\n",
       "  \"classifier_dropout\": null,\n",
       "  \"directionality\": \"bidi\",\n",
       "  \"hidden_act\": \"gelu\",\n",
       "  \"hidden_dropout_prob\": 0.1,\n",
       "  \"hidden_size\": 768,\n",
       "  \"id2label\": {\n",
       "    \"0\": \"LABEL_0\",\n",
       "    \"1\": \"LABEL_1\",\n",
       "    \"2\": \"LABEL_2\",\n",
       "    \"3\": \"LABEL_3\"\n",
       "  },\n",
       "  \"initializer_range\": 0.02,\n",
       "  \"intermediate_size\": 3072,\n",
       "  \"label2id\": {\n",
       "    \"LABEL_0\": 0,\n",
       "    \"LABEL_1\": 1,\n",
       "    \"LABEL_2\": 2,\n",
       "    \"LABEL_3\": 3\n",
       "  },\n",
       "  \"layer_norm_eps\": 1e-12,\n",
       "  \"max_position_embeddings\": 1024,\n",
       "  \"model_type\": \"bert\",\n",
       "  \"num_attention_heads\": 12,\n",
       "  \"num_hidden_layers\": 2,\n",
       "  \"output_past\": true,\n",
       "  \"pad_token_id\": 0,\n",
       "  \"pooler_fc_size\": 768,\n",
       "  \"pooler_num_attention_heads\": 12,\n",
       "  \"pooler_num_fc_layers\": 3,\n",
       "  \"pooler_size_per_head\": 128,\n",
       "  \"pooler_type\": \"first_token_transform\",\n",
       "  \"position_embedding_type\": \"absolute\",\n",
       "  \"transformers_version\": \"4.16.2\",\n",
       "  \"type_vocab_size\": 2,\n",
       "  \"use_cache\": true,\n",
       "  \"vocab_size\": 6000\n",
       "}"
      ]
     },
     "execution_count": 3,
     "metadata": {},
     "output_type": "execute_result"
    }
   ],
   "source": [
    "seg_model.model.config"
   ]
  },
  {
   "cell_type": "code",
   "execution_count": 4,
   "id": "fe7b79e3",
   "metadata": {
    "ExecuteTime": {
     "end_time": "2022-03-08T03:43:25.574220Z",
     "start_time": "2022-03-08T03:43:25.566040Z"
    }
   },
   "outputs": [
    {
     "data": {
      "text/plain": [
       "DatasetDict({\n",
       "    train: Dataset({\n",
       "        features: ['labels', 'input_ids', 'token_type_ids', 'attention_mask'],\n",
       "        num_rows: 25870\n",
       "    })\n",
       "    eval: Dataset({\n",
       "        features: ['labels', 'input_ids', 'token_type_ids', 'attention_mask'],\n",
       "        num_rows: 3234\n",
       "    })\n",
       "    test: Dataset({\n",
       "        features: ['labels', 'input_ids', 'token_type_ids', 'attention_mask'],\n",
       "        num_rows: 3234\n",
       "    })\n",
       "})"
      ]
     },
     "execution_count": 4,
     "metadata": {},
     "output_type": "execute_result"
    }
   ],
   "source": [
    "df_tokenized_split = datasets.load_from_disk(\"../data/df_tokenized_split_90001_120000\")\n",
    "df_tokenized_split"
   ]
  },
  {
   "cell_type": "code",
   "execution_count": 13,
   "id": "8bc43035",
   "metadata": {
    "ExecuteTime": {
     "end_time": "2022-03-08T05:20:09.637957Z",
     "start_time": "2022-03-08T05:20:08.461105Z"
    }
   },
   "outputs": [
    {
     "name": "stderr",
     "output_type": "stream",
     "text": [
      "PyTorch: setting up devices\n"
     ]
    }
   ],
   "source": [
    "metric_seqeval = datasets.load_metric(\"seqeval\", cache_dir=\"../cache/metrics\")\n",
    "\n",
    "\n",
    "def compute_metrics(eval_pred):\n",
    "    logits, labels = eval_pred\n",
    "    predictions = np.argmax(logits, axis=-1)\n",
    "    \n",
    "    true_predictions = [\n",
    "        [\n",
    "            pp for (pp, ll) in zip(p, l) if ll != -100\n",
    "        ]\n",
    "        for (p, l) in zip(predictions, labels)\n",
    "    ]\n",
    "    \n",
    "    true_labels = [[ll for ll in l if ll != -100] for l in labels]\n",
    "    \n",
    "    return metric_seqeval.compute(predictions=true_predictions, references=true_labels)\n",
    "\n",
    "\n",
    "save_steps = int(df_tokenized_split[\"train\"].num_rows / GRAD_ACCUMULATION_STEPS * 0.10)\n",
    "\n",
    "\n",
    "training_args = transformers.TrainingArguments(\n",
    "    output_dir=\"../segmenter_checkpoint\",\n",
    "    fp16=USE_FP16 and torch.cuda.is_available(),\n",
    "    load_best_model_at_end=True,\n",
    "    metric_for_best_model=\"eval_loss\",\n",
    "    greater_is_better=False,\n",
    "    evaluation_strategy=\"steps\",\n",
    "    logging_strategy=\"steps\",\n",
    "    save_strategy=\"steps\",\n",
    "    save_steps=save_steps,\n",
    "    eval_steps=save_steps,\n",
    "    logging_steps=save_steps,\n",
    "    save_total_limit=5,\n",
    "    per_device_train_batch_size=2,\n",
    "    per_device_eval_batch_size=4,\n",
    "    gradient_accumulation_steps=GRAD_ACCUMULATION_STEPS,\n",
    "    learning_rate=5e-4,\n",
    "    max_grad_norm=1.0,\n",
    "    num_train_epochs=NUM_TRAIN_EPOCHS,\n",
    "    lr_scheduler_type=\"linear\",\n",
    "    warmup_ratio=0.1,\n",
    "    weight_decay=0.0,\n",
    "    report_to=\"all\",\n",
    ")\n",
    "\n",
    "data_collator = transformers.DataCollatorForTokenClassification(\n",
    "    seg_model.tokenizer,\n",
    "    pad_to_multiple_of=8 if USE_FP16 else 1,\n",
    ")\n",
    "\n",
    "trainer = transformers.Trainer(\n",
    "    model=seg_model.model,\n",
    "    tokenizer=seg_model.tokenizer,\n",
    "    args=training_args,\n",
    "    data_collator=data_collator,\n",
    "    train_dataset=df_tokenized_split[\"train\"],\n",
    "    eval_dataset=df_tokenized_split[\"eval\"],\n",
    "    compute_metrics=compute_metrics,\n",
    ")"
   ]
  },
  {
   "cell_type": "code",
   "execution_count": 6,
   "id": "d1b4a78d",
   "metadata": {
    "ExecuteTime": {
     "end_time": "2022-03-08T05:11:39.168481Z",
     "start_time": "2022-03-08T03:43:35.467449Z"
    },
    "scrolled": false
   },
   "outputs": [
    {
     "name": "stderr",
     "output_type": "stream",
     "text": [
      "/media/nvme/segmentador/venvs/segmentador-LVT3tbR0-py3.9/lib/python3.9/site-packages/transformers/optimization.py:306: FutureWarning: This implementation of AdamW is deprecated and will be removed in a future version. Use thePyTorch implementation torch.optim.AdamW instead, or set `no_deprecation_warning=True` to disable this warning\n",
      "  warnings.warn(\n",
      "***** Running training *****\n",
      "  Num examples = 25870\n",
      "  Num Epochs = 2\n",
      "  Instantaneous batch size per device = 2\n",
      "  Total train batch size (w. parallel, distributed & accumulation) = 32\n",
      "  Gradient Accumulation steps = 16\n",
      "  Total optimization steps = 1616\n"
     ]
    },
    {
     "data": {
      "text/html": [
       "\n",
       "    <div>\n",
       "      \n",
       "      <progress value='1616' max='1616' style='width:300px; height:20px; vertical-align: middle;'></progress>\n",
       "      [1616/1616 1:28:01, Epoch 1/2]\n",
       "    </div>\n",
       "    <table border=\"1\" class=\"dataframe\">\n",
       "  <thead>\n",
       " <tr style=\"text-align: left;\">\n",
       "      <th>Step</th>\n",
       "      <th>Training Loss</th>\n",
       "      <th>Validation Loss</th>\n",
       "      <th>100</th>\n",
       "      <th> </th>\n",
       "      <th>Overall Precision</th>\n",
       "      <th>Overall Recall</th>\n",
       "      <th>Overall F1</th>\n",
       "      <th>Overall Accuracy</th>\n",
       "    </tr>\n",
       "  </thead>\n",
       "  <tbody>\n",
       "    <tr>\n",
       "      <td>161</td>\n",
       "      <td>0.118000</td>\n",
       "      <td>0.038035</td>\n",
       "      <td>{'precision': 0.0, 'recall': 0.0, 'f1': 0.0, 'number': 207437}</td>\n",
       "      <td>{'precision': 0.0, 'recall': 0.0, 'f1': 0.0, 'number': 204203}</td>\n",
       "      <td>0.000000</td>\n",
       "      <td>0.000000</td>\n",
       "      <td>0.000000</td>\n",
       "      <td>0.362965</td>\n",
       "    </tr>\n",
       "    <tr>\n",
       "      <td>322</td>\n",
       "      <td>0.034500</td>\n",
       "      <td>0.031536</td>\n",
       "      <td>{'precision': 0.0, 'recall': 0.0, 'f1': 0.0, 'number': 207437}</td>\n",
       "      <td>{'precision': 0.0, 'recall': 0.0, 'f1': 0.0, 'number': 204203}</td>\n",
       "      <td>0.000000</td>\n",
       "      <td>0.000000</td>\n",
       "      <td>0.000000</td>\n",
       "      <td>0.363848</td>\n",
       "    </tr>\n",
       "    <tr>\n",
       "      <td>483</td>\n",
       "      <td>0.029500</td>\n",
       "      <td>0.029496</td>\n",
       "      <td>{'precision': 0.0, 'recall': 0.0, 'f1': 0.0, 'number': 207437}</td>\n",
       "      <td>{'precision': 0.0, 'recall': 0.0, 'f1': 0.0, 'number': 204203}</td>\n",
       "      <td>0.000000</td>\n",
       "      <td>0.000000</td>\n",
       "      <td>0.000000</td>\n",
       "      <td>0.364001</td>\n",
       "    </tr>\n",
       "    <tr>\n",
       "      <td>644</td>\n",
       "      <td>0.027600</td>\n",
       "      <td>0.027714</td>\n",
       "      <td>{'precision': 0.0, 'recall': 0.0, 'f1': 0.0, 'number': 207437}</td>\n",
       "      <td>{'precision': 0.0, 'recall': 0.0, 'f1': 0.0, 'number': 204203}</td>\n",
       "      <td>0.000000</td>\n",
       "      <td>0.000000</td>\n",
       "      <td>0.000000</td>\n",
       "      <td>0.364286</td>\n",
       "    </tr>\n",
       "    <tr>\n",
       "      <td>805</td>\n",
       "      <td>0.026300</td>\n",
       "      <td>0.025121</td>\n",
       "      <td>{'precision': 0.0, 'recall': 0.0, 'f1': 0.0, 'number': 207437}</td>\n",
       "      <td>{'precision': 0.0, 'recall': 0.0, 'f1': 0.0, 'number': 204203}</td>\n",
       "      <td>0.000000</td>\n",
       "      <td>0.000000</td>\n",
       "      <td>0.000000</td>\n",
       "      <td>0.364566</td>\n",
       "    </tr>\n",
       "    <tr>\n",
       "      <td>966</td>\n",
       "      <td>0.023100</td>\n",
       "      <td>0.025644</td>\n",
       "      <td>{'precision': 0.0, 'recall': 0.0, 'f1': 0.0, 'number': 207437}</td>\n",
       "      <td>{'precision': 0.0, 'recall': 0.0, 'f1': 0.0, 'number': 204203}</td>\n",
       "      <td>0.000000</td>\n",
       "      <td>0.000000</td>\n",
       "      <td>0.000000</td>\n",
       "      <td>0.364671</td>\n",
       "    </tr>\n",
       "    <tr>\n",
       "      <td>1127</td>\n",
       "      <td>0.022100</td>\n",
       "      <td>0.023848</td>\n",
       "      <td>{'precision': 0.0, 'recall': 0.0, 'f1': 0.0, 'number': 207437}</td>\n",
       "      <td>{'precision': 0.0, 'recall': 0.0, 'f1': 0.0, 'number': 204203}</td>\n",
       "      <td>0.000000</td>\n",
       "      <td>0.000000</td>\n",
       "      <td>0.000000</td>\n",
       "      <td>0.364764</td>\n",
       "    </tr>\n",
       "    <tr>\n",
       "      <td>1288</td>\n",
       "      <td>0.021500</td>\n",
       "      <td>0.022456</td>\n",
       "      <td>{'precision': 0.0, 'recall': 0.0, 'f1': 0.0, 'number': 207437}</td>\n",
       "      <td>{'precision': 0.0, 'recall': 0.0, 'f1': 0.0, 'number': 204203}</td>\n",
       "      <td>0.000000</td>\n",
       "      <td>0.000000</td>\n",
       "      <td>0.000000</td>\n",
       "      <td>0.364876</td>\n",
       "    </tr>\n",
       "    <tr>\n",
       "      <td>1449</td>\n",
       "      <td>0.020500</td>\n",
       "      <td>0.021835</td>\n",
       "      <td>{'precision': 0.0, 'recall': 0.0, 'f1': 0.0, 'number': 207437}</td>\n",
       "      <td>{'precision': 0.0, 'recall': 0.0, 'f1': 0.0, 'number': 204203}</td>\n",
       "      <td>0.000000</td>\n",
       "      <td>0.000000</td>\n",
       "      <td>0.000000</td>\n",
       "      <td>0.364969</td>\n",
       "    </tr>\n",
       "    <tr>\n",
       "      <td>1610</td>\n",
       "      <td>0.020300</td>\n",
       "      <td>0.021497</td>\n",
       "      <td>{'precision': 0.0, 'recall': 0.0, 'f1': 0.0, 'number': 207437}</td>\n",
       "      <td>{'precision': 0.0, 'recall': 0.0, 'f1': 0.0, 'number': 204203}</td>\n",
       "      <td>0.000000</td>\n",
       "      <td>0.000000</td>\n",
       "      <td>0.000000</td>\n",
       "      <td>0.365002</td>\n",
       "    </tr>\n",
       "  </tbody>\n",
       "</table><p>"
      ],
      "text/plain": [
       "<IPython.core.display.HTML object>"
      ]
     },
     "metadata": {},
     "output_type": "display_data"
    },
    {
     "name": "stderr",
     "output_type": "stream",
     "text": [
      "***** Running Evaluation *****\n",
      "  Num examples = 3234\n",
      "  Batch size = 4\n",
      "/media/nvme/segmentador/venvs/segmentador-LVT3tbR0-py3.9/lib/python3.9/site-packages/seqeval/metrics/sequence_labeling.py:171: UserWarning: -100 seems not to be NE tag.\n",
      "  warnings.warn('{} seems not to be NE tag.'.format(chunk))\n",
      "/media/nvme/segmentador/venvs/segmentador-LVT3tbR0-py3.9/lib/python3.9/site-packages/seqeval/metrics/sequence_labeling.py:171: UserWarning: 0 seems not to be NE tag.\n",
      "  warnings.warn('{} seems not to be NE tag.'.format(chunk))\n",
      "/media/nvme/segmentador/venvs/segmentador-LVT3tbR0-py3.9/lib/python3.9/site-packages/seqeval/metrics/sequence_labeling.py:171: UserWarning: 3 seems not to be NE tag.\n",
      "  warnings.warn('{} seems not to be NE tag.'.format(chunk))\n",
      "/media/nvme/segmentador/venvs/segmentador-LVT3tbR0-py3.9/lib/python3.9/site-packages/seqeval/metrics/sequence_labeling.py:171: UserWarning: 1 seems not to be NE tag.\n",
      "  warnings.warn('{} seems not to be NE tag.'.format(chunk))\n",
      "/media/nvme/segmentador/venvs/segmentador-LVT3tbR0-py3.9/lib/python3.9/site-packages/seqeval/metrics/sequence_labeling.py:171: UserWarning: 2 seems not to be NE tag.\n",
      "  warnings.warn('{} seems not to be NE tag.'.format(chunk))\n",
      "/media/nvme/segmentador/venvs/segmentador-LVT3tbR0-py3.9/lib/python3.9/site-packages/seqeval/metrics/v1.py:57: UndefinedMetricWarning: Precision and F-score are ill-defined and being set to 0.0 in labels with no predicted samples. Use `zero_division` parameter to control this behavior.\n",
      "  _warn_prf(average, modifier, msg_start, len(result))\n",
      "/media/nvme/segmentador/venvs/segmentador-LVT3tbR0-py3.9/lib/python3.9/site-packages/seqeval/metrics/v1.py:57: UndefinedMetricWarning: Precision and F-score are ill-defined and being set to 0.0 due to no predicted samples. Use `zero_division` parameter to control this behavior.\n",
      "  _warn_prf(average, modifier, msg_start, len(result))\n",
      "Saving model checkpoint to ../segmenter_checkpoint/checkpoint-161\n",
      "Configuration saved in ../segmenter_checkpoint/checkpoint-161/config.json\n",
      "Model weights saved in ../segmenter_checkpoint/checkpoint-161/pytorch_model.bin\n",
      "tokenizer config file saved in ../segmenter_checkpoint/checkpoint-161/tokenizer_config.json\n",
      "Special tokens file saved in ../segmenter_checkpoint/checkpoint-161/special_tokens_map.json\n",
      "***** Running Evaluation *****\n",
      "  Num examples = 3234\n",
      "  Batch size = 4\n",
      "/media/nvme/segmentador/venvs/segmentador-LVT3tbR0-py3.9/lib/python3.9/site-packages/seqeval/metrics/sequence_labeling.py:171: UserWarning: -100 seems not to be NE tag.\n",
      "  warnings.warn('{} seems not to be NE tag.'.format(chunk))\n",
      "/media/nvme/segmentador/venvs/segmentador-LVT3tbR0-py3.9/lib/python3.9/site-packages/seqeval/metrics/sequence_labeling.py:171: UserWarning: 0 seems not to be NE tag.\n",
      "  warnings.warn('{} seems not to be NE tag.'.format(chunk))\n",
      "/media/nvme/segmentador/venvs/segmentador-LVT3tbR0-py3.9/lib/python3.9/site-packages/seqeval/metrics/sequence_labeling.py:171: UserWarning: 3 seems not to be NE tag.\n",
      "  warnings.warn('{} seems not to be NE tag.'.format(chunk))\n",
      "/media/nvme/segmentador/venvs/segmentador-LVT3tbR0-py3.9/lib/python3.9/site-packages/seqeval/metrics/sequence_labeling.py:171: UserWarning: 1 seems not to be NE tag.\n",
      "  warnings.warn('{} seems not to be NE tag.'.format(chunk))\n",
      "/media/nvme/segmentador/venvs/segmentador-LVT3tbR0-py3.9/lib/python3.9/site-packages/seqeval/metrics/sequence_labeling.py:171: UserWarning: 2 seems not to be NE tag.\n",
      "  warnings.warn('{} seems not to be NE tag.'.format(chunk))\n",
      "/media/nvme/segmentador/venvs/segmentador-LVT3tbR0-py3.9/lib/python3.9/site-packages/seqeval/metrics/v1.py:57: UndefinedMetricWarning: Precision and F-score are ill-defined and being set to 0.0 in labels with no predicted samples. Use `zero_division` parameter to control this behavior.\n",
      "  _warn_prf(average, modifier, msg_start, len(result))\n",
      "/media/nvme/segmentador/venvs/segmentador-LVT3tbR0-py3.9/lib/python3.9/site-packages/seqeval/metrics/v1.py:57: UndefinedMetricWarning: Precision and F-score are ill-defined and being set to 0.0 due to no predicted samples. Use `zero_division` parameter to control this behavior.\n",
      "  _warn_prf(average, modifier, msg_start, len(result))\n",
      "Saving model checkpoint to ../segmenter_checkpoint/checkpoint-322\n",
      "Configuration saved in ../segmenter_checkpoint/checkpoint-322/config.json\n",
      "Model weights saved in ../segmenter_checkpoint/checkpoint-322/pytorch_model.bin\n",
      "tokenizer config file saved in ../segmenter_checkpoint/checkpoint-322/tokenizer_config.json\n",
      "Special tokens file saved in ../segmenter_checkpoint/checkpoint-322/special_tokens_map.json\n",
      "***** Running Evaluation *****\n",
      "  Num examples = 3234\n",
      "  Batch size = 4\n",
      "/media/nvme/segmentador/venvs/segmentador-LVT3tbR0-py3.9/lib/python3.9/site-packages/seqeval/metrics/sequence_labeling.py:171: UserWarning: -100 seems not to be NE tag.\n",
      "  warnings.warn('{} seems not to be NE tag.'.format(chunk))\n",
      "/media/nvme/segmentador/venvs/segmentador-LVT3tbR0-py3.9/lib/python3.9/site-packages/seqeval/metrics/sequence_labeling.py:171: UserWarning: 0 seems not to be NE tag.\n",
      "  warnings.warn('{} seems not to be NE tag.'.format(chunk))\n",
      "/media/nvme/segmentador/venvs/segmentador-LVT3tbR0-py3.9/lib/python3.9/site-packages/seqeval/metrics/sequence_labeling.py:171: UserWarning: 3 seems not to be NE tag.\n",
      "  warnings.warn('{} seems not to be NE tag.'.format(chunk))\n",
      "/media/nvme/segmentador/venvs/segmentador-LVT3tbR0-py3.9/lib/python3.9/site-packages/seqeval/metrics/sequence_labeling.py:171: UserWarning: 1 seems not to be NE tag.\n",
      "  warnings.warn('{} seems not to be NE tag.'.format(chunk))\n",
      "/media/nvme/segmentador/venvs/segmentador-LVT3tbR0-py3.9/lib/python3.9/site-packages/seqeval/metrics/sequence_labeling.py:171: UserWarning: 2 seems not to be NE tag.\n",
      "  warnings.warn('{} seems not to be NE tag.'.format(chunk))\n",
      "/media/nvme/segmentador/venvs/segmentador-LVT3tbR0-py3.9/lib/python3.9/site-packages/seqeval/metrics/v1.py:57: UndefinedMetricWarning: Precision and F-score are ill-defined and being set to 0.0 in labels with no predicted samples. Use `zero_division` parameter to control this behavior.\n",
      "  _warn_prf(average, modifier, msg_start, len(result))\n",
      "/media/nvme/segmentador/venvs/segmentador-LVT3tbR0-py3.9/lib/python3.9/site-packages/seqeval/metrics/v1.py:57: UndefinedMetricWarning: Precision and F-score are ill-defined and being set to 0.0 due to no predicted samples. Use `zero_division` parameter to control this behavior.\n",
      "  _warn_prf(average, modifier, msg_start, len(result))\n",
      "Saving model checkpoint to ../segmenter_checkpoint/checkpoint-483\n",
      "Configuration saved in ../segmenter_checkpoint/checkpoint-483/config.json\n",
      "Model weights saved in ../segmenter_checkpoint/checkpoint-483/pytorch_model.bin\n",
      "tokenizer config file saved in ../segmenter_checkpoint/checkpoint-483/tokenizer_config.json\n",
      "Special tokens file saved in ../segmenter_checkpoint/checkpoint-483/special_tokens_map.json\n",
      "***** Running Evaluation *****\n",
      "  Num examples = 3234\n",
      "  Batch size = 4\n",
      "/media/nvme/segmentador/venvs/segmentador-LVT3tbR0-py3.9/lib/python3.9/site-packages/seqeval/metrics/sequence_labeling.py:171: UserWarning: -100 seems not to be NE tag.\n",
      "  warnings.warn('{} seems not to be NE tag.'.format(chunk))\n",
      "/media/nvme/segmentador/venvs/segmentador-LVT3tbR0-py3.9/lib/python3.9/site-packages/seqeval/metrics/sequence_labeling.py:171: UserWarning: 0 seems not to be NE tag.\n",
      "  warnings.warn('{} seems not to be NE tag.'.format(chunk))\n",
      "/media/nvme/segmentador/venvs/segmentador-LVT3tbR0-py3.9/lib/python3.9/site-packages/seqeval/metrics/sequence_labeling.py:171: UserWarning: 3 seems not to be NE tag.\n",
      "  warnings.warn('{} seems not to be NE tag.'.format(chunk))\n",
      "/media/nvme/segmentador/venvs/segmentador-LVT3tbR0-py3.9/lib/python3.9/site-packages/seqeval/metrics/sequence_labeling.py:171: UserWarning: 1 seems not to be NE tag.\n",
      "  warnings.warn('{} seems not to be NE tag.'.format(chunk))\n",
      "/media/nvme/segmentador/venvs/segmentador-LVT3tbR0-py3.9/lib/python3.9/site-packages/seqeval/metrics/sequence_labeling.py:171: UserWarning: 2 seems not to be NE tag.\n",
      "  warnings.warn('{} seems not to be NE tag.'.format(chunk))\n",
      "/media/nvme/segmentador/venvs/segmentador-LVT3tbR0-py3.9/lib/python3.9/site-packages/seqeval/metrics/v1.py:57: UndefinedMetricWarning: Precision and F-score are ill-defined and being set to 0.0 in labels with no predicted samples. Use `zero_division` parameter to control this behavior.\n",
      "  _warn_prf(average, modifier, msg_start, len(result))\n"
     ]
    },
    {
     "name": "stderr",
     "output_type": "stream",
     "text": [
      "/media/nvme/segmentador/venvs/segmentador-LVT3tbR0-py3.9/lib/python3.9/site-packages/seqeval/metrics/v1.py:57: UndefinedMetricWarning: Precision and F-score are ill-defined and being set to 0.0 due to no predicted samples. Use `zero_division` parameter to control this behavior.\n",
      "  _warn_prf(average, modifier, msg_start, len(result))\n",
      "Saving model checkpoint to ../segmenter_checkpoint/checkpoint-644\n",
      "Configuration saved in ../segmenter_checkpoint/checkpoint-644/config.json\n",
      "Model weights saved in ../segmenter_checkpoint/checkpoint-644/pytorch_model.bin\n",
      "tokenizer config file saved in ../segmenter_checkpoint/checkpoint-644/tokenizer_config.json\n",
      "Special tokens file saved in ../segmenter_checkpoint/checkpoint-644/special_tokens_map.json\n",
      "***** Running Evaluation *****\n",
      "  Num examples = 3234\n",
      "  Batch size = 4\n",
      "/media/nvme/segmentador/venvs/segmentador-LVT3tbR0-py3.9/lib/python3.9/site-packages/seqeval/metrics/sequence_labeling.py:171: UserWarning: -100 seems not to be NE tag.\n",
      "  warnings.warn('{} seems not to be NE tag.'.format(chunk))\n",
      "/media/nvme/segmentador/venvs/segmentador-LVT3tbR0-py3.9/lib/python3.9/site-packages/seqeval/metrics/sequence_labeling.py:171: UserWarning: 0 seems not to be NE tag.\n",
      "  warnings.warn('{} seems not to be NE tag.'.format(chunk))\n",
      "/media/nvme/segmentador/venvs/segmentador-LVT3tbR0-py3.9/lib/python3.9/site-packages/seqeval/metrics/sequence_labeling.py:171: UserWarning: 3 seems not to be NE tag.\n",
      "  warnings.warn('{} seems not to be NE tag.'.format(chunk))\n",
      "/media/nvme/segmentador/venvs/segmentador-LVT3tbR0-py3.9/lib/python3.9/site-packages/seqeval/metrics/sequence_labeling.py:171: UserWarning: 1 seems not to be NE tag.\n",
      "  warnings.warn('{} seems not to be NE tag.'.format(chunk))\n",
      "/media/nvme/segmentador/venvs/segmentador-LVT3tbR0-py3.9/lib/python3.9/site-packages/seqeval/metrics/sequence_labeling.py:171: UserWarning: 2 seems not to be NE tag.\n",
      "  warnings.warn('{} seems not to be NE tag.'.format(chunk))\n",
      "/media/nvme/segmentador/venvs/segmentador-LVT3tbR0-py3.9/lib/python3.9/site-packages/seqeval/metrics/v1.py:57: UndefinedMetricWarning: Precision and F-score are ill-defined and being set to 0.0 in labels with no predicted samples. Use `zero_division` parameter to control this behavior.\n",
      "  _warn_prf(average, modifier, msg_start, len(result))\n",
      "/media/nvme/segmentador/venvs/segmentador-LVT3tbR0-py3.9/lib/python3.9/site-packages/seqeval/metrics/v1.py:57: UndefinedMetricWarning: Precision and F-score are ill-defined and being set to 0.0 due to no predicted samples. Use `zero_division` parameter to control this behavior.\n",
      "  _warn_prf(average, modifier, msg_start, len(result))\n",
      "Saving model checkpoint to ../segmenter_checkpoint/checkpoint-805\n",
      "Configuration saved in ../segmenter_checkpoint/checkpoint-805/config.json\n",
      "Model weights saved in ../segmenter_checkpoint/checkpoint-805/pytorch_model.bin\n",
      "tokenizer config file saved in ../segmenter_checkpoint/checkpoint-805/tokenizer_config.json\n",
      "Special tokens file saved in ../segmenter_checkpoint/checkpoint-805/special_tokens_map.json\n",
      "***** Running Evaluation *****\n",
      "  Num examples = 3234\n",
      "  Batch size = 4\n",
      "/media/nvme/segmentador/venvs/segmentador-LVT3tbR0-py3.9/lib/python3.9/site-packages/seqeval/metrics/sequence_labeling.py:171: UserWarning: -100 seems not to be NE tag.\n",
      "  warnings.warn('{} seems not to be NE tag.'.format(chunk))\n",
      "/media/nvme/segmentador/venvs/segmentador-LVT3tbR0-py3.9/lib/python3.9/site-packages/seqeval/metrics/sequence_labeling.py:171: UserWarning: 0 seems not to be NE tag.\n",
      "  warnings.warn('{} seems not to be NE tag.'.format(chunk))\n",
      "/media/nvme/segmentador/venvs/segmentador-LVT3tbR0-py3.9/lib/python3.9/site-packages/seqeval/metrics/sequence_labeling.py:171: UserWarning: 3 seems not to be NE tag.\n",
      "  warnings.warn('{} seems not to be NE tag.'.format(chunk))\n",
      "/media/nvme/segmentador/venvs/segmentador-LVT3tbR0-py3.9/lib/python3.9/site-packages/seqeval/metrics/sequence_labeling.py:171: UserWarning: 1 seems not to be NE tag.\n",
      "  warnings.warn('{} seems not to be NE tag.'.format(chunk))\n",
      "/media/nvme/segmentador/venvs/segmentador-LVT3tbR0-py3.9/lib/python3.9/site-packages/seqeval/metrics/sequence_labeling.py:171: UserWarning: 2 seems not to be NE tag.\n",
      "  warnings.warn('{} seems not to be NE tag.'.format(chunk))\n",
      "/media/nvme/segmentador/venvs/segmentador-LVT3tbR0-py3.9/lib/python3.9/site-packages/seqeval/metrics/v1.py:57: UndefinedMetricWarning: Precision and F-score are ill-defined and being set to 0.0 in labels with no predicted samples. Use `zero_division` parameter to control this behavior.\n",
      "  _warn_prf(average, modifier, msg_start, len(result))\n",
      "/media/nvme/segmentador/venvs/segmentador-LVT3tbR0-py3.9/lib/python3.9/site-packages/seqeval/metrics/v1.py:57: UndefinedMetricWarning: Precision and F-score are ill-defined and being set to 0.0 due to no predicted samples. Use `zero_division` parameter to control this behavior.\n",
      "  _warn_prf(average, modifier, msg_start, len(result))\n",
      "Saving model checkpoint to ../segmenter_checkpoint/checkpoint-966\n",
      "Configuration saved in ../segmenter_checkpoint/checkpoint-966/config.json\n",
      "Model weights saved in ../segmenter_checkpoint/checkpoint-966/pytorch_model.bin\n",
      "tokenizer config file saved in ../segmenter_checkpoint/checkpoint-966/tokenizer_config.json\n",
      "Special tokens file saved in ../segmenter_checkpoint/checkpoint-966/special_tokens_map.json\n",
      "Deleting older checkpoint [../segmenter_checkpoint/checkpoint-161] due to args.save_total_limit\n",
      "***** Running Evaluation *****\n",
      "  Num examples = 3234\n",
      "  Batch size = 4\n",
      "/media/nvme/segmentador/venvs/segmentador-LVT3tbR0-py3.9/lib/python3.9/site-packages/seqeval/metrics/sequence_labeling.py:171: UserWarning: -100 seems not to be NE tag.\n",
      "  warnings.warn('{} seems not to be NE tag.'.format(chunk))\n",
      "/media/nvme/segmentador/venvs/segmentador-LVT3tbR0-py3.9/lib/python3.9/site-packages/seqeval/metrics/sequence_labeling.py:171: UserWarning: 0 seems not to be NE tag.\n",
      "  warnings.warn('{} seems not to be NE tag.'.format(chunk))\n",
      "/media/nvme/segmentador/venvs/segmentador-LVT3tbR0-py3.9/lib/python3.9/site-packages/seqeval/metrics/sequence_labeling.py:171: UserWarning: 3 seems not to be NE tag.\n",
      "  warnings.warn('{} seems not to be NE tag.'.format(chunk))\n",
      "/media/nvme/segmentador/venvs/segmentador-LVT3tbR0-py3.9/lib/python3.9/site-packages/seqeval/metrics/sequence_labeling.py:171: UserWarning: 1 seems not to be NE tag.\n",
      "  warnings.warn('{} seems not to be NE tag.'.format(chunk))\n",
      "/media/nvme/segmentador/venvs/segmentador-LVT3tbR0-py3.9/lib/python3.9/site-packages/seqeval/metrics/sequence_labeling.py:171: UserWarning: 2 seems not to be NE tag.\n",
      "  warnings.warn('{} seems not to be NE tag.'.format(chunk))\n",
      "/media/nvme/segmentador/venvs/segmentador-LVT3tbR0-py3.9/lib/python3.9/site-packages/seqeval/metrics/v1.py:57: UndefinedMetricWarning: Precision and F-score are ill-defined and being set to 0.0 in labels with no predicted samples. Use `zero_division` parameter to control this behavior.\n",
      "  _warn_prf(average, modifier, msg_start, len(result))\n",
      "/media/nvme/segmentador/venvs/segmentador-LVT3tbR0-py3.9/lib/python3.9/site-packages/seqeval/metrics/v1.py:57: UndefinedMetricWarning: Precision and F-score are ill-defined and being set to 0.0 due to no predicted samples. Use `zero_division` parameter to control this behavior.\n",
      "  _warn_prf(average, modifier, msg_start, len(result))\n",
      "Saving model checkpoint to ../segmenter_checkpoint/checkpoint-1127\n",
      "Configuration saved in ../segmenter_checkpoint/checkpoint-1127/config.json\n",
      "Model weights saved in ../segmenter_checkpoint/checkpoint-1127/pytorch_model.bin\n",
      "tokenizer config file saved in ../segmenter_checkpoint/checkpoint-1127/tokenizer_config.json\n",
      "Special tokens file saved in ../segmenter_checkpoint/checkpoint-1127/special_tokens_map.json\n",
      "Deleting older checkpoint [../segmenter_checkpoint/checkpoint-322] due to args.save_total_limit\n",
      "***** Running Evaluation *****\n",
      "  Num examples = 3234\n",
      "  Batch size = 4\n",
      "/media/nvme/segmentador/venvs/segmentador-LVT3tbR0-py3.9/lib/python3.9/site-packages/seqeval/metrics/sequence_labeling.py:171: UserWarning: -100 seems not to be NE tag.\n",
      "  warnings.warn('{} seems not to be NE tag.'.format(chunk))\n",
      "/media/nvme/segmentador/venvs/segmentador-LVT3tbR0-py3.9/lib/python3.9/site-packages/seqeval/metrics/sequence_labeling.py:171: UserWarning: 0 seems not to be NE tag.\n",
      "  warnings.warn('{} seems not to be NE tag.'.format(chunk))\n",
      "/media/nvme/segmentador/venvs/segmentador-LVT3tbR0-py3.9/lib/python3.9/site-packages/seqeval/metrics/sequence_labeling.py:171: UserWarning: 3 seems not to be NE tag.\n",
      "  warnings.warn('{} seems not to be NE tag.'.format(chunk))\n",
      "/media/nvme/segmentador/venvs/segmentador-LVT3tbR0-py3.9/lib/python3.9/site-packages/seqeval/metrics/sequence_labeling.py:171: UserWarning: 1 seems not to be NE tag.\n",
      "  warnings.warn('{} seems not to be NE tag.'.format(chunk))\n",
      "/media/nvme/segmentador/venvs/segmentador-LVT3tbR0-py3.9/lib/python3.9/site-packages/seqeval/metrics/sequence_labeling.py:171: UserWarning: 2 seems not to be NE tag.\n",
      "  warnings.warn('{} seems not to be NE tag.'.format(chunk))\n"
     ]
    },
    {
     "name": "stderr",
     "output_type": "stream",
     "text": [
      "/media/nvme/segmentador/venvs/segmentador-LVT3tbR0-py3.9/lib/python3.9/site-packages/seqeval/metrics/v1.py:57: UndefinedMetricWarning: Precision and F-score are ill-defined and being set to 0.0 in labels with no predicted samples. Use `zero_division` parameter to control this behavior.\n",
      "  _warn_prf(average, modifier, msg_start, len(result))\n",
      "/media/nvme/segmentador/venvs/segmentador-LVT3tbR0-py3.9/lib/python3.9/site-packages/seqeval/metrics/v1.py:57: UndefinedMetricWarning: Precision and F-score are ill-defined and being set to 0.0 due to no predicted samples. Use `zero_division` parameter to control this behavior.\n",
      "  _warn_prf(average, modifier, msg_start, len(result))\n",
      "Saving model checkpoint to ../segmenter_checkpoint/checkpoint-1288\n",
      "Configuration saved in ../segmenter_checkpoint/checkpoint-1288/config.json\n",
      "Model weights saved in ../segmenter_checkpoint/checkpoint-1288/pytorch_model.bin\n",
      "tokenizer config file saved in ../segmenter_checkpoint/checkpoint-1288/tokenizer_config.json\n",
      "Special tokens file saved in ../segmenter_checkpoint/checkpoint-1288/special_tokens_map.json\n",
      "Deleting older checkpoint [../segmenter_checkpoint/checkpoint-483] due to args.save_total_limit\n",
      "***** Running Evaluation *****\n",
      "  Num examples = 3234\n",
      "  Batch size = 4\n",
      "/media/nvme/segmentador/venvs/segmentador-LVT3tbR0-py3.9/lib/python3.9/site-packages/seqeval/metrics/sequence_labeling.py:171: UserWarning: -100 seems not to be NE tag.\n",
      "  warnings.warn('{} seems not to be NE tag.'.format(chunk))\n",
      "/media/nvme/segmentador/venvs/segmentador-LVT3tbR0-py3.9/lib/python3.9/site-packages/seqeval/metrics/sequence_labeling.py:171: UserWarning: 0 seems not to be NE tag.\n",
      "  warnings.warn('{} seems not to be NE tag.'.format(chunk))\n",
      "/media/nvme/segmentador/venvs/segmentador-LVT3tbR0-py3.9/lib/python3.9/site-packages/seqeval/metrics/sequence_labeling.py:171: UserWarning: 3 seems not to be NE tag.\n",
      "  warnings.warn('{} seems not to be NE tag.'.format(chunk))\n",
      "/media/nvme/segmentador/venvs/segmentador-LVT3tbR0-py3.9/lib/python3.9/site-packages/seqeval/metrics/sequence_labeling.py:171: UserWarning: 1 seems not to be NE tag.\n",
      "  warnings.warn('{} seems not to be NE tag.'.format(chunk))\n",
      "/media/nvme/segmentador/venvs/segmentador-LVT3tbR0-py3.9/lib/python3.9/site-packages/seqeval/metrics/sequence_labeling.py:171: UserWarning: 2 seems not to be NE tag.\n",
      "  warnings.warn('{} seems not to be NE tag.'.format(chunk))\n",
      "/media/nvme/segmentador/venvs/segmentador-LVT3tbR0-py3.9/lib/python3.9/site-packages/seqeval/metrics/v1.py:57: UndefinedMetricWarning: Precision and F-score are ill-defined and being set to 0.0 in labels with no predicted samples. Use `zero_division` parameter to control this behavior.\n",
      "  _warn_prf(average, modifier, msg_start, len(result))\n",
      "/media/nvme/segmentador/venvs/segmentador-LVT3tbR0-py3.9/lib/python3.9/site-packages/seqeval/metrics/v1.py:57: UndefinedMetricWarning: Precision and F-score are ill-defined and being set to 0.0 due to no predicted samples. Use `zero_division` parameter to control this behavior.\n",
      "  _warn_prf(average, modifier, msg_start, len(result))\n",
      "Saving model checkpoint to ../segmenter_checkpoint/checkpoint-1449\n",
      "Configuration saved in ../segmenter_checkpoint/checkpoint-1449/config.json\n",
      "Model weights saved in ../segmenter_checkpoint/checkpoint-1449/pytorch_model.bin\n",
      "tokenizer config file saved in ../segmenter_checkpoint/checkpoint-1449/tokenizer_config.json\n",
      "Special tokens file saved in ../segmenter_checkpoint/checkpoint-1449/special_tokens_map.json\n",
      "Deleting older checkpoint [../segmenter_checkpoint/checkpoint-644] due to args.save_total_limit\n",
      "***** Running Evaluation *****\n",
      "  Num examples = 3234\n",
      "  Batch size = 4\n",
      "/media/nvme/segmentador/venvs/segmentador-LVT3tbR0-py3.9/lib/python3.9/site-packages/seqeval/metrics/sequence_labeling.py:171: UserWarning: -100 seems not to be NE tag.\n",
      "  warnings.warn('{} seems not to be NE tag.'.format(chunk))\n",
      "/media/nvme/segmentador/venvs/segmentador-LVT3tbR0-py3.9/lib/python3.9/site-packages/seqeval/metrics/sequence_labeling.py:171: UserWarning: 0 seems not to be NE tag.\n",
      "  warnings.warn('{} seems not to be NE tag.'.format(chunk))\n",
      "/media/nvme/segmentador/venvs/segmentador-LVT3tbR0-py3.9/lib/python3.9/site-packages/seqeval/metrics/sequence_labeling.py:171: UserWarning: 3 seems not to be NE tag.\n",
      "  warnings.warn('{} seems not to be NE tag.'.format(chunk))\n",
      "/media/nvme/segmentador/venvs/segmentador-LVT3tbR0-py3.9/lib/python3.9/site-packages/seqeval/metrics/sequence_labeling.py:171: UserWarning: 1 seems not to be NE tag.\n",
      "  warnings.warn('{} seems not to be NE tag.'.format(chunk))\n",
      "/media/nvme/segmentador/venvs/segmentador-LVT3tbR0-py3.9/lib/python3.9/site-packages/seqeval/metrics/sequence_labeling.py:171: UserWarning: 2 seems not to be NE tag.\n",
      "  warnings.warn('{} seems not to be NE tag.'.format(chunk))\n",
      "/media/nvme/segmentador/venvs/segmentador-LVT3tbR0-py3.9/lib/python3.9/site-packages/seqeval/metrics/v1.py:57: UndefinedMetricWarning: Precision and F-score are ill-defined and being set to 0.0 in labels with no predicted samples. Use `zero_division` parameter to control this behavior.\n",
      "  _warn_prf(average, modifier, msg_start, len(result))\n",
      "/media/nvme/segmentador/venvs/segmentador-LVT3tbR0-py3.9/lib/python3.9/site-packages/seqeval/metrics/v1.py:57: UndefinedMetricWarning: Precision and F-score are ill-defined and being set to 0.0 due to no predicted samples. Use `zero_division` parameter to control this behavior.\n",
      "  _warn_prf(average, modifier, msg_start, len(result))\n",
      "Saving model checkpoint to ../segmenter_checkpoint/checkpoint-1610\n",
      "Configuration saved in ../segmenter_checkpoint/checkpoint-1610/config.json\n",
      "Model weights saved in ../segmenter_checkpoint/checkpoint-1610/pytorch_model.bin\n",
      "tokenizer config file saved in ../segmenter_checkpoint/checkpoint-1610/tokenizer_config.json\n",
      "Special tokens file saved in ../segmenter_checkpoint/checkpoint-1610/special_tokens_map.json\n",
      "Deleting older checkpoint [../segmenter_checkpoint/checkpoint-805] due to args.save_total_limit\n",
      "\n",
      "\n",
      "Training completed. Do not forget to share your model on huggingface.co/models =)\n",
      "\n",
      "\n",
      "Loading best model from ../segmenter_checkpoint/checkpoint-1610 (score: 0.021497251465916634).\n"
     ]
    },
    {
     "data": {
      "text/plain": [
       "TrainOutput(global_step=1616, training_loss=0.034285864553017784, metrics={'train_runtime': 5283.6887, 'train_samples_per_second': 9.792, 'train_steps_per_second': 0.306, 'total_flos': 3189391672724352.0, 'train_loss': 0.034285864553017784, 'epoch': 2.0})"
      ]
     },
     "execution_count": 6,
     "metadata": {},
     "output_type": "execute_result"
    }
   ],
   "source": [
    "trainer.train()"
   ]
  },
  {
   "cell_type": "code",
   "execution_count": 7,
   "id": "1c07c025",
   "metadata": {
    "ExecuteTime": {
     "end_time": "2022-03-08T05:11:39.247368Z",
     "start_time": "2022-03-08T05:11:39.169930Z"
    }
   },
   "outputs": [
    {
     "name": "stderr",
     "output_type": "stream",
     "text": [
      "Configuration saved in ../pretrained_segmenter_model/config.json\n",
      "Model weights saved in ../pretrained_segmenter_model/pytorch_model.bin\n",
      "tokenizer config file saved in ../pretrained_segmenter_model/tokenizer_config.json\n",
      "Special tokens file saved in ../pretrained_segmenter_model/special_tokens_map.json\n"
     ]
    }
   ],
   "source": [
    "seg_model.save_pretrained(TRAINED_MODEL_SAVE_PATH)"
   ]
  },
  {
   "cell_type": "code",
   "execution_count": 14,
   "id": "d1dc7645",
   "metadata": {
    "ExecuteTime": {
     "end_time": "2022-03-08T05:22:49.815505Z",
     "start_time": "2022-03-08T05:20:15.544742Z"
    }
   },
   "outputs": [
    {
     "name": "stderr",
     "output_type": "stream",
     "text": [
      "***** Running Prediction *****\n",
      "  Num examples = 3234\n",
      "  Batch size = 4\n"
     ]
    },
    {
     "data": {
      "text/html": [
       "\n",
       "    <div>\n",
       "      \n",
       "      <progress value='809' max='809' style='width:300px; height:20px; vertical-align: middle;'></progress>\n",
       "      [809/809 02:00]\n",
       "    </div>\n",
       "    "
      ],
      "text/plain": [
       "<IPython.core.display.HTML object>"
      ]
     },
     "metadata": {},
     "output_type": "display_data"
    },
    {
     "name": "stderr",
     "output_type": "stream",
     "text": [
      "/media/nvme/segmentador/venvs/segmentador-LVT3tbR0-py3.9/lib/python3.9/site-packages/seqeval/metrics/v1.py:57: UndefinedMetricWarning: Recall and F-score are ill-defined and being set to 0.0 due to no true samples. Use `zero_division` parameter to control this behavior.\n",
      "  _warn_prf(average, modifier, msg_start, len(result))\n",
      "/media/nvme/segmentador/venvs/segmentador-LVT3tbR0-py3.9/lib/python3.9/site-packages/numpy/lib/function_base.py:495: RuntimeWarning: Mean of empty slice.\n",
      "  avg = a.mean(axis)\n",
      "/media/nvme/segmentador/venvs/segmentador-LVT3tbR0-py3.9/lib/python3.9/site-packages/numpy/core/_methods.py:189: RuntimeWarning: invalid value encountered in double_scalars\n",
      "  ret = ret.dtype.type(ret / rcount)\n"
     ]
    }
   ],
   "source": [
    "y_test_preds = trainer.predict(df_tokenized_split[\"test\"])"
   ]
  },
  {
   "cell_type": "code",
   "execution_count": null,
   "id": "53e0aee9",
   "metadata": {
    "ExecuteTime": {
     "end_time": "2022-03-08T05:18:11.895263Z",
     "start_time": "2022-03-08T05:18:11.895252Z"
    }
   },
   "outputs": [],
   "source": [
    "## Original tokenizer\n",
    "\"\"\"\n",
    "{'test_loss': 1.5868496894836426,\n",
    " 'test_100': {'precision': 0.0, 'recall': 0.0, 'f1': 0.0, 'number': 214714},\n",
    " 'test__': {'precision': 0.0, 'recall': 0.0, 'f1': 0.0, 'number': 211480},\n",
    " 'test_overall_precision': 0.0,\n",
    " 'test_overall_recall': 0.0,\n",
    " 'test_overall_f1': 0.0,\n",
    " 'test_overall_accuracy': 0.047600929576376,\n",
    " 'test_runtime': 202.4429,\n",
    " 'test_samples_per_second': 15.975,\n",
    " 'test_steps_per_second': 3.996}\n",
    "\"\"\""
   ]
  },
  {
   "cell_type": "code",
   "execution_count": null,
   "id": "6518cfad",
   "metadata": {
    "ExecuteTime": {
     "end_time": "2022-03-08T05:18:11.896191Z",
     "start_time": "2022-03-08T05:18:11.896180Z"
    }
   },
   "outputs": [],
   "source": [
    "y_test_preds.metrics"
   ]
  }
 ],
 "metadata": {
  "kernelspec": {
   "display_name": "Python 3",
   "language": "python",
   "name": "python3"
  },
  "language_info": {
   "codemirror_mode": {
    "name": "ipython",
    "version": 3
   },
   "file_extension": ".py",
   "mimetype": "text/x-python",
   "name": "python",
   "nbconvert_exporter": "python",
   "pygments_lexer": "ipython3",
   "version": "3.9.10"
  },
  "latex_envs": {
   "LaTeX_envs_menu_present": true,
   "autoclose": false,
   "autocomplete": true,
   "bibliofile": "biblio.bib",
   "cite_by": "apalike",
   "current_citInitial": 1,
   "eqLabelWithNumbers": true,
   "eqNumInitial": 1,
   "hotkeys": {
    "equation": "Ctrl-E",
    "itemize": "Ctrl-I"
   },
   "labels_anchors": false,
   "latex_user_defs": false,
   "report_style_numbering": false,
   "user_envs_cfg": false
  },
  "toc": {
   "base_numbering": 1,
   "nav_menu": {},
   "number_sections": true,
   "sideBar": true,
   "skip_h1_title": false,
   "title_cell": "Table of Contents",
   "title_sidebar": "Contents",
   "toc_cell": false,
   "toc_position": {},
   "toc_section_display": true,
   "toc_window_display": false
  }
 },
 "nbformat": 4,
 "nbformat_minor": 5
}
