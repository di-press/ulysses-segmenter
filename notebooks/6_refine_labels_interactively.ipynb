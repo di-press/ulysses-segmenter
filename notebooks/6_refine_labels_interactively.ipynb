{
 "cells": [
  {
   "cell_type": "markdown",
   "id": "22c5fcc4",
   "metadata": {},
   "source": [
    "## Iteractively refine dataset labels"
   ]
  },
  {
   "cell_type": "code",
   "execution_count": 1,
   "id": "a37d4994",
   "metadata": {
    "ExecuteTime": {
     "end_time": "2022-03-25T17:24:09.915956Z",
     "start_time": "2022-03-25T17:24:08.368077Z"
    }
   },
   "outputs": [
    {
     "data": {
      "application/vnd.jupyter.widget-view+json": {
       "model_id": "da075b68049e4559b754991a76cad7da",
       "version_major": 2,
       "version_minor": 0
      },
      "text/plain": [
       "Instances until next dump::   0%|          | 0/20 [00:00<?, ?it/s]"
      ]
     },
     "metadata": {},
     "output_type": "display_data"
    }
   ],
   "source": [
    "import os\n",
    "import pathlib\n",
    "import typing as t\n",
    "import random\n",
    "import requests\n",
    "import json as json_package\n",
    "import collections\n",
    "import glob\n",
    "\n",
    "import IPython.display\n",
    "import ipywidgets\n",
    "import datasets\n",
    "import tokenizers\n",
    "import ipywidgets\n",
    "import colorama\n",
    "import tqdm\n",
    "\n",
    "import segmentador\n",
    "from config import *\n",
    "import interactive_labeling\n",
    "\n",
    "\n",
    "%load_ext autoreload\n",
    "%autoreload 2\n",
    "\n",
    "\n",
    "CN = colorama.Fore.RED\n",
    "CT = colorama.Fore.YELLOW\n",
    "CLN = colorama.Fore.CYAN\n",
    "CSR = colorama.Style.RESET_ALL\n",
    "\n",
    "\n",
    "VOCAB_SIZE = 6000\n",
    "AUTOSAVE_IN_N_INSTANCES = 20\n",
    "\n",
    "\n",
    "DATASET_SPLIT = \"test\"\n",
    "CACHED_INDEX_FILENAME = \"refined_indices.csv\"\n",
    "BRUTE_DATASET_DIR = \"../data\"\n",
    "\n",
    "TARGET_DATASET_NAME = f\"df_tokenized_split_0_120000_{VOCAB_SIZE}\"\n",
    "\n",
    "REFINED_DATASET_DIR = os.path.join(BRUTE_DATASET_DIR, \"refined_datasets\", TARGET_DATASET_NAME)\n",
    "\n",
    "BRUTE_DATASET_URI = os.path.join(BRUTE_DATASET_DIR, TARGET_DATASET_NAME)\n",
    "CACHED_INDEX_URI = os.path.join(REFINED_DATASET_DIR, CACHED_INDEX_FILENAME)\n",
    "\n",
    "\n",
    "assert BRUTE_DATASET_URI != REFINED_DATASET_DIR\n",
    "\n",
    "\n",
    "logit_model = segmentador.BERTSegmenter(\n",
    "    uri_model=f\"../pretrained_segmenter_model/4_{VOCAB_SIZE}_layer_model\",\n",
    "    device=\"cpu\",\n",
    ")\n",
    "\n",
    "pbar_dump = tqdm.auto.tqdm(desc=\"Instances until next dump:\", total=AUTOSAVE_IN_N_INSTANCES)\n",
    "it_counter = 0\n",
    "\n",
    "random.seed(17)"
   ]
  },
  {
   "cell_type": "code",
   "execution_count": 2,
   "id": "ce45e6a4",
   "metadata": {
    "ExecuteTime": {
     "end_time": "2022-03-25T17:24:11.799168Z",
     "start_time": "2022-03-25T17:24:11.697703Z"
    }
   },
   "outputs": [
    {
     "data": {
      "text/plain": [
       "6000"
      ]
     },
     "execution_count": 2,
     "metadata": {},
     "output_type": "execute_result"
    }
   ],
   "source": [
    "tokenizer = tokenizers.Tokenizer.from_file(f\"../tokenizers/{VOCAB_SIZE}_subwords/tokenizer.json\")\n",
    "tokenizer.get_vocab_size()"
   ]
  },
  {
   "cell_type": "markdown",
   "id": "a6686a2d",
   "metadata": {},
   "source": [
    "## Load dataset"
   ]
  },
  {
   "cell_type": "code",
   "execution_count": 3,
   "id": "cd40bb67",
   "metadata": {
    "ExecuteTime": {
     "end_time": "2022-03-25T17:24:13.406775Z",
     "start_time": "2022-03-25T17:24:13.149162Z"
    }
   },
   "outputs": [
    {
     "name": "stdout",
     "output_type": "stream",
     "text": [
      "Loaded 233 indices from disk.\n"
     ]
    },
    {
     "data": {
      "text/plain": [
       "DatasetDict({\n",
       "    train: Dataset({\n",
       "        features: ['labels', 'input_ids', 'token_type_ids', 'attention_mask'],\n",
       "        num_rows: 114884\n",
       "    })\n",
       "    eval: Dataset({\n",
       "        features: ['labels', 'input_ids', 'token_type_ids', 'attention_mask'],\n",
       "        num_rows: 14361\n",
       "    })\n",
       "    test: Dataset({\n",
       "        features: ['labels', 'input_ids', 'token_type_ids', 'attention_mask'],\n",
       "        num_rows: 14361\n",
       "    })\n",
       "})"
      ]
     },
     "execution_count": 3,
     "metadata": {},
     "output_type": "execute_result"
    }
   ],
   "source": [
    "try:    \n",
    "    with open(CACHED_INDEX_URI, \"r\") as f_index:\n",
    "        cached_indices = set(map(int, f_index.read().split(\",\")))\n",
    "        \n",
    "    print(f\"Loaded {len(cached_indices)} indices from disk.\")\n",
    "\n",
    "except FileNotFoundError:\n",
    "    cached_indices = set()\n",
    "    \n",
    "    \n",
    "new_refined_instances = collections.defaultdict(list)\n",
    "df_brute = datasets.load_from_disk(BRUTE_DATASET_URI)\n",
    "df_brute"
   ]
  },
  {
   "cell_type": "markdown",
   "id": "b82efc8c",
   "metadata": {},
   "source": [
    "## Iteractive refinement"
   ]
  },
  {
   "cell_type": "code",
   "execution_count": 194,
   "id": "7012a8e2",
   "metadata": {
    "ExecuteTime": {
     "end_time": "2022-03-25T19:20:06.383305Z",
     "start_time": "2022-03-25T19:20:01.413244Z"
    }
   },
   "outputs": [],
   "source": [
    "df_split = df_brute[DATASET_SPLIT]\n",
    "\n",
    "fn_rand = lambda: random.randint(0, df_split.num_rows)\n",
    "\n",
    "df_view_labels = df_split[\"labels\"]\n",
    "df_view_input_ids = df_split[\"input_ids\"]\n",
    "\n",
    "cls2id = {\n",
    "    \"no-op\": 0,\n",
    "    \"seg\": 1,\n",
    "    \"n-start\": 2,\n",
    "    \"n-end\": 3,\n",
    "}\n",
    "\n",
    "def print_labels(input_ids, labels, input_is_tokens: bool = False):\n",
    "    seg_counter = 1\n",
    "    \n",
    "    print(end=CSR)\n",
    "    print(end=f\"{CLN}{seg_counter}.{CSR} \")\n",
    "    \n",
    "    if not input_is_tokens:\n",
    "        tokens = list(map(tokenizer.id_to_token, input_ids))\n",
    "    \n",
    "    else:\n",
    "        tokens = input_ids\n",
    "    \n",
    "    for i, (tok, lab) in enumerate(zip(tokens, labels)):\n",
    "        if lab == cls2id[\"seg\"]:\n",
    "            seg_counter += 1\n",
    "            print(\"\\n\\n\", end=f\"{CLN}{seg_counter}.{CSR} \")\n",
    "        \n",
    "        if lab == cls2id[\"n-start\"]:\n",
    "            print(end=CN)\n",
    "            \n",
    "        if lab == cls2id[\"n-end\"]:\n",
    "            print(end=CSR)\n",
    "            \n",
    "        print(tok, end=\" \")\n",
    "        \n",
    "    return tokens\n",
    "\n",
    "\n",
    "def dump_refined_dataset():\n",
    "    new_subset = datasets.Dataset.from_dict(new_refined_instances, split=DATASET_SPLIT)\n",
    "    shard_id = len(glob.glob(os.path.join(REFINED_DATASET_DIR, f\"{DATASET_SPLIT}_*\")))\n",
    "    REFINED_DATASET_SHARD_URI = os.path.join(REFINED_DATASET_DIR, f\"{DATASET_SPLIT}_{shard_id}\")\n",
    "    new_subset.save_to_disk(REFINED_DATASET_SHARD_URI)\n",
    "    new_refined_instances.clear()\n",
    "    \n",
    "    with open(CACHED_INDEX_URI, \"w\") as f_index:\n",
    "        f_index.write(\",\".join(map(str, sorted(cached_indices))))\n",
    "    \n",
    "    it_counter = 0\n",
    "    \n",
    "    print(f\"Saved progress in '{REFINED_DATASET_SHARD_URI}'.\")\n",
    "    \n",
    "    \n",
    "def fn_run_cell(index_shift: int):\n",
    "    js = IPython.display.Javascript(\n",
    "        f\"Jupyter.notebook.execute_cells([IPython.notebook.get_selected_index()+{index_shift}])\"\n",
    "    )\n",
    "    IPython.display.display(js)\n",
    "\n",
    "    \n",
    "def fn_run_last_cell(_):\n",
    "    js = IPython.display.Javascript(\n",
    "        \"Jupyter.notebook.execute_cells([IPython.notebook.ncells() - 1])\"\n",
    "    )\n",
    "    IPython.display.display(js)\n",
    "\n",
    "    \n",
    "button_run_cell = ipywidgets.Button(\n",
    "    description=\"Fetch new instance\",\n",
    "    tooltip=\"Run cell below to fetch a random instance\",\n",
    "    layout=ipywidgets.Layout(width=\"25%\", height=\"48px\", margin=\"0 0 0 5%\"),\n",
    ")\n",
    "button_run_cell.on_click(lambda _: fn_run_cell(1))\n",
    "\n",
    "button_edit_instance = ipywidgets.Button(\n",
    "    description=\"Edit instance\",\n",
    "    tooltip=\"Send instance to interactive front-end for refinement\",\n",
    "    style=dict(button_color=\"lightblue\"),\n",
    ")\n",
    "button_edit_instance.layout = button_run_cell.layout\n",
    "button_edit_instance.on_click(lambda _: fn_run_cell(2))\n",
    "\n",
    "button_save = ipywidgets.Button(\n",
    "    description=\"Save test instance\",\n",
    "    style=dict(button_color=\"salmon\"),\n",
    "    tooltip=\"Run notebook last cell (triggers code to save instance in curated dataset)\",\n",
    ")\n",
    "button_save.layout = button_run_cell.layout\n",
    "button_save.on_click(fn_run_last_cell)"
   ]
  },
  {
   "cell_type": "code",
   "execution_count": 195,
   "id": "1c5aba08",
   "metadata": {
    "ExecuteTime": {
     "end_time": "2022-03-25T19:20:06.404334Z",
     "start_time": "2022-03-25T19:20:06.384579Z"
    }
   },
   "outputs": [
    {
     "data": {
      "application/vnd.jupyter.widget-view+json": {
       "model_id": "8396702953bc4290ad4d5cca667635f2",
       "version_major": 2,
       "version_minor": 0
      },
      "text/plain": [
       "HBox(children=(Button(description='Fetch new instance', layout=Layout(height='48px', margin='0 0 0 5%', width=…"
      ]
     },
     "metadata": {},
     "output_type": "display_data"
    },
    {
     "data": {
      "application/javascript": [
       "Jupyter.notebook.execute_cells([IPython.notebook.ncells() - 1])"
      ],
      "text/plain": [
       "<IPython.core.display.Javascript object>"
      ]
     },
     "metadata": {},
     "output_type": "display_data"
    },
    {
     "data": {
      "application/javascript": [
       "Jupyter.notebook.execute_cells([IPython.notebook.get_selected_index()+1])"
      ],
      "text/plain": [
       "<IPython.core.display.Javascript object>"
      ]
     },
     "metadata": {},
     "output_type": "display_data"
    },
    {
     "data": {
      "application/javascript": [
       "Jupyter.notebook.execute_cells([IPython.notebook.ncells() - 1])"
      ],
      "text/plain": [
       "<IPython.core.display.Javascript object>"
      ]
     },
     "metadata": {},
     "output_type": "display_data"
    }
   ],
   "source": [
    "IPython.display.display(ipywidgets.HBox((button_run_cell, button_edit_instance, button_save)))"
   ]
  },
  {
   "cell_type": "code",
   "execution_count": 197,
   "id": "c3059c5e",
   "metadata": {
    "ExecuteTime": {
     "end_time": "2022-03-25T19:20:16.323384Z",
     "start_time": "2022-03-25T19:20:16.294115Z"
    },
    "scrolled": false
   },
   "outputs": [
    {
     "name": "stdout",
     "output_type": "stream",
     "text": [
      "\u001b[0m\u001b[36m1.\u001b[0m [CLS] COMISSÃO DE CIÊNCIA E TECNOLOGIA , COMUNICAÇÃO E INFORMÁTICA \n",
      "\n",
      "\u001b[36m2.\u001b[0m PROJETO DE DECRETO LEGISLATIVO Nº , DE 2013 \n",
      "\n",
      "\u001b[36m3.\u001b[0m Aprova o ato que outorga permissão à C ##M ##M Comunicações Ltda . para explorar serviço de radiodifusão sonora em frequência modulada , no Município de Fazenda Nova , Estado de Goiás . \n",
      "\n",
      "\u001b[36m4.\u001b[0m O CONGRESSO NACIONAL decreta : \n",
      "\n",
      "\u001b[36m5.\u001b[0m Art . 1º É aprovado o ato constante da Portaria nº 41 ##9 , de 07 de maio de 2010 , que outorga permissão à C ##M ##M Comunicações Ltda . para explorar , pelo prazo de dez anos , sem direito de exclusividade , serviço de radiodifusão sonora em frequência modulada , no Município de Fazenda Nova , Estado de Goiás . \n",
      "\n",
      "\u001b[36m6.\u001b[0m Art . 2º Este decreto legislativo entra em vigor na data de sua publicação . \n",
      "\n",
      "\u001b[36m7.\u001b[0m Sala da Comissão , em 04 de setembro de 2013 . Deputado JO ##R ##GE BITTAR Presidente em exercício [SEP] "
     ]
    }
   ],
   "source": [
    "id_ = fn_rand()\n",
    "while id_ in cached_indices:\n",
    "    id_ = fn_rand()\n",
    "\n",
    "\n",
    "input_ids = df_view_input_ids[id_]\n",
    "labels = df_view_labels[id_]\n",
    "tokens = print_labels(input_ids, labels)"
   ]
  },
  {
   "cell_type": "code",
   "execution_count": 180,
   "id": "215cb81c",
   "metadata": {
    "ExecuteTime": {
     "end_time": "2022-03-25T18:55:26.309832Z",
     "start_time": "2022-03-25T18:55:25.929281Z"
    }
   },
   "outputs": [],
   "source": [
    "logits = logit_model(df_split[id_], return_logits=True).logits\n",
    "interactive_labeling.open_example(tokens, labels, logits=logits)\n",
    "lock_save = True"
   ]
  },
  {
   "cell_type": "code",
   "execution_count": 181,
   "id": "a3e40621",
   "metadata": {
    "ExecuteTime": {
     "end_time": "2022-03-25T18:55:52.088941Z",
     "start_time": "2022-03-25T18:55:52.034840Z"
    }
   },
   "outputs": [
    {
     "name": "stdout",
     "output_type": "stream",
     "text": [
      "\u001b[0m\u001b[36m1.\u001b[0m [CLS] \u001b[31mCâmara dos Deputados Gabinete da Deputada Ja ##nd ##ira F ##eg ##ha ##l ##i – PCdoB / RJ \n",
      "\n",
      "\u001b[36m2.\u001b[0m Requerimento de Informação n . º de 2002 \n",
      "\n",
      "\u001b[36m3.\u001b[0m Solicita ao Exmo Sr . Ministro de Estado das Minas e Energia , Francisco Luiz S ##ib ##ut Go ##m ##id ##e , informações sobre o seguro ant ##i - ra ##cionamento . \n",
      "\n",
      "\u001b[36m4.\u001b[0m Senhor Presidente : Vi ##mos através deste requerer a V . Exa , nos termos do art . 116 do Regimento interno , seja solici ##tada ao Sr . Ministro de Estado das Minas e Energia , Francisco Luiz S ##ib ##ut Go ##m ##id ##e , informações acerca das questões abaixo . \n",
      "\n",
      "\u001b[36m5.\u001b[0m 1 ) Des ##de o início de sua cobrança , quanto foi arrecad ##ado pelas dist ##ribui ##doras a título de encar ##go de capacidade ( seguro ant ##i - ra ##cionamento ) ? \n",
      "\n",
      "\u001b[36m6.\u001b[0m 2 ) Há dist ##ribui ##doras inad ##impl ##entes ou paga ##ndo menos seguro do que o que hav ##ia sido calcul ##ado pela C ##B ##E ##E ? \n",
      "\n",
      "\u001b[36m7.\u001b[0m 3 ) A An ##e ##el já inici ##ou processo de fiscalização em dist ##ribui ##doras por não repasse do valor arrecad ##ado junto aos consumidores para o pagamento do seguro ? \n",
      "\n",
      "\u001b[36m8.\u001b[0m 4 ) Há ind ##ício det ##ec ##tado pela agência de que alguma dist ##ribui ##dora tenha deix ##ado de repass ##ar os valores , se apro ##p ##ria ##ndo de forma inde ##vida dos recursos ? \n",
      "\n",
      "\u001b[36m9.\u001b[0m 5 ) Quant ##o foi repass ##ado para as us ##inas que faz ##em parte do seguro ? L ##ista comple ##ta de quanto cada empreendimento já receb ##eu de repasse da C ##B ##E ##E para pagamento do seguro . \n",
      "\n",
      "\u001b[36m10.\u001b[0m 6 ) L ##ista comple ##ta de quanto cada dist ##ribui ##dora já repass ##ou , mês a mês , para a C ##B ##E ##E , como sendo sua co ##ta de seguro ant ##i - ra ##cionamento . L ##ista da C ##B ##E ##E com os valores espera ##dos de repasse , mês a mês , de cada dist ##ribui ##dora . \n",
      "\n",
      "\u001b[36m11.\u001b[0m 7 ) Qual a situação financeira da C ##B ##E ##E - dé ##fici ##t ou super ##á ##vi ##t ? Quant ##ificar o volume do dé ##fici ##t ou do super ##á ##vi ##t . \n",
      "\n",
      "\u001b[36m12.\u001b[0m 8 ) Em caso de super ##á ##vi ##t , o que está sendo feito com o dinheiro , qual sua destinação ? \n",
      "\n",
      "\u001b[36m13.\u001b[0m 9 ) H ##av ##erá necessidade de novo reajust ##e do seguro em dezembro ? Qual o novo valor propos ##to pela C ##B ##E ##E ? \n",
      "\n",
      "\u001b[36m14.\u001b[0m Cer ##ta de poder contar com a atenção de V . Ex . ª , aprov ##eito o ense ##jo para renova ##r os prot ##est ##os de elevada estima e consideração . Cor ##dial ##mente , Deputada Ja ##nd ##ira F ##eg ##ha ##l ##i [SEP] "
     ]
    }
   ],
   "source": [
    "ret = interactive_labeling.retrieve_refined_example()\n",
    "labels = ret[\"labels\"]\n",
    "print_labels(tokens, labels, input_is_tokens=True)\n",
    "lock_save = False"
   ]
  },
  {
   "cell_type": "code",
   "execution_count": 198,
   "id": "e3f5edf5",
   "metadata": {
    "ExecuteTime": {
     "end_time": "2022-03-25T19:20:23.217456Z",
     "start_time": "2022-03-25T19:20:23.165064Z"
    }
   },
   "outputs": [
    {
     "name": "stdout",
     "output_type": "stream",
     "text": [
      "Instances until next dump::  90%|█████████ | 18/20 [1:56:13<22:59, 689.57s/it]\n"
     ]
    }
   ],
   "source": [
    "if not lock_save and id_ not in cached_indices:\n",
    "    it_counter += 1\n",
    "    cached_indices.add(id_)\n",
    "\n",
    "    for key, val in df_split[id_].items():\n",
    "        if key != \"labels\":\n",
    "            new_refined_instances[key].append(val.copy())\n",
    "\n",
    "        else:\n",
    "            new_refined_instances[key].append(labels)\n",
    "     \n",
    "    pbar_dump.update()\n",
    "\n",
    "\n",
    "if it_counter % AUTOSAVE_IN_N_INSTANCES == 0:\n",
    "    dump_refined_dataset()\n",
    "    pbar_dump.reset()\n",
    "    \n",
    "    \n",
    "print(pbar_dump)"
   ]
  }
 ],
 "metadata": {
  "kernelspec": {
   "display_name": "Python 3",
   "language": "python",
   "name": "python3"
  },
  "language_info": {
   "codemirror_mode": {
    "name": "ipython",
    "version": 3
   },
   "file_extension": ".py",
   "mimetype": "text/x-python",
   "name": "python",
   "nbconvert_exporter": "python",
   "pygments_lexer": "ipython3",
   "version": "3.9.10"
  },
  "latex_envs": {
   "LaTeX_envs_menu_present": true,
   "autoclose": false,
   "autocomplete": true,
   "bibliofile": "biblio.bib",
   "cite_by": "apalike",
   "current_citInitial": 1,
   "eqLabelWithNumbers": true,
   "eqNumInitial": 1,
   "hotkeys": {
    "equation": "Ctrl-E",
    "itemize": "Ctrl-I"
   },
   "labels_anchors": false,
   "latex_user_defs": false,
   "report_style_numbering": false,
   "user_envs_cfg": false
  },
  "toc": {
   "base_numbering": 1,
   "nav_menu": {},
   "number_sections": true,
   "sideBar": true,
   "skip_h1_title": false,
   "title_cell": "Table of Contents",
   "title_sidebar": "Contents",
   "toc_cell": false,
   "toc_position": {},
   "toc_section_display": true,
   "toc_window_display": false
  }
 },
 "nbformat": 4,
 "nbformat_minor": 5
}
