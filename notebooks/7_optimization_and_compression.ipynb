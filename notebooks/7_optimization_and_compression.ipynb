{
 "cells": [
  {
   "cell_type": "code",
   "execution_count": 1,
   "id": "c8f75bd2",
   "metadata": {
    "ExecuteTime": {
     "end_time": "2022-04-12T14:27:03.509244Z",
     "start_time": "2022-04-12T14:27:01.181370Z"
    }
   },
   "outputs": [],
   "source": [
    "import typing as t\n",
    "import pathlib\n",
    "import os\n",
    "import pickle\n",
    "import collections\n",
    "import timeit\n",
    "\n",
    "import optimum\n",
    "import optimum.onnxruntime\n",
    "import onnxruntime\n",
    "import onnx\n",
    "import datasets\n",
    "import torch\n",
    "import torch.nn as nn\n",
    "import numpy as np\n",
    "import seaborn as sns\n",
    "import matplotlib.pyplot as plt\n",
    "import tqdm.auto\n",
    "import pandas as pd\n",
    "\n",
    "import segmentador\n",
    "import segmentador.optimize\n",
    "import eval_model\n",
    "\n",
    "%load_ext autoreload\n",
    "%autoreload 2\n",
    "\n",
    "PERFORMANCE_LOGS_DIR = \"performance_logs\"\n",
    "pathlib.Path(PERFORMANCE_LOGS_DIR).mkdir(exist_ok=True, parents=True)\n",
    "\n",
    "QUANTIZED_MODELS_DIR = \"quantized_models\"\n",
    "pathlib.Path(QUANTIZED_MODELS_DIR).mkdir(exist_ok=True, parents=True)"
   ]
  },
  {
   "cell_type": "code",
   "execution_count": 2,
   "id": "b66dba65",
   "metadata": {
    "ExecuteTime": {
     "end_time": "2022-04-12T14:27:03.554489Z",
     "start_time": "2022-04-12T14:27:03.510924Z"
    }
   },
   "outputs": [],
   "source": [
    "curated_df = datasets.Dataset.from_file(\n",
    "    \"../data/refined_datasets/df_tokenized_split_0_120000_6000/\"\n",
    "    \"combined_test_48_parts_1036_instances/dataset.arrow\"\n",
    ")\n",
    "\n",
    "curated_df_subsample = curated_df.shard(num_shards=200, index=0)"
   ]
  },
  {
   "cell_type": "markdown",
   "id": "2e2e8e9e",
   "metadata": {
    "ExecuteTime": {
     "end_time": "2022-04-05T17:10:42.928492Z",
     "start_time": "2022-04-05T17:10:42.922482Z"
    }
   },
   "source": [
    "## Creating LSTM Quantization"
   ]
  },
  {
   "cell_type": "code",
   "execution_count": 3,
   "id": "6d769590",
   "metadata": {
    "ExecuteTime": {
     "end_time": "2022-04-12T14:27:03.860808Z",
     "start_time": "2022-04-12T14:27:03.559470Z"
    }
   },
   "outputs": [],
   "source": [
    "segmenter_lstm = segmentador.LSTMSegmenter(\n",
    "    uri_model=\"../pretrained_segmenter_model/512_6000_1_lstm/checkpoints/epoch=3-step=3591.ckpt\",\n",
    "    uri_tokenizer=\"../tokenizers/6000_subwords\",\n",
    "    device=\"cpu\",\n",
    ")"
   ]
  },
  {
   "cell_type": "markdown",
   "id": "a809d517",
   "metadata": {},
   "source": [
    "### With Torch format"
   ]
  },
  {
   "cell_type": "code",
   "execution_count": 4,
   "id": "67036f76",
   "metadata": {
    "ExecuteTime": {
     "end_time": "2022-04-12T14:27:04.110900Z",
     "start_time": "2022-04-12T14:27:03.862559Z"
    }
   },
   "outputs": [
    {
     "name": "stdout",
     "output_type": "stream",
     "text": [
      "Saved quantized Pytorch module (Torch format) in \u001b[34m'./quantized_models/q_num_layers_1_vocab_size_6000_lstm_model.pt'\u001b[0m. To use it, load a LSTM segmenter model as:\n",
      "\n",
      "LSTMSegmenter(\n",
      "   \u001b[33muri_model=\u001b[34m'./quantized_models/q_num_layers_1_vocab_size_6000_lstm_model.pt'\u001b[0m,\n",
      "   uri_tokenizer='../tokenizers/6000_subwords',\n",
      "   \u001b[33mfrom_quantized_weights=\u001b[34mTrue\u001b[0m,\n",
      "   ...,\n",
      ")\n"
     ]
    }
   ],
   "source": [
    "quantized_lstm_torch_paths = segmentador.optimize.quantize_model(\n",
    "    segmenter_lstm,\n",
    "    model_output_format=\"torch\",\n",
    "    check_cached=False,\n",
    "    verbose=True,\n",
    ")"
   ]
  },
  {
   "cell_type": "code",
   "execution_count": 5,
   "id": "ad8e32da",
   "metadata": {
    "ExecuteTime": {
     "end_time": "2022-04-12T14:27:04.255323Z",
     "start_time": "2022-04-12T14:27:04.112632Z"
    }
   },
   "outputs": [],
   "source": [
    "segmenter_lstm_torch_quantized = segmentador.LSTMSegmenter(\n",
    "   uri_model=quantized_lstm_torch_paths.output_uri,\n",
    "   uri_tokenizer='../tokenizers/6000_subwords',\n",
    "   from_quantized_weights=True,\n",
    ")"
   ]
  },
  {
   "cell_type": "code",
   "execution_count": 6,
   "id": "71e73ec7",
   "metadata": {
    "ExecuteTime": {
     "end_time": "2022-04-12T14:27:04.652590Z",
     "start_time": "2022-04-12T14:27:04.256957Z"
    }
   },
   "outputs": [
    {
     "data": {
      "application/vnd.jupyter.widget-view+json": {
       "model_id": "2155f35e1ae54022991ae4f479485232",
       "version_major": 2,
       "version_minor": 0
      },
      "text/plain": [
       "  0%|          | 0/1 [00:00<?, ?it/s]"
      ]
     },
     "metadata": {},
     "output_type": "display_data"
    },
    {
     "data": {
      "text/plain": [
       "['INDICAÇÃO Nº DE 2008 ( Do Sr. Hermes Parcianello )',\n",
       " 'Indica ao Ministério da Educação a inclusão no ProInfância do município de LARANJEIRAS DO SUL, no estado do Paraná.',\n",
       " 'Excelentíssimo Senhor Ministro de Estado da Educação, Considerando que a construção de creches e escolas de educação infantil e a reestruturação e aquisição de equipamentos para a rede física escolar desse nível educacional são indispensáveis à melhoria da educação. Considerando um grande percentual de mulheres chefes de família com filhos menores que necessitam de local adequado para deixar seus filhos e que o Programa disponibiliza o atendimento de até 120 crianças em período integral ou até 240 crianças, se distribuídos em turnos matutinos e vespertinos. Considerando que o município ao ser atendido pelo Programa priorizará a acessibilidade, fazendo as adequações necessárias a fim de permitir seu uso por portadores de necessidades especiais. Considerando que a edificação será composta de um bloco administrativo, um de serviço, dois pedagógicos, além de áreas para recreação e multiuso, totalizando uma área de aproximadamente 1. 118, 46m2 e que o valor aproximado será de R $ 950. 339, 28 ( novecentos e cinqüenta mil, trezentos e trinta e nove reais e vinte e oito centavos ) Considerando ainda que o município preencha os requisitos exigidos pelo FNDE ; entendemos que é imprescindível a inclusão de LARANJEIRAS DO SUL - PR no Programa Nacional de Reestruturação e Aparelhamento da Rede Escolar Pública de Educação Infantil.',\n",
       " 'Sala das Sessões, em dezembro de 2008 Deputado HERMES PARCIANELLO',\n",
       " 'REQUERIMENTO ( Do Sr. HERMES PARCIANELLO )',\n",
       " 'Requer o envio de Indicação ao Poder Executivo, relativo à inclusão do município de LARANJEIRAS DO SUL, no estado do Paraná no ProInfância.',\n",
       " 'Senhor Presidente, Nos termos do art. 113, inciso I e § 1º do Regimento Interno da Câmara dos Deputados, requeiro a Vossa Excelência seja encaminhada ao Poder Executivo a Indicação em anexo, designando a inclusão do município LARANJEIRAS DO SUL no ProInfância.',\n",
       " 'Sala de Sessões, em de dezembro de 2008 Deputado HERMES PARCIANELLO CÂMARA DOS DEPUTADOS',\n",
       " 'PROJETO DE LEI Nº, DE 2019. ( Do Sr. BOCA ABERTA )',\n",
       " 'Dispõe sobre a legitimação dos imóveis urbanos que não possuem escritura pública e dá providencias, em âmbito nacional.',\n",
       " 'O Congresso Nacional decreta :',\n",
       " 'Art. 1º - Dispõe sobre a legitimação dos imóveis urbanos que não possuem escritura pública e dá outras providencias.',\n",
       " 'Artigo 2º Regularizar os imóveis urbanos que não dispõem de registros públicos.',\n",
       " '§ 1º Autoriza a União, dentre as áreas urbanas, onde lhe é de domínio, por força de lei, legitimar os imóveis urbanos nele existentes, e que, não possuem escritura pública.',\n",
       " '§ 2º A legitimação das áreas é transmitida por doação a seus possuidores ou detentores da posse, mediante Processo Administrativo de Regulamentação dos Terrenos Urbanos, de incumbência de cada município por meio de Título de Legitimação ;',\n",
       " 'Art. 3º Será considerado dono do imóvel construído a pessoa física ou jurídica detentora de documentos públicos ou particulares que certifica ou declara a sua aquisição, ainda que não possua o domínio como proprietário.',\n",
       " '§ 1º O titulo de legitimação do imóvel e a quitação das contribuições previdenciárias da construção serão averbadas no Cartório de Registro de Imóveis da Comarca competente.',\n",
       " '§ 2ª Após averbação da construção no registro do titulo, o imóvel se torna automaticamente negociável e alienável. e registrado no * C D1 92 84 62 90 10 0 * PL n. 4 22 6 / 20 19 Ap re se nt aç ão : 0 6 / 08 / 2 01 9 13 : 1 0 CÂMARA DOS DEPUTADOS Cartório de Imóveis da Comarca, desde que o terreno esteja dentro da área urbana, ora matriculada, como de domínio do Município ;',\n",
       " '§ 3º O Titulo de Legitimação é o instrumento formal a transferir o domínio de bens disponível para o particular ou terceiro.',\n",
       " 'Art. 4 O processo administrativo de regularização de Imóveis é exclusivo de cada município, onde se localiza o imóvel.',\n",
       " 'Art. 5º Fica dispensado o pagamento de multa sobre o auto de infração do imóvel a legitimar, proveniente de autuação pelo não recolhimento da contribuição previdenciária.',\n",
       " 'Art. 6º Esta lei entra em vigor na data de sua publicação.',\n",
       " 'PROJETO DE LEI Nº, DE ( Do Sr.',\n",
       " 'Leonardo Mattos ) Dá nova redação ao inciso XIV do art. 6º da Lei 7. 713, de 22 de dezembro de 1988 que “ Altera a legislação do Imposto de Renda e dá outras providencias ”.',\n",
       " 'O Congresso Nacional decreta :',\n",
       " 'Art. 1º - o inciso XIV do art. 6º da Lei 7. 713, de 22 de dezembro de 1988, passa a viger com a seguinte redação : “',\n",
       " 'Art. 6º...............................................................................................................................................................................................................',\n",
       " \"XIV - os proventos de aposentadoria ou reforma, desde que motivadas por acidente sem serviços, e os percebidos pelos portadores de moléstia profissional, tuberculose ativa, alienação mental, esclerose - múltipla, neoplasia maligna, cegueira, hanseníase, paralisia irreversível e incapacitante, cardiopatia grave, doença de Parkinson, espondiloartrose anquilosante, nefropatia grave, estados avançados da doença de Paget ( osteíte deformante ), contaminação por radiação, Síndrome de Trombofilia, Síndrome de Charcot - Marie - Tooth Síndrome da imunodeficiência adquirida, com base em conclusão da medicina especializada, mesmo que a doença tenha sido contraída depois da aposentadoria ou reforma. ( NR )''\",\n",
       " 'Art. 2º - Esta lei entra em vigor na data de sua publicação.',\n",
       " 'REQUERIMENTO DE INFORMAÇÃO nº, de de agosto de 2007 ( Do Sr. SARNEY FILHO )',\n",
       " 'Requerimento de Informação ao Senhor Ministro das Relações Exteriores, sobre as providências adotadas por aquele Ministério, no combate a exploração ilegal de madeira da floresta amazônica, no Estado do Acre, por madeireiras instaladas em território peruano.',\n",
       " 'Senhor Presidente, Com fundamento no art. 50, § 2º, da Constituição Federal, combinado com os artigos 115, inciso I, e 116, ambos do Regimento Interno da Câmara dos Deputados, solicito a Vossa Excelência que seja encaminhado ao Senhor Ministro das Relações Exteriores o presente Pedido de Informação, tendo em vista às notícias veiculadas no Jornal Nacional, da Rede Globo, do dia 27.',\n",
       " '07. 2007, sobre a exploração ilegal de madeira da floresta amazônica, no Estado do Acre, por madeireiras instaladas em território peruano. Noticiou a matéria que durante uma operação do Ibama, juntamente com o Exército e Polícia Federal, foram identificados cerca de 70 pontos de exploração madeireira, numa área de aproximadamente 340 quilômetros de fronteira, com a agravante de ser também em área do Parque Nacional da Serra do Divisor e uma reserva indígena. Assim sendo, solicito informações sobre as providências adotadas por aquele Ministério, no combate a exploração ilegal de madeira da floresta amazônica, no Estado do Acre, por madeireiras instaladas em território peruano, conforme noticiado. Deputado SARNEY FILHO PV / MA REQUERIMENTO ( Do Sr. Celso Russomanno )',\n",
       " 'Requer o envio de Indicação ao Poder Executivo, relativa à inclusão de pessoas vítimas de queimaduras médias e graves na categoria de deficiência prevista no inciso I do 4º do Decreto nº 3. 298, de 20 de dezembro de 1999, com a redação dada pelo Decreto nº 5. 296, de 2 de dezembro de 2004.',\n",
       " 'Senhor Presidente : Nos termos do art. 113, inciso I e § 1º, do Regimento Interno da Câmara dos Deputados, requeiro a V. Exª. seja encaminhada ao Poder Executivo a Indicação anexa, sugerindo a inclusão de pessoas vítimas de queimaduras médias e graves em categoria de deficiência prevista no inciso I do 4º do Decreto nº 3. 298, de 20 de dezembro de 1999, com a redação dada pelo Decreto nº 5. 296, de 2 de dezembro de 2004.',\n",
       " 'Sala das Sessões, em de de 2009. Deputado CELSO RUSSOMANNO 2009 _ 7880',\n",
       " 'INDICAÇÃO No, DE 2009 ( Do Sr. Celso Russomanno )',\n",
       " 'Sugere a inclusão de pessoas vítimas de queimaduras médias e graves na categoria de deficiência prevista no inciso I do 4º do Decreto nº 3. 298, de 20 de dezembro de 1999, com a redação dada pelo Decreto nº 5. 296, de 2 de dezembro de 2004.',\n",
       " 'Excelentíssimo Senhor Secretário Especial de Direitos Humanos : A Carta Política de 1988 constitui o marco delimitador da visibilidade das demandas das pessoas com deficiência no Brasil. Com efeito, houve o reconhecimento formal dos direitos de cidadania desse segmento, prevendo - se a adoção de diversas medidas tendentes a sua plena inclusão social. Ressalte - se que, a partir de então, a legislação infraconstitucional federal relativa às pessoas com deficiência tem - se tornado bastante extensa, igualando - se, no que tange à qualidade e ao conteúdo, às legislações mais avançadas do mundo. Todavia, a batalha para a concretização das disposições legais está longe de ser concluída, situação agravada pelas atitudes de discriminação e preconceito que ainda permeiam grande parte das suas relações sociais. Nesse contexto, pessoas que sofreram queimaduras médias ou graves, cujas consequências limitaram o exercício de atividades cotidianas e reduziram efetivamente sua capacidade de integração social, são vítimas de estigmas, preconceitos e discriminações que os impedem de 2 exercer plenamente sua cidadania, uma vez que lhes é negado o acesso a direitos fundamentais básicos, como o direito ao trabalho. A situação é agravada pelo fato de não haver previsão expressa, no Decreto nº 3. 298, de 20 de dezembro de 1999, de proteção a esse segmento, situação que os impede de usufruir dos direitos e garantias assegurados às pessoas com deficiência, tanto pelo Texto Constitucional quanto pelas normas infraconstitucionais. Dessa forma, considerando que as pessoas com deficiências decorrentes de queimaduras médias e graves enfrentam barreiras atitudinais para sua inclusão social plena, principalmente no acesso ao direito ao trabalho, solicitamos a revisão do art. 4º, inciso I do Decreto nº 3. 298, de 1999, para incluir as consequências decorrentes de queimaduras médias ou graves entre as deficiências previstas no referido dispositivo.',\n",
       " 'Sala das Sessões, em de de 2009. Deputado CELSO RUSSOMANNO 2009 _ 7880 CÂMARA DOS DEPUTADOS',\n",
       " 'PROJETO DE LEI N. º, DE 2015 ( do Sr. HIDEKAZU TAKAY',\n",
       " '##AMA )',\n",
       " 'Cria a obrigatoriedade da exigência por parte das companhias aéreas que atuam em território nacional da realização de exames médicos e psicotécnicos que assegurem a sanidade mental dos pilotos e copilotos.',\n",
       " 'O CONGRESSO NACIONAL decreta :',\n",
       " 'Art. 1º As companhias aéreas que atuam junto ao território nacional da República Federativa do Brasil ficam obrigadas a realizar exames médicos e psicotécnicos que assegurem a sanidade mental e a boa saúde física dos pilotos e copilotos.',\n",
       " 'Art. 2 º As companhias aéreas ficam obrigadas a arquivar tais documentos médicos pelo prazo de vinte e cinco anos para fins de comprovação.',\n",
       " 'Art. 3 º As companhias aéreas que deixarem de cumprir com qualquer disposto nesta lei serão responsáveis objetivamente por qualquer dano causado por seus agentes, inclusive quanto ao aspecto criminal.',\n",
       " 'Art. 4º Esta lei entra em vigor na data de sua publicação.',\n",
       " 'Sala das Comissões, de de 2015. Deputado HIDEKAZU TAKAYAMA CÂMARA DOS DEPUTADOS']"
      ]
     },
     "execution_count": 6,
     "metadata": {},
     "output_type": "execute_result"
    }
   ],
   "source": [
    "segmenter_lstm_torch_quantized(curated_df_subsample, show_progress_bar=True)"
   ]
  },
  {
   "cell_type": "markdown",
   "id": "72d4e975",
   "metadata": {},
   "source": [
    "### With ONNX format"
   ]
  },
  {
   "cell_type": "code",
   "execution_count": 7,
   "id": "1edeb9d8",
   "metadata": {
    "ExecuteTime": {
     "end_time": "2022-04-12T14:27:06.630437Z",
     "start_time": "2022-04-12T14:27:04.656428Z"
    }
   },
   "outputs": [
    {
     "name": "stderr",
     "output_type": "stream",
     "text": [
      "/media/nvme/segmentador/venvs/env3.9.10/lib/python3.9/site-packages/torch/onnx/symbolic_opset9.py:2188: UserWarning: Exporting a model to ONNX with a batch_size other than 1, with a variable length with LSTM can cause an error when running the ONNX model with a different batch size. Make sure to save the model with a batch size of 1, or define the initial states (h0/c0) as inputs of the model. \n",
      "  warnings.warn(\"Exporting a model to ONNX with a batch_size other than 1, \" +\n",
      "WARNING: The shape inference of prim::Constant type is missing, so it may result in wrong shape inference for the exported graph. Please consider adding it in symbolic function.\n",
      "/media/nvme/segmentador/venvs/env3.9.10/lib/python3.9/site-packages/torch/onnx/symbolic_helper.py:719: UserWarning: allowzero=0 by default. In order to honor zero value in shape use allowzero=1\n",
      "  warnings.warn(\"allowzero=0 by default. In order to honor zero value in shape use allowzero=1\")\n",
      "WARNING: The shape inference of prim::Constant type is missing, so it may result in wrong shape inference for the exported graph. Please consider adding it in symbolic function.\n",
      "WARNING: The shape inference of prim::Constant type is missing, so it may result in wrong shape inference for the exported graph. Please consider adding it in symbolic function.\n",
      "2022-04-12 11:27:05.195583716 [W:onnxruntime:, inference_session.cc:1546 Initialize] Serializing optimized model with Graph Optimization level greater than ORT_ENABLE_EXTENDED and the NchwcTransformer enabled. The generated model may contain hardware specific optimizations, and should only be used in the same environment the model was optimized in.\n"
     ]
    },
    {
     "name": "stdout",
     "output_type": "stream",
     "text": [
      "Saved quantized Pytorch module (ONNX format) in \u001b[34m'./quantized_models/q_hidden_layer_dim_512_vocab_size_6000_num_layers_1_lstm_model_99_opt_level.onnx'\u001b[0m. To use it, load a LSTM segmenter model as:\n",
      "\n",
      "segmentador.optimize.quantize.ONNXLSTMSegmenter(\n",
      "   \u001b[33muri_model=\u001b[34m'./quantized_models/q_hidden_layer_dim_512_vocab_size_6000_num_layers_1_lstm_model_99_opt_level.onnx'\u001b[0m,\n",
      "   uri_tokenizer='../tokenizers/6000_subwords',\n",
      "   ...,\n",
      ")\n"
     ]
    }
   ],
   "source": [
    "quantized_lstm_onnx_paths = segmentador.optimize.quantize_model(\n",
    "    segmenter_lstm,\n",
    "    model_output_format=\"onnx\",\n",
    "    check_cached=False,\n",
    "    verbose=True,\n",
    ")"
   ]
  },
  {
   "cell_type": "code",
   "execution_count": 8,
   "id": "9f8b71db",
   "metadata": {
    "ExecuteTime": {
     "end_time": "2022-04-12T14:27:06.673516Z",
     "start_time": "2022-04-12T14:27:06.632380Z"
    }
   },
   "outputs": [],
   "source": [
    "segmenter_lstm_onnx_quantized = segmentador.optimize.ONNXLSTMSegmenter(\n",
    "   uri_model=quantized_lstm_onnx_paths.output_uri,\n",
    "   uri_tokenizer=segmenter_lstm.tokenizer.name_or_path,\n",
    ")"
   ]
  },
  {
   "cell_type": "code",
   "execution_count": 9,
   "id": "4f61c506",
   "metadata": {
    "ExecuteTime": {
     "end_time": "2022-04-12T14:27:07.022910Z",
     "start_time": "2022-04-12T14:27:06.675301Z"
    }
   },
   "outputs": [
    {
     "data": {
      "application/vnd.jupyter.widget-view+json": {
       "model_id": "bbef607846f84e4eb0356047a4697557",
       "version_major": 2,
       "version_minor": 0
      },
      "text/plain": [
       "  0%|          | 0/1 [00:00<?, ?it/s]"
      ]
     },
     "metadata": {},
     "output_type": "display_data"
    },
    {
     "data": {
      "text/plain": [
       "['INDICAÇÃO Nº DE 2008 ( Do Sr. Hermes Parcianello )',\n",
       " 'Indica ao Ministério da Educação a inclusão no ProInfância do município de LARANJEIRAS DO SUL, no estado do Paraná.',\n",
       " 'Excelentíssimo Senhor Ministro de Estado da Educação, Considerando que a construção de creches e escolas de educação infantil e a reestruturação e aquisição de equipamentos para a rede física escolar desse nível educacional são indispensáveis à melhoria da educação. Considerando um grande percentual de mulheres chefes de família com filhos menores que necessitam de local adequado para deixar seus filhos e que o Programa disponibiliza o atendimento de até 120 crianças em período integral ou até 240 crianças, se distribuídos em turnos matutinos e vespertinos. Considerando que o município ao ser atendido pelo Programa priorizará a acessibilidade, fazendo as adequações necessárias a fim de permitir seu uso por portadores de necessidades especiais. Considerando que a edificação será composta de um bloco administrativo, um de serviço, dois pedagógicos, além de áreas para recreação e multiuso, totalizando uma área de aproximadamente 1. 118, 46m2 e que o valor aproximado será de R $ 950. 339, 28 ( novecentos e cinqüenta mil, trezentos e trinta e nove reais e vinte e oito centavos ) Considerando ainda que o município preencha os requisitos exigidos pelo FNDE ; entendemos que é imprescindível a inclusão de LARANJEIRAS DO SUL - PR no Programa Nacional de Reestruturação e Aparelhamento da Rede Escolar Pública de Educação Infantil.',\n",
       " 'Sala das Sessões, em dezembro de 2008 Deputado HERMES PARCIANELLO',\n",
       " 'REQUERIMENTO ( Do Sr. HERMES PARCIANELLO )',\n",
       " 'Requer o envio de Indicação ao Poder Executivo, relativo à inclusão do município de LARANJEIRAS DO SUL, no estado do Paraná no ProInfância.',\n",
       " 'Senhor Presidente, Nos termos do art. 113, inciso I e § 1º do Regimento Interno da Câmara dos Deputados, requeiro a Vossa Excelência seja encaminhada ao Poder Executivo a Indicação em anexo, designando a inclusão do município LARANJEIRAS DO SUL no ProInfância.',\n",
       " 'Sala de Sessões, em de dezembro de 2008 Deputado HERMES PARCIANELLO CÂMARA DOS DEPUTADOS',\n",
       " 'PROJETO DE LEI Nº, DE 2019. ( Do Sr. BOCA ABERTA )',\n",
       " 'Dispõe sobre a legitimação dos imóveis urbanos que não possuem escritura pública e dá providencias, em âmbito nacional.',\n",
       " 'O Congresso Nacional decreta :',\n",
       " 'Art. 1º - Dispõe sobre a legitimação dos imóveis urbanos que não possuem escritura pública e dá outras providencias.',\n",
       " 'Artigo 2º Regularizar os imóveis urbanos que não dispõem de registros públicos.',\n",
       " '§ 1º Autoriza a União, dentre as áreas urbanas, onde lhe é de domínio, por força de lei, legitimar os imóveis urbanos nele existentes, e que, não possuem escritura pública.',\n",
       " '§ 2º A legitimação das áreas é transmitida por doação a seus possuidores ou detentores da posse, mediante Processo Administrativo de Regulamentação dos Terrenos Urbanos, de incumbência de cada município por meio de Título de Legitimação ;',\n",
       " 'Art. 3º Será considerado dono do imóvel construído a pessoa física ou jurídica detentora de documentos públicos ou particulares que certifica ou declara a sua aquisição, ainda que não possua o domínio como proprietário.',\n",
       " '§ 1º O titulo de legitimação do imóvel e a quitação das contribuições previdenciárias da construção serão averbadas no Cartório de Registro de Imóveis da Comarca competente.',\n",
       " '§ 2ª Após averbação da construção no registro do titulo, o imóvel se torna automaticamente negociável e alienável. e registrado no * C D1 92 84 62 90 10 0 * PL n. 4 22 6 / 20 19 Ap re se nt aç ão : 0 6 / 08 / 2 01 9 13 : 1 0 CÂMARA DOS DEPUTADOS Cartório de Imóveis da Comarca, desde que o terreno esteja dentro da área urbana, ora matriculada, como de domínio do Município ;',\n",
       " '§ 3º O Titulo de Legitimação é o instrumento formal a transferir o domínio de bens disponível para o particular ou terceiro.',\n",
       " 'Art. 4 O processo administrativo de regularização de Imóveis é exclusivo de cada município, onde se localiza o imóvel.',\n",
       " 'Art. 5º Fica dispensado o pagamento de multa sobre o auto de infração do imóvel a legitimar, proveniente de autuação pelo não recolhimento da contribuição previdenciária.',\n",
       " 'Art. 6º Esta lei entra em vigor na data de sua publicação.',\n",
       " 'PROJETO DE LEI Nº, DE ( Do Sr.',\n",
       " 'Leonardo Mattos ) Dá nova redação ao inciso XIV do art. 6º da Lei 7. 713, de 22 de dezembro de 1988 que “ Altera a legislação do Imposto de Renda e dá outras providencias ”.',\n",
       " 'O Congresso Nacional decreta :',\n",
       " 'Art. 1º - o inciso XIV do art. 6º da Lei 7. 713, de 22 de dezembro de 1988, passa a viger com a seguinte redação : “',\n",
       " 'Art. 6º...............................................................................................................................................................................................................',\n",
       " \"XIV - os proventos de aposentadoria ou reforma, desde que motivadas por acidente sem serviços, e os percebidos pelos portadores de moléstia profissional, tuberculose ativa, alienação mental, esclerose - múltipla, neoplasia maligna, cegueira, hanseníase, paralisia irreversível e incapacitante, cardiopatia grave, doença de Parkinson, espondiloartrose anquilosante, nefropatia grave, estados avançados da doença de Paget ( osteíte deformante ), contaminação por radiação, Síndrome de Trombofilia, Síndrome de Charcot - Marie - Tooth Síndrome da imunodeficiência adquirida, com base em conclusão da medicina especializada, mesmo que a doença tenha sido contraída depois da aposentadoria ou reforma. ( NR )''\",\n",
       " 'Art. 2º - Esta lei entra em vigor na data de sua publicação.',\n",
       " 'REQUERIMENTO DE INFORMAÇÃO nº, de de agosto de 2007 ( Do Sr. SARNEY FILHO )',\n",
       " 'Requerimento de Informação ao Senhor Ministro das Relações Exteriores, sobre as providências adotadas por aquele Ministério, no combate a exploração ilegal de madeira da floresta amazônica, no Estado do Acre, por madeireiras instaladas em território peruano.',\n",
       " 'Senhor Presidente, Com fundamento no art. 50, § 2º, da Constituição Federal, combinado com os artigos 115, inciso I, e 116, ambos do Regimento Interno da Câmara dos Deputados, solicito a Vossa Excelência que seja encaminhado ao Senhor Ministro das Relações Exteriores o presente Pedido de Informação, tendo em vista às notícias veiculadas no Jornal Nacional, da Rede Globo, do dia 27.',\n",
       " '07. 2007, sobre a exploração ilegal de madeira da floresta amazônica, no Estado do Acre, por madeireiras instaladas em território peruano. Noticiou a matéria que durante uma operação do Ibama, juntamente com o Exército e Polícia Federal, foram identificados cerca de 70 pontos de exploração madeireira, numa área de aproximadamente 340 quilômetros de fronteira, com a agravante de ser também em área do Parque Nacional da Serra do Divisor e uma reserva indígena. Assim sendo, solicito informações sobre as providências adotadas por aquele Ministério, no combate a exploração ilegal de madeira da floresta amazônica, no Estado do Acre, por madeireiras instaladas em território peruano, conforme noticiado. Deputado SARNEY FILHO PV / MA REQUERIMENTO ( Do Sr. Celso Russomanno )',\n",
       " 'Requer o envio de Indicação ao Poder Executivo, relativa à inclusão de pessoas vítimas de queimaduras médias e graves na categoria de deficiência prevista no inciso I do 4º do Decreto nº 3. 298, de 20 de dezembro de 1999, com a redação dada pelo Decreto nº 5. 296, de 2 de dezembro de 2004.',\n",
       " 'Senhor Presidente : Nos termos do art. 113, inciso I e § 1º, do Regimento Interno da Câmara dos Deputados, requeiro a V. Exª. seja encaminhada ao Poder Executivo a Indicação anexa, sugerindo a inclusão de pessoas vítimas de queimaduras médias e graves em categoria de deficiência prevista no inciso I do 4º do Decreto nº 3. 298, de 20 de dezembro de 1999, com a redação dada pelo Decreto nº 5. 296, de 2 de dezembro de 2004.',\n",
       " 'Sala das Sessões, em de de 2009. Deputado CELSO RUSSOMANNO 2009 _ 7880',\n",
       " 'INDICAÇÃO No, DE 2009 ( Do Sr. Celso Russomanno )',\n",
       " 'Sugere a inclusão de pessoas vítimas de queimaduras médias e graves na categoria de deficiência prevista no inciso I do 4º do Decreto nº 3. 298, de 20 de dezembro de 1999, com a redação dada pelo Decreto nº 5. 296, de 2 de dezembro de 2004.',\n",
       " 'Excelentíssimo Senhor Secretário Especial de Direitos Humanos : A Carta Política de 1988 constitui o marco delimitador da visibilidade das demandas das pessoas com deficiência no Brasil. Com efeito, houve o reconhecimento formal dos direitos de cidadania desse segmento, prevendo - se a adoção de diversas medidas tendentes a sua plena inclusão social. Ressalte - se que, a partir de então, a legislação infraconstitucional federal relativa às pessoas com deficiência tem - se tornado bastante extensa, igualando - se, no que tange à qualidade e ao conteúdo, às legislações mais avançadas do mundo. Todavia, a batalha para a concretização das disposições legais está longe de ser concluída, situação agravada pelas atitudes de discriminação e preconceito que ainda permeiam grande parte das suas relações sociais. Nesse contexto, pessoas que sofreram queimaduras médias ou graves, cujas consequências limitaram o exercício de atividades cotidianas e reduziram efetivamente sua capacidade de integração social, são vítimas de estigmas, preconceitos e discriminações que os impedem de 2 exercer plenamente sua cidadania, uma vez que lhes é negado o acesso a direitos fundamentais básicos, como o direito ao trabalho. A situação é agravada pelo fato de não haver previsão expressa, no Decreto nº 3. 298, de 20 de dezembro de 1999, de proteção a esse segmento, situação que os impede de usufruir dos direitos e garantias assegurados às pessoas com deficiência, tanto pelo Texto Constitucional quanto pelas normas infraconstitucionais. Dessa forma, considerando que as pessoas com deficiências decorrentes de queimaduras médias e graves enfrentam barreiras atitudinais para sua inclusão social plena, principalmente no acesso ao direito ao trabalho, solicitamos a revisão do art. 4º, inciso I do Decreto nº 3. 298, de 1999, para incluir as consequências decorrentes de queimaduras médias ou graves entre as deficiências previstas no referido dispositivo.',\n",
       " 'Sala das Sessões, em de de 2009. Deputado CELSO RUSSOMANNO 2009 _ 7880 CÂMARA DOS DEPUTADOS',\n",
       " 'PROJETO DE LEI N. º, DE 2015 ( do Sr. HIDEKAZU TAKAY',\n",
       " '##AMA )',\n",
       " 'Cria a obrigatoriedade da exigência por parte das companhias aéreas que atuam em território nacional da realização de exames médicos e psicotécnicos que assegurem a sanidade mental dos pilotos e copilotos.',\n",
       " 'O CONGRESSO NACIONAL decreta :',\n",
       " 'Art. 1º As companhias aéreas que atuam junto ao território nacional da República Federativa do Brasil ficam obrigadas a realizar exames médicos e psicotécnicos que assegurem a sanidade mental e a boa saúde física dos pilotos e copilotos.',\n",
       " 'Art. 2 º As companhias aéreas ficam obrigadas a arquivar tais documentos médicos pelo prazo de vinte e cinco anos para fins de comprovação.',\n",
       " 'Art. 3 º As companhias aéreas que deixarem de cumprir com qualquer disposto nesta lei serão responsáveis objetivamente por qualquer dano causado por seus agentes, inclusive quanto ao aspecto criminal.',\n",
       " 'Art. 4º Esta lei entra em vigor na data de sua publicação.',\n",
       " 'Sala das Comissões, de de 2015. Deputado HIDEKAZU TAKAYAMA CÂMARA DOS DEPUTADOS']"
      ]
     },
     "execution_count": 9,
     "metadata": {},
     "output_type": "execute_result"
    }
   ],
   "source": [
    "segmenter_lstm_onnx_quantized(curated_df_subsample, show_progress_bar=True)"
   ]
  },
  {
   "cell_type": "markdown",
   "id": "2924b9fe",
   "metadata": {},
   "source": [
    "## Creating BERT Quantization"
   ]
  },
  {
   "cell_type": "code",
   "execution_count": 10,
   "id": "1234f421",
   "metadata": {
    "ExecuteTime": {
     "end_time": "2022-04-12T14:27:07.309639Z",
     "start_time": "2022-04-12T14:27:07.024676Z"
    }
   },
   "outputs": [],
   "source": [
    "segmenter_bert = segmentador.BERTSegmenter(\n",
    "    uri_model=\"../pretrained_segmenter_model/2_6000_layer_model/\",\n",
    "    device=\"cpu\",\n",
    ")"
   ]
  },
  {
   "cell_type": "code",
   "execution_count": 11,
   "id": "260352c3",
   "metadata": {
    "ExecuteTime": {
     "end_time": "2022-04-12T14:27:11.825184Z",
     "start_time": "2022-04-12T14:27:07.311413Z"
    }
   },
   "outputs": [
    {
     "name": "stderr",
     "output_type": "stream",
     "text": [
      "2022-04-12 11:27:08.202168757 [W:onnxruntime:, inference_session.cc:1546 Initialize] Serializing optimized model with Graph Optimization level greater than ORT_ENABLE_EXTENDED and the NchwcTransformer enabled. The generated model may contain hardware specific optimizations, and should only be used in the same environment the model was optimized in.\n",
      "WARNING:fusion_skiplayernorm:symbolic shape infer failed. it's safe to ignore this message if there is no issue with optimized model\n",
      "WARNING:fusion_skiplayernorm:symbolic shape infer failed. it's safe to ignore this message if there is no issue with optimized model\n",
      "WARNING:fusion_skiplayernorm:symbolic shape infer failed. it's safe to ignore this message if there is no issue with optimized model\n",
      "WARNING:fusion_skiplayernorm:symbolic shape infer failed. it's safe to ignore this message if there is no issue with optimized model\n",
      "WARNING:fusion_skiplayernorm:symbolic shape infer failed. it's safe to ignore this message if there is no issue with optimized model\n"
     ]
    },
    {
     "name": "stdout",
     "output_type": "stream",
     "text": [
      "failed in shape inference <class 'AssertionError'>\n",
      "failed in shape inference <class 'AssertionError'>\n",
      "Saved quantized BERT (ONNX format) in \u001b[34m'./quantized_models/q_num_layers_2_vocab_size_6000_bert_model_99_opt_level.onnx'\u001b[0m, and its configuration file in \u001b[34m'./quantized_models/q_num_layers_2_vocab_size_6000_bert_model_99_opt_level.config'\u001b[0m. To use it, load a BERT segmenter model as:\n",
      "\n",
      "segmentador.optimize.quantize.ONNXBERTSegmenter(\n",
      "   \u001b[33muri_model=\u001b[34m'./quantized_models/q_num_layers_2_vocab_size_6000_bert_model_99_opt_level.onnx'\u001b[0m,\n",
      "   uri_tokenizer='../pretrained_segmenter_model/2_6000_layer_model/',\n",
      "   \u001b[33muri_onnx_config=\u001b[34m'./quantized_models/q_num_layers_2_vocab_size_6000_bert_model_99_opt_level.config'\u001b[0m,\n",
      "   ...,\n",
      ")\n"
     ]
    }
   ],
   "source": [
    "quantized_bert_paths = segmentador.optimize.quantize_model(\n",
    "    segmenter_bert,\n",
    "    check_cached=False,\n",
    "    verbose=True,\n",
    ")"
   ]
  },
  {
   "cell_type": "code",
   "execution_count": 12,
   "id": "ddae3d3c",
   "metadata": {
    "ExecuteTime": {
     "end_time": "2022-04-12T14:27:11.860070Z",
     "start_time": "2022-04-12T14:27:11.827033Z"
    }
   },
   "outputs": [],
   "source": [
    "segmenter_bert_quantized = segmentador.optimize.ONNXBERTSegmenter(\n",
    "   uri_model=quantized_bert_paths.output_uri,\n",
    "   uri_tokenizer=segmenter_bert.tokenizer.name_or_path,\n",
    "   uri_onnx_config=quantized_bert_paths.onnx_config_uri,\n",
    ")"
   ]
  },
  {
   "cell_type": "code",
   "execution_count": 13,
   "id": "5adda43e",
   "metadata": {
    "ExecuteTime": {
     "end_time": "2022-04-12T14:27:12.541883Z",
     "start_time": "2022-04-12T14:27:11.861651Z"
    }
   },
   "outputs": [
    {
     "data": {
      "application/vnd.jupyter.widget-view+json": {
       "model_id": "a5a2b2d5245f4cd39cc190bcb537d753",
       "version_major": 2,
       "version_minor": 0
      },
      "text/plain": [
       "  0%|          | 0/1 [00:00<?, ?it/s]"
      ]
     },
     "metadata": {},
     "output_type": "display_data"
    },
    {
     "data": {
      "text/plain": [
       "['INDICAÇÃO Nº DE 2008 ( Do Sr. Hermes Parcianello )',\n",
       " 'Indica ao Ministério da Educação a inclusão no ProInfância do município de LARANJEIRAS DO SUL, no estado do Paraná.',\n",
       " 'Excelentíssimo Senhor Ministro de Estado da Educação, Considerando que a construção de creches e escolas de educação infantil e a reestruturação e aquisição de equipamentos para a rede física escolar desse nível educacional são indispensáveis à melhoria da educação. Considerando um grande percentual de mulheres chefes de família com filhos menores que necessitam de local adequado para deixar seus filhos e que o Programa disponibiliza o atendimento de até 120 crianças em período integral ou até 240 crianças, se distribuídos em turnos matutinos e vespertinos. Considerando que o município ao ser atendido pelo Programa priorizará a acessibilidade, fazendo as adequações necessárias a fim de permitir seu uso por portadores de necessidades especiais. Considerando que a edificação será composta de um bloco administrativo, um de serviço, dois pedagógicos, além de áreas para recreação e multiuso, totalizando uma área de aproximadamente 1. 118, 46m2 e que o valor aproximado será de R $ 950. 339, 28 ( novecentos e cinqüenta mil, trezentos e trinta e nove reais e vinte e oito centavos ) Considerando ainda que o município preencha os requisitos exigidos pelo FNDE ; entendemos que é imprescindível a inclusão de LARANJEIRAS DO SUL - PR no Programa Nacional de Reestruturação e Aparelhamento da Rede Escolar Pública de Educação Infantil.',\n",
       " 'Sala das Sessões, em dezembro de 2008 Deputado HERMES PARCIANELLO',\n",
       " 'REQUERIMENTO ( Do Sr. HERMES PARCIANELLO )',\n",
       " 'Requer o envio de Indicação ao Poder Executivo, relativo à inclusão do município de LARANJEIRAS DO SUL, no estado do Paraná no ProInfância.',\n",
       " 'Senhor Presidente, Nos termos do art. 113, inciso I e § 1º do Regimento Interno da Câmara dos Deputados, requeiro a Vossa Excelência seja encaminhada ao Poder Executivo a Indicação em anexo, designando a inclusão do município LARANJEIRAS DO SUL no ProInfância.',\n",
       " 'Sala de Sessões, em de dezembro de 2008 Deputado HERMES PARCIANELLO CÂMARA DOS DEPUTADOS',\n",
       " 'PROJETO DE LEI Nº, DE 2019. ( Do Sr. BOCA ABERTA ) Dispõe sobre a legitimação dos imóveis urbanos que não possuem escritura pública e dá providencias, em âmbito nacional.',\n",
       " 'O Congresso Nacional decreta :',\n",
       " 'Art. 1º - Dispõe sobre a legitimação dos imóveis urbanos que não possuem escritura pública e dá outras providencias.',\n",
       " 'Artigo 2º Regularizar os imóveis urbanos que não dispõem de registros públicos.',\n",
       " '§ 1º Autoriza a União, dentre as áreas urbanas, onde lhe é de domínio, por força de lei, legitimar os imóveis urbanos nele existentes, e que, não possuem escritura pública.',\n",
       " '§ 2º A legitimação das áreas é transmitida por doação a seus possuidores ou detentores da posse, mediante Processo Administrativo de Regulamentação dos Terrenos Urbanos, de incumbência de cada município por meio de Título de Legitimação ;',\n",
       " 'Art. 3º Será considerado dono do imóvel construído a pessoa física ou jurídica detentora de documentos públicos ou particulares que certifica ou declara a sua aquisição, ainda que não possua o domínio como proprietário.',\n",
       " '§ 1º O titulo de legitimação do imóvel e a quitação das contribuições previdenciárias da construção serão averbadas no Cartório de Registro de Imóveis da Comarca competente.',\n",
       " '§ 2ª Após averbação da construção no registro do titulo, o imóvel se torna automaticamente negociável e alienável. e registrado no * C D1 92 84 62 90 10 0 * PL n. 4 22 6 / 20 19 Ap re se nt aç ão : 0 6 / 08 / 2 01 9 13 : 1 0 CÂMARA DOS DEPUTADOS Cartório de Imóveis da Comarca, desde que o terreno esteja dentro da área urbana, ora matriculada, como de domínio do Município ;',\n",
       " '§ 3º O Titulo de Legitimação é o instrumento formal a transferir o domínio de bens disponível para o particular ou terceiro.',\n",
       " 'Art. 4 O processo administrativo de regularização de Imóveis é exclusivo de cada município, onde se localiza o imóvel.',\n",
       " 'Art. 5º Fica dispensado o pagamento de multa sobre o auto de infração do imóvel a legitimar, proveniente de autuação pelo não recolhimento da contribuição previdenciária.',\n",
       " 'Art. 6º Esta lei entra em vigor na data de sua publicação.',\n",
       " 'PROJETO DE LEI Nº, DE ( Do Sr. Leonardo Mattos ) Dá nova redação ao inciso XIV do art. 6º da Lei 7. 713, de 22 de dezembro de 1988 que “ Altera a legislação do Imposto de Renda e dá outras providencias ”.',\n",
       " 'O Congresso Nacional decreta :',\n",
       " 'Art. 1º - o inciso XIV do art. 6º da Lei 7. 713, de 22 de dezembro de 1988, passa a viger com a seguinte redação : “',\n",
       " 'Art. 6º...............................................................................................................................................................................................................',\n",
       " \"XIV - os proventos de aposentadoria ou reforma, desde que motivadas por acidente sem serviços, e os percebidos pelos portadores de moléstia profissional, tuberculose ativa, alienação mental, esclerose - múltipla, neoplasia maligna, cegueira, hanseníase, paralisia irreversível e incapacitante, cardiopatia grave, doença de Parkinson, espondiloartrose anquilosante, nefropatia grave, estados avançados da doença de Paget ( osteíte deformante ), contaminação por radiação, Síndrome de Trombofilia, Síndrome de Charcot - Marie - Tooth Síndrome da imunodeficiência adquirida, com base em conclusão da medicina especializada, mesmo que a doença tenha sido contraída depois da aposentadoria ou reforma. ( NR )''\",\n",
       " 'Art. 2º - Esta lei entra em vigor na data de sua publicação.',\n",
       " 'REQUERIMENTO DE INFORMAÇÃO nº, de de agosto de 2007 ( Do Sr. SARNEY FILHO ) Requerimento de Informação ao Senhor Ministro das Relações Exteriores, sobre as providências adotadas por aquele Ministério, no combate a exploração ilegal de madeira da floresta amazônica, no Estado do Acre, por madeireiras instaladas em território peruano.',\n",
       " 'Senhor Presidente, Com fundamento no art. 50, § 2º, da Constituição Federal, combinado com os artigos 115, inciso I, e 116, ambos do Regimento Interno da Câmara dos Deputados, solicito a Vossa Excelência que seja encaminhado ao Senhor Ministro das Relações Exteriores o presente Pedido de Informação, tendo em vista às notícias veiculadas no Jornal Nacional, da Rede Globo, do dia 27.',\n",
       " '07. 2007, sobre a exploração ilegal de madeira da floresta amazônica, no Estado do Acre, por madeireiras instaladas em território peruano. Noticiou a matéria que durante uma operação do Ibama, juntamente com o Exército e Polícia Federal, foram identificados cerca de 70 pontos de exploração madeireira, numa área de aproximadamente 340 quilômetros de fronteira, com a agravante de ser também em área do Parque Nacional da Serra do Divisor e uma reserva indígena. Assim sendo, solicito informações sobre as providências adotadas por aquele Ministério, no combate a exploração ilegal de madeira da floresta amazônica, no Estado do Acre, por madeireiras instaladas em território peruano, conforme noticiado. Deputado SARNEY FILHO PV / MA',\n",
       " 'REQUERIMENTO ( Do Sr. Celso Russomanno )',\n",
       " 'Requer o envio de Indicação ao Poder Executivo, relativa à inclusão de pessoas vítimas de queimaduras médias e graves na categoria de deficiência prevista no inciso I do 4º do Decreto nº 3. 298, de 20 de dezembro de 1999, com a redação dada pelo Decreto nº 5. 296, de 2 de dezembro de 2004.',\n",
       " 'Senhor Presidente : Nos termos do art. 113, inciso I e § 1º, do Regimento Interno da Câmara dos Deputados, requeiro a V. Exª. seja encaminhada ao Poder Executivo a Indicação anexa, sugerindo a inclusão de pessoas vítimas de queimaduras médias e graves em categoria de deficiência prevista no inciso I do 4º do Decreto nº 3. 298, de 20 de dezembro de 1999, com a redação dada pelo Decreto nº 5. 296, de 2 de dezembro de 2004.',\n",
       " 'Sala das Sessões, em de de 2009. Deputado CELSO RUSSOMANNO 2009 _ 7880',\n",
       " 'INDICAÇÃO No, DE 2009 ( Do Sr. Celso Russomanno )',\n",
       " 'Sugere a inclusão de pessoas vítimas de queimaduras médias e graves na categoria de deficiência prevista no inciso I do 4º do Decreto nº 3. 298, de 20 de dezembro de 1999, com a redação dada pelo Decreto nº 5. 296, de 2 de dezembro de 2004.',\n",
       " 'Excelentíssimo Senhor Secretário Especial de Direitos Humanos : A Carta Política de 1988 constitui o marco delimitador da visibilidade das demandas das pessoas com deficiência no Brasil. Com efeito, houve o reconhecimento formal dos direitos de cidadania desse segmento, prevendo - se a adoção de diversas medidas tendentes a sua plena inclusão social. Ressalte - se que, a partir de então, a legislação infraconstitucional federal relativa às pessoas com deficiência tem - se tornado bastante extensa, igualando - se, no que tange à qualidade e ao conteúdo, às legislações mais avançadas do mundo. Todavia, a batalha para a concretização das disposições legais está longe de ser concluída, situação agravada pelas atitudes de discriminação e preconceito que ainda permeiam grande parte das suas relações sociais. Nesse contexto, pessoas que sofreram queimaduras médias ou graves, cujas consequências limitaram o exercício de atividades cotidianas e reduziram efetivamente sua capacidade de integração social, são vítimas de estigmas, preconceitos e discriminações que os impedem de 2 exercer plenamente sua cidadania, uma vez que lhes é negado o acesso a direitos fundamentais básicos, como o direito ao trabalho. A situação é agravada pelo fato de não haver previsão expressa, no Decreto nº 3. 298, de 20 de dezembro de 1999, de proteção a esse segmento, situação que os impede de usufruir dos direitos e garantias assegurados às pessoas com deficiência, tanto pelo Texto Constitucional quanto pelas normas infraconstitucionais. Dessa forma, considerando que as pessoas com deficiências decorrentes de queimaduras médias e graves enfrentam barreiras atitudinais para sua inclusão social plena, principalmente no acesso ao direito ao trabalho, solicitamos a revisão do art. 4º, inciso I do Decreto nº 3. 298, de 1999, para incluir as consequências decorrentes de queimaduras médias ou graves entre as deficiências previstas no referido dispositivo.',\n",
       " 'Sala das Sessões, em de de 2009. Deputado CELSO RUSSOMANNO 2009 _ 7880 CÂMARA DOS DEPUTADOS PROJETO DE LEI N. º, DE 2015 ( do Sr. HIDEKAZU TAKAYAMA )',\n",
       " 'Cria a obrigatoriedade da exigência por parte das companhias aéreas que atuam em território nacional da realização de exames médicos e psicotécnicos que assegurem a sanidade mental dos pilotos e copilotos.',\n",
       " 'O CONGRESSO NACIONAL decreta :',\n",
       " 'Art. 1º As companhias aéreas que atuam junto ao território nacional da República Federativa do Brasil ficam obrigadas a realizar exames médicos e psicotécnicos que assegurem a sanidade mental e a boa saúde física dos pilotos e copilotos.',\n",
       " 'Art. 2 º As companhias aéreas ficam obrigadas a arquivar tais documentos médicos pelo prazo de vinte e cinco anos para fins de comprovação.',\n",
       " 'Art. 3 º As companhias aéreas que deixarem de cumprir com qualquer disposto nesta lei serão responsáveis objetivamente por qualquer dano causado por seus agentes, inclusive quanto ao aspecto criminal.',\n",
       " 'Art. 4º Esta lei entra em vigor na data de sua publicação.',\n",
       " 'Sala das Comissões, de de 2015. Deputado HIDEKAZU TAKAYAMA CÂMARA DOS DEPUTADOS']"
      ]
     },
     "execution_count": 13,
     "metadata": {},
     "output_type": "execute_result"
    }
   ],
   "source": [
    "segmenter_bert_quantized(curated_df_subsample, show_progress_bar=True)"
   ]
  },
  {
   "cell_type": "markdown",
   "id": "a0e6ebed",
   "metadata": {},
   "source": [
    "## Validating performance of distinct configurations"
   ]
  },
  {
   "cell_type": "markdown",
   "id": "2ac0f18b",
   "metadata": {},
   "source": [
    "### Collecting results"
   ]
  },
  {
   "cell_type": "code",
   "execution_count": 14,
   "id": "1c6fcc9a",
   "metadata": {
    "ExecuteTime": {
     "end_time": "2022-04-12T14:27:12.574531Z",
     "start_time": "2022-04-12T14:27:12.543426Z"
    }
   },
   "outputs": [],
   "source": [
    "def validate(\n",
    "    model,\n",
    "    moving_window_size: int = 1024,\n",
    "    window_shift_size: float = 0.5,\n",
    "    batch_size: int = 64,\n",
    "    num_shards: t.Optional[int] = None,\n",
    "    repeats: int = 5,\n",
    ") -> dict[str, float]:\n",
    "    \n",
    "    sharded_df = curated_df\n",
    "    \n",
    "    if num_shards is not None:\n",
    "        sharded_df = curated_df.shard(num_shards=num_shards, index=0)\n",
    "    \n",
    "    min_t_delta = np.inf\n",
    "    \n",
    "    for _ in range(repeats):\n",
    "        t_start = timeit.time.perf_counter()\n",
    "\n",
    "        logits = model(\n",
    "            sharded_df,\n",
    "            batch_size=batch_size,\n",
    "            return_logits=True,\n",
    "            show_progress_bar=False,\n",
    "            window_shift_size=window_shift_size,\n",
    "            moving_window_size=moving_window_size,\n",
    "        ).logits\n",
    "\n",
    "        t_delta = timeit.time.perf_counter() - t_start\n",
    "        \n",
    "        min_t_delta = min(min_t_delta, t_delta)\n",
    "    \n",
    "    metrics = eval_model.compute_metrics(\n",
    "        ([logits], [np.concatenate(sharded_df[\"labels\"])]),\n",
    "    )\n",
    "    metrics[\"approx_inference_time\"] = min_t_delta\n",
    "    \n",
    "    return metrics"
   ]
  },
  {
   "cell_type": "code",
   "execution_count": 15,
   "id": "100ce9fa",
   "metadata": {
    "ExecuteTime": {
     "end_time": "2022-04-12T14:27:12.771218Z",
     "start_time": "2022-04-12T14:27:12.576091Z"
    },
    "scrolled": true
   },
   "outputs": [],
   "source": [
    "quantized_model_paths: dict[tuple[t.Type, str, int], tuple[str, ...]] = {}\n",
    "\n",
    "for base_model in (segmenter_bert, segmenter_lstm):\n",
    "    for model_output_format in (\"onnx\", \"torch\"):\n",
    "        \n",
    "        if base_model == segmenter_bert and model_output_format == \"torch\":\n",
    "            continue\n",
    "        \n",
    "        optimization_levels = (0, 1, 2, 99) if model_output_format == \"onnx\" else (0,)\n",
    "        \n",
    "        for optimization_level in optimization_levels:\n",
    "            try:\n",
    "                output_paths = segmentador.optimize.quantize_model(\n",
    "                    model=base_model,\n",
    "                    quantized_model_dirpath=QUANTIZED_MODELS_DIR,\n",
    "                    model_output_format=model_output_format,\n",
    "                    optimization_level=optimization_level,\n",
    "                    check_cached=True,\n",
    "                    verbose=False,\n",
    "                )\n",
    "                \n",
    "            except onnx.shape_inference.InferenceError as err:\n",
    "                output_paths = None\n",
    "            \n",
    "            if output_paths:\n",
    "                key = (type(base_model), model_output_format, optimization_level)\n",
    "                quantized_model_paths[key] = output_paths"
   ]
  },
  {
   "cell_type": "code",
   "execution_count": 16,
   "id": "6ddc366f",
   "metadata": {
    "ExecuteTime": {
     "end_time": "2022-04-12T14:55:26.999119Z",
     "start_time": "2022-04-12T14:27:12.772491Z"
    }
   },
   "outputs": [],
   "source": [
    "num_shards = None\n",
    "\n",
    "fn_format_key = lambda *vals: \"\\n\".join(map(str, [*vals]))\n",
    "\n",
    "all_results: dict[tuple[t.Type, str, int], dict[str, float]] = {\n",
    "    fn_format_key(\"bert\", \"torch\", \"-\"): {\n",
    "        **validate(\n",
    "            segmenter_bert,\n",
    "            num_shards=num_shards,\n",
    "            moving_window_size=512,\n",
    "            window_shift_size=0.25,\n",
    "        ),\n",
    "        \"config_opt_level\": \"-\",\n",
    "        \"config_output_format\": \"torch\",\n",
    "        \"config_model_type\": \"bert\",\n",
    "    },\n",
    "    fn_format_key(\"lstm\", \"torch\", \"-\"): {\n",
    "        **validate(\n",
    "            segmenter_lstm,\n",
    "            num_shards=num_shards,\n",
    "            moving_window_size=1024,\n",
    "            window_shift_size=0.5,\n",
    "        ),\n",
    "        \"config_opt_level\": \"-\",\n",
    "        \"config_output_format\": \"torch\",\n",
    "        \"config_model_type\": \"lstm\",\n",
    "    }\n",
    "}"
   ]
  },
  {
   "cell_type": "code",
   "execution_count": 21,
   "id": "6128ee13",
   "metadata": {
    "ExecuteTime": {
     "end_time": "2022-04-12T15:51:44.375007Z",
     "start_time": "2022-04-12T14:57:04.301871Z"
    }
   },
   "outputs": [
    {
     "data": {
      "application/vnd.jupyter.widget-view+json": {
       "model_id": "a1a7ffd6578b4c499eb50f5b936248be",
       "version_major": 2,
       "version_minor": 0
      },
      "text/plain": [
       "  0%|          | 0/8 [00:00<?, ?it/s]"
      ]
     },
     "metadata": {},
     "output_type": "display_data"
    }
   ],
   "source": [
    "for config, paths in tqdm.auto.tqdm(quantized_model_paths.items()):\n",
    "    model_type, output_format, opt_level = config\n",
    "    \n",
    "    algorithm = \"lstm\" if model_type == segmentador.segmenter.LSTMSegmenter else \"bert\"\n",
    "    \n",
    "    res: dict[str, float] = {}\n",
    "    \n",
    "    res[\"config_opt_level\"] = opt_level\n",
    "    res[\"config_output_format\"] = output_format\n",
    "    res[\"config_model_type\"] = algorithm\n",
    "    \n",
    "    new_key = fn_format_key(algorithm, output_format, opt_level)\n",
    "    \n",
    "    if new_key in all_results:\n",
    "        continue\n",
    "    \n",
    "    if output_format == \"onnx\":\n",
    "        if model_type == segmentador.LSTMSegmenter:\n",
    "            model_to_validate = segmentador.optimize.ONNXLSTMSegmenter(\n",
    "                uri_model=quantized_lstm_onnx_paths.output_uri,\n",
    "                uri_tokenizer=segmenter_lstm.tokenizer.name_or_path,\n",
    "            )\n",
    "            \n",
    "        else:\n",
    "            model_to_validate = segmentador.optimize.ONNXBERTSegmenter(\n",
    "                uri_model=paths.output_uri,\n",
    "                uri_tokenizer=segmenter_bert.tokenizer.name_or_path,\n",
    "                uri_onnx_config=paths.onnx_config_uri,\n",
    "            )\n",
    "            \n",
    "    else:\n",
    "        model_to_validate = segmentador.LSTMSegmenter(\n",
    "            uri_model=paths.output_uri,\n",
    "            uri_tokenizer=segmenter_lstm.tokenizer.name_or_path,\n",
    "            from_quantized_weights=True,\n",
    "            device=\"cpu\",\n",
    "        )\n",
    "    \n",
    "    if algorithm == \"bert\":\n",
    "        kwargs = dict(\n",
    "            moving_window_size=512,\n",
    "            window_shift_size=0.25,\n",
    "        )\n",
    "        \n",
    "    else:\n",
    "        kwargs = dict(\n",
    "            moving_window_size=1024,\n",
    "            window_shift_size=0.5,\n",
    "        )\n",
    "    \n",
    "    res.update(validate(model_to_validate, num_shards=num_shards, **kwargs))\n",
    "    \n",
    "    all_results[new_key] = res"
   ]
  },
  {
   "cell_type": "code",
   "execution_count": 22,
   "id": "b3a6b3b8",
   "metadata": {
    "ExecuteTime": {
     "end_time": "2022-04-12T15:59:01.141365Z",
     "start_time": "2022-04-12T15:59:01.076502Z"
    }
   },
   "outputs": [],
   "source": [
    "df_all_results = pd.DataFrame.from_dict(all_results).T\n",
    "df_all_results.sort_values(\n",
    "    by=\"approx_inference_time\",\n",
    "    axis=0,\n",
    "    ascending=False,\n",
    "    inplace=True,\n",
    ")\n",
    "\n",
    "df_all_results.to_csv(\n",
    "    path_or_buf=os.path.join(PERFORMANCE_LOGS_DIR, \"perf_cpu_multithread.csv\"),\n",
    "    encoding=\"utf-8\",\n",
    ")"
   ]
  },
  {
   "cell_type": "markdown",
   "id": "17eb09b6",
   "metadata": {},
   "source": [
    "### Analysing results"
   ]
  },
  {
   "cell_type": "code",
   "execution_count": 23,
   "id": "78a51c6e",
   "metadata": {
    "ExecuteTime": {
     "end_time": "2022-04-12T15:59:03.036885Z",
     "start_time": "2022-04-12T15:59:02.997651Z"
    }
   },
   "outputs": [
    {
     "data": {
      "text/html": [
       "<div>\n",
       "<style scoped>\n",
       "    .dataframe tbody tr th:only-of-type {\n",
       "        vertical-align: middle;\n",
       "    }\n",
       "\n",
       "    .dataframe tbody tr th {\n",
       "        vertical-align: top;\n",
       "    }\n",
       "\n",
       "    .dataframe thead th {\n",
       "        text-align: right;\n",
       "    }\n",
       "</style>\n",
       "<table border=\"1\" class=\"dataframe\">\n",
       "  <thead>\n",
       "    <tr style=\"text-align: right;\">\n",
       "      <th></th>\n",
       "      <th>per_cls_precision_1</th>\n",
       "      <th>per_cls_recall_1</th>\n",
       "      <th>approx_inference_time</th>\n",
       "    </tr>\n",
       "  </thead>\n",
       "  <tbody>\n",
       "    <tr>\n",
       "      <th>bert\\ntorch\\n-</th>\n",
       "      <td>0.908839</td>\n",
       "      <td>0.962137</td>\n",
       "      <td>277.758002</td>\n",
       "    </tr>\n",
       "    <tr>\n",
       "      <th>bert\\nonnx\\n1</th>\n",
       "      <td>0.909184</td>\n",
       "      <td>0.961810</td>\n",
       "      <td>170.028097</td>\n",
       "    </tr>\n",
       "    <tr>\n",
       "      <th>bert\\nonnx\\n2</th>\n",
       "      <td>0.909184</td>\n",
       "      <td>0.961810</td>\n",
       "      <td>165.884593</td>\n",
       "    </tr>\n",
       "    <tr>\n",
       "      <th>bert\\nonnx\\n99</th>\n",
       "      <td>0.909184</td>\n",
       "      <td>0.961810</td>\n",
       "      <td>165.335203</td>\n",
       "    </tr>\n",
       "    <tr>\n",
       "      <th>lstm\\ntorch\\n-</th>\n",
       "      <td>0.987586</td>\n",
       "      <td>0.952127</td>\n",
       "      <td>48.873123</td>\n",
       "    </tr>\n",
       "    <tr>\n",
       "      <th>lstm\\ntorch\\n0</th>\n",
       "      <td>0.987695</td>\n",
       "      <td>0.951909</td>\n",
       "      <td>36.528978</td>\n",
       "    </tr>\n",
       "    <tr>\n",
       "      <th>lstm\\nonnx\\n1</th>\n",
       "      <td>0.987363</td>\n",
       "      <td>0.952127</td>\n",
       "      <td>25.069775</td>\n",
       "    </tr>\n",
       "    <tr>\n",
       "      <th>lstm\\nonnx\\n0</th>\n",
       "      <td>0.987363</td>\n",
       "      <td>0.952127</td>\n",
       "      <td>24.624060</td>\n",
       "    </tr>\n",
       "    <tr>\n",
       "      <th>lstm\\nonnx\\n2</th>\n",
       "      <td>0.987363</td>\n",
       "      <td>0.952127</td>\n",
       "      <td>24.195943</td>\n",
       "    </tr>\n",
       "    <tr>\n",
       "      <th>lstm\\nonnx\\n99</th>\n",
       "      <td>0.987363</td>\n",
       "      <td>0.952127</td>\n",
       "      <td>23.981962</td>\n",
       "    </tr>\n",
       "  </tbody>\n",
       "</table>\n",
       "</div>"
      ],
      "text/plain": [
       "                per_cls_precision_1  per_cls_recall_1  approx_inference_time\n",
       "bert\\ntorch\\n-             0.908839          0.962137             277.758002\n",
       "bert\\nonnx\\n1              0.909184          0.961810             170.028097\n",
       "bert\\nonnx\\n2              0.909184          0.961810             165.884593\n",
       "bert\\nonnx\\n99             0.909184          0.961810             165.335203\n",
       "lstm\\ntorch\\n-             0.987586          0.952127              48.873123\n",
       "lstm\\ntorch\\n0             0.987695          0.951909              36.528978\n",
       "lstm\\nonnx\\n1              0.987363          0.952127              25.069775\n",
       "lstm\\nonnx\\n0              0.987363          0.952127              24.624060\n",
       "lstm\\nonnx\\n2              0.987363          0.952127              24.195943\n",
       "lstm\\nonnx\\n99             0.987363          0.952127              23.981962"
      ]
     },
     "execution_count": 23,
     "metadata": {},
     "output_type": "execute_result"
    }
   ],
   "source": [
    "df_all_results = pd.read_csv(\n",
    "    os.path.join(PERFORMANCE_LOGS_DIR, \"perf_cpu_multithread.csv\"),\n",
    "    index_col=0,\n",
    "    header=0,\n",
    ")\n",
    "df_all_results[[\"per_cls_precision_1\", \"per_cls_recall_1\", \"approx_inference_time\"]]"
   ]
  },
  {
   "cell_type": "code",
   "execution_count": 24,
   "id": "b1fd0246",
   "metadata": {
    "ExecuteTime": {
     "end_time": "2022-04-12T15:59:05.406844Z",
     "start_time": "2022-04-12T15:59:05.380531Z"
    }
   },
   "outputs": [],
   "source": [
    "score_p = df_all_results[\"per_cls_precision_1\"]\n",
    "score_r = df_all_results[\"per_cls_recall_1\"]\n",
    "\n",
    "aux_df = np.vstack((\n",
    "    list(zip(df_all_results.index, [\"Precision $c_{1}$\"] * len(score_p), score_p.values)),\n",
    "    list(zip(df_all_results.index, [\"Recall $c_{1}$\"] * len(score_r), score_r.values)),\n",
    "))\n",
    "\n",
    "cols = [\"Config\", \"Metric\", \"Score\"]\n",
    "lineplot_df = pd.DataFrame(aux_df, columns=cols)\n",
    "lineplot_df[\"Score\"] = lineplot_df[\"Score\"].astype(float)"
   ]
  },
  {
   "cell_type": "code",
   "execution_count": 78,
   "id": "32fdc6a0",
   "metadata": {
    "ExecuteTime": {
     "end_time": "2022-04-12T16:26:51.135992Z",
     "start_time": "2022-04-12T16:26:50.612007Z"
    }
   },
   "outputs": [
    {
     "data": {
      "image/png": "[encoded data removed]",
      "text/plain": [
       "<Figure size 1023.98x576 with 2 Axes>"
      ]
     },
     "metadata": {},
     "output_type": "display_data"
    }
   ],
   "source": [
    "sns.set_theme(\n",
    "    context=\"notebook\",\n",
    "    style=\"white\",\n",
    "    font_scale=1.5,\n",
    ")\n",
    "\n",
    "fig, ax1 = plt.subplots(1, figsize=(14.222, 8))\n",
    "ax2 = ax1.twinx()\n",
    "\n",
    "fn_hex_to_tuple = lambda hex_v: tuple(int(hex_v[i:i+2], base=16)/255 for i in range(0, 6, 2))\n",
    "\n",
    "ax_sns_barplot = sns.barplot(\n",
    "    x=df_all_results.index,\n",
    "    y=\"approx_inference_time\",\n",
    "    ax=ax1,\n",
    "    data=df_all_results,\n",
    "    palette=[\n",
    "        fn_hex_to_tuple(\"C12121\")\n",
    "        if opt_level == \"-\"\n",
    "        else fn_hex_to_tuple(\"2167C1\")\n",
    "        for opt_level in df_all_results[\"config_opt_level\"]\n",
    "    ],\n",
    ")\n",
    "\n",
    "ax_sns_lineplot = sns.lineplot(\n",
    "    x=\"Config\",\n",
    "    y=\"Score\",\n",
    "    hue=\"Metric\",\n",
    "    style=\"Metric\",\n",
    "    ax=ax2,\n",
    "    data=lineplot_df,\n",
    "    legend=\"full\",\n",
    "    dashes=False,\n",
    "    markers=[\"v\", \"X\"],\n",
    "    markersize=12,\n",
    "    palette=[\"orange\", \"purple\"],\n",
    ")\n",
    "\n",
    "plt.legend(loc=(0.15, 0.8))\n",
    "\n",
    "ax_sns_lineplot.set_ylabel(\"Precision, Recall\")\n",
    "\n",
    "ax_sns_barplot.set_title(\n",
    "    f\"Best-of-5 execution performance in full curated dataset ({curated_df.shape[0]} instances)\"\n",
    ")\n",
    "ax_sns_barplot.set_ylabel(\"Total execution time (s)\");\n",
    "ax_sns_barplot.set_xlabel(\"Configuration (algorithm, format, optimization level)\");\n",
    "\n",
    "base_exec_perf_bert = df_all_results.loc[\n",
    "    (df_all_results[[\"config_opt_level\", \"config_model_type\"]] == (\"-\", \"bert\")).all(axis=\"columns\"),\n",
    "    \"approx_inference_time\",\n",
    "]\n",
    "\n",
    "base_exec_perf_lstm = df_all_results.loc[\n",
    "    (df_all_results[[\"config_opt_level\", \"config_model_type\"]] == (\"-\", \"lstm\")).all(axis=\"columns\"),\n",
    "    \"approx_inference_time\",\n",
    "]\n",
    "\n",
    "speed_ups = np.asfarray([\n",
    "    (base_exec_perf_bert if model == \"bert\" else base_exec_perf_lstm) / inf_time\n",
    "    for inf_time, model in df_all_results[[\"approx_inference_time\", \"config_model_type\"]].values\n",
    "]).squeeze()\n",
    "\n",
    "ax_sns_barplot.bar_label(\n",
    "    ax_sns_barplot.containers[0],\n",
    "    labels=map(lambda x: f\"x{x:.1f}\" if x > 1.0 else \"\", speed_ups),\n",
    ");\n",
    "\n",
    "fig.savefig(fname=os.path.join(PERFORMANCE_LOGS_DIR, \"perf_plot.pdf\"), format=\"pdf\", bbox_inches=\"tight\")"
   ]
  },
  {
   "cell_type": "markdown",
   "id": "a0050515",
   "metadata": {},
   "source": [
    "### Hardware specification for experiment above\n",
    "- Architecture:            x86_64\n",
    "  - CPU op-mode(s):        32-bit, 64-bit\n",
    "  - Address sizes:         39 bits physical, 48 bits virtual\n",
    "  - Byte Order:            Little Endian\n",
    "- CPU(s):                  12\n",
    "  - On-line CPU(s) list:   0-11\n",
    "- Vendor ID:               GenuineIntel\n",
    "  - Model name:            Intel(R) Core(TM) i7-9750H CPU @ 2.60GHz\n",
    "    - CPU family:          6\n",
    "    - Model:               158\n",
    "    - Thread(s) per core:  2\n",
    "    - Core(s) per socket:  6\n",
    "    - Socket(s):           1\n",
    "    - Stepping:            10\n",
    "    - CPU max MHz:         4500,0000\n",
    "    - CPU min MHz:         800,0000\n",
    "    - BogoMIPS:            5202.65"
   ]
  }
 ],
 "metadata": {
  "kernelspec": {
   "display_name": "Python 3",
   "language": "python",
   "name": "python3"
  },
  "language_info": {
   "codemirror_mode": {
    "name": "ipython",
    "version": 3
   },
   "file_extension": ".py",
   "mimetype": "text/x-python",
   "name": "python",
   "nbconvert_exporter": "python",
   "pygments_lexer": "ipython3",
   "version": "3.9.10"
  },
  "latex_envs": {
   "LaTeX_envs_menu_present": true,
   "autoclose": false,
   "autocomplete": true,
   "bibliofile": "biblio.bib",
   "cite_by": "apalike",
   "current_citInitial": 1,
   "eqLabelWithNumbers": true,
   "eqNumInitial": 1,
   "hotkeys": {
    "equation": "Ctrl-E",
    "itemize": "Ctrl-I"
   },
   "labels_anchors": false,
   "latex_user_defs": false,
   "report_style_numbering": false,
   "user_envs_cfg": false
  },
  "toc": {
   "base_numbering": 1,
   "nav_menu": {},
   "number_sections": true,
   "sideBar": true,
   "skip_h1_title": false,
   "title_cell": "Table of Contents",
   "title_sidebar": "Contents",
   "toc_cell": false,
   "toc_position": {},
   "toc_section_display": true,
   "toc_window_display": false
  }
 },
 "nbformat": 4,
 "nbformat_minor": 5
}
