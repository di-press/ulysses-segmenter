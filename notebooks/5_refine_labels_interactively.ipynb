{
 "cells": [
  {
   "cell_type": "markdown",
   "id": "22c5fcc4",
   "metadata": {},
   "source": [
    "## Iteractively refine dataset labels"
   ]
  },
  {
   "cell_type": "code",
   "execution_count": null,
   "id": "a37d4994",
   "metadata": {
    "ExecuteTime": {
     "end_time": "2022-03-27T20:01:52.124157Z",
     "start_time": "2022-03-27T20:01:51.895404Z"
    }
   },
   "outputs": [],
   "source": [
    "import os\n",
    "import pathlib\n",
    "import typing as t\n",
    "import random\n",
    "import requests\n",
    "import json as json_package\n",
    "import collections\n",
    "import glob\n",
    "\n",
    "import IPython.display\n",
    "import ipywidgets\n",
    "import datasets\n",
    "import tokenizers\n",
    "import ipywidgets\n",
    "import colorama\n",
    "import tqdm\n",
    "\n",
    "import segmentador\n",
    "from config import *\n",
    "import interactive_labeling\n",
    "\n",
    "\n",
    "%load_ext autoreload\n",
    "%autoreload 2\n",
    "\n",
    "\n",
    "CN = colorama.Fore.RED\n",
    "CT = colorama.Fore.YELLOW\n",
    "CLN = colorama.Fore.CYAN\n",
    "CSR = colorama.Style.RESET_ALL\n",
    "\n",
    "\n",
    "VOCAB_SIZE = 6000\n",
    "AUTOSAVE_IN_N_INSTANCES = 20\n",
    "\n",
    "\n",
    "DATASET_SPLIT = \"test\"\n",
    "CACHED_INDEX_FILENAME = \"refined_indices.csv\"\n",
    "BRUTE_DATASET_DIR = \"../data\"\n",
    "\n",
    "TARGET_DATASET_NAME = f\"df_tokenized_split_0_120000_{VOCAB_SIZE}\"\n",
    "\n",
    "REFINED_DATASET_DIR = os.path.join(BRUTE_DATASET_DIR, \"refined_datasets\", TARGET_DATASET_NAME)\n",
    "\n",
    "BRUTE_DATASET_URI = os.path.join(BRUTE_DATASET_DIR, TARGET_DATASET_NAME)\n",
    "CACHED_INDEX_URI = os.path.join(REFINED_DATASET_DIR, CACHED_INDEX_FILENAME)\n",
    "\n",
    "\n",
    "assert BRUTE_DATASET_URI != REFINED_DATASET_DIR\n",
    "\n",
    "\n",
    "logit_model = segmentador.BERTSegmenter(\n",
    "    uri_model=f\"../pretrained_segmenter_model/4_{VOCAB_SIZE}_layer_model\",\n",
    "    device=\"cpu\",\n",
    ")\n",
    "\n",
    "pbar_dump = tqdm.auto.tqdm(desc=\"Instances until next dump:\", total=AUTOSAVE_IN_N_INSTANCES)\n",
    "it_counter = 0\n",
    "\n",
    "lock_save = False\n",
    "random.seed(17)"
   ]
  },
  {
   "cell_type": "code",
   "execution_count": null,
   "id": "ce45e6a4",
   "metadata": {
    "ExecuteTime": {
     "end_time": "2022-03-27T19:07:59.046742Z",
     "start_time": "2022-03-27T19:07:59.018702Z"
    }
   },
   "outputs": [],
   "source": [
    "tokenizer = tokenizers.Tokenizer.from_file(f\"../tokenizers/{VOCAB_SIZE}_subwords/tokenizer.json\")\n",
    "tokenizer.get_vocab_size()"
   ]
  },
  {
   "cell_type": "markdown",
   "id": "a6686a2d",
   "metadata": {},
   "source": [
    "## Load dataset"
   ]
  },
  {
   "cell_type": "code",
   "execution_count": null,
   "id": "cd40bb67",
   "metadata": {
    "ExecuteTime": {
     "end_time": "2022-03-27T19:08:02.323886Z",
     "start_time": "2022-03-27T19:08:02.263770Z"
    }
   },
   "outputs": [],
   "source": [
    "try:    \n",
    "    with open(CACHED_INDEX_URI, \"r\") as f_index:\n",
    "        cached_indices = set(map(int, f_index.read().split(\",\")))\n",
    "        \n",
    "    print(f\"Loaded {len(cached_indices)} indices from disk.\")\n",
    "\n",
    "except FileNotFoundError:\n",
    "    cached_indices = set()\n",
    "    \n",
    "    \n",
    "new_refined_instances = collections.defaultdict(list)\n",
    "df_brute = datasets.load_from_disk(BRUTE_DATASET_URI)\n",
    "df_brute"
   ]
  },
  {
   "cell_type": "markdown",
   "id": "b82efc8c",
   "metadata": {},
   "source": [
    "## Iteractive refinement"
   ]
  },
  {
   "cell_type": "code",
   "execution_count": null,
   "id": "7012a8e2",
   "metadata": {
    "ExecuteTime": {
     "end_time": "2022-03-27T20:42:29.913921Z",
     "start_time": "2022-03-27T20:42:24.908342Z"
    }
   },
   "outputs": [],
   "source": [
    "df_split = df_brute[DATASET_SPLIT]\n",
    "\n",
    "fn_rand = lambda: random.randint(0, df_split.num_rows)\n",
    "\n",
    "df_view_labels = df_split[\"labels\"]\n",
    "df_view_input_ids = df_split[\"input_ids\"]\n",
    "\n",
    "cls2id = {\n",
    "    \"no-op\": 0,\n",
    "    \"seg\": 1,\n",
    "    \"n-start\": 2,\n",
    "    \"n-end\": 3,\n",
    "}\n",
    "\n",
    "def print_labels(input_ids, labels, input_is_tokens: bool = False):\n",
    "    seg_counter = 1\n",
    "    \n",
    "    print(end=CSR)\n",
    "    print(end=f\"{CLN}{seg_counter}.{CSR} \")\n",
    "    \n",
    "    if not input_is_tokens:\n",
    "        tokens = list(map(tokenizer.id_to_token, input_ids))\n",
    "    \n",
    "    else:\n",
    "        tokens = input_ids\n",
    "    \n",
    "    for i, (tok, lab) in enumerate(zip(tokens, labels)):\n",
    "        if lab == cls2id[\"seg\"]:\n",
    "            seg_counter += 1\n",
    "            print(\"\\n\\n\", end=f\"{CLN}{seg_counter}.{CSR} \")\n",
    "        \n",
    "        if lab == cls2id[\"n-start\"]:\n",
    "            print(end=CN)\n",
    "            \n",
    "        if lab == cls2id[\"n-end\"]:\n",
    "            print(end=CSR)\n",
    "            \n",
    "        print(tok, end=\" \")\n",
    "        \n",
    "    return tokens\n",
    "\n",
    "\n",
    "def dump_refined_dataset():\n",
    "    new_subset = datasets.Dataset.from_dict(new_refined_instances, split=DATASET_SPLIT)\n",
    "    shard_id = len(glob.glob(os.path.join(REFINED_DATASET_DIR, f\"{DATASET_SPLIT}_*\")))\n",
    "    REFINED_DATASET_SHARD_URI = os.path.join(REFINED_DATASET_DIR, f\"{DATASET_SPLIT}_{shard_id}\")\n",
    "    new_subset.save_to_disk(REFINED_DATASET_SHARD_URI)\n",
    "    new_refined_instances.clear()\n",
    "    \n",
    "    with open(CACHED_INDEX_URI, \"w\") as f_index:\n",
    "        f_index.write(\",\".join(map(str, sorted(cached_indices))))\n",
    "    \n",
    "    it_counter = 0\n",
    "    \n",
    "    print(f\"Saved progress in '{REFINED_DATASET_SHARD_URI}'.\")\n",
    "    \n",
    "    \n",
    "def fn_run_cell(index_shift: int):\n",
    "    js = IPython.display.Javascript(\n",
    "        f\"Jupyter.notebook.execute_cells([IPython.notebook.get_selected_index()+{index_shift}])\"\n",
    "    )\n",
    "    IPython.display.display(js)\n",
    "\n",
    "    \n",
    "def fn_run_last_cell(_):\n",
    "    js = IPython.display.Javascript(\n",
    "        \"Jupyter.notebook.execute_cells([IPython.notebook.ncells() - 3])\"\n",
    "    )\n",
    "    IPython.display.display(js)\n",
    "\n",
    "    \n",
    "button_run_cell = ipywidgets.Button(\n",
    "    description=\"Fetch new instance\",\n",
    "    tooltip=\"Run cell below to fetch a random instance\",\n",
    "    layout=ipywidgets.Layout(width=\"25%\", height=\"48px\", margin=\"0 0 0 5%\"),\n",
    ")\n",
    "button_run_cell.on_click(lambda _: fn_run_cell(1))\n",
    "\n",
    "button_run_cell_b = ipywidgets.Button(\n",
    "    description=\"Fetch refined instance\",\n",
    "    tooltip=\"Fetch refined instance from front-end (run cell below)\",\n",
    "    style=dict(button_color=\"lightgreen\")\n",
    ")\n",
    "button_run_cell_b.layout = button_run_cell.layout\n",
    "button_run_cell_b.on_click(lambda _: fn_run_cell(1))\n",
    "\n",
    "button_edit_instance = ipywidgets.Button(\n",
    "    description=\"Edit instance\",\n",
    "    tooltip=\"Send instance to interactive front-end for refinement\",\n",
    "    style=dict(button_color=\"lightblue\"),\n",
    ")\n",
    "button_edit_instance.layout = button_run_cell.layout\n",
    "button_edit_instance.on_click(lambda _: fn_run_cell(2))\n",
    "\n",
    "button_save = ipywidgets.Button(\n",
    "    description=\"Save test instance\",\n",
    "    style=dict(button_color=\"salmon\"),\n",
    "    tooltip=\"Run notebook last cell (triggers code to save instance in curated dataset)\",\n",
    ")\n",
    "button_save.layout = button_run_cell.layout\n",
    "button_save.on_click(fn_run_last_cell)"
   ]
  },
  {
   "cell_type": "code",
   "execution_count": null,
   "id": "25507c79",
   "metadata": {
    "ExecuteTime": {
     "end_time": "2022-03-27T19:08:35.536375Z",
     "start_time": "2022-03-27T19:08:35.515695Z"
    }
   },
   "outputs": [],
   "source": [
    "IPython.display.display(ipywidgets.HBox((button_run_cell, button_edit_instance, button_save)));"
   ]
  },
  {
   "cell_type": "code",
   "execution_count": null,
   "id": "c3059c5e",
   "metadata": {
    "ExecuteTime": {
     "end_time": "2022-03-27T20:39:55.743598Z",
     "start_time": "2022-03-27T20:39:55.708258Z"
    },
    "scrolled": false
   },
   "outputs": [],
   "source": [
    "id_ = fn_rand()\n",
    "while id_ in cached_indices:\n",
    "    id_ = fn_rand()\n",
    "\n",
    "\n",
    "input_ids = df_view_input_ids[id_]\n",
    "labels = df_view_labels[id_]\n",
    "tokens = print_labels(input_ids, labels)"
   ]
  },
  {
   "cell_type": "code",
   "execution_count": null,
   "id": "215cb81c",
   "metadata": {
    "ExecuteTime": {
     "end_time": "2022-03-27T20:38:37.820571Z",
     "start_time": "2022-03-27T20:38:37.500717Z"
    }
   },
   "outputs": [],
   "source": [
    "logits = logit_model(df_split[id_], return_logits=True).logits\n",
    "interactive_labeling.open_example(tokens, labels, logits=logits)\n",
    "lock_save = True"
   ]
  },
  {
   "cell_type": "code",
   "execution_count": null,
   "id": "1d8697d2",
   "metadata": {
    "ExecuteTime": {
     "end_time": "2022-03-27T20:42:42.392565Z",
     "start_time": "2022-03-27T20:42:42.365878Z"
    }
   },
   "outputs": [],
   "source": [
    "IPython.display.display(ipywidgets.HBox((button_run_cell_b, button_save)));"
   ]
  },
  {
   "cell_type": "code",
   "execution_count": null,
   "id": "a3e40621",
   "metadata": {
    "ExecuteTime": {
     "end_time": "2022-03-27T20:39:18.343007Z",
     "start_time": "2022-03-27T20:39:18.288526Z"
    }
   },
   "outputs": [],
   "source": [
    "ret = interactive_labeling.retrieve_refined_example()\n",
    "assert len(ret[\"labels\"]) == len(tokens)\n",
    "labels = ret[\"labels\"]\n",
    "print_labels(tokens, labels, input_is_tokens=True)\n",
    "lock_save = False"
   ]
  },
  {
   "cell_type": "code",
   "execution_count": null,
   "id": "e3f5edf5",
   "metadata": {
    "ExecuteTime": {
     "end_time": "2022-03-27T20:42:52.084008Z",
     "start_time": "2022-03-27T20:42:52.065421Z"
    }
   },
   "outputs": [],
   "source": [
    "if not lock_save and id_ not in cached_indices:\n",
    "    it_counter += 1\n",
    "    cached_indices.add(id_)\n",
    "\n",
    "    for key, val in df_split[id_].items():\n",
    "        if key != \"labels\":\n",
    "            new_refined_instances[key].append(val.copy())\n",
    "\n",
    "        else:\n",
    "            new_refined_instances[key].append(labels)\n",
    "     \n",
    "    pbar_dump.update()\n",
    "\n",
    "\n",
    "if it_counter % AUTOSAVE_IN_N_INSTANCES == 0:\n",
    "    dump_refined_dataset()\n",
    "    pbar_dump.reset()\n",
    "    \n",
    "    \n",
    "print(pbar_dump)"
   ]
  },
  {
   "cell_type": "markdown",
   "id": "49ba0bc0",
   "metadata": {},
   "source": [
    "## Merge curated data shards"
   ]
  },
  {
   "cell_type": "code",
   "execution_count": null,
   "id": "59123826",
   "metadata": {
    "ExecuteTime": {
     "end_time": "2022-03-27T20:50:56.459973Z",
     "start_time": "2022-03-27T20:50:56.391076Z"
    }
   },
   "outputs": [],
   "source": [
    "shard_uris = glob.glob(os.path.join(REFINED_DATASET_DIR, f\"{DATASET_SPLIT}_*\"))\n",
    "\n",
    "all_dsets = [] \n",
    "\n",
    "for shard_uri in shard_uris:\n",
    "    shard = datasets.Dataset.load_from_disk(shard_uri)\n",
    "    if shard.num_rows:\n",
    "        all_dsets.append(shard)\n",
    "    \n",
    "merged_dset = datasets.concatenate_datasets(all_dsets)\n",
    "print(merged_dset.num_rows)\n",
    "\n",
    "output_uri_merged = os.path.join(\n",
    "    REFINED_DATASET_DIR,\n",
    "    f\"combined_{DATASET_SPLIT}_{len(shard_uris)}_parts_{merged_dset.num_rows}_instances\",\n",
    ")\n",
    "\n",
    "merged_dset.save_to_disk(output_uri_merged)"
   ]
  }
 ],
 "metadata": {
  "kernelspec": {
   "display_name": "Python 3",
   "language": "python",
   "name": "python3"
  },
  "language_info": {
   "codemirror_mode": {
    "name": "ipython",
    "version": 3
   },
   "file_extension": ".py",
   "mimetype": "text/x-python",
   "name": "python",
   "nbconvert_exporter": "python",
   "pygments_lexer": "ipython3",
   "version": "3.9.10"
  },
  "latex_envs": {
   "LaTeX_envs_menu_present": true,
   "autoclose": false,
   "autocomplete": true,
   "bibliofile": "biblio.bib",
   "cite_by": "apalike",
   "current_citInitial": 1,
   "eqLabelWithNumbers": true,
   "eqNumInitial": 1,
   "hotkeys": {
    "equation": "Ctrl-E",
    "itemize": "Ctrl-I"
   },
   "labels_anchors": false,
   "latex_user_defs": false,
   "report_style_numbering": false,
   "user_envs_cfg": false
  },
  "toc": {
   "base_numbering": 1,
   "nav_menu": {},
   "number_sections": true,
   "sideBar": true,
   "skip_h1_title": false,
   "title_cell": "Table of Contents",
   "title_sidebar": "Contents",
   "toc_cell": false,
   "toc_position": {},
   "toc_section_display": true,
   "toc_window_display": false
  }
 },
 "nbformat": 4,
 "nbformat_minor": 5
}
