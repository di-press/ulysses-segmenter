{
 "cells": [
  {
   "cell_type": "markdown",
   "id": "22c5fcc4",
   "metadata": {},
   "source": [
    "## Iteractively refine dataset labels"
   ]
  },
  {
   "cell_type": "code",
   "execution_count": 10,
   "id": "a37d4994",
   "metadata": {
    "ExecuteTime": {
     "end_time": "2022-03-22T17:59:27.986290Z",
     "start_time": "2022-03-22T17:59:27.968322Z"
    }
   },
   "outputs": [],
   "source": [
    "import os\n",
    "import pathlib\n",
    "import typing as t\n",
    "import random\n",
    "import requests\n",
    "import json as json_package\n",
    "\n",
    "import datasets\n",
    "import tokenizers\n",
    "import ipywidgets\n",
    "import colorama\n",
    "\n",
    "from config import *\n",
    "import interactive_labeling\n",
    "\n",
    "\n",
    "CN = colorama.Fore.RED\n",
    "CT = colorama.Fore.YELLOW\n",
    "CLN = colorama.Fore.CYAN\n",
    "CSR = colorama.Style.RESET_ALL\n",
    "\n",
    "\n",
    "VOCAB_SIZE = 6000\n",
    "AUTOSAVE_IN_N_INSTANCES = 10\n",
    "\n",
    "\n",
    "DATASET_SPLIT = \"test\"\n",
    "CACHED_INDEX_FILENAME = \"refined_indices.csv\"\n",
    "BRUTE_DATASET_DIR = \"../data\"\n",
    "REFINED_DATASET_DIR = os.path.join(BRUTE_DATASET_DIR, \"refined_datasets\")\n",
    "\n",
    "TARGET_DATASET_NAME = f\"df_tokenized_split_0_120000_{VOCAB_SIZE}\"\n",
    "\n",
    "BRUTE_DATASET_URI = os.path.join(BRUTE_DATASET_DIR, TARGET_DATASET_NAME)\n",
    "REFINED_DATASET_URI = os.path.join(REFINED_DATASET_DIR, TARGET_DATASET_NAME)\n",
    "CACHED_INDEX_URI = os.path.join(REFINED_DATASET_DIR, CACHED_INDEX_FILENAME)\n",
    "\n",
    "\n",
    "assert BRUTE_DATASET_URI != REFINED_DATASET_URI\n",
    "\n",
    "\n",
    "random.seed(17)"
   ]
  },
  {
   "cell_type": "code",
   "execution_count": 11,
   "id": "ce45e6a4",
   "metadata": {
    "ExecuteTime": {
     "end_time": "2022-03-22T17:59:29.723173Z",
     "start_time": "2022-03-22T17:59:29.647487Z"
    }
   },
   "outputs": [
    {
     "data": {
      "text/plain": [
       "6000"
      ]
     },
     "execution_count": 11,
     "metadata": {},
     "output_type": "execute_result"
    }
   ],
   "source": [
    "tokenizer = tokenizers.Tokenizer.from_file(f\"../tokenizers/{VOCAB_SIZE}_subwords/tokenizer.json\")\n",
    "tokenizer.get_vocab_size()"
   ]
  },
  {
   "cell_type": "markdown",
   "id": "a6686a2d",
   "metadata": {},
   "source": [
    "## Load dataset"
   ]
  },
  {
   "cell_type": "code",
   "execution_count": 12,
   "id": "cd40bb67",
   "metadata": {
    "ExecuteTime": {
     "end_time": "2022-03-22T17:59:31.346358Z",
     "start_time": "2022-03-22T17:59:31.179620Z"
    }
   },
   "outputs": [
    {
     "name": "stdout",
     "output_type": "stream",
     "text": [
      "Loaded brute dataset from disk.\n"
     ]
    },
    {
     "data": {
      "text/plain": [
       "DatasetDict({\n",
       "    train: Dataset({\n",
       "        features: ['labels', 'input_ids', 'token_type_ids', 'attention_mask'],\n",
       "        num_rows: 114884\n",
       "    })\n",
       "    eval: Dataset({\n",
       "        features: ['labels', 'input_ids', 'token_type_ids', 'attention_mask'],\n",
       "        num_rows: 14361\n",
       "    })\n",
       "    test: Dataset({\n",
       "        features: ['labels', 'input_ids', 'token_type_ids', 'attention_mask'],\n",
       "        num_rows: 14361\n",
       "    })\n",
       "})"
      ]
     },
     "execution_count": 12,
     "metadata": {},
     "output_type": "execute_result"
    }
   ],
   "source": [
    "try:\n",
    "    df = datasets.load_from_disk(REFINED_DATASET_URI)\n",
    "    \n",
    "    with open(CACHED_INDEX_URI, \"r\") as f_index:\n",
    "        cached_indices = set(map(int, f_index.read().split(\",\")))\n",
    "        \n",
    "    print(\"Loaded pre-refined dataset from disk.\")\n",
    "\n",
    "except FileNotFoundError:\n",
    "    df = datasets.load_from_disk(BRUTE_DATASET_URI)\n",
    "    cached_indices = set()\n",
    "    print(\"Loaded brute dataset from disk.\")\n",
    "    \n",
    "df"
   ]
  },
  {
   "cell_type": "markdown",
   "id": "b82efc8c",
   "metadata": {},
   "source": [
    "## Iteractive refinement"
   ]
  },
  {
   "cell_type": "code",
   "execution_count": 20,
   "id": "7012a8e2",
   "metadata": {
    "ExecuteTime": {
     "end_time": "2022-03-22T18:47:24.029865Z",
     "start_time": "2022-03-22T18:47:18.236100Z"
    }
   },
   "outputs": [],
   "source": [
    "fn_rand = lambda: random.randint(0, df[DATASET_SPLIT].num_rows)\n",
    "it_counter = 0\n",
    "\n",
    "df_view_labels = df[DATASET_SPLIT][\"labels\"]\n",
    "df_view_input_ids = df[DATASET_SPLIT][\"input_ids\"]\n",
    "\n",
    "cls2id = {\n",
    "    \"no-op\": 0,\n",
    "    \"seg\": 1,\n",
    "    \"n-start\": 2,\n",
    "    \"n-end\": 3,\n",
    "}\n",
    "\n",
    "def print_labels(input_ids, labels, input_is_tokens: bool = False):\n",
    "    seg_counter = 1\n",
    "    \n",
    "    print(end=CSR)\n",
    "    print(end=f\"{CLN}{seg_counter}.{CSR} \")\n",
    "    \n",
    "    if not input_is_tokens:\n",
    "        tokens = list(map(tokenizer.id_to_token, input_ids))\n",
    "    \n",
    "    else:\n",
    "        tokens = input_ids\n",
    "    \n",
    "    for i, (tok, lab) in enumerate(zip(tokens, labels)):\n",
    "        if lab == cls2id[\"seg\"]:\n",
    "            seg_counter += 1\n",
    "            print(\"\\n\\n\", end=f\"{CLN}{seg_counter}.{CSR} \")\n",
    "        \n",
    "        if lab == cls2id[\"n-start\"]:\n",
    "            print(end=CN)\n",
    "            \n",
    "        if lab == cls2id[\"n-end\"]:\n",
    "            print(end=CSR)\n",
    "            \n",
    "        print(tok, end=\" \")\n",
    "        \n",
    "    return tokens"
   ]
  },
  {
   "cell_type": "code",
   "execution_count": 39,
   "id": "c3059c5e",
   "metadata": {
    "ExecuteTime": {
     "end_time": "2022-03-22T18:51:59.788653Z",
     "start_time": "2022-03-22T18:51:59.775024Z"
    },
    "scrolled": false
   },
   "outputs": [
    {
     "name": "stdout",
     "output_type": "stream",
     "text": [
      "\u001b[0m\u001b[36m1.\u001b[0m [CLS] REQUERIMENTO DE INFORMAÇÃO Nº , DE 2020 ( Da Sra . Deputada Federal LU ##Í ##SA CA ##N ##Z ##IA ##NI ) \n",
      "\n",
      "\u001b[36m2.\u001b[0m Requer informações ao Ministro da Economia acerca do PL 38 ##87 / 2020 , de autoria do Poder Executivo , que prevê a remo ##ção do PIS e Co ##f ##ins do ro ##l de is ##enções do Programa Universidade para Todos ( Pro ##U ##ni ) . \n",
      "\n",
      "\u001b[36m3.\u001b[0m Senhor Presidente , Requeiro a Vossa Excelência , nos termos do artigo 50 , § 2º , da Constituição Federal , e nos artigos . 115 , I , e 116 do Regimento Interno da Câmara dos Deputados , a solicitação de informações ao Ministro da Economia para esclar ##ecimento aos dados que ense ##ja ##ram a remo ##ção da isenção do PIS e Co ##f ##ins para Institui ##ções de Ensino Superior Par ##tic ##ulares , com ou sem fins lucrativos , que ad ##er ##ir ##em ao Programa Universidade Para Todos ( Pro ##U ##ni ) , sem que seja inclu ##sa a Contribuição Social sobre Op ##era ##ções com B ##ens e Serviços – C ##B ##S , conforme disposto no \n",
      "\n",
      "\u001b[36m4.\u001b[0m Projeto de Lei 38 ##87 / 2020 , de autoria do Poder Executivo \n",
      "\n",
      "\u001b[36m5.\u001b[0m . Nesse sentido , considerando a proposta envi ##ada pelo governo para ser analis ##ada por esta Casa e a atual impos ##si ##bilidade de audi ##ências públicas e sessões de de ##bate ##s em com ##issões , go ##sta ##r ##í ##amos de obter os seguintes esclar ##ecimentos : \n",
      "\n",
      "\u001b[36m6.\u001b[0m 1 . Quais os número ##s , estudos e not ##as técnicas que emb ##as ##aram a decisão do governo de remo ##ver PIS e Co ##f ##ins do ro ##l de is ##enções do Pro ##un ##i sem acrescenta ##r o C ##B ##S ? \n",
      "\n",
      "\u001b[36m7.\u001b[0m 2 . O governo prev ##iu impacto acerca proposta e a continuidade do Pro ##un ##i ? Caso sim , qual o impacto relacion ##ado ao número de matrícul ##as e instituições ad ##ere ##ntes ? [SEP] "
     ]
    }
   ],
   "source": [
    "id_ = fn_rand()\n",
    "while id_ in cached_indices:\n",
    "    id_ = fn_rand()\n",
    "    \n",
    "\n",
    "input_ids = df_view_input_ids[id_]\n",
    "labels = df_view_labels[id_]\n",
    "tokens = print_labels(input_ids, labels)"
   ]
  },
  {
   "cell_type": "code",
   "execution_count": 40,
   "id": "215cb81c",
   "metadata": {
    "ExecuteTime": {
     "end_time": "2022-03-22T19:29:17.802248Z",
     "start_time": "2022-03-22T19:29:17.782911Z"
    }
   },
   "outputs": [],
   "source": [
    "interactive_labeling.open_example(tokens, labels)"
   ]
  },
  {
   "cell_type": "code",
   "execution_count": 41,
   "id": "e3f5edf5",
   "metadata": {
    "ExecuteTime": {
     "end_time": "2022-03-22T19:30:14.787143Z",
     "start_time": "2022-03-22T19:30:14.763833Z"
    }
   },
   "outputs": [],
   "source": [
    "ret = interactive_labeling.retrieve_refined_example()\n",
    "\n",
    "it_counter += 1\n",
    "\n",
    "if it_counter % AUTOSAVE_IN_N_INSTANCES == 0:\n",
    "    df[DATASET_SPLIT][\"labels\"] = df_view_labels\n",
    "    df[DATASET_SPLIT][\"input_ids\"] = df_view_input_ids\n",
    "    \n",
    "    # df.save_to_disk(dataset_dict_path=REFINED_DATASET_URI)\n",
    "    \n",
    "    print(f\"Saved progress in '{REFINED_DATASET_URI}'.\")\n",
    "    \n",
    "    it_counter = 0"
   ]
  },
  {
   "cell_type": "code",
   "execution_count": 42,
   "id": "267df60e",
   "metadata": {
    "ExecuteTime": {
     "end_time": "2022-03-22T19:30:18.226709Z",
     "start_time": "2022-03-22T19:30:18.174747Z"
    },
    "scrolled": false
   },
   "outputs": [
    {
     "name": "stdout",
     "output_type": "stream",
     "text": [
      "\u001b[0m\u001b[36m1.\u001b[0m [CLS] REQUERIMENTO DE INFORMAÇÃO Nº , DE 2020 ( Da Sra . Deputada Federal LU ##Í ##SA CA ##N ##Z ##IA ##NI ) \n",
      "\n",
      "\u001b[36m2.\u001b[0m Requer informações ao Ministro da Economia acerca do PL 38 ##87 / 2020 , de autoria do Poder Executivo , que prevê a remo ##ção do PIS e Co ##f ##ins do ro ##l de is ##enções do Programa Universidade para Todos ( Pro ##U ##ni ) . \n",
      "\n",
      "\u001b[36m3.\u001b[0m Senhor Presidente , Requeiro a Vossa Excelência , nos termos do artigo 50 , § 2º , da Constituição Federal , e nos artigos . 115 , I , e 116 do Regimento Interno da Câmara dos Deputados , a solicitação de informações ao Ministro da Economia para esclar ##ecimento aos dados que ense ##ja ##ram a remo ##ção da isenção do PIS e Co ##f ##ins para Institui ##ções de Ensino Superior Par ##tic ##ulares , com ou sem fins lucrativos , que ad ##er ##ir ##em ao Programa Universidade Para Todos ( Pro ##U ##ni ) , sem que seja inclu ##sa a Contribuição Social sobre Op ##era ##ções com B ##ens e Serviços – C ##B ##S , conforme disposto no Projeto de Lei 38 ##87 / 2020 , de autoria do Poder Executivo . Nesse sentido , considerando a proposta envi ##ada pelo governo para ser analis ##ada por esta Casa e a atual impos ##si ##bilidade de audi ##ências públicas e sessões de de ##bate ##s em com ##issões , go ##sta ##r ##í ##amos de obter os seguintes esclar ##ecimentos : \n",
      "\n",
      "\u001b[36m4.\u001b[0m 1 . Quais os número ##s , estudos e not ##as técnicas que emb ##as ##aram a decisão do governo de remo ##ver PIS e Co ##f ##ins do ro ##l de is ##enções do Pro ##un ##i sem acrescenta ##r o C ##B ##S ? \n",
      "\n",
      "\u001b[36m5.\u001b[0m 2 . O governo prev ##iu impacto acerca proposta e a continuidade do Pro ##un ##i ? Caso sim , qual o impacto relacion ##ado ao número de matrícul ##as e instituições ad ##ere ##ntes ? [SEP] "
     ]
    }
   ],
   "source": [
    "print_labels(ret[\"tokens\"], ret[\"labels\"], input_is_tokens=True);"
   ]
  }
 ],
 "metadata": {
  "kernelspec": {
   "display_name": "Python 3",
   "language": "python",
   "name": "python3"
  },
  "language_info": {
   "codemirror_mode": {
    "name": "ipython",
    "version": 3
   },
   "file_extension": ".py",
   "mimetype": "text/x-python",
   "name": "python",
   "nbconvert_exporter": "python",
   "pygments_lexer": "ipython3",
   "version": "3.9.10"
  },
  "latex_envs": {
   "LaTeX_envs_menu_present": true,
   "autoclose": false,
   "autocomplete": true,
   "bibliofile": "biblio.bib",
   "cite_by": "apalike",
   "current_citInitial": 1,
   "eqLabelWithNumbers": true,
   "eqNumInitial": 1,
   "hotkeys": {
    "equation": "Ctrl-E",
    "itemize": "Ctrl-I"
   },
   "labels_anchors": false,
   "latex_user_defs": false,
   "report_style_numbering": false,
   "user_envs_cfg": false
  },
  "toc": {
   "base_numbering": 1,
   "nav_menu": {},
   "number_sections": true,
   "sideBar": true,
   "skip_h1_title": false,
   "title_cell": "Table of Contents",
   "title_sidebar": "Contents",
   "toc_cell": false,
   "toc_position": {},
   "toc_section_display": true,
   "toc_window_display": false
  }
 },
 "nbformat": 4,
 "nbformat_minor": 5
}
