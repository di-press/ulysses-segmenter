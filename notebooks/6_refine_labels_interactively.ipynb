{
 "cells": [
  {
   "cell_type": "markdown",
   "id": "22c5fcc4",
   "metadata": {},
   "source": [
    "## Iteractively refine dataset labels"
   ]
  },
  {
   "cell_type": "code",
   "execution_count": 54,
   "id": "a37d4994",
   "metadata": {
    "ExecuteTime": {
     "end_time": "2022-03-23T20:08:53.539497Z",
     "start_time": "2022-03-23T20:08:53.284827Z"
    }
   },
   "outputs": [
    {
     "name": "stdout",
     "output_type": "stream",
     "text": [
      "The autoreload extension is already loaded. To reload it, use:\n",
      "  %reload_ext autoreload\n"
     ]
    },
    {
     "data": {
      "application/vnd.jupyter.widget-view+json": {
       "model_id": "91a2f1ec4f134aa68b571fb293f8e6e0",
       "version_major": 2,
       "version_minor": 0
      },
      "text/plain": [
       "Instances until next dump::   0%|          | 0/20 [00:00<?, ?it/s]"
      ]
     },
     "metadata": {},
     "output_type": "display_data"
    }
   ],
   "source": [
    "import os\n",
    "import pathlib\n",
    "import typing as t\n",
    "import random\n",
    "import requests\n",
    "import json as json_package\n",
    "import collections\n",
    "\n",
    "import datasets\n",
    "import tokenizers\n",
    "import ipywidgets\n",
    "import colorama\n",
    "import tqdm.auto\n",
    "\n",
    "import segmentador\n",
    "from config import *\n",
    "import interactive_labeling\n",
    "\n",
    "\n",
    "%load_ext autoreload\n",
    "%autoreload 2\n",
    "\n",
    "\n",
    "CN = colorama.Fore.RED\n",
    "CT = colorama.Fore.YELLOW\n",
    "CLN = colorama.Fore.CYAN\n",
    "CSR = colorama.Style.RESET_ALL\n",
    "\n",
    "\n",
    "VOCAB_SIZE = 6000\n",
    "AUTOSAVE_IN_N_INSTANCES = 20\n",
    "\n",
    "\n",
    "DATASET_SPLIT = \"test\"\n",
    "CACHED_INDEX_FILENAME = \"refined_indices.csv\"\n",
    "BRUTE_DATASET_DIR = \"../data\"\n",
    "REFINED_DATASET_DIR = os.path.join(BRUTE_DATASET_DIR, \"refined_datasets\")\n",
    "\n",
    "TARGET_DATASET_NAME = f\"df_tokenized_split_0_120000_{VOCAB_SIZE}\"\n",
    "\n",
    "BRUTE_DATASET_URI = os.path.join(BRUTE_DATASET_DIR, TARGET_DATASET_NAME)\n",
    "REFINED_DATASET_URI = os.path.join(REFINED_DATASET_DIR, TARGET_DATASET_NAME)\n",
    "CACHED_INDEX_URI = os.path.join(REFINED_DATASET_DIR, CACHED_INDEX_FILENAME)\n",
    "\n",
    "\n",
    "assert BRUTE_DATASET_URI != REFINED_DATASET_URI\n",
    "\n",
    "\n",
    "logit_model = segmentador.BERTSegmenter(\n",
    "    uri_model=f\"../pretrained_segmenter_model/4_{VOCAB_SIZE}_layer_model\",\n",
    "    device=\"cpu\",\n",
    ")\n",
    "\n",
    "pbar_dump = tqdm.auto.tqdm(desc=\"Instances until next dump:\", total=AUTOSAVE_IN_N_INSTANCES)\n",
    "\n",
    "random.seed(17)"
   ]
  },
  {
   "cell_type": "code",
   "execution_count": 2,
   "id": "ce45e6a4",
   "metadata": {
    "ExecuteTime": {
     "end_time": "2022-03-23T19:35:13.834260Z",
     "start_time": "2022-03-23T19:35:13.811197Z"
    }
   },
   "outputs": [
    {
     "data": {
      "text/plain": [
       "6000"
      ]
     },
     "execution_count": 2,
     "metadata": {},
     "output_type": "execute_result"
    }
   ],
   "source": [
    "tokenizer = tokenizers.Tokenizer.from_file(f\"../tokenizers/{VOCAB_SIZE}_subwords/tokenizer.json\")\n",
    "tokenizer.get_vocab_size()"
   ]
  },
  {
   "cell_type": "markdown",
   "id": "a6686a2d",
   "metadata": {},
   "source": [
    "## Load dataset"
   ]
  },
  {
   "cell_type": "code",
   "execution_count": 3,
   "id": "cd40bb67",
   "metadata": {
    "ExecuteTime": {
     "end_time": "2022-03-23T19:35:15.636916Z",
     "start_time": "2022-03-23T19:35:15.611853Z"
    }
   },
   "outputs": [
    {
     "name": "stdout",
     "output_type": "stream",
     "text": [
      "Created new refined dataset.\n"
     ]
    },
    {
     "data": {
      "text/plain": [
       "(DatasetDict({\n",
       "     train: Dataset({\n",
       "         features: ['labels', 'input_ids', 'token_type_ids', 'attention_mask'],\n",
       "         num_rows: 114884\n",
       "     })\n",
       "     eval: Dataset({\n",
       "         features: ['labels', 'input_ids', 'token_type_ids', 'attention_mask'],\n",
       "         num_rows: 14361\n",
       "     })\n",
       "     test: Dataset({\n",
       "         features: ['labels', 'input_ids', 'token_type_ids', 'attention_mask'],\n",
       "         num_rows: 14361\n",
       "     })\n",
       " }),\n",
       " DatasetDict({\n",
       "     \n",
       " }))"
      ]
     },
     "execution_count": 3,
     "metadata": {},
     "output_type": "execute_result"
    }
   ],
   "source": [
    "try:\n",
    "    df_refined = datasets.load_from_disk(REFINED_DATASET_URI)\n",
    "    \n",
    "    with open(CACHED_INDEX_URI, \"r\") as f_index:\n",
    "        cached_indices = set(map(int, f_index.read().split(\",\")))\n",
    "        \n",
    "    print(\"Loaded pre-refined dataset from disk.\")\n",
    "\n",
    "except FileNotFoundError:\n",
    "    df_refined = datasets.DatasetDict()\n",
    "    cached_indices = set()\n",
    "    print(\"Created new refined dataset.\")\n",
    "    \n",
    "new_refined_instances = collections.defaultdict(list)\n",
    "df_brute = datasets.load_from_disk(BRUTE_DATASET_URI)\n",
    "df_brute, df_refined"
   ]
  },
  {
   "cell_type": "markdown",
   "id": "b82efc8c",
   "metadata": {},
   "source": [
    "## Iteractive refinement"
   ]
  },
  {
   "cell_type": "code",
   "execution_count": 108,
   "id": "7012a8e2",
   "metadata": {
    "ExecuteTime": {
     "end_time": "2022-03-23T20:50:29.403692Z",
     "start_time": "2022-03-23T20:50:24.591243Z"
    }
   },
   "outputs": [],
   "source": [
    "df_split = df_brute[DATASET_SPLIT]\n",
    "\n",
    "fn_rand = lambda: random.randint(0, df_split.num_rows)\n",
    "it_counter = 0\n",
    "\n",
    "df_view_labels = df_split[\"labels\"]\n",
    "df_view_input_ids = df_split[\"input_ids\"]\n",
    "\n",
    "cls2id = {\n",
    "    \"no-op\": 0,\n",
    "    \"seg\": 1,\n",
    "    \"n-start\": 2,\n",
    "    \"n-end\": 3,\n",
    "}\n",
    "\n",
    "def print_labels(input_ids, labels, input_is_tokens: bool = False):\n",
    "    seg_counter = 1\n",
    "    \n",
    "    print(end=CSR)\n",
    "    print(end=f\"{CLN}{seg_counter}.{CSR} \")\n",
    "    \n",
    "    if not input_is_tokens:\n",
    "        tokens = list(map(tokenizer.id_to_token, input_ids))\n",
    "    \n",
    "    else:\n",
    "        tokens = input_ids\n",
    "    \n",
    "    for i, (tok, lab) in enumerate(zip(tokens, labels)):\n",
    "        if lab == cls2id[\"seg\"]:\n",
    "            seg_counter += 1\n",
    "            print(\"\\n\\n\", end=f\"{CLN}{seg_counter}.{CSR} \")\n",
    "        \n",
    "        if lab == cls2id[\"n-start\"]:\n",
    "            print(end=CN)\n",
    "            \n",
    "        if lab == cls2id[\"n-end\"]:\n",
    "            print(end=CSR)\n",
    "            \n",
    "        print(tok, end=\" \")\n",
    "        \n",
    "    return tokens\n",
    "\n",
    "\n",
    "def dump_refined_dataset():\n",
    "    new_subset = datasets.Dataset.from_dict(new_refined_instances, split=DATASET_SPLIT)\n",
    "    \n",
    "    if DATASET_SPLIT not in df_refined:\n",
    "        df_refined[DATASET_SPLIT] = datasets.Dataset.from_dict({}, split=DATASET_SPLIT)\n",
    "    \n",
    "    df_refined[DATASET_SPLIT] = datasets.concatenate_datasets(\n",
    "        [df_refined[DATASET_SPLIT], new_subset],\n",
    "        split=DATASET_SPLIT,\n",
    "    )\n",
    "    df_refined.save_to_disk(dataset_dict_path=REFINED_DATASET_URI)\n",
    "    \n",
    "    new_refined_instances.clear()\n",
    "    \n",
    "    print(f\"Saved progress in '{REFINED_DATASET_URI}'.\")\n",
    "    \n",
    "    with open(CACHED_INDEX_URI, \"w\") as f_index:\n",
    "        f_index.write(\",\".join(map(str, sorted(cached_indices))))\n",
    "    \n",
    "    it_counter = 0"
   ]
  },
  {
   "cell_type": "code",
   "execution_count": 329,
   "id": "c3059c5e",
   "metadata": {
    "ExecuteTime": {
     "end_time": "2022-03-23T23:37:04.239431Z",
     "start_time": "2022-03-23T23:37:04.200085Z"
    },
    "scrolled": false
   },
   "outputs": [
    {
     "name": "stdout",
     "output_type": "stream",
     "text": [
      "\u001b[0m\u001b[36m1.\u001b[0m [CLS] PROJETO DE LEI Nº de 2016 ( Do Sr . Ar ##na ##l ##do F ##ari ##a de S ##á ) \n",
      "\n",
      "\u001b[36m2.\u001b[0m Altera o Código de Defesa do Consumidor , dispon ##do as exigências indispens ##áveis para a realização das ano ##tações neg ##ativa ##s dos consumidores , e a ved ##ação da realização de cobrança de débitos pelos cadastro ##s de proteção ao crédito e congên ##eres . \n",
      "\n",
      "\u001b[36m3.\u001b[0m Art . 1º . Esta lei altera o artigo 43 , da Lei nº 8 . 078 , de 11 de setembro de 1990 . \n",
      "\n",
      "\u001b[36m4.\u001b[0m Art . 2º . Os § § 2º e 4º do artigo 43 , da Lei nº 8 . 078 de 11 de setembro de 1990 , passam a vigorar , altera ##dos , com a seguinte redação : “ \n",
      "\n",
      "\u001b[36m5.\u001b[0m Art . 43 . . . . . . . \n",
      "\n",
      "\u001b[36m6.\u001b[0m § 2° A abertura de cadastro , fic ##ha , registro e dados pessoa ##is e de consumo deverá ser comunic ##ada por escrito ao consumidor , quando não solici ##tada por ele , sendo que as ano ##tações neg ##ativa ##s que não sejam oriun ##das de dívidas prot ##esta ##das ou de cobrança em juízo , só poderão ser realizadas diante : \n",
      "\n",
      "\u001b[36m7.\u001b[0m I – do documento apresentado pelo cred ##or que at ##este a existência da dívida , a sua exig ##ibilidade e a prova do inad ##impl ##em ##ento do consumidor ; \n",
      "\n",
      "\u001b[36m8.\u001b[0m II – da prova da entrega da prévia comunicação ao consumidor , mediante protocol ##o de recebimento no endereço fornec ##ido por ele . . . . \n",
      "\n",
      "\u001b[36m9.\u001b[0m § 4° Os bancos de dados e cadastro ##s relativos a consumidores , os serviços de proteção ao crédito e congên ##eres são considerados entidades de caráter público , não autorizado ##s a realizar cobrança de débitos , devendo , quanto às ano ##tações neg ##ativa ##s , observar o disposto no § 2º deste artigo . . . . \u001b[31m” [SEP] "
     ]
    }
   ],
   "source": [
    "id_ = fn_rand()\n",
    "while id_ in cached_indices:\n",
    "    id_ = fn_rand()\n",
    "\n",
    "\n",
    "input_ids = df_view_input_ids[id_]\n",
    "labels = df_view_labels[id_]\n",
    "tokens = print_labels(input_ids, labels)"
   ]
  },
  {
   "cell_type": "code",
   "execution_count": 326,
   "id": "215cb81c",
   "metadata": {
    "ExecuteTime": {
     "end_time": "2022-03-23T23:36:40.570952Z",
     "start_time": "2022-03-23T23:36:40.267237Z"
    }
   },
   "outputs": [],
   "source": [
    "logits = logit_model(df_split[id_], return_logits=True).logits\n",
    "interactive_labeling.open_example(tokens, labels, logits=logits)\n",
    "lock_save = True"
   ]
  },
  {
   "cell_type": "code",
   "execution_count": 327,
   "id": "a38b2f16",
   "metadata": {
    "ExecuteTime": {
     "end_time": "2022-03-23T23:36:56.113968Z",
     "start_time": "2022-03-23T23:36:56.054168Z"
    }
   },
   "outputs": [
    {
     "name": "stdout",
     "output_type": "stream",
     "text": [
      "\u001b[0m\u001b[36m1.\u001b[0m [CLS] , distribuição de conteúdo ##s progra ##m ##áticos para a educação de trânsito e promoção e divulgação de trabalhos técnicos sobre trânsito ; \n",
      "\n",
      "\u001b[36m2.\u001b[0m VIII - na promoção da realização de reuniões regionais e cong ##res ##sos nacionais de trânsito , bem como na representação do Brasil em cong ##res ##sos ou reuniões internacionais relacionados com a segurança e educação de trânsito ; \n",
      "\n",
      "\u001b[36m3.\u001b[0m IX - na elaboração e promoção de projetos e programas de formação , tre ##inamento e especial ##ização do pessoal encar ##reg ##ado da execução das atividades de eng ##enha ##ria , educação , informa ##tização , pol ##icia ##mento os ##te ##ns ##iv ##o , fiscalização , operação e administração de trânsito ; \n",
      "\n",
      "\u001b[36m4.\u001b[0m X - na organização e manutenção de modelo pad ##rão de coleta de informações sobre as ocorrência ##s e os acidentes de trânsito ; \n",
      "\n",
      "\u001b[36m5.\u001b[0m XI - na implementação de acordos de cooperação com organ ##ismos internacionais com vista ao aperfeiço ##amento das ações iner ##entes à segurança e educação de trânsito . \n",
      "\n",
      "\u001b[36m6.\u001b[0m § 1º Para os efeitos da aplicação dos recursos do FUN ##S ##ET , considera ##m - se operacional ##ização da segurança e educação de trânsito as atividades necessárias ao planejamento , manutenção , execução , organização , aperfeiço ##amento e avaliação do Sistema Nacional de Trânsito . \n",
      "\n",
      "\u001b[36m7.\u001b[0m § 2º As despesas a que se refere o inciso VIII deste artigo não poderão ser superior ##es a dois por cento da receita total do FUN ##S ##ET . \n",
      "\n",
      "\u001b[36m8.\u001b[0m Como se é sab ##ido , o atual governo está ret ##endo um rec ##ord ##e de recursos que dever ##iam ser investi ##dos em prevenção de acidentes e projetos educacionais , des ##via ##ndo para a área econômica com a finalidade de acum ##ular super ##á ##vi ##t prim ##ário . O Estado do Ama ##p ##á , por exemplo , sof ##re com a ausência deste repasse , que poder ##ia e dever ##ia aux ##iliar a melhoria de seu trânsito . De acordo com o DE ##NA ##T ##RAN , no ano de 2005 , o Ama ##p ##á fic ##ou em 3º lug ##ar no ra ##n ##k ##ing nacional de acidentes de trânsito com 3 . 08 ##3 vítimas , sendo que sua média fic ##ou em 18 , 5 vítimas proporcional ##mente ao número de veículos , perd ##endo apenas para o Maranhão e Goiás , que fica ##ram com a média de 27 , 4 e 27 , 1 , respectivamente . O Ama ##p ##á fic ##ou acima de Estados como Rio de Janeiro e São Paulo que apresentar ##am média de 8 , 1 e 4 , 3 vítimas de acidentes por número de veículos . Em apenas 10 anos , a fr ##o ##ta de autom ##óveis no Estado do Ama ##p ##á aumento ##u mais de 100 % , passa ##ndo de 24 . 15 ##4 em 1995 para 56 . 76 ##5 em 2007 . Esta realidade demonst ##ra cl ##aram ##ente que é impresci ##nd ##ível que a ver ##ba repass ##ada ao FUN ##S ##ET seja efetivamente repass ##ada aos estados que , como o Ama ##p ##á , necess ##itam com urgência trabalh ##ar para melhoria de seu trânsito e a qualidade de vida de seus habitantes . O que pl ##ei ##te ##ia - se com esta Indicação é que a ver ##ba oriun ##da do percentual arrecad ##ado pelas multas e repass ##ada ao FUN ##S ##ET , seja aplicada para o fim que foi cria ##da , ou seja , para todos os elementos disposto ##s no Artigo 4 ##ª do Decreto 2 . 61 ##3 / 98 . Na ##da ped ##e - se além do est ##rito cumprimento da Lei . \n",
      "\n",
      "\u001b[36m9.\u001b[0m Sala de Sessões , em de de 2007 . E ##VA ##ND ##RO M ##IL ##HO ##MEN PCdoB / AP [SEP] "
     ]
    }
   ],
   "source": [
    "ret = interactive_labeling.retrieve_refined_example()\n",
    "labels = ret[\"labels\"]\n",
    "print_labels(tokens, labels, input_is_tokens=True);\n",
    "lock_save = False"
   ]
  },
  {
   "cell_type": "code",
   "execution_count": 330,
   "id": "e3f5edf5",
   "metadata": {
    "ExecuteTime": {
     "end_time": "2022-03-23T23:37:39.253371Z",
     "start_time": "2022-03-23T23:37:39.224107Z"
    }
   },
   "outputs": [
    {
     "name": "stdout",
     "output_type": "stream",
     "text": [
      "Saved progress in '../data/refined_datasets/df_tokenized_split_0_120000_6000'.\n",
      "Instances until next dump::   0%|          | 0/20 [00:00<?, ?it/s]\n"
     ]
    }
   ],
   "source": [
    "if not lock_save and id_ not in cached_indices:\n",
    "    it_counter += 1\n",
    "    cached_indices.add(id_)\n",
    "\n",
    "    for key, val in df_split[id_].items():\n",
    "        if key != \"labels\":\n",
    "            new_refined_instances[key].append(val.copy())\n",
    "\n",
    "        else:\n",
    "            new_refined_instances[key].append(labels)\n",
    "     \n",
    "    pbar_dump.update()\n",
    "\n",
    "\n",
    "if it_counter % AUTOSAVE_IN_N_INSTANCES == 0:\n",
    "    dump_refined_dataset()\n",
    "    pbar_dump.reset()\n",
    "\n",
    "    \n",
    "print(pbar_dump)"
   ]
  }
 ],
 "metadata": {
  "kernelspec": {
   "display_name": "Python 3",
   "language": "python",
   "name": "python3"
  },
  "language_info": {
   "codemirror_mode": {
    "name": "ipython",
    "version": 3
   },
   "file_extension": ".py",
   "mimetype": "text/x-python",
   "name": "python",
   "nbconvert_exporter": "python",
   "pygments_lexer": "ipython3",
   "version": "3.9.10"
  },
  "latex_envs": {
   "LaTeX_envs_menu_present": true,
   "autoclose": false,
   "autocomplete": true,
   "bibliofile": "biblio.bib",
   "cite_by": "apalike",
   "current_citInitial": 1,
   "eqLabelWithNumbers": true,
   "eqNumInitial": 1,
   "hotkeys": {
    "equation": "Ctrl-E",
    "itemize": "Ctrl-I"
   },
   "labels_anchors": false,
   "latex_user_defs": false,
   "report_style_numbering": false,
   "user_envs_cfg": false
  },
  "toc": {
   "base_numbering": 1,
   "nav_menu": {},
   "number_sections": true,
   "sideBar": true,
   "skip_h1_title": false,
   "title_cell": "Table of Contents",
   "title_sidebar": "Contents",
   "toc_cell": false,
   "toc_position": {},
   "toc_section_display": true,
   "toc_window_display": false
  }
 },
 "nbformat": 4,
 "nbformat_minor": 5
}
