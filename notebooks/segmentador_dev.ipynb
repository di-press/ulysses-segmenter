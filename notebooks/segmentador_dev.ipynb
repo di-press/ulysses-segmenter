{
 "cells": [
  {
   "cell_type": "code",
   "execution_count": null,
   "id": "458ccb35",
   "metadata": {
    "ExecuteTime": {
     "end_time": "2022-03-09T16:34:07.020465Z",
     "start_time": "2022-03-09T16:34:05.714307Z"
    }
   },
   "outputs": [],
   "source": [
    "import os\n",
    "\n",
    "import transformers\n",
    "import torch\n",
    "import torch.nn\n",
    "import datasets\n",
    "import numpy as np\n",
    "import sklearn.metrics\n",
    "# import onnxruntime\n",
    "\n",
    "import segmentador\n",
    "\n",
    "\n",
    "TRAIN_MODEL = False\n",
    "PREDICT_TEST_SET_AT_END = True\n",
    "DEBUG_RUN = True\n",
    "RESOURCE_DIR = \"..\"\n",
    "\n",
    "USE_FP16 = False\n",
    "DEVICE = \"cuda\"\n",
    "LOCAL_FILES_ONLY = True\n",
    "LOAD_PRETRAINED_WEIGHTS = True\n",
    "NUM_TRAIN_EPOCHS = 4\n",
    "NUM_HIDDEN_LAYERS = 6\n",
    "GRAD_ACCUMULATION_STEPS = 16\n",
    "TRAINED_MODEL_SAVE_PATH = os.path.join(RESOURCE_DIR, \"pretrained_segmenter_model\")\n",
    "TRAINER_STATE_SAVE_PATH = os.path.join(RESOURCE_DIR, \"saved_trainer_states\")"
   ]
  },
  {
   "cell_type": "code",
   "execution_count": null,
   "id": "60d11642",
   "metadata": {
    "ExecuteTime": {
     "end_time": "2022-03-09T16:34:11.394132Z",
     "start_time": "2022-03-09T16:34:07.021649Z"
    }
   },
   "outputs": [],
   "source": [
    "MODEL_URIS = {\n",
    "    \"trained_model\": (TRAINED_MODEL_SAVE_PATH, True),\n",
    "    \"pretrained_bertimbau_hugginface_hub\": (\"neuralmind/bert-base-portuguese-cased\", False),\n",
    "    \"pretrained_bertimbau_local\": (\"../base_models/bert-base-portuguese-cased\", False),\n",
    "}\n",
    "\n",
    "\n",
    "if LOCAL_FILES_ONLY:\n",
    "    MODEL_URIS.pop(\"pretrained_bertimbau_hugginface_hub\")\n",
    "    \n",
    "\n",
    "for uri_tag, (uri_model, init_from_pretrained) in MODEL_URIS.items():\n",
    "    try:\n",
    "        seg_model = segmentador.Segmenter(\n",
    "            local_files_only=LOCAL_FILES_ONLY,\n",
    "            device=DEVICE,\n",
    "            uri_model=uri_model,\n",
    "            init_from_pretrained_weights=init_from_pretrained,\n",
    "            uri_tokenizer=os.path.join(RESOURCE_DIR, \"tokenizers\"),\n",
    "            num_hidden_layers=NUM_HIDDEN_LAYERS,\n",
    "        )\n",
    "        print(f\"Loaded model from ({uri_tag}, {uri_model}).\")\n",
    "        break\n",
    "        \n",
    "    except TypeError as e:\n",
    "        print(e)\n",
    "        continue\n",
    "\n",
    "        \n",
    "seg_model.model"
   ]
  },
  {
   "cell_type": "code",
   "execution_count": null,
   "id": "ffc0eb41",
   "metadata": {
    "ExecuteTime": {
     "end_time": "2022-03-09T16:34:11.400177Z",
     "start_time": "2022-03-09T16:34:11.395937Z"
    }
   },
   "outputs": [],
   "source": [
    "seg_model.model.config"
   ]
  },
  {
   "cell_type": "code",
   "execution_count": null,
   "id": "fe7b79e3",
   "metadata": {
    "ExecuteTime": {
     "end_time": "2022-03-09T16:34:11.414484Z",
     "start_time": "2022-03-09T16:34:11.403326Z"
    }
   },
   "outputs": [],
   "source": [
    "df_tokenized_split = datasets.load_from_disk(os.path.join(RESOURCE_DIR, \"data/df_tokenized_split_0_120000\"))\n",
    "df_tokenized_split"
   ]
  },
  {
   "cell_type": "code",
   "execution_count": null,
   "id": "8bc43035",
   "metadata": {
    "ExecuteTime": {
     "end_time": "2022-03-09T16:45:03.234296Z",
     "start_time": "2022-03-09T16:45:03.221069Z"
    }
   },
   "outputs": [],
   "source": [
    "def compute_metrics(eval_pred):\n",
    "    pred_logits, labels = eval_pred\n",
    "    predictions = np.argmax(pred_logits, axis=-1)\n",
    "    \n",
    "    true_predictions = [\n",
    "        pp\n",
    "        for (p, l) in zip(predictions, labels)\n",
    "        for (pp, ll) in zip(p, l) if ll != -100\n",
    "    ]\n",
    "    \n",
    "    true_labels = [\n",
    "        ll\n",
    "        for l in labels\n",
    "        for ll in l if ll != -100\n",
    "    ]\n",
    "    \n",
    "    conf_mat = sklearn.metrics.confusion_matrix(\n",
    "        y_true=true_labels,\n",
    "        y_pred=true_predictions,\n",
    "        labels=(0, 1, 2, 3),\n",
    "    )\n",
    "    \n",
    "    per_cls_precision = conf_mat.diagonal() / (1e-8 + conf_mat.sum(axis=0))\n",
    "    per_cls_recall = conf_mat.diagonal() / (1e-8 + conf_mat.sum(axis=1))\n",
    "    \n",
    "    macro_precision = float(np.mean(per_cls_precision))\n",
    "    macro_recall = float(np.mean(per_cls_recall))\n",
    "    macro_f1 = 2.0 * macro_precision * macro_recall / (1e-8 + macro_precision + macro_recall)\n",
    "    \n",
    "    overall_accuracy = float(np.sum(conf_mat.diagonal())) / len(true_labels)\n",
    "    \n",
    "    res = {\n",
    "        **{f\"per_cls_precision_{cls_i}\": score for cls_i, score in enumerate(per_cls_precision)},\n",
    "        **{f\"per_cls_recall_{cls_i}\": score for cls_i, score in enumerate(per_cls_recall)},\n",
    "        \"macro_precision\": macro_precision,\n",
    "        \"macro_recall\": macro_recall,\n",
    "        \"macro_f1\": macro_f1,\n",
    "        \"overall_accuracy\": overall_accuracy,\n",
    "    }\n",
    "    \n",
    "    return res\n",
    "\n",
    "\n",
    "save_steps = int(df_tokenized_split[\"train\"].num_rows / GRAD_ACCUMULATION_STEPS * 0.10)\n",
    "\n",
    "\n",
    "training_args = transformers.TrainingArguments(\n",
    "    output_dir=os.path.join(RESOURCE_DIR, \"segmenter_checkpoint\"),\n",
    "    logging_dir=os.path.join(RESOURCE_DIR, \"loggings\"),\n",
    "    fp16=USE_FP16 and torch.cuda.is_available(),\n",
    "    load_best_model_at_end=True,\n",
    "    metric_for_best_model=\"eval_loss\",\n",
    "    greater_is_better=False,\n",
    "    evaluation_strategy=\"steps\",\n",
    "    logging_strategy=\"steps\",\n",
    "    save_strategy=\"steps\",\n",
    "    save_steps=save_steps,\n",
    "    eval_steps=save_steps,\n",
    "    logging_steps=save_steps,\n",
    "    save_total_limit=5,\n",
    "    per_device_train_batch_size=8,\n",
    "    per_device_eval_batch_size=8,\n",
    "    gradient_accumulation_steps=GRAD_ACCUMULATION_STEPS,\n",
    "    learning_rate=5e-4,\n",
    "    max_grad_norm=1.0,\n",
    "    num_train_epochs=NUM_TRAIN_EPOCHS,\n",
    "    lr_scheduler_type=\"linear\",\n",
    "    warmup_ratio=0.1,\n",
    "    weight_decay=0.0,\n",
    "    report_to=\"all\",\n",
    ")\n",
    "\n",
    "data_collator = transformers.DataCollatorForTokenClassification(\n",
    "    seg_model.tokenizer,\n",
    "    pad_to_multiple_of=8 if USE_FP16 else 1,\n",
    ")\n",
    "\n",
    "if DEBUG_RUN:\n",
    "    df_tokenized_split[\"eval\"] = df_tokenized_split[\"eval\"].shard(num_shards=500, index=0)\n",
    "\n",
    "trainer = transformers.Trainer(\n",
    "    model=seg_model.model,\n",
    "    tokenizer=seg_model.tokenizer,\n",
    "    args=training_args,\n",
    "    data_collator=data_collator,\n",
    "    train_dataset=df_tokenized_split[\"train\"],\n",
    "    eval_dataset=df_tokenized_split[\"eval\"],\n",
    "    compute_metrics=compute_metrics,\n",
    ")"
   ]
  },
  {
   "cell_type": "code",
   "execution_count": null,
   "id": "d1b4a78d",
   "metadata": {
    "ExecuteTime": {
     "end_time": "2022-03-09T16:34:11.439749Z",
     "start_time": "2022-03-09T16:34:11.436544Z"
    },
    "scrolled": false
   },
   "outputs": [],
   "source": [
    "if TRAIN_MODEL and not DEBUG_RUN:\n",
    "    train_results = trainer.train(resume_from_checkpoint=TRAINER_STATE_SAVE_PATH)\n",
    "    \n",
    "    train_metrics = train_results.metrics\n",
    "    trainer.log_metrics(split=\"train\", metrics=train_metrics)\n",
    "    trainer.save_metrics(split=\"train\", metrics=train_metrics)\n",
    "    \n",
    "    trainer.save_model(TRAINED_MODEL_SAVE_PATH)\n",
    "    trainer.save_state(TRAINER_STATE_SAVE_PATH)"
   ]
  },
  {
   "cell_type": "code",
   "execution_count": null,
   "id": "d1dc7645",
   "metadata": {
    "ExecuteTime": {
     "end_time": "2022-03-09T16:45:12.984989Z",
     "start_time": "2022-03-09T16:45:09.267239Z"
    }
   },
   "outputs": [],
   "source": [
    "if PREDICT_TEST_SET_AT_END:\n",
    "    predict_split = \"test\"\n",
    "    test_subset = df_tokenized_split[predict_split]\n",
    "    \n",
    "    if DEBUG_RUN:\n",
    "        test_subset = test_subset.shard(num_shards=500, index=0)\n",
    "        \n",
    "    test_metrics = trainer.evaluate(test_subset)\n",
    "    \n",
    "    trainer.log_metrics(split=predict_split, metrics=test_metrics)\n",
    "    trainer.save_metrics(split=predict_split, metrics=test_metrics)"
   ]
  }
 ],
 "metadata": {
  "kernelspec": {
   "display_name": "Python 3",
   "language": "python",
   "name": "python3"
  },
  "language_info": {
   "codemirror_mode": {
    "name": "ipython",
    "version": 3
   },
   "file_extension": ".py",
   "mimetype": "text/x-python",
   "name": "python",
   "nbconvert_exporter": "python",
   "pygments_lexer": "ipython3",
   "version": "3.9.10"
  },
  "latex_envs": {
   "LaTeX_envs_menu_present": true,
   "autoclose": false,
   "autocomplete": true,
   "bibliofile": "biblio.bib",
   "cite_by": "apalike",
   "current_citInitial": 1,
   "eqLabelWithNumbers": true,
   "eqNumInitial": 1,
   "hotkeys": {
    "equation": "Ctrl-E",
    "itemize": "Ctrl-I"
   },
   "labels_anchors": false,
   "latex_user_defs": false,
   "report_style_numbering": false,
   "user_envs_cfg": false
  },
  "toc": {
   "base_numbering": 1,
   "nav_menu": {},
   "number_sections": true,
   "sideBar": true,
   "skip_h1_title": false,
   "title_cell": "Table of Contents",
   "title_sidebar": "Contents",
   "toc_cell": false,
   "toc_position": {},
   "toc_section_display": true,
   "toc_window_display": false
  }
 },
 "nbformat": 4,
 "nbformat_minor": 5
}
