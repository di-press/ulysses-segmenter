{
 "cells": [
  {
   "cell_type": "code",
   "execution_count": 1,
   "id": "c8f75bd2",
   "metadata": {
    "ExecuteTime": {
     "end_time": "2022-04-29T02:52:01.311897Z",
     "start_time": "2022-04-29T02:51:59.131843Z"
    }
   },
   "outputs": [],
   "source": [
    "import typing as t\n",
    "import pathlib\n",
    "import os\n",
    "import pickle\n",
    "import collections\n",
    "import timeit\n",
    "\n",
    "import transformers\n",
    "import optimum\n",
    "import optimum.onnxruntime\n",
    "import onnxruntime\n",
    "import onnx\n",
    "import datasets\n",
    "import torch\n",
    "import torch.nn as nn\n",
    "import numpy as np\n",
    "import seaborn as sns\n",
    "import matplotlib.pyplot as plt\n",
    "import tqdm.auto\n",
    "import pandas as pd\n",
    "\n",
    "import segmentador\n",
    "import segmentador.optimize\n",
    "import eval_model\n",
    "import prune_heads\n",
    "\n",
    "%load_ext autoreload\n",
    "%autoreload 2\n",
    "\n",
    "\n",
    "PRUNE_HEADS = False\n",
    "\n",
    "PERFORMANCE_LOGS_DIR = \"performance_logs\"\n",
    "pathlib.Path(PERFORMANCE_LOGS_DIR).mkdir(exist_ok=True, parents=True)\n",
    "\n",
    "QUANTIZED_MODELS_DIR = \"quantized_models\"\n",
    "pathlib.Path(QUANTIZED_MODELS_DIR).mkdir(exist_ok=True, parents=True)"
   ]
  },
  {
   "cell_type": "code",
   "execution_count": 2,
   "id": "b66dba65",
   "metadata": {
    "ExecuteTime": {
     "end_time": "2022-04-29T02:52:01.349787Z",
     "start_time": "2022-04-29T02:52:01.313726Z"
    }
   },
   "outputs": [],
   "source": [
    "curated_df = datasets.Dataset.from_file(\n",
    "    \"../data/refined_datasets/df_tokenized_split_0_120000_6000/\"\n",
    "    \"combined_test_48_parts_1036_instances/dataset.arrow\"\n",
    ")\n",
    "\n",
    "curated_df_subsample = curated_df.shard(num_shards=200, index=0)"
   ]
  },
  {
   "cell_type": "markdown",
   "id": "d0f9628b",
   "metadata": {},
   "source": [
    "## Pruning transformers heads"
   ]
  },
  {
   "cell_type": "code",
   "execution_count": 3,
   "id": "6ba99788",
   "metadata": {
    "ExecuteTime": {
     "end_time": "2022-04-29T02:52:01.373470Z",
     "start_time": "2022-04-29T02:52:01.351073Z"
    }
   },
   "outputs": [],
   "source": [
    "if PRUNE_HEADS:\n",
    "    device = \"cuda\"\n",
    "\n",
    "    segmenter_bert = segmentador.BERTSegmenter(\n",
    "        uri_model=\"../pretrained_segmenter_model/2_6000_layer_model/\",\n",
    "        device=device,\n",
    "    )\n",
    "\n",
    "    eval_df = datasets.Dataset.from_file(\n",
    "        \"../data/df_tokenized_split_0_120000_6000/eval/dataset.arrow\"\n",
    "    ).shard(num_shards=20, index=0)\n",
    "\n",
    "    eval_dataloader = torch.utils.data.DataLoader(\n",
    "        eval_df,\n",
    "        sampler=torch.utils.data.SequentialSampler(eval_df),\n",
    "        batch_size=4,\n",
    "        collate_fn=transformers.DataCollatorForTokenClassification(\n",
    "            segmenter_bert.tokenizer,\n",
    "            padding=\"max_length\",\n",
    "            max_length=1024,\n",
    "        ),\n",
    "    )\n",
    "\n",
    "    head_mask = prune_heads.mask_heads(\n",
    "        segmenter_bert.model,\n",
    "        eval_dataloader,\n",
    "        device=device,\n",
    "        masking_threshold=0.995,\n",
    "    )\n",
    "\n",
    "    prune_heads.prune_heads(\n",
    "        segmenter_bert.model,\n",
    "        eval_dataloader,\n",
    "        head_mask,\n",
    "        device=device,\n",
    "    )\n",
    "\n",
    "    segmenter_bert.model.save_pretrained(\"head_pruning/pruned_model\")\n",
    "    segmenter_bert.tokenizer.save_pretrained(\"head_pruning/pruned_model\")"
   ]
  },
  {
   "cell_type": "markdown",
   "id": "4e318fc4",
   "metadata": {},
   "source": [
    "- masking_threshold = 0.995\n",
    "    - Pruning: original num of params: 1.96e+07, after pruning 1.76e+07 (89.9%)\n",
    "    - Pruning: score with masking: 0.9825 score with pruning: 0.9825\n",
    "    - Pruning: speed ratio (new timing / original timing): 131.32%\n",
    "\n",
    "- masking_threshold = 0.990\n",
    "    - Pruning: original num of params: 1.96e+07, after pruning 1.68e+07 (85.9%)\n",
    "    - Pruning: score with masking: 0.9791 score with pruning: 0.9791\n",
    "    - Pruning: speed ratio (new timing / original timing): 145.23%\n",
    "\n",
    "- masking_threshold = 0.980\n",
    "    - Pruning: original num of params: %.2e, after pruning %.2e (%.1f percents) 19576324 16427524 83.91526417319206\n",
    "    - Pruning: score with masking: %f score with pruning: %f 0.971903741967998 0.971903741967998\n",
    "    - Pruning: speed ratio (new timing / original timing): %f percents 151.18013865026202"
   ]
  },
  {
   "cell_type": "markdown",
   "id": "2e2e8e9e",
   "metadata": {
    "ExecuteTime": {
     "end_time": "2022-04-05T17:10:42.928492Z",
     "start_time": "2022-04-05T17:10:42.922482Z"
    }
   },
   "source": [
    "## Quantizing LSTM"
   ]
  },
  {
   "cell_type": "code",
   "execution_count": 4,
   "id": "6d769590",
   "metadata": {
    "ExecuteTime": {
     "end_time": "2022-04-29T02:52:01.601478Z",
     "start_time": "2022-04-29T02:52:01.375060Z"
    }
   },
   "outputs": [],
   "source": [
    "segmenter_lstm = segmentador.LSTMSegmenter(\n",
    "    uri_model=\"../pretrained_segmenter_model/512_6000_1_lstm/checkpoints/epoch=3-step=3591.ckpt\",\n",
    "    uri_tokenizer=\"../tokenizers/6000_subwords\",\n",
    "    device=\"cpu\",\n",
    ")"
   ]
  },
  {
   "cell_type": "markdown",
   "id": "a809d517",
   "metadata": {},
   "source": [
    "### As Torch JIT format"
   ]
  },
  {
   "cell_type": "code",
   "execution_count": 5,
   "id": "67036f76",
   "metadata": {
    "ExecuteTime": {
     "end_time": "2022-04-29T02:52:02.269620Z",
     "start_time": "2022-04-29T02:52:01.602781Z"
    }
   },
   "outputs": [
    {
     "name": "stdout",
     "output_type": "stream",
     "text": [
      "Saved quantized Pytorch module (Torch JIT format) in \u001b[34m'./quantized_models/q_segmenter_num_layers_1_vocab_size_6000_lstm_model.pt'\u001b[0m. To use it, load a LSTM segmenter model as:\n",
      "\n",
      "segmentador.optimize.TorchJITLSTMSegmenter(\n",
      "   \u001b[33muri_model=\u001b[34m'./quantized_models/q_segmenter_num_layers_1_vocab_size_6000_lstm_model.pt'\u001b[0m,\n",
      "   ...,\n",
      ")\n"
     ]
    }
   ],
   "source": [
    "quantized_lstm_torch_paths = segmentador.optimize.quantize_model(\n",
    "    segmenter_lstm,\n",
    "    model_output_format=\"torch_jit\",\n",
    "    check_cached=False,\n",
    "    verbose=True,\n",
    ")"
   ]
  },
  {
   "cell_type": "code",
   "execution_count": 6,
   "id": "ad8e32da",
   "metadata": {
    "ExecuteTime": {
     "end_time": "2022-04-29T02:52:02.325227Z",
     "start_time": "2022-04-29T02:52:02.270874Z"
    }
   },
   "outputs": [],
   "source": [
    "segmenter_lstm_torch_quantized = segmentador.optimize.TorchJITLSTMSegmenter(\n",
    "   uri_model=quantized_lstm_torch_paths.output_uri,\n",
    ")"
   ]
  },
  {
   "cell_type": "code",
   "execution_count": 7,
   "id": "71e73ec7",
   "metadata": {
    "ExecuteTime": {
     "end_time": "2022-04-29T02:52:02.644966Z",
     "start_time": "2022-04-29T02:52:02.326408Z"
    }
   },
   "outputs": [
    {
     "data": {
      "application/vnd.jupyter.widget-view+json": {
       "model_id": "09d7bd90e1104623adb391787121d619",
       "version_major": 2,
       "version_minor": 0
      },
      "text/plain": [
       "  0%|          | 0/1 [00:00<?, ?it/s]"
      ]
     },
     "metadata": {},
     "output_type": "display_data"
    },
    {
     "data": {
      "text/plain": [
       "['INDICAÇÃO Nº DE 2008 ( Do Sr. Hermes Parcianello )',\n",
       " 'Indica ao Ministério da Educação a inclusão no ProInfância do município de LARANJEIRAS DO SUL, no estado do Paraná.',\n",
       " 'Excelentíssimo Senhor Ministro de Estado da Educação, Considerando que a construção de creches e escolas de educação infantil e a reestruturação e aquisição de equipamentos para a rede física escolar desse nível educacional são indispensáveis à melhoria da educação. Considerando um grande percentual de mulheres chefes de família com filhos menores que necessitam de local adequado para deixar seus filhos e que o Programa disponibiliza o atendimento de até 120 crianças em período integral ou até 240 crianças, se distribuídos em turnos matutinos e vespertinos. Considerando que o município ao ser atendido pelo Programa priorizará a acessibilidade, fazendo as adequações necessárias a fim de permitir seu uso por portadores de necessidades especiais. Considerando que a edificação será composta de um bloco administrativo, um de serviço, dois pedagógicos, além de áreas para recreação e multiuso, totalizando uma área de aproximadamente 1. 118, 46m2 e que o valor aproximado será de R $ 950. 339, 28 ( novecentos e cinqüenta mil, trezentos e trinta e nove reais e vinte e oito centavos ) Considerando ainda que o município preencha os requisitos exigidos pelo FNDE ; entendemos que é imprescindível a inclusão de LARANJEIRAS DO SUL - PR no Programa Nacional de Reestruturação e Aparelhamento da Rede Escolar Pública de Educação Infantil.',\n",
       " 'Sala das Sessões, em dezembro de 2008 Deputado HERMES PARCIANELLO',\n",
       " 'REQUERIMENTO ( Do Sr. HERMES PARCIANELLO )',\n",
       " 'Requer o envio de Indicação ao Poder Executivo, relativo à inclusão do município de LARANJEIRAS DO SUL, no estado do Paraná no ProInfância.',\n",
       " 'Senhor Presidente, Nos termos do art. 113, inciso I e § 1º do Regimento Interno da Câmara dos Deputados, requeiro a Vossa Excelência seja encaminhada ao Poder Executivo a Indicação em anexo, designando a inclusão do município LARANJEIRAS DO SUL no ProInfância.',\n",
       " 'Sala de Sessões, em de dezembro de 2008 Deputado HERMES PARCIANELLO CÂMARA DOS DEPUTADOS',\n",
       " 'PROJETO DE LEI Nº, DE 2019. ( Do Sr. BOCA ABERTA )',\n",
       " 'Dispõe sobre a legitimação dos imóveis urbanos que não possuem escritura pública e dá providencias, em âmbito nacional.',\n",
       " 'O Congresso Nacional decreta :',\n",
       " 'Art. 1º - Dispõe sobre a legitimação dos imóveis urbanos que não possuem escritura pública e dá outras providencias.',\n",
       " 'Artigo 2º Regularizar os imóveis urbanos que não dispõem de registros públicos.',\n",
       " '§ 1º Autoriza a União, dentre as áreas urbanas, onde lhe é de domínio, por força de lei, legitimar os imóveis urbanos nele existentes, e que, não possuem escritura pública.',\n",
       " '§ 2º A legitimação das áreas é transmitida por doação a seus possuidores ou detentores da posse, mediante Processo Administrativo de Regulamentação dos Terrenos Urbanos, de incumbência de cada município por meio de Título de Legitimação ;',\n",
       " 'Art. 3º Será considerado dono do imóvel construído a pessoa física ou jurídica detentora de documentos públicos ou particulares que certifica ou declara a sua aquisição, ainda que não possua o domínio como proprietário.',\n",
       " '§ 1º O titulo de legitimação do imóvel e a quitação das contribuições previdenciárias da construção serão averbadas no Cartório de Registro de Imóveis da Comarca competente.',\n",
       " '§ 2ª Após averbação da construção no registro do titulo, o imóvel se torna automaticamente negociável e alienável. e registrado no * C D1 92 84 62 90 10 0 * PL n. 4 22 6 / 20 19 Ap re se nt aç ão : 0 6 / 08 / 2 01 9 13 : 1 0 CÂMARA DOS DEPUTADOS Cartório de Imóveis da Comarca, desde que o terreno esteja dentro da área urbana, ora matriculada, como de domínio do Município ;',\n",
       " '§ 3º O Titulo de Legitimação é o instrumento formal a transferir o domínio de bens disponível para o particular ou terceiro.',\n",
       " 'Art. 4 O processo administrativo de regularização de Imóveis é exclusivo de cada município, onde se localiza o imóvel.',\n",
       " 'Art. 5º Fica dispensado o pagamento de multa sobre o auto de infração do imóvel a legitimar, proveniente de autuação pelo não recolhimento da contribuição previdenciária.',\n",
       " 'Art. 6º Esta lei entra em vigor na data de sua publicação.',\n",
       " 'PROJETO DE LEI Nº, DE ( Do Sr.',\n",
       " 'Leonardo Mattos ) Dá nova redação ao inciso XIV do art. 6º da Lei 7. 713, de 22 de dezembro de 1988 que “ Altera a legislação do Imposto de Renda e dá outras providencias ”.',\n",
       " 'O Congresso Nacional decreta :',\n",
       " 'Art. 1º - o inciso XIV do art. 6º da Lei 7. 713, de 22 de dezembro de 1988, passa a viger com a seguinte redação : “',\n",
       " 'Art. 6º...............................................................................................................................................................................................................',\n",
       " \"XIV - os proventos de aposentadoria ou reforma, desde que motivadas por acidente sem serviços, e os percebidos pelos portadores de moléstia profissional, tuberculose ativa, alienação mental, esclerose - múltipla, neoplasia maligna, cegueira, hanseníase, paralisia irreversível e incapacitante, cardiopatia grave, doença de Parkinson, espondiloartrose anquilosante, nefropatia grave, estados avançados da doença de Paget ( osteíte deformante ), contaminação por radiação, Síndrome de Trombofilia, Síndrome de Charcot - Marie - Tooth Síndrome da imunodeficiência adquirida, com base em conclusão da medicina especializada, mesmo que a doença tenha sido contraída depois da aposentadoria ou reforma. ( NR )''\",\n",
       " 'Art. 2º - Esta lei entra em vigor na data de sua publicação.',\n",
       " 'REQUERIMENTO DE INFORMAÇÃO nº, de de agosto de 2007 ( Do Sr. SARNEY FILHO )',\n",
       " 'Requerimento de Informação ao Senhor Ministro das Relações Exteriores, sobre as providências adotadas por aquele Ministério, no combate a exploração ilegal de madeira da floresta amazônica, no Estado do Acre, por madeireiras instaladas em território peruano.',\n",
       " 'Senhor Presidente, Com fundamento no art. 50, § 2º, da Constituição Federal, combinado com os artigos 115, inciso I, e 116, ambos do Regimento Interno da Câmara dos Deputados, solicito a Vossa Excelência que seja encaminhado ao Senhor Ministro das Relações Exteriores o presente Pedido de Informação, tendo em vista às notícias veiculadas no Jornal Nacional, da Rede Globo, do dia 27.',\n",
       " '07. 2007, sobre a exploração ilegal de madeira da floresta amazônica, no Estado do Acre, por madeireiras instaladas em território peruano. Noticiou a matéria que durante uma operação do Ibama, juntamente com o Exército e Polícia Federal, foram identificados cerca de 70 pontos de exploração madeireira, numa área de aproximadamente 340 quilômetros de fronteira, com a agravante de ser também em área do Parque Nacional da Serra do Divisor e uma reserva indígena. Assim sendo, solicito informações sobre as providências adotadas por aquele Ministério, no combate a exploração ilegal de madeira da floresta amazônica, no Estado do Acre, por madeireiras instaladas em território peruano, conforme noticiado. Deputado SARNEY FILHO PV / MA REQUERIMENTO ( Do Sr. Celso Russomanno )',\n",
       " 'Requer o envio de Indicação ao Poder Executivo, relativa à inclusão de pessoas vítimas de queimaduras médias e graves na categoria de deficiência prevista no inciso I do 4º do Decreto nº 3. 298, de 20 de dezembro de 1999, com a redação dada pelo Decreto nº 5. 296, de 2 de dezembro de 2004.',\n",
       " 'Senhor Presidente : Nos termos do art. 113, inciso I e § 1º, do Regimento Interno da Câmara dos Deputados, requeiro a V. Exª. seja encaminhada ao Poder Executivo a Indicação anexa, sugerindo a inclusão de pessoas vítimas de queimaduras médias e graves em categoria de deficiência prevista no inciso I do 4º do Decreto nº 3. 298, de 20 de dezembro de 1999, com a redação dada pelo Decreto nº 5. 296, de 2 de dezembro de 2004.',\n",
       " 'Sala das Sessões, em de de 2009. Deputado CELSO RUSSOMANNO 2009 _ 7880',\n",
       " 'INDICAÇÃO No, DE 2009 ( Do Sr. Celso Russomanno )',\n",
       " 'Sugere a inclusão de pessoas vítimas de queimaduras médias e graves na categoria de deficiência prevista no inciso I do 4º do Decreto nº 3. 298, de 20 de dezembro de 1999, com a redação dada pelo Decreto nº 5. 296, de 2 de dezembro de 2004.',\n",
       " 'Excelentíssimo Senhor Secretário Especial de Direitos Humanos : A Carta Política de 1988 constitui o marco delimitador da visibilidade das demandas das pessoas com deficiência no Brasil. Com efeito, houve o reconhecimento formal dos direitos de cidadania desse segmento, prevendo - se a adoção de diversas medidas tendentes a sua plena inclusão social. Ressalte - se que, a partir de então, a legislação infraconstitucional federal relativa às pessoas com deficiência tem - se tornado bastante extensa, igualando - se, no que tange à qualidade e ao conteúdo, às legislações mais avançadas do mundo. Todavia, a batalha para a concretização das disposições legais está longe de ser concluída, situação agravada pelas atitudes de discriminação e preconceito que ainda permeiam grande parte das suas relações sociais. Nesse contexto, pessoas que sofreram queimaduras médias ou graves, cujas consequências limitaram o exercício de atividades cotidianas e reduziram efetivamente sua capacidade de integração social, são vítimas de estigmas, preconceitos e discriminações que os impedem de 2 exercer plenamente sua cidadania, uma vez que lhes é negado o acesso a direitos fundamentais básicos, como o direito ao trabalho. A situação é agravada pelo fato de não haver previsão expressa, no Decreto nº 3. 298, de 20 de dezembro de 1999, de proteção a esse segmento, situação que os impede de usufruir dos direitos e garantias assegurados às pessoas com deficiência, tanto pelo Texto Constitucional quanto pelas normas infraconstitucionais. Dessa forma, considerando que as pessoas com deficiências decorrentes de queimaduras médias e graves enfrentam barreiras atitudinais para sua inclusão social plena, principalmente no acesso ao direito ao trabalho, solicitamos a revisão do art. 4º, inciso I do Decreto nº 3. 298, de 1999, para incluir as consequências decorrentes de queimaduras médias ou graves entre as deficiências previstas no referido dispositivo.',\n",
       " 'Sala das Sessões, em de de 2009. Deputado CELSO RUSSOMANNO 2009 _ 7880 CÂMARA DOS DEPUTADOS',\n",
       " 'PROJETO DE LEI N. º, DE 2015 ( do Sr. HIDEKAZU TAKAY',\n",
       " '##AMA )',\n",
       " 'Cria a obrigatoriedade da exigência por parte das companhias aéreas que atuam em território nacional da realização de exames médicos e psicotécnicos que assegurem a sanidade mental dos pilotos e copilotos.',\n",
       " 'O CONGRESSO NACIONAL decreta :',\n",
       " 'Art. 1º As companhias aéreas que atuam junto ao território nacional da República Federativa do Brasil ficam obrigadas a realizar exames médicos e psicotécnicos que assegurem a sanidade mental e a boa saúde física dos pilotos e copilotos.',\n",
       " 'Art. 2 º As companhias aéreas ficam obrigadas a arquivar tais documentos médicos pelo prazo de vinte e cinco anos para fins de comprovação.',\n",
       " 'Art. 3 º As companhias aéreas que deixarem de cumprir com qualquer disposto nesta lei serão responsáveis objetivamente por qualquer dano causado por seus agentes, inclusive quanto ao aspecto criminal.',\n",
       " 'Art. 4º Esta lei entra em vigor na data de sua publicação.',\n",
       " 'Sala das Comissões, de de 2015. Deputado HIDEKAZU TAKAYAMA CÂMARA DOS DEPUTADOS']"
      ]
     },
     "execution_count": 7,
     "metadata": {},
     "output_type": "execute_result"
    }
   ],
   "source": [
    "segmenter_lstm_torch_quantized(curated_df_subsample, show_progress_bar=True)"
   ]
  },
  {
   "cell_type": "markdown",
   "id": "72d4e975",
   "metadata": {},
   "source": [
    "### As ONNX format"
   ]
  },
  {
   "cell_type": "code",
   "execution_count": 8,
   "id": "1edeb9d8",
   "metadata": {
    "ExecuteTime": {
     "end_time": "2022-04-29T02:52:04.175908Z",
     "start_time": "2022-04-29T02:52:02.646078Z"
    }
   },
   "outputs": [
    {
     "name": "stderr",
     "output_type": "stream",
     "text": [
      "/media/nvme/segmentador/venvs/env3.9.10/lib/python3.9/site-packages/torch/onnx/symbolic_opset9.py:2188: UserWarning: Exporting a model to ONNX with a batch_size other than 1, with a variable length with LSTM can cause an error when running the ONNX model with a different batch size. Make sure to save the model with a batch size of 1, or define the initial states (h0/c0) as inputs of the model. \n",
      "  warnings.warn(\"Exporting a model to ONNX with a batch_size other than 1, \" +\n",
      "WARNING: The shape inference of prim::Constant type is missing, so it may result in wrong shape inference for the exported graph. Please consider adding it in symbolic function.\n",
      "/media/nvme/segmentador/venvs/env3.9.10/lib/python3.9/site-packages/torch/onnx/symbolic_helper.py:719: UserWarning: allowzero=0 by default. In order to honor zero value in shape use allowzero=1\n",
      "  warnings.warn(\"allowzero=0 by default. In order to honor zero value in shape use allowzero=1\")\n",
      "WARNING: The shape inference of prim::Constant type is missing, so it may result in wrong shape inference for the exported graph. Please consider adding it in symbolic function.\n",
      "WARNING: The shape inference of prim::Constant type is missing, so it may result in wrong shape inference for the exported graph. Please consider adding it in symbolic function.\n"
     ]
    },
    {
     "name": "stdout",
     "output_type": "stream",
     "text": [
      "Saved quantized Pytorch module (ONNX format) in \u001b[34m'./quantized_models/q_segmenter_hidden_layer_dim_512_vocab_size_6000_num_layers_1_lstm_model_99_opt_level.onnx'\u001b[0m. To use it, load a LSTM segmenter model as:\n",
      "\n",
      "segmentador.optimize.ONNXLSTMSegmenter(\n",
      "   \u001b[33muri_model=\u001b[34m'./quantized_models/q_segmenter_hidden_layer_dim_512_vocab_size_6000_num_layers_1_lstm_model_99_opt_level.onnx'\u001b[0m,\n",
      "   uri_tokenizer='../tokenizers/6000_subwords',\n",
      "   ...,\n",
      ")\n"
     ]
    },
    {
     "name": "stderr",
     "output_type": "stream",
     "text": [
      "2022-04-28 23:52:02.955978960 [W:onnxruntime:, inference_session.cc:1546 Initialize] Serializing optimized model with Graph Optimization level greater than ORT_ENABLE_EXTENDED and the NchwcTransformer enabled. The generated model may contain hardware specific optimizations, and should only be used in the same environment the model was optimized in.\n"
     ]
    }
   ],
   "source": [
    "quantized_lstm_onnx_paths = segmentador.optimize.quantize_model(\n",
    "    segmenter_lstm,\n",
    "    model_output_format=\"onnx\",\n",
    "    check_cached=False,\n",
    "    verbose=True,\n",
    ")"
   ]
  },
  {
   "cell_type": "code",
   "execution_count": 9,
   "id": "9f8b71db",
   "metadata": {
    "ExecuteTime": {
     "end_time": "2022-04-29T02:52:04.209814Z",
     "start_time": "2022-04-29T02:52:04.177850Z"
    }
   },
   "outputs": [],
   "source": [
    "segmenter_lstm_onnx_quantized = segmentador.optimize.ONNXLSTMSegmenter(\n",
    "   uri_model=quantized_lstm_onnx_paths.output_uri,\n",
    "   uri_tokenizer=segmenter_lstm.tokenizer.name_or_path,\n",
    ")"
   ]
  },
  {
   "cell_type": "code",
   "execution_count": 10,
   "id": "4f61c506",
   "metadata": {
    "ExecuteTime": {
     "end_time": "2022-04-29T02:52:04.444524Z",
     "start_time": "2022-04-29T02:52:04.213128Z"
    }
   },
   "outputs": [
    {
     "data": {
      "application/vnd.jupyter.widget-view+json": {
       "model_id": "2089b33dd6fa436ba5162f7879180238",
       "version_major": 2,
       "version_minor": 0
      },
      "text/plain": [
       "  0%|          | 0/1 [00:00<?, ?it/s]"
      ]
     },
     "metadata": {},
     "output_type": "display_data"
    },
    {
     "data": {
      "text/plain": [
       "['INDICAÇÃO Nº DE 2008 ( Do Sr. Hermes Parcianello )',\n",
       " 'Indica ao Ministério da Educação a inclusão no ProInfância do município de LARANJEIRAS DO SUL, no estado do Paraná.',\n",
       " 'Excelentíssimo Senhor Ministro de Estado da Educação, Considerando que a construção de creches e escolas de educação infantil e a reestruturação e aquisição de equipamentos para a rede física escolar desse nível educacional são indispensáveis à melhoria da educação. Considerando um grande percentual de mulheres chefes de família com filhos menores que necessitam de local adequado para deixar seus filhos e que o Programa disponibiliza o atendimento de até 120 crianças em período integral ou até 240 crianças, se distribuídos em turnos matutinos e vespertinos. Considerando que o município ao ser atendido pelo Programa priorizará a acessibilidade, fazendo as adequações necessárias a fim de permitir seu uso por portadores de necessidades especiais. Considerando que a edificação será composta de um bloco administrativo, um de serviço, dois pedagógicos, além de áreas para recreação e multiuso, totalizando uma área de aproximadamente 1. 118, 46m2 e que o valor aproximado será de R $ 950. 339, 28 ( novecentos e cinqüenta mil, trezentos e trinta e nove reais e vinte e oito centavos ) Considerando ainda que o município preencha os requisitos exigidos pelo FNDE ; entendemos que é imprescindível a inclusão de LARANJEIRAS DO SUL - PR no Programa Nacional de Reestruturação e Aparelhamento da Rede Escolar Pública de Educação Infantil.',\n",
       " 'Sala das Sessões, em dezembro de 2008 Deputado HERMES PARCIANELLO',\n",
       " 'REQUERIMENTO ( Do Sr. HERMES PARCIANELLO )',\n",
       " 'Requer o envio de Indicação ao Poder Executivo, relativo à inclusão do município de LARANJEIRAS DO SUL, no estado do Paraná no ProInfância.',\n",
       " 'Senhor Presidente, Nos termos do art. 113, inciso I e § 1º do Regimento Interno da Câmara dos Deputados, requeiro a Vossa Excelência seja encaminhada ao Poder Executivo a Indicação em anexo, designando a inclusão do município LARANJEIRAS DO SUL no ProInfância.',\n",
       " 'Sala de Sessões, em de dezembro de 2008 Deputado HERMES PARCIANELLO CÂMARA DOS DEPUTADOS',\n",
       " 'PROJETO DE LEI Nº, DE 2019. ( Do Sr. BOCA ABERTA )',\n",
       " 'Dispõe sobre a legitimação dos imóveis urbanos que não possuem escritura pública e dá providencias, em âmbito nacional.',\n",
       " 'O Congresso Nacional decreta :',\n",
       " 'Art. 1º - Dispõe sobre a legitimação dos imóveis urbanos que não possuem escritura pública e dá outras providencias.',\n",
       " 'Artigo 2º Regularizar os imóveis urbanos que não dispõem de registros públicos.',\n",
       " '§ 1º Autoriza a União, dentre as áreas urbanas, onde lhe é de domínio, por força de lei, legitimar os imóveis urbanos nele existentes, e que, não possuem escritura pública.',\n",
       " '§ 2º A legitimação das áreas é transmitida por doação a seus possuidores ou detentores da posse, mediante Processo Administrativo de Regulamentação dos Terrenos Urbanos, de incumbência de cada município por meio de Título de Legitimação ;',\n",
       " 'Art. 3º Será considerado dono do imóvel construído a pessoa física ou jurídica detentora de documentos públicos ou particulares que certifica ou declara a sua aquisição, ainda que não possua o domínio como proprietário.',\n",
       " '§ 1º O titulo de legitimação do imóvel e a quitação das contribuições previdenciárias da construção serão averbadas no Cartório de Registro de Imóveis da Comarca competente.',\n",
       " '§ 2ª Após averbação da construção no registro do titulo, o imóvel se torna automaticamente negociável e alienável. e registrado no * C D1 92 84 62 90 10 0 * PL n. 4 22 6 / 20 19 Ap re se nt aç ão : 0 6 / 08 / 2 01 9 13 : 1 0 CÂMARA DOS DEPUTADOS Cartório de Imóveis da Comarca, desde que o terreno esteja dentro da área urbana, ora matriculada, como de domínio do Município ;',\n",
       " '§ 3º O Titulo de Legitimação é o instrumento formal a transferir o domínio de bens disponível para o particular ou terceiro.',\n",
       " 'Art. 4 O processo administrativo de regularização de Imóveis é exclusivo de cada município, onde se localiza o imóvel.',\n",
       " 'Art. 5º Fica dispensado o pagamento de multa sobre o auto de infração do imóvel a legitimar, proveniente de autuação pelo não recolhimento da contribuição previdenciária.',\n",
       " 'Art. 6º Esta lei entra em vigor na data de sua publicação.',\n",
       " 'PROJETO DE LEI Nº, DE ( Do Sr.',\n",
       " 'Leonardo Mattos ) Dá nova redação ao inciso XIV do art. 6º da Lei 7. 713, de 22 de dezembro de 1988 que “ Altera a legislação do Imposto de Renda e dá outras providencias ”.',\n",
       " 'O Congresso Nacional decreta :',\n",
       " 'Art. 1º - o inciso XIV do art. 6º da Lei 7. 713, de 22 de dezembro de 1988, passa a viger com a seguinte redação : “',\n",
       " 'Art. 6º...............................................................................................................................................................................................................',\n",
       " \"XIV - os proventos de aposentadoria ou reforma, desde que motivadas por acidente sem serviços, e os percebidos pelos portadores de moléstia profissional, tuberculose ativa, alienação mental, esclerose - múltipla, neoplasia maligna, cegueira, hanseníase, paralisia irreversível e incapacitante, cardiopatia grave, doença de Parkinson, espondiloartrose anquilosante, nefropatia grave, estados avançados da doença de Paget ( osteíte deformante ), contaminação por radiação, Síndrome de Trombofilia, Síndrome de Charcot - Marie - Tooth Síndrome da imunodeficiência adquirida, com base em conclusão da medicina especializada, mesmo que a doença tenha sido contraída depois da aposentadoria ou reforma. ( NR )''\",\n",
       " 'Art. 2º - Esta lei entra em vigor na data de sua publicação.',\n",
       " 'REQUERIMENTO DE INFORMAÇÃO nº, de de agosto de 2007 ( Do Sr. SARNEY FILHO )',\n",
       " 'Requerimento de Informação ao Senhor Ministro das Relações Exteriores, sobre as providências adotadas por aquele Ministério, no combate a exploração ilegal de madeira da floresta amazônica, no Estado do Acre, por madeireiras instaladas em território peruano.',\n",
       " 'Senhor Presidente, Com fundamento no art. 50, § 2º, da Constituição Federal, combinado com os artigos 115, inciso I, e 116, ambos do Regimento Interno da Câmara dos Deputados, solicito a Vossa Excelência que seja encaminhado ao Senhor Ministro das Relações Exteriores o presente Pedido de Informação, tendo em vista às notícias veiculadas no Jornal Nacional, da Rede Globo, do dia 27.',\n",
       " '07. 2007, sobre a exploração ilegal de madeira da floresta amazônica, no Estado do Acre, por madeireiras instaladas em território peruano. Noticiou a matéria que durante uma operação do Ibama, juntamente com o Exército e Polícia Federal, foram identificados cerca de 70 pontos de exploração madeireira, numa área de aproximadamente 340 quilômetros de fronteira, com a agravante de ser também em área do Parque Nacional da Serra do Divisor e uma reserva indígena. Assim sendo, solicito informações sobre as providências adotadas por aquele Ministério, no combate a exploração ilegal de madeira da floresta amazônica, no Estado do Acre, por madeireiras instaladas em território peruano, conforme noticiado. Deputado SARNEY FILHO PV / MA REQUERIMENTO ( Do Sr. Celso Russomanno )',\n",
       " 'Requer o envio de Indicação ao Poder Executivo, relativa à inclusão de pessoas vítimas de queimaduras médias e graves na categoria de deficiência prevista no inciso I do 4º do Decreto nº 3. 298, de 20 de dezembro de 1999, com a redação dada pelo Decreto nº 5. 296, de 2 de dezembro de 2004.',\n",
       " 'Senhor Presidente : Nos termos do art. 113, inciso I e § 1º, do Regimento Interno da Câmara dos Deputados, requeiro a V. Exª. seja encaminhada ao Poder Executivo a Indicação anexa, sugerindo a inclusão de pessoas vítimas de queimaduras médias e graves em categoria de deficiência prevista no inciso I do 4º do Decreto nº 3. 298, de 20 de dezembro de 1999, com a redação dada pelo Decreto nº 5. 296, de 2 de dezembro de 2004.',\n",
       " 'Sala das Sessões, em de de 2009. Deputado CELSO RUSSOMANNO 2009 _ 7880',\n",
       " 'INDICAÇÃO No, DE 2009 ( Do Sr. Celso Russomanno )',\n",
       " 'Sugere a inclusão de pessoas vítimas de queimaduras médias e graves na categoria de deficiência prevista no inciso I do 4º do Decreto nº 3. 298, de 20 de dezembro de 1999, com a redação dada pelo Decreto nº 5. 296, de 2 de dezembro de 2004.',\n",
       " 'Excelentíssimo Senhor Secretário Especial de Direitos Humanos : A Carta Política de 1988 constitui o marco delimitador da visibilidade das demandas das pessoas com deficiência no Brasil. Com efeito, houve o reconhecimento formal dos direitos de cidadania desse segmento, prevendo - se a adoção de diversas medidas tendentes a sua plena inclusão social. Ressalte - se que, a partir de então, a legislação infraconstitucional federal relativa às pessoas com deficiência tem - se tornado bastante extensa, igualando - se, no que tange à qualidade e ao conteúdo, às legislações mais avançadas do mundo. Todavia, a batalha para a concretização das disposições legais está longe de ser concluída, situação agravada pelas atitudes de discriminação e preconceito que ainda permeiam grande parte das suas relações sociais. Nesse contexto, pessoas que sofreram queimaduras médias ou graves, cujas consequências limitaram o exercício de atividades cotidianas e reduziram efetivamente sua capacidade de integração social, são vítimas de estigmas, preconceitos e discriminações que os impedem de 2 exercer plenamente sua cidadania, uma vez que lhes é negado o acesso a direitos fundamentais básicos, como o direito ao trabalho. A situação é agravada pelo fato de não haver previsão expressa, no Decreto nº 3. 298, de 20 de dezembro de 1999, de proteção a esse segmento, situação que os impede de usufruir dos direitos e garantias assegurados às pessoas com deficiência, tanto pelo Texto Constitucional quanto pelas normas infraconstitucionais. Dessa forma, considerando que as pessoas com deficiências decorrentes de queimaduras médias e graves enfrentam barreiras atitudinais para sua inclusão social plena, principalmente no acesso ao direito ao trabalho, solicitamos a revisão do art. 4º, inciso I do Decreto nº 3. 298, de 1999, para incluir as consequências decorrentes de queimaduras médias ou graves entre as deficiências previstas no referido dispositivo.',\n",
       " 'Sala das Sessões, em de de 2009. Deputado CELSO RUSSOMANNO 2009 _ 7880 CÂMARA DOS DEPUTADOS',\n",
       " 'PROJETO DE LEI N. º, DE 2015 ( do Sr. HIDEKAZU TAKAY',\n",
       " '##AMA )',\n",
       " 'Cria a obrigatoriedade da exigência por parte das companhias aéreas que atuam em território nacional da realização de exames médicos e psicotécnicos que assegurem a sanidade mental dos pilotos e copilotos.',\n",
       " 'O CONGRESSO NACIONAL decreta :',\n",
       " 'Art. 1º As companhias aéreas que atuam junto ao território nacional da República Federativa do Brasil ficam obrigadas a realizar exames médicos e psicotécnicos que assegurem a sanidade mental e a boa saúde física dos pilotos e copilotos.',\n",
       " 'Art. 2 º As companhias aéreas ficam obrigadas a arquivar tais documentos médicos pelo prazo de vinte e cinco anos para fins de comprovação.',\n",
       " 'Art. 3 º As companhias aéreas que deixarem de cumprir com qualquer disposto nesta lei serão responsáveis objetivamente por qualquer dano causado por seus agentes, inclusive quanto ao aspecto criminal.',\n",
       " 'Art. 4º Esta lei entra em vigor na data de sua publicação.',\n",
       " 'Sala das Comissões, de de 2015. Deputado HIDEKAZU TAKAYAMA CÂMARA DOS DEPUTADOS']"
      ]
     },
     "execution_count": 10,
     "metadata": {},
     "output_type": "execute_result"
    }
   ],
   "source": [
    "segmenter_lstm_onnx_quantized(curated_df_subsample, show_progress_bar=True)"
   ]
  },
  {
   "cell_type": "markdown",
   "id": "2924b9fe",
   "metadata": {},
   "source": [
    "## Quantizing BERT"
   ]
  },
  {
   "cell_type": "code",
   "execution_count": 11,
   "id": "1234f421",
   "metadata": {
    "ExecuteTime": {
     "end_time": "2022-04-29T02:52:04.642116Z",
     "start_time": "2022-04-29T02:52:04.445859Z"
    }
   },
   "outputs": [],
   "source": [
    "segmenter_bert = segmentador.BERTSegmenter(\n",
    "    uri_model=\"../pretrained_segmenter_model/2_6000_layer_model/\",\n",
    "    device=\"cpu\",\n",
    ")"
   ]
  },
  {
   "cell_type": "markdown",
   "id": "2c3137a7",
   "metadata": {},
   "source": [
    "### As Torch JIT format"
   ]
  },
  {
   "cell_type": "code",
   "execution_count": 12,
   "id": "9802ce00",
   "metadata": {
    "ExecuteTime": {
     "end_time": "2022-04-29T02:52:06.849214Z",
     "start_time": "2022-04-29T02:52:04.643657Z"
    }
   },
   "outputs": [
    {
     "name": "stdout",
     "output_type": "stream",
     "text": [
      "Saved quantized Pytorch module (Torch JIT format) in \u001b[34m'./quantized_models/q_segmenter_num_layers_2_vocab_size_6000_pruned_False_bert_model.pt'\u001b[0m. To use it, load a BERT segmenter model as:\n",
      "\n",
      "segmentador.optimize.TorchJITBERTSegmenter(\n",
      "   \u001b[33muri_model=\u001b[34m'./quantized_models/q_segmenter_num_layers_2_vocab_size_6000_pruned_False_bert_model.pt'\u001b[0m,\n",
      "   ...,\n",
      ")\n"
     ]
    }
   ],
   "source": [
    "quantized_bert_torch_paths = segmentador.optimize.quantize_model(\n",
    "    segmenter_bert,\n",
    "    model_output_format=\"torch_jit\",\n",
    "    check_cached=False,\n",
    "    verbose=True,\n",
    ")"
   ]
  },
  {
   "cell_type": "code",
   "execution_count": 13,
   "id": "de752143",
   "metadata": {
    "ExecuteTime": {
     "end_time": "2022-04-29T02:52:06.982273Z",
     "start_time": "2022-04-29T02:52:06.850722Z"
    }
   },
   "outputs": [],
   "source": [
    "segmenter_bert_torch_quantized = segmentador.optimize.TorchJITBERTSegmenter(\n",
    "   uri_model=quantized_bert_torch_paths.output_uri,\n",
    ")"
   ]
  },
  {
   "cell_type": "code",
   "execution_count": 14,
   "id": "fef2c64a",
   "metadata": {
    "ExecuteTime": {
     "end_time": "2022-04-29T02:52:07.770734Z",
     "start_time": "2022-04-29T02:52:06.983374Z"
    }
   },
   "outputs": [
    {
     "data": {
      "application/vnd.jupyter.widget-view+json": {
       "model_id": "d34d8ee7e9c9441c97f25022e1c542aa",
       "version_major": 2,
       "version_minor": 0
      },
      "text/plain": [
       "  0%|          | 0/1 [00:00<?, ?it/s]"
      ]
     },
     "metadata": {},
     "output_type": "display_data"
    },
    {
     "data": {
      "text/plain": [
       "['INDICAÇÃO Nº DE 2008 ( Do Sr. Hermes Parcianello )',\n",
       " 'Indica ao Ministério da Educação a inclusão no ProInfância do município de LARANJEIRAS DO SUL, no estado do Paraná.',\n",
       " 'Excelentíssimo Senhor Ministro de Estado da Educação, Considerando que a construção de creches e escolas de educação infantil e a reestruturação e aquisição de equipamentos para a rede física escolar desse nível educacional são indispensáveis à melhoria da educação. Considerando um grande percentual de mulheres chefes de família com filhos menores que necessitam de local adequado para deixar seus filhos e que o Programa disponibiliza o atendimento de até 120 crianças em período integral ou até 240 crianças, se distribuídos em turnos matutinos e vespertinos. Considerando que o município ao ser atendido pelo Programa priorizará a acessibilidade, fazendo as adequações necessárias a fim de permitir seu uso por portadores de necessidades especiais. Considerando que a edificação será composta de um bloco administrativo, um de serviço, dois pedagógicos, além de áreas para recreação e multiuso, totalizando uma área de aproximadamente 1. 118, 46m2 e que o valor aproximado será de R $ 950. 339, 28 ( novecentos e cinqüenta mil, trezentos e trinta e nove reais e vinte e oito centavos ) Considerando ainda que o município preencha os requisitos exigidos pelo FNDE ; entendemos que é imprescindível a inclusão de LARANJEIRAS DO SUL - PR no Programa Nacional de Reestruturação e Aparelhamento da Rede Escolar Pública de Educação Infantil.',\n",
       " 'Sala das Sessões, em dezembro de 2008 Deputado HERMES PARCIANELLO',\n",
       " 'REQUERIMENTO ( Do Sr. HERMES PARCIANELLO )',\n",
       " 'Requer o envio de Indicação ao Poder Executivo, relativo à inclusão do município de LARANJEIRAS DO SUL, no estado do Paraná no ProInfância.',\n",
       " 'Senhor Presidente, Nos termos do art. 113, inciso I e § 1º do Regimento Interno da Câmara dos Deputados, requeiro a Vossa Excelência seja encaminhada ao Poder Executivo a Indicação em anexo, designando a inclusão do município LARANJEIRAS DO SUL no ProInfância.',\n",
       " 'Sala de Sessões, em de dezembro de 2008 Deputado HERMES PARCIANELLO CÂMARA DOS DEPUTADOS',\n",
       " 'PROJETO DE LEI Nº, DE 2019. ( Do Sr. BOCA ABERTA ) Dispõe sobre a legitimação dos imóveis urbanos que não possuem escritura pública e dá providencias, em âmbito nacional.',\n",
       " 'O Congresso Nacional decreta :',\n",
       " 'Art. 1º - Dispõe sobre a legitimação dos imóveis urbanos que não possuem escritura pública e dá outras providencias.',\n",
       " 'Artigo 2º Regularizar os imóveis urbanos que não dispõem de registros públicos.',\n",
       " '§ 1º Autoriza a União, dentre as áreas urbanas, onde lhe é de domínio, por força de lei, legitimar os imóveis urbanos nele existentes, e que, não possuem escritura pública.',\n",
       " '§ 2º A legitimação das áreas é transmitida por doação a seus possuidores ou detentores da posse, mediante Processo Administrativo de Regulamentação dos Terrenos Urbanos, de incumbência de cada município por meio de Título de Legitimação ;',\n",
       " 'Art. 3º Será considerado dono do imóvel construído a pessoa física ou jurídica detentora de documentos públicos ou particulares que certifica ou declara a sua aquisição, ainda que não possua o domínio como proprietário.',\n",
       " '§ 1º O titulo de legitimação do imóvel e a quitação das contribuições previdenciárias da construção serão averbadas no Cartório de Registro de Imóveis da Comarca competente.',\n",
       " '§ 2ª Após averbação da construção no registro do titulo, o imóvel se torna automaticamente negociável e alienável. e registrado no * C D1 92 84 62 90 10 0 * PL n. 4 22 6 / 20 19 Ap re se nt aç ão : 0 6 / 08 / 2 01 9 13 : 1 0 CÂMARA DOS DEPUTADOS Cartório de Imóveis da Comarca, desde que o terreno esteja dentro da área urbana, ora matriculada, como de domínio do Município ;',\n",
       " '§ 3º O Titulo de Legitimação é o instrumento formal a transferir o domínio de bens disponível para o particular ou terceiro.',\n",
       " 'Art. 4 O processo administrativo de regularização de Imóveis é exclusivo de cada município, onde se localiza o imóvel.',\n",
       " 'Art. 5º Fica dispensado o pagamento de multa sobre o auto de infração do imóvel a legitimar, proveniente de autuação pelo não recolhimento da contribuição previdenciária.',\n",
       " 'Art. 6º Esta lei entra em vigor na data de sua publicação.',\n",
       " 'PROJETO DE LEI Nº, DE ( Do Sr. Leonardo Mattos ) Dá nova redação ao inciso XIV do art. 6º da Lei 7. 713, de 22 de dezembro de 1988 que “ Altera a legislação do Imposto de Renda e dá outras providencias ”.',\n",
       " 'O Congresso Nacional decreta :',\n",
       " 'Art. 1º - o inciso XIV do art. 6º da Lei 7. 713, de 22 de dezembro de 1988, passa a viger com a seguinte redação : “',\n",
       " 'Art. 6º...............................................................................................................................................................................................................',\n",
       " \"XIV - os proventos de aposentadoria ou reforma, desde que motivadas por acidente sem serviços, e os percebidos pelos portadores de moléstia profissional, tuberculose ativa, alienação mental, esclerose - múltipla, neoplasia maligna, cegueira, hanseníase, paralisia irreversível e incapacitante, cardiopatia grave, doença de Parkinson, espondiloartrose anquilosante, nefropatia grave, estados avançados da doença de Paget ( osteíte deformante ), contaminação por radiação, Síndrome de Trombofilia, Síndrome de Charcot - Marie - Tooth Síndrome da imunodeficiência adquirida, com base em conclusão da medicina especializada, mesmo que a doença tenha sido contraída depois da aposentadoria ou reforma. ( NR )''\",\n",
       " 'Art. 2º - Esta lei entra em vigor na data de sua publicação.',\n",
       " 'REQUERIMENTO DE INFORMAÇÃO nº, de de agosto de 2007 ( Do Sr. SARNEY FILHO ) Requerimento de Informação ao Senhor Ministro das Relações Exteriores, sobre as providências adotadas por aquele Ministério, no combate a exploração ilegal de madeira da floresta amazônica, no Estado do Acre, por madeireiras instaladas em território peruano.',\n",
       " 'Senhor Presidente, Com fundamento no art. 50, § 2º, da Constituição Federal, combinado com os artigos 115, inciso I, e 116, ambos do Regimento Interno da Câmara dos Deputados, solicito a Vossa Excelência que seja encaminhado ao Senhor Ministro das Relações Exteriores o presente Pedido de Informação, tendo em vista às notícias veiculadas no Jornal Nacional, da Rede Globo, do dia 27.',\n",
       " '07. 2007, sobre a exploração ilegal de madeira da floresta amazônica, no Estado do Acre, por madeireiras instaladas em território peruano. Noticiou a matéria que durante uma operação do Ibama, juntamente com o Exército e Polícia Federal, foram identificados cerca de 70 pontos de exploração madeireira, numa área de aproximadamente 340 quilômetros de fronteira, com a agravante de ser também em área do Parque Nacional da Serra do Divisor e uma reserva indígena. Assim sendo, solicito informações sobre as providências adotadas por aquele Ministério, no combate a exploração ilegal de madeira da floresta amazônica, no Estado do Acre, por madeireiras instaladas em território peruano, conforme noticiado. Deputado SARNEY FILHO PV / MA',\n",
       " 'REQUERIMENTO ( Do Sr. Celso Russomanno )',\n",
       " 'Requer o envio de Indicação ao Poder Executivo, relativa à inclusão de pessoas vítimas de queimaduras médias e graves na categoria de deficiência prevista no inciso I do 4º do Decreto nº 3. 298, de 20 de dezembro de 1999, com a redação dada pelo Decreto nº 5. 296, de 2 de dezembro de 2004.',\n",
       " 'Senhor Presidente : Nos termos do art. 113, inciso I e § 1º, do Regimento Interno da Câmara dos Deputados, requeiro a V. Exª. seja encaminhada ao Poder Executivo a Indicação anexa, sugerindo a inclusão de pessoas vítimas de queimaduras médias e graves em categoria de deficiência prevista no inciso I do 4º do Decreto nº 3. 298, de 20 de dezembro de 1999, com a redação dada pelo Decreto nº 5. 296, de 2 de dezembro de 2004.',\n",
       " 'Sala das Sessões, em de de 2009. Deputado CELSO RUSSOMANNO 2009 _ 7880',\n",
       " 'INDICAÇÃO No, DE 2009 ( Do Sr. Celso Russomanno )',\n",
       " 'Sugere a inclusão de pessoas vítimas de queimaduras médias e graves na categoria de deficiência prevista no inciso I do 4º do Decreto nº 3. 298, de 20 de dezembro de 1999, com a redação dada pelo Decreto nº 5. 296, de 2 de dezembro de 2004.',\n",
       " 'Excelentíssimo Senhor Secretário Especial de Direitos Humanos : A Carta Política de 1988 constitui o marco delimitador da visibilidade das demandas das pessoas com deficiência no Brasil. Com efeito, houve o reconhecimento formal dos direitos de cidadania desse segmento, prevendo - se a adoção de diversas medidas tendentes a sua plena inclusão social. Ressalte - se que, a partir de então, a legislação infraconstitucional federal relativa às pessoas com deficiência tem - se tornado bastante extensa, igualando - se, no que tange à qualidade e ao conteúdo, às legislações mais avançadas do mundo. Todavia, a batalha para a concretização das disposições legais está longe de ser concluída, situação agravada pelas atitudes de discriminação e preconceito que ainda permeiam grande parte das suas relações sociais. Nesse contexto, pessoas que sofreram queimaduras médias ou graves, cujas consequências limitaram o exercício de atividades cotidianas e reduziram efetivamente sua capacidade de integração social, são vítimas de estigmas, preconceitos e discriminações que os impedem de 2 exercer plenamente sua cidadania, uma vez que lhes é negado o acesso a direitos fundamentais básicos, como o direito ao trabalho. A situação é agravada pelo fato de não haver previsão expressa, no Decreto nº 3. 298, de 20 de dezembro de 1999, de proteção a esse segmento, situação que os impede de usufruir dos direitos e garantias assegurados às pessoas com deficiência, tanto pelo Texto Constitucional quanto pelas normas infraconstitucionais. Dessa forma, considerando que as pessoas com deficiências decorrentes de queimaduras médias e graves enfrentam barreiras atitudinais para sua inclusão social plena, principalmente no acesso ao direito ao trabalho, solicitamos a revisão do art. 4º, inciso I do Decreto nº 3. 298, de 1999, para incluir as consequências decorrentes de queimaduras médias ou graves entre as deficiências previstas no referido dispositivo.',\n",
       " 'Sala das Sessões, em de de 2009. Deputado CELSO RUSSOMANNO 2009 _ 7880 CÂMARA DOS DEPUTADOS PROJETO DE LEI N. º, DE 2015 ( do Sr. HIDEKAZU TAKAYAMA )',\n",
       " 'Cria a obrigatoriedade da exigência por parte das companhias aéreas que atuam em território nacional da realização de exames médicos e psicotécnicos que assegurem a sanidade mental dos pilotos e copilotos.',\n",
       " 'O CONGRESSO NACIONAL decreta :',\n",
       " 'Art. 1º As companhias aéreas que atuam junto ao território nacional da República Federativa do Brasil ficam obrigadas a realizar exames médicos e psicotécnicos que assegurem a sanidade mental e a boa saúde física dos pilotos e copilotos.',\n",
       " 'Art. 2 º As companhias aéreas ficam obrigadas a arquivar tais documentos médicos pelo prazo de vinte e cinco anos para fins de comprovação.',\n",
       " 'Art. 3 º As companhias aéreas que deixarem de cumprir com qualquer disposto nesta lei serão responsáveis objetivamente por qualquer dano causado por seus agentes, inclusive quanto ao aspecto criminal.',\n",
       " 'Art. 4º Esta lei entra em vigor na data de sua publicação.',\n",
       " 'Sala das Comissões, de de 2015. Deputado HIDEKAZU TAKAYAMA CÂMARA DOS DEPUTADOS']"
      ]
     },
     "execution_count": 14,
     "metadata": {},
     "output_type": "execute_result"
    }
   ],
   "source": [
    "segmenter_bert_torch_quantized(curated_df_subsample, show_progress_bar=True)"
   ]
  },
  {
   "cell_type": "markdown",
   "id": "3daa481b",
   "metadata": {},
   "source": [
    "### As ONNX format"
   ]
  },
  {
   "cell_type": "code",
   "execution_count": 15,
   "id": "260352c3",
   "metadata": {
    "ExecuteTime": {
     "end_time": "2022-04-29T02:52:11.942740Z",
     "start_time": "2022-04-29T02:52:07.772236Z"
    }
   },
   "outputs": [
    {
     "name": "stderr",
     "output_type": "stream",
     "text": [
      "2022-04-28 23:52:08.476016191 [W:onnxruntime:, inference_session.cc:1546 Initialize] Serializing optimized model with Graph Optimization level greater than ORT_ENABLE_EXTENDED and the NchwcTransformer enabled. The generated model may contain hardware specific optimizations, and should only be used in the same environment the model was optimized in.\n",
      "WARNING:fusion_skiplayernorm:symbolic shape infer failed. it's safe to ignore this message if there is no issue with optimized model\n",
      "WARNING:fusion_skiplayernorm:symbolic shape infer failed. it's safe to ignore this message if there is no issue with optimized model\n",
      "WARNING:fusion_skiplayernorm:symbolic shape infer failed. it's safe to ignore this message if there is no issue with optimized model\n",
      "WARNING:fusion_skiplayernorm:symbolic shape infer failed. it's safe to ignore this message if there is no issue with optimized model\n",
      "WARNING:fusion_skiplayernorm:symbolic shape infer failed. it's safe to ignore this message if there is no issue with optimized model\n"
     ]
    },
    {
     "name": "stdout",
     "output_type": "stream",
     "text": [
      "failed in shape inference <class 'AssertionError'>\n",
      "failed in shape inference <class 'AssertionError'>\n",
      "Saved quantized BERT (ONNX format) in \u001b[34m'./quantized_models/q_segmenter_num_layers_2_vocab_size_6000_pruned_False_bert_model_99_opt_level.onnx'\u001b[0m, and its configuration file in \u001b[34m'./quantized_models/q_segmenter_num_layers_2_vocab_size_6000_pruned_False_bert_model_99_opt_level.config'\u001b[0m. To use it, load a BERT segmenter model as:\n",
      "\n",
      "segmentador.optimize.ONNXBERTSegmenter(\n",
      "   \u001b[33muri_model=\u001b[34m'./quantized_models/q_segmenter_num_layers_2_vocab_size_6000_pruned_False_bert_model_99_opt_level.onnx'\u001b[0m,\n",
      "   uri_tokenizer='../pretrained_segmenter_model/2_6000_layer_model/',\n",
      "   \u001b[33muri_onnx_config=\u001b[34m'./quantized_models/q_segmenter_num_layers_2_vocab_size_6000_pruned_False_bert_model_99_opt_level.config'\u001b[0m,\n",
      "   ...,\n",
      ")\n"
     ]
    }
   ],
   "source": [
    "quantized_bert_onnx_paths = segmentador.optimize.quantize_model(\n",
    "    segmenter_bert,\n",
    "    model_output_format=\"onnx\",\n",
    "    check_cached=False,\n",
    "    verbose=True,\n",
    ")"
   ]
  },
  {
   "cell_type": "code",
   "execution_count": 16,
   "id": "ddae3d3c",
   "metadata": {
    "ExecuteTime": {
     "end_time": "2022-04-29T02:52:11.970396Z",
     "start_time": "2022-04-29T02:52:11.944362Z"
    }
   },
   "outputs": [],
   "source": [
    "segmenter_bert_onnx_quantized = segmentador.optimize.ONNXBERTSegmenter(\n",
    "   uri_model=quantized_bert_onnx_paths.output_uri,\n",
    "   uri_tokenizer=segmenter_bert.tokenizer.name_or_path,\n",
    "   uri_onnx_config=quantized_bert_onnx_paths.onnx_config_uri,\n",
    ")"
   ]
  },
  {
   "cell_type": "code",
   "execution_count": 17,
   "id": "5adda43e",
   "metadata": {
    "ExecuteTime": {
     "end_time": "2022-04-29T02:52:12.751899Z",
     "start_time": "2022-04-29T02:52:11.971542Z"
    }
   },
   "outputs": [
    {
     "data": {
      "application/vnd.jupyter.widget-view+json": {
       "model_id": "dc910a62521b4193a5ea0979ed02b474",
       "version_major": 2,
       "version_minor": 0
      },
      "text/plain": [
       "  0%|          | 0/1 [00:00<?, ?it/s]"
      ]
     },
     "metadata": {},
     "output_type": "display_data"
    },
    {
     "data": {
      "text/plain": [
       "['INDICAÇÃO Nº DE 2008 ( Do Sr. Hermes Parcianello )',\n",
       " 'Indica ao Ministério da Educação a inclusão no ProInfância do município de LARANJEIRAS DO SUL, no estado do Paraná.',\n",
       " 'Excelentíssimo Senhor Ministro de Estado da Educação, Considerando que a construção de creches e escolas de educação infantil e a reestruturação e aquisição de equipamentos para a rede física escolar desse nível educacional são indispensáveis à melhoria da educação. Considerando um grande percentual de mulheres chefes de família com filhos menores que necessitam de local adequado para deixar seus filhos e que o Programa disponibiliza o atendimento de até 120 crianças em período integral ou até 240 crianças, se distribuídos em turnos matutinos e vespertinos. Considerando que o município ao ser atendido pelo Programa priorizará a acessibilidade, fazendo as adequações necessárias a fim de permitir seu uso por portadores de necessidades especiais. Considerando que a edificação será composta de um bloco administrativo, um de serviço, dois pedagógicos, além de áreas para recreação e multiuso, totalizando uma área de aproximadamente 1. 118, 46m2 e que o valor aproximado será de R $ 950. 339, 28 ( novecentos e cinqüenta mil, trezentos e trinta e nove reais e vinte e oito centavos ) Considerando ainda que o município preencha os requisitos exigidos pelo FNDE ; entendemos que é imprescindível a inclusão de LARANJEIRAS DO SUL - PR no Programa Nacional de Reestruturação e Aparelhamento da Rede Escolar Pública de Educação Infantil.',\n",
       " 'Sala das Sessões, em dezembro de 2008 Deputado HERMES PARCIANELLO',\n",
       " 'REQUERIMENTO ( Do Sr. HERMES PARCIANELLO )',\n",
       " 'Requer o envio de Indicação ao Poder Executivo, relativo à inclusão do município de LARANJEIRAS DO SUL, no estado do Paraná no ProInfância.',\n",
       " 'Senhor Presidente, Nos termos do art. 113, inciso I e § 1º do Regimento Interno da Câmara dos Deputados, requeiro a Vossa Excelência seja encaminhada ao Poder Executivo a Indicação em anexo, designando a inclusão do município LARANJEIRAS DO SUL no ProInfância.',\n",
       " 'Sala de Sessões, em de dezembro de 2008 Deputado HERMES PARCIANELLO CÂMARA DOS DEPUTADOS',\n",
       " 'PROJETO DE LEI Nº, DE 2019. ( Do Sr. BOCA ABERTA ) Dispõe sobre a legitimação dos imóveis urbanos que não possuem escritura pública e dá providencias, em âmbito nacional.',\n",
       " 'O Congresso Nacional decreta :',\n",
       " 'Art. 1º - Dispõe sobre a legitimação dos imóveis urbanos que não possuem escritura pública e dá outras providencias.',\n",
       " 'Artigo 2º Regularizar os imóveis urbanos que não dispõem de registros públicos.',\n",
       " '§ 1º Autoriza a União, dentre as áreas urbanas, onde lhe é de domínio, por força de lei, legitimar os imóveis urbanos nele existentes, e que, não possuem escritura pública.',\n",
       " '§ 2º A legitimação das áreas é transmitida por doação a seus possuidores ou detentores da posse, mediante Processo Administrativo de Regulamentação dos Terrenos Urbanos, de incumbência de cada município por meio de Título de Legitimação ;',\n",
       " 'Art. 3º Será considerado dono do imóvel construído a pessoa física ou jurídica detentora de documentos públicos ou particulares que certifica ou declara a sua aquisição, ainda que não possua o domínio como proprietário.',\n",
       " '§ 1º O titulo de legitimação do imóvel e a quitação das contribuições previdenciárias da construção serão averbadas no Cartório de Registro de Imóveis da Comarca competente.',\n",
       " '§ 2ª Após averbação da construção no registro do titulo, o imóvel se torna automaticamente negociável e alienável. e registrado no * C D1 92 84 62 90 10 0 * PL n. 4 22 6 / 20 19 Ap re se nt aç ão : 0 6 / 08 / 2 01 9 13 : 1 0 CÂMARA DOS DEPUTADOS Cartório de Imóveis da Comarca, desde que o terreno esteja dentro da área urbana, ora matriculada, como de domínio do Município ;',\n",
       " '§ 3º O Titulo de Legitimação é o instrumento formal a transferir o domínio de bens disponível para o particular ou terceiro.',\n",
       " 'Art. 4 O processo administrativo de regularização de Imóveis é exclusivo de cada município, onde se localiza o imóvel.',\n",
       " 'Art. 5º Fica dispensado o pagamento de multa sobre o auto de infração do imóvel a legitimar, proveniente de autuação pelo não recolhimento da contribuição previdenciária.',\n",
       " 'Art. 6º Esta lei entra em vigor na data de sua publicação.',\n",
       " 'PROJETO DE LEI Nº, DE ( Do Sr. Leonardo Mattos ) Dá nova redação ao inciso XIV do art. 6º da Lei 7. 713, de 22 de dezembro de 1988 que “ Altera a legislação do Imposto de Renda e dá outras providencias ”.',\n",
       " 'O Congresso Nacional decreta :',\n",
       " 'Art. 1º - o inciso XIV do art. 6º da Lei 7. 713, de 22 de dezembro de 1988, passa a viger com a seguinte redação : “',\n",
       " 'Art. 6º...............................................................................................................................................................................................................',\n",
       " \"XIV - os proventos de aposentadoria ou reforma, desde que motivadas por acidente sem serviços, e os percebidos pelos portadores de moléstia profissional, tuberculose ativa, alienação mental, esclerose - múltipla, neoplasia maligna, cegueira, hanseníase, paralisia irreversível e incapacitante, cardiopatia grave, doença de Parkinson, espondiloartrose anquilosante, nefropatia grave, estados avançados da doença de Paget ( osteíte deformante ), contaminação por radiação, Síndrome de Trombofilia, Síndrome de Charcot - Marie - Tooth Síndrome da imunodeficiência adquirida, com base em conclusão da medicina especializada, mesmo que a doença tenha sido contraída depois da aposentadoria ou reforma. ( NR )''\",\n",
       " 'Art. 2º - Esta lei entra em vigor na data de sua publicação.',\n",
       " 'REQUERIMENTO DE INFORMAÇÃO nº, de de agosto de 2007 ( Do Sr. SARNEY FILHO ) Requerimento de Informação ao Senhor Ministro das Relações Exteriores, sobre as providências adotadas por aquele Ministério, no combate a exploração ilegal de madeira da floresta amazônica, no Estado do Acre, por madeireiras instaladas em território peruano.',\n",
       " 'Senhor Presidente, Com fundamento no art. 50, § 2º, da Constituição Federal, combinado com os artigos 115, inciso I, e 116, ambos do Regimento Interno da Câmara dos Deputados, solicito a Vossa Excelência que seja encaminhado ao Senhor Ministro das Relações Exteriores o presente Pedido de Informação, tendo em vista às notícias veiculadas no Jornal Nacional, da Rede Globo, do dia 27.',\n",
       " '07. 2007, sobre a exploração ilegal de madeira da floresta amazônica, no Estado do Acre, por madeireiras instaladas em território peruano. Noticiou a matéria que durante uma operação do Ibama, juntamente com o Exército e Polícia Federal, foram identificados cerca de 70 pontos de exploração madeireira, numa área de aproximadamente 340 quilômetros de fronteira, com a agravante de ser também em área do Parque Nacional da Serra do Divisor e uma reserva indígena. Assim sendo, solicito informações sobre as providências adotadas por aquele Ministério, no combate a exploração ilegal de madeira da floresta amazônica, no Estado do Acre, por madeireiras instaladas em território peruano, conforme noticiado. Deputado SARNEY FILHO PV / MA',\n",
       " 'REQUERIMENTO ( Do Sr. Celso Russomanno )',\n",
       " 'Requer o envio de Indicação ao Poder Executivo, relativa à inclusão de pessoas vítimas de queimaduras médias e graves na categoria de deficiência prevista no inciso I do 4º do Decreto nº 3. 298, de 20 de dezembro de 1999, com a redação dada pelo Decreto nº 5. 296, de 2 de dezembro de 2004.',\n",
       " 'Senhor Presidente : Nos termos do art. 113, inciso I e § 1º, do Regimento Interno da Câmara dos Deputados, requeiro a V. Exª. seja encaminhada ao Poder Executivo a Indicação anexa, sugerindo a inclusão de pessoas vítimas de queimaduras médias e graves em categoria de deficiência prevista no inciso I do 4º do Decreto nº 3. 298, de 20 de dezembro de 1999, com a redação dada pelo Decreto nº 5. 296, de 2 de dezembro de 2004.',\n",
       " 'Sala das Sessões, em de de 2009. Deputado CELSO RUSSOMANNO 2009 _ 7880',\n",
       " 'INDICAÇÃO No, DE 2009 ( Do Sr. Celso Russomanno )',\n",
       " 'Sugere a inclusão de pessoas vítimas de queimaduras médias e graves na categoria de deficiência prevista no inciso I do 4º do Decreto nº 3. 298, de 20 de dezembro de 1999, com a redação dada pelo Decreto nº 5. 296, de 2 de dezembro de 2004.',\n",
       " 'Excelentíssimo Senhor Secretário Especial de Direitos Humanos : A Carta Política de 1988 constitui o marco delimitador da visibilidade das demandas das pessoas com deficiência no Brasil. Com efeito, houve o reconhecimento formal dos direitos de cidadania desse segmento, prevendo - se a adoção de diversas medidas tendentes a sua plena inclusão social. Ressalte - se que, a partir de então, a legislação infraconstitucional federal relativa às pessoas com deficiência tem - se tornado bastante extensa, igualando - se, no que tange à qualidade e ao conteúdo, às legislações mais avançadas do mundo. Todavia, a batalha para a concretização das disposições legais está longe de ser concluída, situação agravada pelas atitudes de discriminação e preconceito que ainda permeiam grande parte das suas relações sociais. Nesse contexto, pessoas que sofreram queimaduras médias ou graves, cujas consequências limitaram o exercício de atividades cotidianas e reduziram efetivamente sua capacidade de integração social, são vítimas de estigmas, preconceitos e discriminações que os impedem de 2 exercer plenamente sua cidadania, uma vez que lhes é negado o acesso a direitos fundamentais básicos, como o direito ao trabalho. A situação é agravada pelo fato de não haver previsão expressa, no Decreto nº 3. 298, de 20 de dezembro de 1999, de proteção a esse segmento, situação que os impede de usufruir dos direitos e garantias assegurados às pessoas com deficiência, tanto pelo Texto Constitucional quanto pelas normas infraconstitucionais. Dessa forma, considerando que as pessoas com deficiências decorrentes de queimaduras médias e graves enfrentam barreiras atitudinais para sua inclusão social plena, principalmente no acesso ao direito ao trabalho, solicitamos a revisão do art. 4º, inciso I do Decreto nº 3. 298, de 1999, para incluir as consequências decorrentes de queimaduras médias ou graves entre as deficiências previstas no referido dispositivo.',\n",
       " 'Sala das Sessões, em de de 2009. Deputado CELSO RUSSOMANNO 2009 _ 7880 CÂMARA DOS DEPUTADOS PROJETO DE LEI N. º, DE 2015 ( do Sr. HIDEKAZU TAKAYAMA )',\n",
       " 'Cria a obrigatoriedade da exigência por parte das companhias aéreas que atuam em território nacional da realização de exames médicos e psicotécnicos que assegurem a sanidade mental dos pilotos e copilotos.',\n",
       " 'O CONGRESSO NACIONAL decreta :',\n",
       " 'Art. 1º As companhias aéreas que atuam junto ao território nacional da República Federativa do Brasil ficam obrigadas a realizar exames médicos e psicotécnicos que assegurem a sanidade mental e a boa saúde física dos pilotos e copilotos.',\n",
       " 'Art. 2 º As companhias aéreas ficam obrigadas a arquivar tais documentos médicos pelo prazo de vinte e cinco anos para fins de comprovação.',\n",
       " 'Art. 3 º As companhias aéreas que deixarem de cumprir com qualquer disposto nesta lei serão responsáveis objetivamente por qualquer dano causado por seus agentes, inclusive quanto ao aspecto criminal.',\n",
       " 'Art. 4º Esta lei entra em vigor na data de sua publicação.',\n",
       " 'Sala das Comissões, de de 2015. Deputado HIDEKAZU TAKAYAMA CÂMARA DOS DEPUTADOS']"
      ]
     },
     "execution_count": 17,
     "metadata": {},
     "output_type": "execute_result"
    }
   ],
   "source": [
    "segmenter_bert_onnx_quantized(curated_df_subsample, show_progress_bar=True)"
   ]
  },
  {
   "cell_type": "markdown",
   "id": "ab8f35d5",
   "metadata": {},
   "source": [
    "## Quantizing Pruned BERT"
   ]
  },
  {
   "cell_type": "markdown",
   "id": "ae53339a",
   "metadata": {},
   "source": [
    "### As Torch JIT format"
   ]
  },
  {
   "cell_type": "code",
   "execution_count": 18,
   "id": "a17aaeb8",
   "metadata": {
    "ExecuteTime": {
     "end_time": "2022-04-29T02:52:12.993298Z",
     "start_time": "2022-04-29T02:52:12.753120Z"
    }
   },
   "outputs": [],
   "source": [
    "segmenter_pruned_bert = segmentador.BERTSegmenter(\n",
    "    uri_model=\"head_pruning/pruned_model\",\n",
    "    device=\"cpu\",\n",
    ")"
   ]
  },
  {
   "cell_type": "code",
   "execution_count": 19,
   "id": "d1dd1030",
   "metadata": {
    "ExecuteTime": {
     "end_time": "2022-04-29T02:52:14.609498Z",
     "start_time": "2022-04-29T02:52:12.994465Z"
    }
   },
   "outputs": [
    {
     "name": "stdout",
     "output_type": "stream",
     "text": [
      "Saved quantized Pytorch module (Torch JIT format) in \u001b[34m'./quantized_models/q_segmenter_num_layers_2_vocab_size_6000_pruned_True_bert_model.pt'\u001b[0m. To use it, load a BERT segmenter model as:\n",
      "\n",
      "segmentador.optimize.TorchJITBERTSegmenter(\n",
      "   \u001b[33muri_model=\u001b[34m'./quantized_models/q_segmenter_num_layers_2_vocab_size_6000_pruned_True_bert_model.pt'\u001b[0m,\n",
      "   ...,\n",
      ")\n"
     ]
    }
   ],
   "source": [
    "quantized_pruned_bert_torch_paths = segmentador.optimize.quantize_model(\n",
    "    segmenter_pruned_bert,\n",
    "    model_output_format=\"torch_jit\",\n",
    "    check_cached=False,\n",
    "    verbose=True,\n",
    ")"
   ]
  },
  {
   "cell_type": "code",
   "execution_count": 20,
   "id": "57729bec",
   "metadata": {
    "ExecuteTime": {
     "end_time": "2022-04-29T02:52:14.730914Z",
     "start_time": "2022-04-29T02:52:14.610936Z"
    }
   },
   "outputs": [],
   "source": [
    "segmenter_pruned_bert_torch_quantized = segmentador.optimize.TorchJITBERTSegmenter(\n",
    "   uri_model=quantized_pruned_bert_torch_paths.output_uri,\n",
    ")"
   ]
  },
  {
   "cell_type": "code",
   "execution_count": 21,
   "id": "7408435b",
   "metadata": {
    "ExecuteTime": {
     "end_time": "2022-04-29T02:52:15.335096Z",
     "start_time": "2022-04-29T02:52:14.732083Z"
    }
   },
   "outputs": [
    {
     "data": {
      "application/vnd.jupyter.widget-view+json": {
       "model_id": "4dd92a92f05b4213b4c8cf31a35dcb6d",
       "version_major": 2,
       "version_minor": 0
      },
      "text/plain": [
       "  0%|          | 0/1 [00:00<?, ?it/s]"
      ]
     },
     "metadata": {},
     "output_type": "display_data"
    },
    {
     "data": {
      "text/plain": [
       "['INDICAÇÃO Nº DE 2008 ( Do Sr. Hermes Parcianello )',\n",
       " 'Indica ao Ministério da Educação a inclusão no ProInfância do município de LARANJEIRAS DO SUL, no estado do Paraná.',\n",
       " 'Excelentíssimo Senhor Ministro de Estado da Educação, Considerando que a construção de creches e escolas de educação infantil e a reestruturação e aquisição de equipamentos para a rede física escolar desse nível educacional são indispensáveis à melhoria da educação. Considerando um grande percentual de mulheres chefes de família com filhos menores que necessitam de local adequado para deixar seus filhos e que o Programa disponibiliza o atendimento de até 120 crianças em período integral ou até 240 crianças, se distribuídos em turnos matutinos e vespertinos. Considerando que o município ao ser atendido pelo Programa priorizará a acessibilidade, fazendo as adequações necessárias a fim de permitir seu uso por portadores de necessidades especiais. Considerando que a edificação será composta de um bloco administrativo, um de serviço, dois pedagógicos, além de áreas para recreação e multiuso, totalizando uma área de aproximadamente 1. 118, 46m2 e que o valor aproximado será de R $ 950. 339, 28 ( novecentos e cinqüenta mil, trezentos e trinta e nove reais e vinte e oito centavos ) Considerando ainda que o município preencha os requisitos exigidos pelo FNDE ; entendemos que é imprescindível a inclusão de LARANJEIRAS DO SUL - PR no Programa Nacional de Reestruturação e Aparelhamento da Rede Escolar Pública de Educação Infantil.',\n",
       " 'Sala das Sessões, em dezembro de 2008 Deputado HERMES PARCIANELLO',\n",
       " 'REQUERIMENTO ( Do Sr. HERMES PARCIANELLO )',\n",
       " 'Requer o envio de Indicação ao Poder Executivo, relativo à inclusão do município de LARANJEIRAS DO SUL, no estado do Paraná no ProInfância.',\n",
       " 'Senhor Presidente, Nos termos do art. 113, inciso I e § 1º do Regimento Interno da Câmara dos Deputados, requeiro a Vossa Excelência seja encaminhada ao Poder Executivo a Indicação em anexo, designando a inclusão do município LARANJEIRAS DO SUL no ProInfância.',\n",
       " 'Sala de Sessões, em de dezembro de 2008 Deputado HERMES PARCIANELLO CÂMARA DOS DEPUTADOS',\n",
       " 'PROJETO DE LEI Nº, DE 2019. ( Do Sr. BOCA ABERTA ) Dispõe sobre a legitimação dos imóveis urbanos que não possuem escritura pública e dá providencias, em âmbito nacional.',\n",
       " 'O Congresso Nacional decreta :',\n",
       " 'Art. 1º -',\n",
       " 'Dispõe sobre a legitimação dos imóveis urbanos que não possuem escritura pública e dá outras providencias.',\n",
       " 'Artigo 2º Regularizar os imóveis urbanos que não dispõem de registros públicos.',\n",
       " '§ 1º Autoriza a União, dentre as áreas urbanas, onde lhe é de domínio, por força de lei, legitimar os imóveis urbanos nele existentes, e que, não possuem escritura pública.',\n",
       " '§ 2º A legitimação das áreas é transmitida por doação a seus possuidores ou detentores da posse, mediante Processo Administrativo de Regulamentação dos Terrenos Urbanos, de incumbência de cada município por meio de Título de Legitimação ;',\n",
       " 'Art. 3º Será considerado dono do imóvel construído a pessoa física ou jurídica detentora de documentos públicos ou particulares que certifica ou declara a sua aquisição, ainda que não possua o domínio como proprietário.',\n",
       " '§ 1º O titulo de legitimação do imóvel e a quitação das contribuições previdenciárias da construção serão averbadas no Cartório de Registro de Imóveis da Comarca competente.',\n",
       " '§ 2ª Após averbação da construção no registro do titulo, o imóvel se torna automaticamente negociável e alienável. e registrado no * C D1 92 84 62 90 10 0 * PL n. 4 22 6 / 20 19 Ap re se nt aç ão : 0 6 / 08 / 2 01 9 13 : 1 0 CÂMARA DOS DEPUTADOS Cartório de Imóveis da Comarca, desde que o terreno esteja dentro da área urbana, ora matriculada, como de domínio do Município ;',\n",
       " '§ 3º O Titulo de Legitimação é o instrumento formal a transferir o domínio de bens disponível para o particular ou terceiro.',\n",
       " 'Art. 4 O processo administrativo de regularização de Imóveis é exclusivo de cada município, onde se localiza o imóvel.',\n",
       " 'Art. 5º Fica dispensado o pagamento de multa sobre o auto de infração do imóvel a legitimar, proveniente de autuação pelo não recolhimento da contribuição previdenciária.',\n",
       " 'Art. 6º Esta lei entra em vigor na data de sua publicação.',\n",
       " 'PROJETO DE LEI Nº, DE ( Do Sr. Leonardo Mattos ) Dá nova redação ao inciso XIV do art. 6º da Lei 7. 713, de 22 de dezembro de 1988 que “ Altera a legislação do Imposto de Renda e dá outras providencias ”.',\n",
       " 'O Congresso Nacional decreta :',\n",
       " 'Art. 1º - o inciso XIV do art. 6º da Lei 7. 713, de 22 de dezembro de 1988, passa a viger com a seguinte redação : “',\n",
       " 'Art. 6º...............................................................................................................................................................................................................',\n",
       " \"XIV - os proventos de aposentadoria ou reforma, desde que motivadas por acidente sem serviços, e os percebidos pelos portadores de moléstia profissional, tuberculose ativa, alienação mental, esclerose - múltipla, neoplasia maligna, cegueira, hanseníase, paralisia irreversível e incapacitante, cardiopatia grave, doença de Parkinson, espondiloartrose anquilosante, nefropatia grave, estados avançados da doença de Paget ( osteíte deformante ), contaminação por radiação, Síndrome de Trombofilia, Síndrome de Charcot - Marie - Tooth Síndrome da imunodeficiência adquirida, com base em conclusão da medicina especializada, mesmo que a doença tenha sido contraída depois da aposentadoria ou reforma. ( NR )''\",\n",
       " 'Art. 2º - Esta lei entra em vigor na data de sua publicação.',\n",
       " 'REQUERIMENTO DE INFORMAÇÃO nº, de de agosto de 2007 ( Do Sr. SARNEY FILHO ) Requerimento de Informação ao Senhor Ministro das Relações Exteriores, sobre as providências adotadas por aquele Ministério, no combate a exploração ilegal de madeira da floresta amazônica, no Estado do Acre, por madeireiras instaladas em território peruano.',\n",
       " 'Senhor Presidente, Com fundamento no art. 50, § 2º, da Constituição Federal, combinado com os artigos 115, inciso I, e 116, ambos do Regimento Interno da Câmara dos Deputados, solicito a Vossa Excelência que seja encaminhado ao Senhor Ministro das Relações Exteriores o presente Pedido de Informação, tendo em vista às notícias veiculadas no Jornal Nacional, da Rede Globo, do dia 27. 07. 2007, sobre a exploração ilegal de madeira da floresta amazônica, no Estado do Acre, por madeireiras instaladas em território peruano. Noticiou a matéria que durante uma operação do Ibama, juntamente com o Exército e Polícia Federal, foram identificados cerca de 70 pontos de exploração madeireira, numa área de aproximadamente 340 quilômetros de fronteira, com a agravante de ser também em área do Parque Nacional da Serra do Divisor e uma reserva indígena. Assim sendo, solicito informações sobre as providências adotadas por aquele Ministério, no combate a exploração ilegal de madeira da floresta amazônica, no Estado do Acre, por madeireiras instaladas em território peruano, conforme noticiado. Deputado SARNEY FILHO PV / MA',\n",
       " 'REQUERIMENTO ( Do Sr. Celso Russomanno )',\n",
       " 'Requer o envio de Indicação ao Poder Executivo, relativa à inclusão de pessoas vítimas de queimaduras médias e graves na categoria de deficiência prevista no inciso I do 4º do Decreto nº 3. 298, de 20 de dezembro de 1999, com a redação dada pelo Decreto nº 5. 296, de 2 de dezembro de 2004.',\n",
       " 'Senhor Presidente : Nos termos do art. 113, inciso I e § 1º, do Regimento Interno da Câmara dos Deputados, requeiro a V. Exª. seja encaminhada ao Poder Executivo a Indicação anexa, sugerindo a inclusão de pessoas vítimas de queimaduras médias e graves em categoria de deficiência prevista no inciso I do 4º do Decreto nº 3. 298, de 20 de dezembro de 1999, com a redação dada pelo Decreto nº 5. 296, de 2 de dezembro de 2004.',\n",
       " 'Sala das Sessões, em de de 2009. Deputado CELSO RUSSOMANNO 2009 _ 7880',\n",
       " 'INDICAÇÃO No, DE 2009 ( Do Sr. Celso Russomanno )',\n",
       " 'Sugere a inclusão de pessoas vítimas de queimaduras médias e graves na categoria de deficiência prevista no inciso I do 4º do Decreto nº 3. 298, de 20 de dezembro de 1999, com a redação dada pelo Decreto nº 5. 296, de 2 de dezembro de 2004.',\n",
       " 'Excelentíssimo Senhor Secretário Especial de Direitos Humanos : A Carta Política de 1988 constitui o marco delimitador da visibilidade das demandas das pessoas com deficiência no Brasil. Com efeito, houve o reconhecimento formal dos direitos de cidadania desse segmento, prevendo - se a adoção de diversas medidas tendentes a sua plena inclusão social. Ressalte - se que, a partir de então, a legislação infraconstitucional federal relativa às pessoas com deficiência tem - se tornado bastante extensa, igualando - se, no que tange à qualidade e ao conteúdo, às legislações mais avançadas do mundo. Todavia, a batalha para a concretização das disposições legais está longe de ser concluída, situação agravada pelas atitudes de discriminação e preconceito que ainda permeiam grande parte das suas relações sociais. Nesse contexto, pessoas que sofreram queimaduras médias ou graves, cujas consequências limitaram o exercício de atividades cotidianas e reduziram efetivamente sua capacidade de integração social, são vítimas de estigmas, preconceitos e discriminações que os impedem de 2 exercer plenamente sua cidadania, uma vez que lhes é negado o acesso a direitos fundamentais básicos, como o direito ao trabalho. A situação é agravada pelo fato de não haver previsão expressa, no Decreto nº 3. 298, de 20 de dezembro de 1999, de proteção a esse segmento, situação que os impede de usufruir dos direitos e garantias assegurados às pessoas com deficiência, tanto pelo Texto Constitucional quanto pelas normas infraconstitucionais. Dessa forma, considerando que as pessoas com deficiências decorrentes de queimaduras médias e graves enfrentam barreiras atitudinais para sua inclusão social plena, principalmente no acesso ao direito ao trabalho, solicitamos a revisão do art. 4º, inciso I do Decreto nº 3. 298, de 1999, para incluir as consequências decorrentes de queimaduras médias ou graves entre as deficiências previstas no referido dispositivo.',\n",
       " 'Sala das Sessões, em de de 2009. Deputado CELSO RUSSOMANNO 2009 _ 7880 CÂMARA DOS DEPUTADOS PROJETO DE LEI N. º, DE 2015 ( do Sr. HIDEKAZU TAKAYAMA )',\n",
       " 'Cria a obrigatoriedade da exigência por parte das companhias aéreas que atuam em território nacional da realização de exames médicos e psicotécnicos que assegurem a sanidade mental dos pilotos e copilotos.',\n",
       " 'O CONGRESSO NACIONAL decreta :',\n",
       " 'Art. 1º As companhias aéreas que atuam junto ao território nacional da República Federativa do Brasil ficam obrigadas a realizar exames médicos e psicotécnicos que assegurem a sanidade mental e a boa saúde física dos pilotos e copilotos.',\n",
       " 'Art. 2 º As companhias aéreas ficam obrigadas a arquivar tais documentos médicos pelo prazo de vinte e cinco anos para fins de comprovação.',\n",
       " 'Art. 3 º As companhias aéreas que deixarem de cumprir com qualquer disposto nesta lei serão responsáveis objetivamente por qualquer dano causado por seus agentes, inclusive quanto ao aspecto criminal.',\n",
       " 'Art. 4º Esta lei entra em vigor na data de sua publicação.',\n",
       " 'Sala das Comissões, de de 2015. Deputado HIDEKAZU TAKAYAMA CÂMARA DOS DEPUTADOS']"
      ]
     },
     "execution_count": 21,
     "metadata": {},
     "output_type": "execute_result"
    }
   ],
   "source": [
    "segmenter_pruned_bert_torch_quantized(curated_df_subsample, show_progress_bar=True)"
   ]
  },
  {
   "cell_type": "markdown",
   "id": "ebabd1d8",
   "metadata": {},
   "source": [
    "### As ONNX Format"
   ]
  },
  {
   "cell_type": "code",
   "execution_count": 22,
   "id": "ee4eef14",
   "metadata": {
    "ExecuteTime": {
     "end_time": "2022-04-29T02:52:15.359987Z",
     "start_time": "2022-04-29T02:52:15.336902Z"
    }
   },
   "outputs": [
    {
     "name": "stdout",
     "output_type": "stream",
     "text": [
      "Pruned BERTs are not supported in ONNX format.\n"
     ]
    }
   ],
   "source": [
    "try:\n",
    "    quantized_bert_torch_paths = segmentador.optimize.quantize_model(\n",
    "        segmenter_pruned_bert,\n",
    "        model_output_format=\"onnx\",\n",
    "        check_cached=False,\n",
    "        verbose=True,\n",
    "    )\n",
    "\n",
    "except RuntimeError:\n",
    "    print(\"Pruned BERTs are not supported in ONNX format.\")"
   ]
  },
  {
   "cell_type": "markdown",
   "id": "a0e6ebed",
   "metadata": {},
   "source": [
    "## Validating performance of distinct configurations"
   ]
  },
  {
   "cell_type": "markdown",
   "id": "26afa793",
   "metadata": {},
   "source": [
    "### Collecting results"
   ]
  },
  {
   "cell_type": "code",
   "execution_count": 23,
   "id": "1c6fcc9a",
   "metadata": {
    "ExecuteTime": {
     "end_time": "2022-04-29T02:52:15.386270Z",
     "start_time": "2022-04-29T02:52:15.361632Z"
    }
   },
   "outputs": [],
   "source": [
    "def validate(\n",
    "    model,\n",
    "    moving_window_size: int = 1024,\n",
    "    window_shift_size: float = 0.5,\n",
    "    batch_size: int = 64,\n",
    "    num_shards: t.Optional[int] = None,\n",
    "    repeats: int = 3,\n",
    "    show_progress_bar: bool = False,\n",
    ") -> dict[str, float]:\n",
    "    \n",
    "    sharded_df = curated_df\n",
    "    \n",
    "    if num_shards is not None:\n",
    "        sharded_df = curated_df.shard(num_shards=num_shards, index=0)\n",
    "    \n",
    "    min_t_delta = np.inf\n",
    "    \n",
    "    for _ in range(repeats):\n",
    "        t_start = timeit.time.perf_counter()\n",
    "\n",
    "        logits = model(\n",
    "            sharded_df,\n",
    "            batch_size=batch_size,\n",
    "            return_logits=True,\n",
    "            show_progress_bar=show_progress_bar,\n",
    "            window_shift_size=window_shift_size,\n",
    "            moving_window_size=moving_window_size,\n",
    "        ).logits\n",
    "\n",
    "        t_delta = timeit.time.perf_counter() - t_start\n",
    "        \n",
    "        min_t_delta = min(min_t_delta, t_delta)\n",
    "    \n",
    "    metrics = eval_model.compute_metrics(\n",
    "        ([logits], [np.concatenate(sharded_df[\"labels\"])]),\n",
    "    )\n",
    "    metrics[\"approx_inference_time\"] = min_t_delta\n",
    "    \n",
    "    return metrics"
   ]
  },
  {
   "cell_type": "code",
   "execution_count": 24,
   "id": "100ce9fa",
   "metadata": {
    "ExecuteTime": {
     "end_time": "2022-04-29T02:52:15.410557Z",
     "start_time": "2022-04-29T02:52:15.387417Z"
    },
    "scrolled": true
   },
   "outputs": [],
   "source": [
    "quantized_model_paths: dict[tuple[t.Type, str, int], tuple[str, ...]] = {}\n",
    "    \n",
    "for base_model in (segmenter_bert, segmenter_lstm, segmenter_pruned_bert):\n",
    "    for model_output_format in (\"onnx\", \"torch_jit\"):\n",
    "        if model_output_format == \"onnx\":\n",
    "            optimization_levels = (99,)\n",
    "        \n",
    "        else:\n",
    "            optimization_levels = (0,)\n",
    "        \n",
    "        for optimization_level in optimization_levels:\n",
    "            try:\n",
    "                output_paths = segmentador.optimize.quantize_model(\n",
    "                    model=base_model,\n",
    "                    quantized_model_dirpath=QUANTIZED_MODELS_DIR,\n",
    "                    model_output_format=model_output_format,\n",
    "                    optimization_level=optimization_level,\n",
    "                    check_cached=True,\n",
    "                    verbose=False,\n",
    "                )\n",
    "                \n",
    "            except (RuntimeError, onnx.shape_inference.InferenceError) as err:\n",
    "                output_paths = None\n",
    "            \n",
    "            if output_paths:\n",
    "                is_pruned = \"pruned\" if base_model == segmenter_pruned_bert else \"\"\n",
    "                key = (type(base_model), is_pruned, model_output_format, optimization_level)\n",
    "                quantized_model_paths[key] = output_paths"
   ]
  },
  {
   "cell_type": "code",
   "execution_count": 25,
   "id": "6ddc366f",
   "metadata": {
    "ExecuteTime": {
     "end_time": "2022-04-29T02:52:15.436496Z",
     "start_time": "2022-04-29T02:52:15.412057Z"
    }
   },
   "outputs": [],
   "source": [
    "num_shards = None\n",
    "batch_size = 8\n",
    "\n",
    "fn_format_key = lambda *vals: \"\\n\".join(map(str, [v for v in vals if str(v)]))\n",
    "\n",
    "key_bert_pruned = fn_format_key(\"bert\", \"pruned\", \"torch\", \"-\")\n",
    "key_bert = fn_format_key(\"bert\", \"\", \"torch\", \"-\")\n",
    "key_lstm = fn_format_key(\"lstm\", \"\", \"torch\", \"-\")\n",
    "\n",
    "all_results: dict[tuple[t.Type, str, str, int], dict[str, float]] = {}"
   ]
  },
  {
   "cell_type": "code",
   "execution_count": 26,
   "id": "1581b62a",
   "metadata": {
    "ExecuteTime": {
     "end_time": "2022-04-29T03:17:41.824735Z",
     "start_time": "2022-04-29T02:52:15.437623Z"
    }
   },
   "outputs": [],
   "source": [
    "if key_bert_pruned not in all_results:\n",
    "    all_results[key_bert_pruned] = {\n",
    "        **validate(\n",
    "            segmenter_pruned_bert,\n",
    "            num_shards=num_shards,\n",
    "            moving_window_size=512,\n",
    "            window_shift_size=0.25,\n",
    "            batch_size=batch_size,\n",
    "        ),\n",
    "        \"config_opt_level\": \"-\",\n",
    "        \"config_output_format\": \"torch\",\n",
    "        \"config_model_type\": \"bert\",\n",
    "        \"config_is_pruned\": True,\n",
    "    }\n",
    "\n",
    "if key_bert not in all_results:\n",
    "    all_results[key_bert] = {\n",
    "        **validate(\n",
    "            segmenter_bert,\n",
    "            num_shards=num_shards,\n",
    "            moving_window_size=512,\n",
    "            window_shift_size=0.25,\n",
    "            batch_size=batch_size,\n",
    "        ),\n",
    "        \"config_opt_level\": \"-\",\n",
    "        \"config_output_format\": \"torch\",\n",
    "        \"config_model_type\": \"bert\",\n",
    "        \"config_is_pruned\": False,\n",
    "    }\n",
    "\n",
    "if key_lstm not in all_results:\n",
    "    all_results[key_lstm] = {\n",
    "        **validate(\n",
    "            segmenter_lstm,\n",
    "            num_shards=num_shards,\n",
    "            moving_window_size=1024,\n",
    "            window_shift_size=0.5,\n",
    "            batch_size=batch_size,\n",
    "        ),\n",
    "        \"config_opt_level\": \"-\",\n",
    "        \"config_output_format\": \"torch\",\n",
    "        \"config_model_type\": \"lstm\",\n",
    "        \"config_is_pruned\": False,\n",
    "    }"
   ]
  },
  {
   "cell_type": "code",
   "execution_count": 27,
   "id": "6128ee13",
   "metadata": {
    "ExecuteTime": {
     "end_time": "2022-04-29T03:46:29.699598Z",
     "start_time": "2022-04-29T03:17:41.825999Z"
    }
   },
   "outputs": [
    {
     "data": {
      "application/vnd.jupyter.widget-view+json": {
       "model_id": "ae41f19804004adf9b71c2cebb114f73",
       "version_major": 2,
       "version_minor": 0
      },
      "text/plain": [
       "  0%|          | 0/5 [00:00<?, ?it/s]"
      ]
     },
     "metadata": {},
     "output_type": "display_data"
    }
   ],
   "source": [
    "for config, paths in tqdm.auto.tqdm(quantized_model_paths.items()):\n",
    "    model_type, is_pruned, output_format, opt_level = config\n",
    "    \n",
    "    algorithm = (\n",
    "        \"lstm\"\n",
    "        if model_type in (segmentador.LSTMSegmenter, segmentador.optimize.TorchJITLSTMSegmenter)\n",
    "        else \"bert\"\n",
    "    )\n",
    "    \n",
    "    res: dict[str, float] = {}\n",
    "    \n",
    "    res[\"config_opt_level\"] = opt_level\n",
    "    res[\"config_output_format\"] = output_format\n",
    "    res[\"config_model_type\"] = algorithm\n",
    "    res[\"config_is_pruned\"] = is_pruned == \"pruned\"\n",
    "    \n",
    "    new_key = fn_format_key(algorithm, is_pruned, output_format, opt_level)\n",
    "    \n",
    "    if new_key in all_results:\n",
    "        continue\n",
    "    \n",
    "    if output_format == \"onnx\":\n",
    "        if algorithm == \"lstm\":\n",
    "            model_to_validate = segmentador.optimize.ONNXLSTMSegmenter(\n",
    "                uri_model=quantized_lstm_onnx_paths.output_uri,\n",
    "                uri_tokenizer=segmenter_lstm.tokenizer.name_or_path,\n",
    "            )\n",
    "            \n",
    "        else:\n",
    "            model_to_validate = segmentador.optimize.ONNXBERTSegmenter(\n",
    "                uri_model=paths.output_uri,\n",
    "                uri_tokenizer=segmenter_bert.tokenizer.name_or_path,\n",
    "                uri_onnx_config=paths.onnx_config_uri,\n",
    "            )\n",
    "            \n",
    "    else:\n",
    "        if algorithm == \"lstm\":\n",
    "            model_to_validate = segmentador.optimize.TorchJITLSTMSegmenter(\n",
    "                uri_model=paths.output_uri,\n",
    "            )\n",
    "            \n",
    "        else:\n",
    "            model_to_validate = segmentador.optimize.TorchJITBERTSegmenter(\n",
    "                uri_model=paths.output_uri,\n",
    "            )\n",
    "    \n",
    "    if algorithm == \"bert\":\n",
    "        kwargs = dict(\n",
    "            moving_window_size=512,\n",
    "            window_shift_size=0.25,\n",
    "        )\n",
    "        \n",
    "    else:\n",
    "        kwargs = dict(\n",
    "            moving_window_size=1024,\n",
    "            window_shift_size=0.5,\n",
    "        )\n",
    "    \n",
    "    res.update(validate(model_to_validate, num_shards=num_shards, batch_size=batch_size, **kwargs))\n",
    "    \n",
    "    all_results[new_key] = res"
   ]
  },
  {
   "cell_type": "code",
   "execution_count": 28,
   "id": "b3a6b3b8",
   "metadata": {
    "ExecuteTime": {
     "end_time": "2022-04-29T03:46:29.769962Z",
     "start_time": "2022-04-29T03:46:29.702470Z"
    }
   },
   "outputs": [],
   "source": [
    "output_name = f\"perf_cpu_multithread_batch_size_{batch_size}.csv\"\n",
    "output_uri = os.path.join(PERFORMANCE_LOGS_DIR, output_name)\n",
    "\n",
    "df_all_results = pd.DataFrame.from_dict(all_results).T\n",
    "df_all_results.sort_values(\n",
    "    by=\"approx_inference_time\",\n",
    "    axis=0,\n",
    "    ascending=False,\n",
    "    inplace=True,\n",
    ")\n",
    "\n",
    "df_all_results.to_csv(path_or_buf=output_uri, encoding=\"utf-8\")"
   ]
  },
  {
   "cell_type": "markdown",
   "id": "70ce9a3f",
   "metadata": {},
   "source": [
    "### Analysing results"
   ]
  },
  {
   "cell_type": "code",
   "execution_count": 52,
   "id": "6395a7c6",
   "metadata": {
    "ExecuteTime": {
     "end_time": "2022-04-29T04:04:12.242146Z",
     "start_time": "2022-04-29T04:04:12.210315Z"
    }
   },
   "outputs": [
    {
     "data": {
      "text/html": [
       "<div>\n",
       "<style scoped>\n",
       "    .dataframe tbody tr th:only-of-type {\n",
       "        vertical-align: middle;\n",
       "    }\n",
       "\n",
       "    .dataframe tbody tr th {\n",
       "        vertical-align: top;\n",
       "    }\n",
       "\n",
       "    .dataframe thead th {\n",
       "        text-align: right;\n",
       "    }\n",
       "</style>\n",
       "<table border=\"1\" class=\"dataframe\">\n",
       "  <thead>\n",
       "    <tr style=\"text-align: right;\">\n",
       "      <th></th>\n",
       "      <th>per_cls_precision_1</th>\n",
       "      <th>per_cls_recall_1</th>\n",
       "      <th>approx_inference_time</th>\n",
       "      <th>config_is_pruned</th>\n",
       "    </tr>\n",
       "  </thead>\n",
       "  <tbody>\n",
       "    <tr>\n",
       "      <th>bert\\ntorch\\n-</th>\n",
       "      <td>0.908839</td>\n",
       "      <td>0.962137</td>\n",
       "      <td>273.161767</td>\n",
       "      <td>False</td>\n",
       "    </tr>\n",
       "    <tr>\n",
       "      <th>bert\\npruned\\ntorch\\n-</th>\n",
       "      <td>0.904269</td>\n",
       "      <td>0.960940</td>\n",
       "      <td>209.986405</td>\n",
       "      <td>True</td>\n",
       "    </tr>\n",
       "    <tr>\n",
       "      <th>bert\\ntorch_jit\\n0</th>\n",
       "      <td>0.907673</td>\n",
       "      <td>0.962681</td>\n",
       "      <td>200.102417</td>\n",
       "      <td>False</td>\n",
       "    </tr>\n",
       "    <tr>\n",
       "      <th>bert\\nonnx\\n99</th>\n",
       "      <td>0.908717</td>\n",
       "      <td>0.961810</td>\n",
       "      <td>166.286845</td>\n",
       "      <td>False</td>\n",
       "    </tr>\n",
       "    <tr>\n",
       "      <th>bert\\npruned\\ntorch_jit\\n0</th>\n",
       "      <td>0.902666</td>\n",
       "      <td>0.961593</td>\n",
       "      <td>161.258882</td>\n",
       "      <td>True</td>\n",
       "    </tr>\n",
       "    <tr>\n",
       "      <th>lstm\\ntorch\\n-</th>\n",
       "      <td>0.987586</td>\n",
       "      <td>0.952127</td>\n",
       "      <td>49.551182</td>\n",
       "      <td>False</td>\n",
       "    </tr>\n",
       "    <tr>\n",
       "      <th>lstm\\ntorch_jit\\n0</th>\n",
       "      <td>0.987695</td>\n",
       "      <td>0.951909</td>\n",
       "      <td>35.226997</td>\n",
       "      <td>False</td>\n",
       "    </tr>\n",
       "    <tr>\n",
       "      <th>lstm\\nonnx\\n99</th>\n",
       "      <td>0.987363</td>\n",
       "      <td>0.952127</td>\n",
       "      <td>23.557666</td>\n",
       "      <td>False</td>\n",
       "    </tr>\n",
       "  </tbody>\n",
       "</table>\n",
       "</div>"
      ],
      "text/plain": [
       "                            per_cls_precision_1  per_cls_recall_1  \\\n",
       "bert\\ntorch\\n-                         0.908839          0.962137   \n",
       "bert\\npruned\\ntorch\\n-                 0.904269          0.960940   \n",
       "bert\\ntorch_jit\\n0                     0.907673          0.962681   \n",
       "bert\\nonnx\\n99                         0.908717          0.961810   \n",
       "bert\\npruned\\ntorch_jit\\n0             0.902666          0.961593   \n",
       "lstm\\ntorch\\n-                         0.987586          0.952127   \n",
       "lstm\\ntorch_jit\\n0                     0.987695          0.951909   \n",
       "lstm\\nonnx\\n99                         0.987363          0.952127   \n",
       "\n",
       "                            approx_inference_time  config_is_pruned  \n",
       "bert\\ntorch\\n-                         273.161767             False  \n",
       "bert\\npruned\\ntorch\\n-                 209.986405              True  \n",
       "bert\\ntorch_jit\\n0                     200.102417             False  \n",
       "bert\\nonnx\\n99                         166.286845             False  \n",
       "bert\\npruned\\ntorch_jit\\n0             161.258882              True  \n",
       "lstm\\ntorch\\n-                          49.551182             False  \n",
       "lstm\\ntorch_jit\\n0                      35.226997             False  \n",
       "lstm\\nonnx\\n99                          23.557666             False  "
      ]
     },
     "execution_count": 52,
     "metadata": {},
     "output_type": "execute_result"
    }
   ],
   "source": [
    "input_batch_size = 64\n",
    "input_name = f\"perf_cpu_multithread_batch_size_{input_batch_size}.csv\"\n",
    "input_uri = os.path.join(PERFORMANCE_LOGS_DIR, input_name)\n",
    "\n",
    "df_all_results = pd.read_csv(input_uri, index_col=0, header=0)\n",
    "df_all_results[[\"per_cls_precision_1\", \"per_cls_recall_1\", \"approx_inference_time\", \"config_is_pruned\"]]"
   ]
  },
  {
   "cell_type": "code",
   "execution_count": 53,
   "id": "32fdc6a0",
   "metadata": {
    "ExecuteTime": {
     "end_time": "2022-04-29T04:04:14.186222Z",
     "start_time": "2022-04-29T04:04:13.682088Z"
    }
   },
   "outputs": [
    {
     "data": {
      "image/png": "[encoded data removed]",
      "text/plain": [
       "<Figure size 1023.98x576 with 2 Axes>"
      ]
     },
     "metadata": {},
     "output_type": "display_data"
    }
   ],
   "source": [
    "score_p = df_all_results[\"per_cls_precision_1\"]\n",
    "score_r = df_all_results[\"per_cls_recall_1\"]\n",
    "\n",
    "aux_df = np.vstack((\n",
    "    list(zip(df_all_results.index, [\"Precision $c_{1}$\"] * len(score_p), score_p.values)),\n",
    "    list(zip(df_all_results.index, [\"Recall $c_{1}$\"] * len(score_r), score_r.values)),\n",
    "))\n",
    "\n",
    "cols = [\"Config\", \"Metric\", \"Score\"]\n",
    "lineplot_df = pd.DataFrame(aux_df, columns=cols)\n",
    "lineplot_df[\"Score\"] = lineplot_df[\"Score\"].astype(float)\n",
    "\n",
    "sns.set_theme(\n",
    "    context=\"notebook\",\n",
    "    style=\"white\",\n",
    "    font_scale=1.5,\n",
    ")\n",
    "\n",
    "fig, ax1 = plt.subplots(1, figsize=(14.222, 8))\n",
    "ax2 = ax1.twinx()\n",
    "\n",
    "fn_hex_to_tuple = lambda hex_v: tuple(int(hex_v[i:i+2], base=16)/255 for i in range(0, 6, 2))\n",
    "\n",
    "colors = {\n",
    "    (\"-\", False): fn_hex_to_tuple(\"C12121\"),\n",
    "    (\"-\", True): fn_hex_to_tuple(\"9EB24E\"),\n",
    "    (\"0\", True): fn_hex_to_tuple(\"9EB24E\"),\n",
    "}\n",
    "\n",
    "hatches = {\n",
    "    (\"-\", False): r\"/\",\n",
    "    (\"-\", True): r\"X\",\n",
    "    (\"0\", True): r\"X\",\n",
    "}\n",
    "\n",
    "ax_sns_barplot = sns.barplot(\n",
    "    x=[\n",
    "        item.replace(\"99\", \"opt:all\").replace(\"torch_jit\", \"TJIT\").replace(\"0\", \"-\")\n",
    "        for item in df_all_results.index\n",
    "    ],\n",
    "    y=\"approx_inference_time\",\n",
    "    ax=ax1,\n",
    "    data=df_all_results,\n",
    "    palette=[\n",
    "        colors.get((opt_level, is_pruned), fn_hex_to_tuple(\"2167C1\"))\n",
    "        for opt_level, is_pruned in df_all_results[[\"config_opt_level\", \"config_is_pruned\"]].values\n",
    "    ],\n",
    "    hatch=[\n",
    "        hatches.get((opt_level, is_pruned))\n",
    "        for opt_level, is_pruned in df_all_results[[\"config_opt_level\", \"config_is_pruned\"]].values\n",
    "    ],\n",
    ")\n",
    "\n",
    "ax_sns_lineplot = sns.lineplot(\n",
    "    x=\"Config\",\n",
    "    y=\"Score\",\n",
    "    hue=\"Metric\",\n",
    "    style=\"Metric\",\n",
    "    ax=ax2,\n",
    "    data=lineplot_df,\n",
    "    legend=\"full\",\n",
    "    dashes=False,\n",
    "    markers=[\"v\", \"X\"],\n",
    "    markersize=12,\n",
    "    palette=[\"orange\", \"purple\"],\n",
    ")\n",
    "\n",
    "plt.legend(loc=(0.40, 0.85))\n",
    "\n",
    "ax_sns_lineplot.set_ylabel(\"Precision, Recall\")\n",
    "\n",
    "ax_sns_barplot.set_title(\n",
    "    f\"Best-of-5 execution performance in full curated dataset ({curated_df.shape[0]} instances)\"\n",
    ")\n",
    "ax_sns_barplot.set_ylabel(\"Total execution time (s)\");\n",
    "ax_sns_barplot.set_xlabel(\"Configuration (algorithm, format, optimization level)\");\n",
    "\n",
    "base_exec_perf_bert = df_all_results.loc[\n",
    "    (df_all_results[[\"config_opt_level\", \"config_model_type\", \"config_is_pruned\"]] == (\"-\", \"bert\", False)).all(axis=\"columns\"),\n",
    "    \"approx_inference_time\",\n",
    "]\n",
    "\n",
    "base_exec_perf_lstm = df_all_results.loc[\n",
    "    (df_all_results[[\"config_opt_level\", \"config_model_type\"]] == (\"-\", \"lstm\")).all(axis=\"columns\"),\n",
    "    \"approx_inference_time\",\n",
    "]\n",
    "\n",
    "speed_ups = [\n",
    "    (base_exec_perf_bert if model == \"bert\" else base_exec_perf_lstm) / inf_time\n",
    "    for inf_time, model in df_all_results[[\"approx_inference_time\", \"config_model_type\"]].values\n",
    "]\n",
    "speed_ups = np.asfarray(speed_ups).squeeze()\n",
    "\n",
    "ax_sns_barplot.bar_label(\n",
    "    ax_sns_barplot.containers[0],\n",
    "    labels=map(\n",
    "        lambda x: f\"{x[1]:.2f}s\" + (f\"\\nx{x[0]:.2f}\" if x[0] > 1.0 else \"\"),\n",
    "        zip(speed_ups, df_all_results[\"approx_inference_time\"].values)\n",
    "    ),\n",
    ");\n",
    "\n",
    "fig.savefig(\n",
    "    fname=os.path.join(PERFORMANCE_LOGS_DIR, f\"perf_plot_batch_size_{input_batch_size}.pdf\"),\n",
    "    format=\"pdf\",\n",
    "    bbox_inches=\"tight\",\n",
    ")"
   ]
  },
  {
   "cell_type": "markdown",
   "id": "a0050515",
   "metadata": {},
   "source": [
    "### Hardware specification for experiment above\n",
    "- Architecture:            x86_64\n",
    "  - CPU op-mode(s):        32-bit, 64-bit\n",
    "  - Address sizes:         39 bits physical, 48 bits virtual\n",
    "  - Byte Order:            Little Endian\n",
    "- CPU(s):                  12\n",
    "  - On-line CPU(s) list:   0-11\n",
    "- Vendor ID:               GenuineIntel\n",
    "  - Model name:            Intel(R) Core(TM) i7-9750H CPU @ 2.60GHz\n",
    "    - CPU family:          6\n",
    "    - Model:               158\n",
    "    - Thread(s) per core:  2\n",
    "    - Core(s) per socket:  6\n",
    "    - Socket(s):           1\n",
    "    - Stepping:            10\n",
    "    - CPU max MHz:         4500,0000\n",
    "    - CPU min MHz:         800,0000\n",
    "    - BogoMIPS:            5202.65"
   ]
  }
 ],
 "metadata": {
  "kernelspec": {
   "display_name": "Python 3",
   "language": "python",
   "name": "python3"
  },
  "language_info": {
   "codemirror_mode": {
    "name": "ipython",
    "version": 3
   },
   "file_extension": ".py",
   "mimetype": "text/x-python",
   "name": "python",
   "nbconvert_exporter": "python",
   "pygments_lexer": "ipython3",
   "version": "3.9.10"
  },
  "latex_envs": {
   "LaTeX_envs_menu_present": true,
   "autoclose": false,
   "autocomplete": true,
   "bibliofile": "biblio.bib",
   "cite_by": "apalike",
   "current_citInitial": 1,
   "eqLabelWithNumbers": true,
   "eqNumInitial": 1,
   "hotkeys": {
    "equation": "Ctrl-E",
    "itemize": "Ctrl-I"
   },
   "labels_anchors": false,
   "latex_user_defs": false,
   "report_style_numbering": false,
   "user_envs_cfg": false
  },
  "toc": {
   "base_numbering": 1,
   "nav_menu": {},
   "number_sections": true,
   "sideBar": true,
   "skip_h1_title": false,
   "title_cell": "Table of Contents",
   "title_sidebar": "Contents",
   "toc_cell": false,
   "toc_position": {},
   "toc_section_display": true,
   "toc_window_display": false
  }
 },
 "nbformat": 4,
 "nbformat_minor": 5
}
