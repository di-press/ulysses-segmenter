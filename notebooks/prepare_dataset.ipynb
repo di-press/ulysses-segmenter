{
 "cells": [
  {
   "cell_type": "code",
   "execution_count": 1,
   "id": "6f59ec98",
   "metadata": {
    "ExecuteTime": {
     "end_time": "2022-02-21T14:11:40.779757Z",
     "start_time": "2022-02-21T14:11:39.373623Z"
    }
   },
   "outputs": [
    {
     "name": "stdout",
     "output_type": "stream",
     "text": [
      "Marker symbol (valid): ✓\n",
      "Marker symbol (noise): ❌s__ ❌e__\n",
      "Loaded 1 test cases from './registered_test_cases.csv'.\n"
     ]
    }
   ],
   "source": [
    "import transformers\n",
    "import datasets\n",
    "import nltk\n",
    "import tokenizers\n",
    "import regex\n",
    "import colorama\n",
    "import random\n",
    "\n",
    "random.seed(16)\n",
    "\n",
    "import segmentador\n",
    "import tests\n",
    "from config import *\n",
    "print(\"Marker symbol (valid):\", MARKER_VALID)\n",
    "print(\"Marker symbol (noise):\", MARKER_NOISE_START, MARKER_NOISE_END)\n",
    "\n",
    "tests.load_registered_cases()"
   ]
  },
  {
   "cell_type": "code",
   "execution_count": 2,
   "id": "5461fd0b",
   "metadata": {
    "ExecuteTime": {
     "end_time": "2022-02-21T14:11:44.683740Z",
     "start_time": "2022-02-21T14:11:40.855707Z"
    }
   },
   "outputs": [
    {
     "name": "stderr",
     "output_type": "stream",
     "text": [
      "Some weights of the model checkpoint at neuralmind/bert-base-portuguese-cased were not used when initializing BertForTokenClassification: ['cls.predictions.transform.LayerNorm.weight', 'cls.predictions.transform.dense.bias', 'cls.seq_relationship.weight', 'cls.predictions.transform.dense.weight', 'cls.predictions.bias', 'cls.predictions.transform.LayerNorm.bias', 'cls.seq_relationship.bias', 'cls.predictions.decoder.weight']\n",
      "- This IS expected if you are initializing BertForTokenClassification from the checkpoint of a model trained on another task or with another architecture (e.g. initializing a BertForSequenceClassification model from a BertForPreTraining model).\n",
      "- This IS NOT expected if you are initializing BertForTokenClassification from the checkpoint of a model that you expect to be exactly identical (initializing a BertForSequenceClassification model from a BertForSequenceClassification model).\n",
      "Some weights of BertForTokenClassification were not initialized from the model checkpoint at neuralmind/bert-base-portuguese-cased and are newly initialized: ['classifier.bias', 'classifier.weight']\n",
      "You should probably TRAIN this model on a down-stream task to be able to use it for predictions and inference.\n"
     ]
    }
   ],
   "source": [
    "seg_model = segmentador.Segmenter(local_files_only=True)"
   ]
  },
  {
   "cell_type": "code",
   "execution_count": 110,
   "id": "d8643074",
   "metadata": {
    "ExecuteTime": {
     "end_time": "2022-02-21T17:26:49.261898Z",
     "start_time": "2022-02-21T17:26:49.121420Z"
    }
   },
   "outputs": [],
   "source": [
    "class DetectRecurrentNoise:\n",
    "    RE_BARCODE = regex.compile(r\"\\*([\\sA-Z0-9]+)\\*\")\n",
    "    RE_PREAMBLE = regex.compile(\n",
    "        r\"^\\s*(.{,60}?)[\\s0-9]*\" +\n",
    "        \"(?=C[aâ]mara\\s*dos\\s*deputados\\s*(Proj|Req))\",\n",
    "        regex.IGNORECASE,\n",
    "    )\n",
    "    RE_BLANK_SPACES = regex.compile(r\"\\s+\")\n",
    "    \n",
    "    @classmethod\n",
    "    def _detect_barcode(cls, subpattern, text):\n",
    "        pseudo_patterns = cls.RE_BARCODE.findall(text)\n",
    "        \n",
    "        if not pseudo_patterns:\n",
    "            return text\n",
    "        \n",
    "        pseudo_patterns = sorted(set(pseudo_patterns))\n",
    "        \n",
    "        for pseudo_pattern in pseudo_patterns:\n",
    "            pattern = list(cls.RE_BLANK_SPACES.sub(\"\", pseudo_pattern))\n",
    "            pattern.append(\"\")\n",
    "            pattern.insert(0, \"\")\n",
    "            pattern = r\"\\s*\".join(pattern)\n",
    "            \n",
    "            text = regex.sub(r\"(\\*\" + pattern + r\"\\*\" + pattern + \")\", subpattern, text)\n",
    "        \n",
    "        return text\n",
    "    \n",
    "    @classmethod\n",
    "    def _detect_preamble_noise(cls, subpattern, text):\n",
    "        preamble = cls.RE_PREAMBLE.match(text)\n",
    "    \n",
    "        if not preamble or not preamble.group(1).strip():\n",
    "            return text\n",
    "        \n",
    "        preamble_content = r\"\\s*\".join(preamble.group(1).split(\" \"))\n",
    "        preamble_content = preamble_content.replace(\")\", r\"\\)\")\n",
    "        preamble_content = preamble_content.replace(\"(\", r\"\\(\")\n",
    "        text = regex.sub(r\"(\\s*\" + preamble_content + r\"[\\s\\d]*)\", subpattern, text)\n",
    "        return text\n",
    "    \n",
    "    @classmethod\n",
    "    def sub(cls, subpattern: str, text: str, *args, **kwargs):\n",
    "        text = cls._detect_barcode(subpattern, text)\n",
    "        text = cls._detect_preamble_noise(subpattern, text)\n",
    "        return text\n",
    "\n",
    "\n",
    "VALID_ROMAN_NUM = r\"M{0,3}(?:C[MD]|D?C{0,3})(?:X[CL]|L?X{0,3})(?:I?X|I?V|V?I{1,3})\"\n",
    "BASE_LEGAL_ITEMS = (\n",
    "    r\"§\\s*[0-9]+\",\n",
    "    r\"Art(?:igo)?s?\\s*\\.?\\s*(?:[-–º0-9A-Z]+|\\.{3}|[uú]nico)\",\n",
    "    r\"(?:\\s[A-Za-z]|[0-9]{1,2})\\s*\\)\",\n",
    "    r\"(?:par[áa]grafo|§)\\s*[úu]nico\",\n",
    "    r\"(?:par[áa]grafo|§)\\s*[0-9]{1,2}[\\so0º]*:\",\n",
    "    r\"(?:sub)?se[çc][ãa]o\",\n",
    "    r\"\\(?\" + f\"{VALID_ROMAN_NUM}\" + r\"\\s*(?:[-–\\)\\.])\",\n",
    "    r\"(?<!Art(?:igo)?\\s?\\.?\\s?)\\(?\\s+[0-9]{1,2}[\\s0oº]*(?:[-–\\)]|\\.(?![0-9]))\",\n",
    ")\n",
    "EXTRA_LEGAL_ITEMS = (\n",
    "    r\"Sala\\s*das?\\s*(Sessões|comiss[aã]o|Reuni[oõ]es).{,200}$\",\n",
    "    r\"Senado\\s*Federal\\s*,.{,200}$\",\n",
    "    r\"C[aâ]mara\\s*dos\\s*Deputados\\s*,.{,200}$\",\n",
    "    r\"•\",\n",
    ")\n",
    "\n",
    "QUOTES = r\"”“\\\"'\"\n",
    "\n",
    "RE_NOISE_BLOCKS = (\n",
    "    regex.compile(\n",
    "        r\"((PL|PDL|PEC)\\s*n[\\.o\\sº]*[\\d\\s]+/[\\s\\d]+)?+\\s*\"\n",
    "        r\"A\\s*p\\s*r\\s*e\\s*s\\s*e\\s*n\\s*t\\s*a\\s*[cç]\\s*[aã]\\s*o\\s*:\"\n",
    "        r\"(\\s*\\d\\s*){2}/(\\s*\\d\\s*){2}/(\\s*\\d\\s*){6}:(\\s*\\d){2}\",\n",
    "        regex.IGNORECASE | regex.MULTILINE,\n",
    "    ),\n",
    "    regex.compile(r\"([0-9]{9,})\"),\n",
    "    regex.compile(r\"(_{9,})\"),\n",
    "    regex.compile(r\"(^[\\s0-9]+|[\\s0-9]+$)\"),\n",
    "    *[\n",
    "        regex.compile(\n",
    "            r\"(?<=[:\\?;\\.\" + QUOTES + r\"]\\s*(?:e|ou)?\\s*)([0-9]+)(?=\\s*\" + legal_item + \")\",\n",
    "            regex.IGNORECASE,\n",
    "        )\n",
    "        for legal_item in (*BASE_LEGAL_ITEMS, \"cap[ií]tulo\", \"t[íi]tulo\")\n",
    "    ],\n",
    ")\n",
    "\n",
    "STANDARD_PREFIXES = (\n",
    "    r\"(?:^|;(?:\\s*e|\\s*ou)?|[\\.:\\?]|\\(\\s*(?:NR|AC)\\s*\\)|\" +\n",
    "    f\"[{QUOTES}])\"\n",
    ")\n",
    "PREFIX_EXTENSIONS = (\n",
    "    f\"(?:\\s*{MARKER_NOISE_START}\" + r\".{,300}?\" + f\"{MARKER_NOISE_END}\\s*(?:[0-9]+_[A-Z]+)?\\s*)\"\n",
    ")\n",
    "\n",
    "RE_PRE_BLOCKS = tuple(\n",
    "    regex.compile(f\"(?<={STANDARD_PREFIXES}{PREFIX_EXTENSIONS}?)(?=\\s*{pattern})\", regex.IGNORECASE)\n",
    "    for pattern in (*BASE_LEGAL_ITEMS, *EXTRA_LEGAL_ITEMS)\n",
    ")\n",
    "\n",
    "DEPT_EXTENSION_CORE = (\n",
    "    r\"(?:(?:Sra?|Senhora?)?[\\s\\.]*(?:Deputad[oa]|Dep\\.)|\" +\n",
    "    r\"(?:Sra?|Senhora?)[\\s\\.]*(?:Deputad[oa]|Dep\\.)?|mesa\\s*(?:diretora)?)\" +\n",
    "    r\"\\s*\"\n",
    ")\n",
    "\n",
    "DEPT_EXTENSION_A = (\n",
    "    r\"[^\\(]{,100}\\(\\s*(?:D[oa])?\\s*\" +\n",
    "    DEPT_EXTENSION_CORE +\n",
    "    f\"(?:[^{QUOTES}\\)]\" + r\"{1,100})?\\)\"\n",
    ")\n",
    "\n",
    "DEPT_EXTENSION_B = (\n",
    "    r\".{,100}?D[oa]\\s*\" +\n",
    "    DEPT_EXTENSION_CORE +\n",
    "    f\"(?:[^{QUOTES}]\" + r\"{1,100}\" + f\"?(?=[{QUOTES}]))?\"\n",
    ")\n",
    "\n",
    "DEPT_EXTENSION = f\"(?:{DEPT_EXTENSION_A}|{DEPT_EXTENSION_B})\"\n",
    "DATE_AND_ID = r\"(?:(?:DE\\s*)+?[\\._0-9]+|N[\\.\\s]*[o0º](?:[^,]*?[,\\.]+\\s*(?:DE\\s*)+?[\\._0-9]+)?)\"\n",
    "\n",
    "\n",
    "RE_SPECIAL = (\n",
    "    (regex.compile(\n",
    "        r\"(?<=^.{,250}?)(REQUERIMENTO\\s*DE\\s*INFORMA[cÇ](?:[oÕ]ES|[AÃ]O).{,50}?\" +\n",
    "        DATE_AND_ID +\n",
    "        f\"(?:{DEPT_EXTENSION})?\" +\n",
    "        r\")\\s*\" +\n",
    "        \"(.{,600}?)(?=(?:Excelent[ií]ssim[oa])?\\s*(?:Senhora?|Sra?)[\\.\\s*]Presidente)\", regex.IGNORECASE),\n",
    "     lambda symb, deb: f\" {symb} {deb} \" + r\"\\1\" + f\" {symb} {deb} \" + r\"\\2\" + f\" {symb} {deb} \"),\n",
    "    (regex.compile(\n",
    "        r\"(?<=^.{,250}?)(REQUERIMENTO.{,25}?\" +\n",
    "        DATE_AND_ID +\n",
    "        f\"(?:{DEPT_EXTENSION})\" +\n",
    "        r\")\\s*\" +\n",
    "        \"(.{,600}?)(?=(?:Excelent[ií]ssim[oa])?\\s*(?:Senhora?|Sra?)[\\.\\s*]Presidente)\", regex.IGNORECASE),\n",
    "     lambda symb, deb: f\" {symb} {deb} \" + r\"\\1\" + f\" {symb} {deb} \" + r\"\\2\" + f\" {symb} {deb} \"),\n",
    "    (regex.compile(\n",
    "        r\"(REQUERIMENTO.{,25}?\" +\n",
    "        f\"(?:{DATE_AND_ID})?\" +\n",
    "        DEPT_EXTENSION_A +\n",
    "        r\")\\s*\" +\n",
    "        \"(.{,600}?)(?=(?:Excelent[ií]ssim[oa])?\\s*(?:Senhora?|Sra?)[\\.\\s*]Presidente)\", regex.IGNORECASE),\n",
    "     lambda symb, deb: f\" {symb} {deb} \" + r\"\\1\" + f\" {symb} {deb} \" + r\"\\2\" + f\" {symb} {deb} \"),\n",
    "    (regex.compile(\n",
    "        r\"(INDICA[CÇ][AÃ]O.{,50}?\" +\n",
    "        DATE_AND_ID +\n",
    "        f\"(?:{DEPT_EXTENSION})\" +\n",
    "        r\")\\s*\" +\n",
    "        \"(.{,600}?)(?=(?:Excelent[ií]ssim[oa])?\\s*(?:Senhora?|Sra?)[\\.\\s*](?:Presidente|Ministr[oa]))\", regex.IGNORECASE),\n",
    "     lambda symb, deb: f\" {symb} {deb} \" + r\"\\1\" + f\" {symb} {deb} \" + r\"\\2\" + f\" {symb} {deb} \"),\n",
    "    (regex.compile(\n",
    "        r\"(?<=^.{,250}?)((?:PROJETO\\s*DE\\s*)?RESOLU[CÇ][AÃ]O.{,50}?\" + \n",
    "        DATE_AND_ID +\n",
    "        f\"(?:{DEPT_EXTENSION})?\" +\n",
    "        r\")\\s*\" +\n",
    "        r\"(.{,600}?)((?:A\\s*mesa\\s*d)?A\\s*C[âa]mara\\s*dos\\s*deputados[^\\.]*?resolve\\s*:)\", regex.IGNORECASE),\n",
    "     lambda symb, deb: f\" {symb} {deb} \" + r\"\\1\" + f\" {symb} {deb} \" + r\"\\2\" + f\" {symb} {deb} \" + r\"\\3\" + f\" {symb} {deb} \"),\n",
    "    (DetectRecurrentNoise, lambda symb_start, symb_end, deb: f\" {symb_start} {deb} \" + r\"\\1\" + f\" {symb_end} {deb} \"),\n",
    ")\n",
    "\n",
    "RE_PRE_POST_BLOCKS = (\n",
    "    regex.compile(r\"(?<=^.{,250}?)(COMISS[AÃ]O\\s*DE\\s*CI[EÊ]NCIA[\\sE]*TECNOLOGIA[\\s,]*COMUNICA[CÇ][AÃ]O[\\sE]*INFORM[AÁ]TICA)\", regex.IGNORECASE),\n",
    "    regex.compile(r\"(O\\s*Congresso\\s*Nacional\\s*decreta:)\", regex.IGNORECASE),\n",
    "    regex.compile(r\"(A\\s*C[aâ]mara\\s*dos\\s+deputados\\s*decreta:)\", regex.IGNORECASE),\n",
    "    regex.compile(r\"(?<=^.{,250}?)(Projeto\\s*de\\s*Lei\\s*\" + DEPT_EXTENSION + \")\", regex.IGNORECASE),\n",
    "    regex.compile(\n",
    "        r\"(?<=^.{,250}?)(Projeto\\s*de\\s*Decreto\\s*Legislativo\\s*\" +\n",
    "        f\"(?:{DEPT_EXTENSION}|{DATE_AND_ID})\" +\n",
    "        \")\",\n",
    "        regex.IGNORECASE,\n",
    "    ),\n",
    "    regex.compile(\n",
    "        r\"(?<=^.{,250}?)(Proposta\\s*de\\s*emenda\\s*(?:cons?titucional|[aàá]\\s*constitui[çc][ãa]o).*?\" +\n",
    "        f\"(?:{DEPT_EXTENSION})\" +\n",
    "        r\")\",\n",
    "        regex.IGNORECASE,\n",
    "    ),\n",
    "    regex.compile(\n",
    "        r\"(cap[ií]tulo\\s*\" + f\"{VALID_ROMAN_NUM}\" +\n",
    "        r\"(?:[-–\\sA-Za-zçàüáéíóúãõẽôâê0-9]|\" + \n",
    "        f\"{MARKER_NOISE_END}|{MARKER_NOISE_START}\" +\n",
    "        r\")+?\" +\n",
    "        f\"(?=(?:{MARKER_VALID}|Art)))\",\n",
    "        regex.IGNORECASE,\n",
    "    ),\n",
    "    regex.compile(\n",
    "        r\"(t[ií]tulo\\s*\" + f\"{VALID_ROMAN_NUM}\" +\n",
    "        r\"(?:[-–\\sA-Za-zçàüáéíóúãõẽôâê0-9]|\" + \n",
    "        f\"{MARKER_NOISE_END}|{MARKER_NOISE_START}\" +\n",
    "        r\")+?\" +\n",
    "        f\"(?=(?:{MARKER_VALID}|cap[íi]tulo)))\",\n",
    "        regex.IGNORECASE,\n",
    "    ),\n",
    ")\n",
    "\n",
    "def regex_legal_item_anymatch(text: str, debug: bool = False) -> str:\n",
    "    aid = 0\n",
    "    \n",
    "    for i, reg in enumerate(RE_NOISE_BLOCKS, aid):\n",
    "        debug_text = f\"{i}_NOISE\" if debug else \"\"\n",
    "        text = reg.sub(f\" {MARKER_NOISE_START} {debug_text} \" + r\"\\1\" + f\" {MARKER_NOISE_END} {debug_text} \", text, concurrent=True)\n",
    "    \n",
    "    for i, (reg, fun) in enumerate(RE_SPECIAL, aid):\n",
    "        debug_text = f\"{i}_SPECIAL\" if debug else \"\"\n",
    "        try:\n",
    "            pat = fun(MARKER_VALID, debug_text)\n",
    "            \n",
    "        except TypeError:\n",
    "            pat = fun(MARKER_NOISE_START, MARKER_NOISE_END, debug_text)\n",
    "            \n",
    "        text = reg.sub(pat, text, concurrent=True)\n",
    "        \n",
    "    for i, reg in enumerate(RE_PRE_BLOCKS, aid):\n",
    "        debug_text = f\"{i}_PRE\" if debug else \"\"\n",
    "        text = reg.sub(f\" {MARKER_VALID} {debug_text} \", text, concurrent=True)\n",
    "        \n",
    "    for i, reg in enumerate(RE_PRE_POST_BLOCKS, aid):\n",
    "        debug_text = f\"{i}_PRE_POS\" if debug else \"\"\n",
    "        text = reg.sub(f\" {MARKER_VALID} {debug_text} \" + r\"\\1\" + f\" {MARKER_VALID} {debug_text} \", text, concurrent=True)\n",
    "        \n",
    "    return text"
   ]
  },
  {
   "cell_type": "code",
   "execution_count": 111,
   "id": "1511c213",
   "metadata": {
    "ExecuteTime": {
     "end_time": "2022-02-21T17:28:31.131775Z",
     "start_time": "2022-02-21T17:26:58.637113Z"
    },
    "scrolled": false
   },
   "outputs": [
    {
     "name": "stderr",
     "output_type": "stream",
     "text": [
      "Using custom data configuration default-46d85cc9d3ffee06\n",
      "Reusing dataset csv (../cache/datasets/csv/default-46d85cc9d3ffee06/0.0.0/6b9057d9e23d9d8a2f05b985917a0da84d70c5dae3d22ddd8a3f22fb01c69d9e)\n"
     ]
    },
    {
     "data": {
      "application/vnd.jupyter.widget-view+json": {
       "model_id": "cf68ae978937411484e77d5fb2fa7930",
       "version_major": 2,
       "version_minor": 0
      },
      "text/plain": [
       "  0%|          | 0/1 [00:00<?, ?it/s]"
      ]
     },
     "metadata": {},
     "output_type": "display_data"
    },
    {
     "name": "stderr",
     "output_type": "stream",
     "text": [
      "Loading cached processed dataset at ../cache/datasets/csv/default-46d85cc9d3ffee06/0.0.0/6b9057d9e23d9d8a2f05b985917a0da84d70c5dae3d22ddd8a3f22fb01c69d9e/cache-c7b98ec7cdffacf2.arrow\n",
      "Loading cached processed dataset at ../cache/datasets/csv/default-46d85cc9d3ffee06/0.0.0/6b9057d9e23d9d8a2f05b985917a0da84d70c5dae3d22ddd8a3f22fb01c69d9e/cache-68fb4061d3cabd0d.arrow\n",
      "Loading cached processed dataset at ../cache/datasets/csv/default-46d85cc9d3ffee06/0.0.0/6b9057d9e23d9d8a2f05b985917a0da84d70c5dae3d22ddd8a3f22fb01c69d9e/cache-c2ee4974a80c385c.arrow\n"
     ]
    }
   ],
   "source": [
    "df = datasets.load_dataset(\n",
    "    \"csv\",\n",
    "    data_files=[\"../data/content.txt\"],\n",
    "    header=None,\n",
    "    names=[\"text\"],\n",
    "    cache_dir=\"../cache/datasets\",\n",
    "    nrows=30000,\n",
    ")\n",
    "\n",
    "RE_JUSTIFICATIVA = regex.compile(r\"\\s*(?:JUSTIFICATIVA|JUSTIFICA[CÇ][AÃ]O)\")\n",
    "RE_ANEXO = regex.compile(r\"\\s*ANEXO\")\n",
    "\n",
    "df = df.map(lambda item: {\"text\": RE_JUSTIFICATIVA.split(item[\"text\"])[0]})\n",
    "df = df.map(lambda item: {\"text\": RE_ANEXO.split(item[\"text\"])[0]})\n",
    "df = df.filter(lambda item: isinstance(item[\"text\"], str) and 128 <= len(item[\"text\"]) <= 600000)\n",
    "\n",
    "def preprocess_instance(item, ind, print_preprocessed: bool = False, debug: bool = False):\n",
    "    preprocessed_text = seg_model.preprocess_legal_text(item[\"text\"])\n",
    "    preprocessed_text = regex_legal_item_anymatch(preprocessed_text, debug=debug)\n",
    "    tokens = nltk.tokenize.word_tokenize(preprocessed_text, language=\"portuguese\")\n",
    "    \n",
    "    if print_preprocessed:\n",
    "        print(preprocessed_text)\n",
    "    \n",
    "    labels = [0] * len(tokens)\n",
    "    \n",
    "    i = 0\n",
    "    while i < len(tokens) - 1:\n",
    "        if tokens[i] in SPECIAL_SYMBOLS:\n",
    "            token = tokens.pop(i)\n",
    "            labels.pop(i)\n",
    "            labels[i] = SPECIAL_SYMBOLS[token]\n",
    "            continue\n",
    "            \n",
    "        i += 1\n",
    "    \n",
    "    if labels[0] == SPECIAL_SYMBOLS[MARKER_VALID]:\n",
    "        labels[0] = 0\n",
    "    \n",
    "    if tokens[-1] in SPECIAL_SYMBOLS:\n",
    "        labels.pop()\n",
    "        tokens.pop()\n",
    "\n",
    "    ret = {\n",
    "        \"id\": str(ind),\n",
    "        \"labels\": labels,\n",
    "        \"tokens\": tokens,\n",
    "    }\n",
    "    \n",
    "    return ret\n",
    "\n",
    "df = df.map(preprocess_instance, with_indices=True, num_proc=8, remove_columns=\"text\")"
   ]
  },
  {
   "cell_type": "code",
   "execution_count": 112,
   "id": "9df3ef9b",
   "metadata": {
    "ExecuteTime": {
     "end_time": "2022-02-21T17:28:54.096321Z",
     "start_time": "2022-02-21T17:28:31.134798Z"
    },
    "scrolled": false
   },
   "outputs": [
    {
     "name": "stdout",
     "output_type": "stream",
     "text": [
      "Correct proportion: 100.00% (40 of 40)\n",
      "\n",
      "\n",
      "\n",
      "{'train': 29934}\n",
      "Chosen id: 16000\n",
      "INDICAÇÃO N.° DE 2005 ( Do Sr. Carlos Nader ) “ Sugere a implantação do Programa Escola que Protege no Município de Queimados – RJ. ” Excelentíssimo Senhor Ministro da Educação : Com cordiais cumprimentos , venho por meio desta sugerir a Vossa Excelência , a implantação do Programa Escola que Protege no Município de Queimados – RJ . O Programa supra citado , tem por objetivo quebrar o ciclo da violência , atendendo crianças e adolescentes em situação de risco , oferecendo ainda apoio psico-sócio-pedagógico a pais e responsáveis , buscando quebrar este ciclo em seu cotidiano ; e a capacitação de educadores , despertando sua atenção , percepção e responsabilidade no encaminhamento dos casos de vítimas de violência . A proteção da criança e do adolescente contra qualquer forma de violência é um dever de toda sociedade . Se não agirmos em sua defesa em decorrência de um espírito de amor e solidariedade , que o façamos pelo egoísmo de nos mantermos protegidos de suas ações futuras . A atuação daqueles que em sua vida profissional e pessoal optam por essa defesa se fortalecerá com o comprometimento de todos os segmentos da sociedade . Certo de poder contar com ações de Vossa Excelência , agradeço antecipadamente . Sala das Sessões , em de de 2005 . Deputado CARLOS NADER PL-RJ REQUERIMENTO ( Do Sr. Carlos Nader ) “ Requer o envio de Indicação ao Ministério da Educação , sugerindo a implantação do Programa Escola que Protege no município de Queimados - RJ. ” Senhor Presidente : Nos termos do art . 113 , inciso I e § 1° , do Regimento Interno da Câmara dos Deputados , requero a Vossa Excelência que seja encaminhada ao Poder Executivo a Indicação em anexo , sugerindo a implantação do Programa Escola que Protege no Município de Queimados – RJ . Sala das Sessões , em de de 2005 . Deputado CARLOS NADER PL-RJ\n",
      "________________________________________________________________\n",
      "\n",
      "\u001b[97m 1 \u001b[39m INDICAÇÃO N.° DE 2005 ( Do Sr. Carlos Nader )\n",
      "\n",
      "\u001b[97m 2 \u001b[39m “ Sugere a implantação do Programa Escola que Protege no Município de Queimados – RJ. ”\n",
      "\n",
      "\u001b[97m 3 \u001b[39m Excelentíssimo Senhor Ministro da Educação : Com cordiais cumprimentos , venho por meio desta sugerir a Vossa Excelência , a implantação do Programa Escola que Protege no Município de Queimados – RJ . O Programa supra citado , tem por objetivo quebrar o ciclo da violência , atendendo crianças e adolescentes em situação de risco , oferecendo ainda apoio psico-sócio-pedagógico a pais e responsáveis , buscando quebrar este ciclo em seu cotidiano ; e a capacitação de educadores , despertando sua atenção , percepção e responsabilidade no encaminhamento dos casos de vítimas de violência . A proteção da criança e do adolescente contra qualquer forma de violência é um dever de toda sociedade . Se não agirmos em sua defesa em decorrência de um espírito de amor e solidariedade , que o façamos pelo egoísmo de nos mantermos protegidos de suas ações futuras . A atuação daqueles que em sua vida profissional e pessoal optam por essa defesa se fortalecerá com o comprometimento de todos os segmentos da sociedade . Certo de poder contar com ações de Vossa Excelência , agradeço antecipadamente . Sala das Sessões , em de de 2005 . Deputado CARLOS NADER PL-RJ\n",
      "\n",
      "\u001b[97m 4 \u001b[39m REQUERIMENTO ( Do Sr. Carlos Nader )\n",
      "\n",
      "\u001b[97m 5 \u001b[39m “ Requer o envio de Indicação ao Ministério da Educação , sugerindo a implantação do Programa Escola que Protege no município de Queimados - RJ. ”\n",
      "\n",
      "\u001b[97m 6 \u001b[39m Senhor Presidente : Nos termos do art . 113 , inciso I e § 1° , do Regimento Interno da Câmara dos Deputados , requero a Vossa Excelência que seja encaminhada ao Poder Executivo a Indicação em anexo , sugerindo a implantação do Programa Escola que Protege no Município de Queimados – RJ .\n",
      "\n",
      "\u001b[97m 7 \u001b[39m Sala das Sessões , em de de 2005 . Deputado CARLOS NADER PL-RJ\n",
      "\n",
      "\u001b[39m\n",
      "Idx/Segment count, noise count:   16000: 7, 0\n",
      "Is it correct? [y/N]: N\n"
     ]
    }
   ],
   "source": [
    "# id_ = 1261\n",
    "# print(tests.TEST_CASES[id_])\n",
    "# tests.print_results(df, id_, print_full_text=True)\n",
    "tests.run_tests(df[\"train\"][\"labels\"])\n",
    "print(\"\\n\\n\")\n",
    "\n",
    "print(df.num_rows)\n",
    "\n",
    "# 1162\n",
    "\n",
    "document_idx = 16000\n",
    "while tests.test_case_exists(document_idx):\n",
    "    document_idx = random.randint(0, 1 + df[\"train\"].num_rows)\n",
    "\n",
    "print(\"Chosen id:\", document_idx)\n",
    "expected_test_case_values = tests.print_results(df, document_idx, print_full_text=True)\n",
    "print(\"Is it correct? [y/N]:\", end=\" \")\n",
    "inp = input()\n",
    "if inp == \"y\":\n",
    "    tests.update_test_case(document_idx, expected_test_case_values)\n",
    "    print(\"Added to test cases.\")"
   ]
  },
  {
   "cell_type": "code",
   "execution_count": 90,
   "id": "40c3bd52",
   "metadata": {
    "ExecuteTime": {
     "end_time": "2022-02-21T16:48:52.415175Z",
     "start_time": "2022-02-21T16:48:52.398686Z"
    }
   },
   "outputs": [
    {
     "name": "stdout",
     "output_type": "stream",
     "text": [
      "Wrote 39 test cases at './registered_test_cases.csv'.\n"
     ]
    }
   ],
   "source": [
    "tests.dump_registered_cases()"
   ]
  },
  {
   "cell_type": "code",
   "execution_count": null,
   "id": "85081017",
   "metadata": {
    "ExecuteTime": {
     "end_time": "2022-02-18T17:58:27.781802Z",
     "start_time": "2022-02-18T17:58:25.830858Z"
    }
   },
   "outputs": [],
   "source": [
    "df[\"train\"][\"labels\"]"
   ]
  },
  {
   "cell_type": "code",
   "execution_count": null,
   "id": "1f6f7fd2",
   "metadata": {
    "ExecuteTime": {
     "end_time": "2022-02-18T21:04:02.703423Z",
     "start_time": "2022-02-18T21:03:51.852099Z"
    }
   },
   "outputs": [],
   "source": [
    "def tokenize_and_align_labels(examples):\n",
    "    # source: https://huggingface.co/docs/transformers/custom_datasets#preprocess\n",
    "    tokenized_inputs = seg_model.tokenizer(\n",
    "        examples[\"tokens\"],\n",
    "        truncation=True,\n",
    "        max_length=512,\n",
    "        is_split_into_words=True,\n",
    "    )\n",
    "\n",
    "    labels = []\n",
    "    \n",
    "    for i, label in enumerate(examples[\"labels\"]):\n",
    "        word_ids = tokenized_inputs.word_ids(batch_index=i)  # Map tokens to their respective word.\n",
    "        previous_word_idx = None\n",
    "        label_ids = []\n",
    "        for word_idx in word_ids:  # Set the special tokens to -100.\n",
    "            if word_idx is None:\n",
    "                label_ids.append(-100)\n",
    "            elif word_idx != previous_word_idx:  # Only label the first token of a given word.\n",
    "                label_ids.append(label[word_idx])\n",
    "            else:\n",
    "                label_ids.append(-100)\n",
    "            previous_word_idx = word_idx\n",
    "        labels.append(label_ids)\n",
    "\n",
    "    tokenized_inputs[\"labels\"] = labels\n",
    "    \n",
    "    return tokenized_inputs\n",
    "\n",
    "\n",
    "df_tokenized = df.map(tokenize_and_align_labels, batched=True, num_proc=4)"
   ]
  },
  {
   "cell_type": "code",
   "execution_count": null,
   "id": "7f2eca53",
   "metadata": {
    "ExecuteTime": {
     "end_time": "2022-02-15T15:08:20.163644Z",
     "start_time": "2022-02-15T15:08:20.100565Z"
    }
   },
   "outputs": [],
   "source": [
    "df_tokenized_train_eval_test = df_tokenized[\"train\"].train_test_split(test_size=0.2, shuffle=True, seed=16)\n",
    "df_tokenized_test_eval = df_tokenized_train_eval_test[\"test\"].train_test_split(test_size=0.5, shuffle=False)\n",
    "df_tokenized_split = datasets.DatasetDict({\n",
    "    \"train\": df_tokenized_train_eval_test[\"train\"],\n",
    "    \"eval\": df_tokenized_test_eval[\"train\"],\n",
    "    \"test\": df_tokenized_test_eval[\"test\"],\n",
    "})\n",
    "# df_tokenized_split.save_to_disk(\"../data/df_tokenized_split\")\n",
    "df_tokenized_split"
   ]
  },
  {
   "cell_type": "code",
   "execution_count": null,
   "id": "eec224ca",
   "metadata": {
    "ExecuteTime": {
     "end_time": "2022-02-15T15:08:35.091656Z",
     "start_time": "2022-02-15T15:08:35.086936Z"
    }
   },
   "outputs": [],
   "source": [
    "df_tokenized_split[\"train\"].features"
   ]
  },
  {
   "cell_type": "code",
   "execution_count": null,
   "id": "a87fedbd",
   "metadata": {
    "ExecuteTime": {
     "end_time": "2022-02-18T17:49:04.888153Z",
     "start_time": "2022-02-18T17:49:04.814886Z"
    }
   },
   "outputs": [],
   "source": [
    "print(df[\"train\"][\"labels\"][49])"
   ]
  }
 ],
 "metadata": {
  "kernelspec": {
   "display_name": "Python 3",
   "language": "python",
   "name": "python3"
  },
  "language_info": {
   "codemirror_mode": {
    "name": "ipython",
    "version": 3
   },
   "file_extension": ".py",
   "mimetype": "text/x-python",
   "name": "python",
   "nbconvert_exporter": "python",
   "pygments_lexer": "ipython3",
   "version": "3.9.10"
  },
  "latex_envs": {
   "LaTeX_envs_menu_present": true,
   "autoclose": false,
   "autocomplete": true,
   "bibliofile": "biblio.bib",
   "cite_by": "apalike",
   "current_citInitial": 1,
   "eqLabelWithNumbers": true,
   "eqNumInitial": 1,
   "hotkeys": {
    "equation": "Ctrl-E",
    "itemize": "Ctrl-I"
   },
   "labels_anchors": false,
   "latex_user_defs": false,
   "report_style_numbering": false,
   "user_envs_cfg": false
  },
  "toc": {
   "base_numbering": 1,
   "nav_menu": {},
   "number_sections": true,
   "sideBar": true,
   "skip_h1_title": false,
   "title_cell": "Table of Contents",
   "title_sidebar": "Contents",
   "toc_cell": false,
   "toc_position": {},
   "toc_section_display": true,
   "toc_window_display": false
  }
 },
 "nbformat": 4,
 "nbformat_minor": 5
}
